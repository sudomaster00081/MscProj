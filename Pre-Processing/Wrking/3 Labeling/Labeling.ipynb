{
 "cells": [
  {
   "cell_type": "code",
   "execution_count": null,
   "id": "6a894783-5fb8-4414-ab85-830bb3f3eb73",
   "metadata": {},
   "outputs": [],
   "source": []
  },
  {
   "cell_type": "code",
   "execution_count": null,
   "id": "6fb09de6-ef47-49ad-aa44-62898a23b407",
   "metadata": {},
   "outputs": [],
   "source": []
  },
  {
   "cell_type": "code",
   "execution_count": 1,
   "id": "17f44848-05a0-43bd-8448-a0ce14172415",
   "metadata": {},
   "outputs": [
    {
     "name": "stdout",
     "output_type": "stream",
     "text": [
      "DataFrame with 'label' column added successfully saved as: labeled_combined Dataset.csv\n"
     ]
    }
   ],
   "source": [
    "import pandas as pd\n",
    "\n",
    "# Read the CSV file\n",
    "filename = \"combined Dataset.csv\"  # Replace \"your_csv_file.csv\" with the actual filename\n",
    "df = pd.read_csv(filename)\n",
    "\n",
    "# Add a column named \"label\" with integer value 0\n",
    "df['label'] = 1\n",
    "\n",
    "# Save the modified DataFrame to a new CSV file\n",
    "new_filename = \"labeled_\" + filename\n",
    "df.to_csv(new_filename, index=False)\n",
    "\n",
    "print(\"DataFrame with 'label' column added successfully saved as:\", new_filename)\n"
   ]
  },
  {
   "cell_type": "code",
   "execution_count": null,
   "id": "d4d8da4a-d9de-4cd8-b87f-679b4d2fb727",
   "metadata": {},
   "outputs": [],
   "source": []
  },
  {
   "cell_type": "code",
   "execution_count": null,
   "id": "fd0272f3-e030-4bb1-a232-c1f659068b1c",
   "metadata": {},
   "outputs": [],
   "source": []
  },
  {
   "cell_type": "code",
   "execution_count": null,
   "id": "3b37df49-ea6b-4857-be27-1ff71f5ffa4a",
   "metadata": {},
   "outputs": [],
   "source": []
  },
  {
   "cell_type": "code",
   "execution_count": null,
   "id": "70153b2f-ddab-4896-9d0e-3875ac4226db",
   "metadata": {},
   "outputs": [],
   "source": []
  },
  {
   "cell_type": "code",
   "execution_count": null,
   "id": "b1161ec6-0f53-40af-80b7-1686234d6f80",
   "metadata": {},
   "outputs": [],
   "source": []
  },
  {
   "cell_type": "code",
   "execution_count": null,
   "id": "7085e14f-1e1a-4e1d-9f0c-6fa99ad9290c",
   "metadata": {},
   "outputs": [],
   "source": []
  },
  {
   "cell_type": "code",
   "execution_count": null,
   "id": "0ea1bccd-f882-4fc7-a97c-15a31a508d36",
   "metadata": {},
   "outputs": [],
   "source": []
  },
  {
   "cell_type": "code",
   "execution_count": null,
   "id": "9ddf5ff6-0d1d-409a-9bae-6796a159ed1a",
   "metadata": {},
   "outputs": [],
   "source": []
  },
  {
   "cell_type": "code",
   "execution_count": null,
   "id": "51071a2c-ac78-483e-9e76-4ce951330a92",
   "metadata": {},
   "outputs": [],
   "source": []
  }
 ],
 "metadata": {
  "kernelspec": {
   "display_name": "Python 3 (ipykernel)",
   "language": "python",
   "name": "python3"
  },
  "language_info": {
   "codemirror_mode": {
    "name": "ipython",
    "version": 3
   },
   "file_extension": ".py",
   "mimetype": "text/x-python",
   "name": "python",
   "nbconvert_exporter": "python",
   "pygments_lexer": "ipython3",
   "version": "3.10.0"
  }
 },
 "nbformat": 4,
 "nbformat_minor": 5
}
