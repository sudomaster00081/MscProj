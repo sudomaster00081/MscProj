{
 "cells": [
  {
   "cell_type": "code",
   "execution_count": 1,
   "id": "07a1c1e1-b7f5-4647-8b47-ff06f0146929",
   "metadata": {},
   "outputs": [
    {
     "name": "stderr",
     "output_type": "stream",
     "text": [
      "WARNING: Wireshark is installed, but cannot read manuf !\n",
      "Splitting ddostrace.to-victim.20070804_142936.pcap: 163343 packets [00:50, 4916.83 packets/s]"
     ]
    },
    {
     "name": "stdout",
     "output_type": "stream",
     "text": [
      "File 1 of 300 saved: cropped/ddostrace.to-victim.20070804_142936_0.pcap\n"
     ]
    },
    {
     "name": "stderr",
     "output_type": "stream",
     "text": [
      "Splitting ddostrace.to-victim.20070804_142936.pcap: 332053 packets [02:00, 5056.05 packets/s]"
     ]
    },
    {
     "name": "stdout",
     "output_type": "stream",
     "text": [
      "File 2 of 300 saved: cropped/ddostrace.to-victim.20070804_142936_1.pcap\n"
     ]
    },
    {
     "name": "stderr",
     "output_type": "stream",
     "text": [
      "Splitting ddostrace.to-victim.20070804_142936.pcap: 501128 packets [03:10, 4931.71 packets/s]"
     ]
    },
    {
     "name": "stdout",
     "output_type": "stream",
     "text": [
      "File 3 of 300 saved: cropped/ddostrace.to-victim.20070804_142936_2.pcap\n"
     ]
    },
    {
     "name": "stderr",
     "output_type": "stream",
     "text": [
      "Splitting ddostrace.to-victim.20070804_142936.pcap: 669186 packets [04:30, 4898.76 packets/s]"
     ]
    },
    {
     "name": "stdout",
     "output_type": "stream",
     "text": [
      "File 4 of 300 saved: cropped/ddostrace.to-victim.20070804_142936_3.pcap\n"
     ]
    },
    {
     "name": "stderr",
     "output_type": "stream",
     "text": [
      "Splitting ddostrace.to-victim.20070804_142936.pcap: 819503 packets [05:30, 4392.06 packets/s]"
     ]
    },
    {
     "name": "stdout",
     "output_type": "stream",
     "text": [
      "File 5 of 300 saved: cropped/ddostrace.to-victim.20070804_142936_4.pcap\n"
     ]
    },
    {
     "name": "stderr",
     "output_type": "stream",
     "text": [
      "Splitting ddostrace.to-victim.20070804_142936.pcap: 985531 packets [06:41, 4712.46 packets/s]"
     ]
    },
    {
     "name": "stdout",
     "output_type": "stream",
     "text": [
      "File 6 of 300 saved: cropped/ddostrace.to-victim.20070804_142936_5.pcap\n"
     ]
    },
    {
     "name": "stderr",
     "output_type": "stream",
     "text": [
      "Splitting ddostrace.to-victim.20070804_142936.pcap: 1152831 packets [07:51, 4885.65 packets/s]"
     ]
    },
    {
     "name": "stdout",
     "output_type": "stream",
     "text": [
      "File 7 of 300 saved: cropped/ddostrace.to-victim.20070804_142936_6.pcap\n"
     ]
    },
    {
     "name": "stderr",
     "output_type": "stream",
     "text": [
      "Splitting ddostrace.to-victim.20070804_142936.pcap: 1319381 packets [09:01, 4715.06 packets/s]"
     ]
    },
    {
     "name": "stdout",
     "output_type": "stream",
     "text": [
      "File 8 of 300 saved: cropped/ddostrace.to-victim.20070804_142936_7.pcap\n"
     ]
    },
    {
     "name": "stderr",
     "output_type": "stream",
     "text": [
      "Splitting ddostrace.to-victim.20070804_142936.pcap: 1486571 packets [10:01, 5188.66 packets/s]"
     ]
    },
    {
     "name": "stdout",
     "output_type": "stream",
     "text": [
      "File 9 of 300 saved: cropped/ddostrace.to-victim.20070804_142936_8.pcap\n"
     ]
    },
    {
     "name": "stderr",
     "output_type": "stream",
     "text": [
      "Splitting ddostrace.to-victim.20070804_142936.pcap: 1649761 packets [11:12, 5127.46 packets/s]"
     ]
    },
    {
     "name": "stdout",
     "output_type": "stream",
     "text": [
      "File 10 of 300 saved: cropped/ddostrace.to-victim.20070804_142936_9.pcap\n"
     ]
    },
    {
     "name": "stderr",
     "output_type": "stream",
     "text": [
      "Splitting ddostrace.to-victim.20070804_142936.pcap: 1817057 packets [12:22, 5163.55 packets/s]"
     ]
    },
    {
     "name": "stdout",
     "output_type": "stream",
     "text": [
      "File 11 of 300 saved: cropped/ddostrace.to-victim.20070804_142936_10.pcap\n"
     ]
    },
    {
     "name": "stderr",
     "output_type": "stream",
     "text": [
      "Splitting ddostrace.to-victim.20070804_142936.pcap: 1984287 packets [13:22, 5182.23 packets/s]"
     ]
    },
    {
     "name": "stdout",
     "output_type": "stream",
     "text": [
      "File 12 of 300 saved: cropped/ddostrace.to-victim.20070804_142936_11.pcap\n"
     ]
    },
    {
     "name": "stderr",
     "output_type": "stream",
     "text": [
      "Splitting ddostrace.to-victim.20070804_142936.pcap: 2150411 packets [14:32, 5211.92 packets/s]"
     ]
    },
    {
     "name": "stdout",
     "output_type": "stream",
     "text": [
      "File 13 of 300 saved: cropped/ddostrace.to-victim.20070804_142936_12.pcap\n"
     ]
    },
    {
     "name": "stderr",
     "output_type": "stream",
     "text": [
      "Splitting ddostrace.to-victim.20070804_142936.pcap: 2314304 packets [15:43, 4338.67 packets/s]"
     ]
    },
    {
     "name": "stdout",
     "output_type": "stream",
     "text": [
      "File 14 of 300 saved: cropped/ddostrace.to-victim.20070804_142936_13.pcap\n"
     ]
    },
    {
     "name": "stderr",
     "output_type": "stream",
     "text": [
      "Splitting ddostrace.to-victim.20070804_142936.pcap: 2475553 packets [16:53, 5071.31 packets/s]"
     ]
    },
    {
     "name": "stdout",
     "output_type": "stream",
     "text": [
      "File 15 of 300 saved: cropped/ddostrace.to-victim.20070804_142936_14.pcap\n"
     ]
    },
    {
     "name": "stderr",
     "output_type": "stream",
     "text": [
      "Splitting ddostrace.to-victim.20070804_142936.pcap: 2638367 packets [17:53, 4797.83 packets/s]"
     ]
    },
    {
     "name": "stdout",
     "output_type": "stream",
     "text": [
      "File 16 of 300 saved: cropped/ddostrace.to-victim.20070804_142936_15.pcap\n"
     ]
    },
    {
     "name": "stderr",
     "output_type": "stream",
     "text": [
      "Splitting ddostrace.to-victim.20070804_142936.pcap: 2806196 packets [19:03, 5047.38 packets/s]"
     ]
    },
    {
     "name": "stdout",
     "output_type": "stream",
     "text": [
      "File 17 of 300 saved: cropped/ddostrace.to-victim.20070804_142936_16.pcap\n"
     ]
    },
    {
     "name": "stderr",
     "output_type": "stream",
     "text": [
      "Splitting ddostrace.to-victim.20070804_142936.pcap: 2973092 packets [20:14, 5034.83 packets/s]"
     ]
    },
    {
     "name": "stdout",
     "output_type": "stream",
     "text": [
      "File 18 of 300 saved: cropped/ddostrace.to-victim.20070804_142936_17.pcap\n"
     ]
    },
    {
     "name": "stderr",
     "output_type": "stream",
     "text": [
      "Splitting ddostrace.to-victim.20070804_142936.pcap: 3140859 packets [21:25, 4935.35 packets/s]"
     ]
    },
    {
     "name": "stdout",
     "output_type": "stream",
     "text": [
      "File 19 of 300 saved: cropped/ddostrace.to-victim.20070804_142936_18.pcap\n"
     ]
    },
    {
     "name": "stderr",
     "output_type": "stream",
     "text": [
      "Splitting ddostrace.to-victim.20070804_142936.pcap: 3303319 packets [22:25, 5031.64 packets/s]"
     ]
    },
    {
     "name": "stdout",
     "output_type": "stream",
     "text": [
      "File 20 of 300 saved: cropped/ddostrace.to-victim.20070804_142936_19.pcap\n"
     ]
    },
    {
     "name": "stderr",
     "output_type": "stream",
     "text": [
      "Splitting ddostrace.to-victim.20070804_142936.pcap: 3466065 packets [23:35, 4516.25 packets/s]"
     ]
    },
    {
     "name": "stdout",
     "output_type": "stream",
     "text": [
      "File 21 of 300 saved: cropped/ddostrace.to-victim.20070804_142936_20.pcap\n"
     ]
    },
    {
     "name": "stderr",
     "output_type": "stream",
     "text": [
      "Splitting ddostrace.to-victim.20070804_142936.pcap: 3633097 packets [24:45, 5035.57 packets/s]"
     ]
    },
    {
     "name": "stdout",
     "output_type": "stream",
     "text": [
      "File 22 of 300 saved: cropped/ddostrace.to-victim.20070804_142936_21.pcap\n"
     ]
    },
    {
     "name": "stderr",
     "output_type": "stream",
     "text": [
      "Splitting ddostrace.to-victim.20070804_142936.pcap: 3802899 packets [25:46, 5126.96 packets/s]"
     ]
    },
    {
     "name": "stdout",
     "output_type": "stream",
     "text": [
      "File 23 of 300 saved: cropped/ddostrace.to-victim.20070804_142936_22.pcap\n"
     ]
    },
    {
     "name": "stderr",
     "output_type": "stream",
     "text": [
      "Splitting ddostrace.to-victim.20070804_142936.pcap: 3971390 packets [26:56, 4820.61 packets/s]"
     ]
    },
    {
     "name": "stdout",
     "output_type": "stream",
     "text": [
      "File 24 of 300 saved: cropped/ddostrace.to-victim.20070804_142936_23.pcap\n"
     ]
    },
    {
     "name": "stderr",
     "output_type": "stream",
     "text": [
      "Splitting ddostrace.to-victim.20070804_142936.pcap: 4074546 packets [27:56, 4512.95 packets/s]"
     ]
    },
    {
     "name": "stdout",
     "output_type": "stream",
     "text": [
      "File 25 of 300 saved: cropped/ddostrace.to-victim.20070804_142936_24.pcap\n"
     ]
    },
    {
     "name": "stderr",
     "output_type": "stream",
     "text": [
      "Splitting ddostrace.to-victim.20070804_142936.pcap: 4101630 packets [28:10, 5009.26 packets/s]"
     ]
    },
    {
     "name": "stdout",
     "output_type": "stream",
     "text": [
      "File 26 of 300 saved: cropped/ddostrace.to-victim.20070804_142936_25.pcap\n"
     ]
    },
    {
     "name": "stderr",
     "output_type": "stream",
     "text": [
      "Splitting ddostrace.to-victim.20070804_142936.pcap: 4269141 packets [29:06, 5219.43 packets/s]"
     ]
    },
    {
     "name": "stdout",
     "output_type": "stream",
     "text": [
      "File 27 of 300 saved: cropped/ddostrace.to-victim.20070804_142936_26.pcap\n"
     ]
    },
    {
     "name": "stderr",
     "output_type": "stream",
     "text": [
      "Splitting ddostrace.to-victim.20070804_142936.pcap: 4436603 packets [30:16, 5243.89 packets/s]"
     ]
    },
    {
     "name": "stdout",
     "output_type": "stream",
     "text": [
      "File 28 of 300 saved: cropped/ddostrace.to-victim.20070804_142936_27.pcap\n"
     ]
    },
    {
     "name": "stderr",
     "output_type": "stream",
     "text": [
      "Splitting ddostrace.to-victim.20070804_142936.pcap: 4605052 packets [31:17, 5216.65 packets/s]"
     ]
    },
    {
     "name": "stdout",
     "output_type": "stream",
     "text": [
      "File 29 of 300 saved: cropped/ddostrace.to-victim.20070804_142936_28.pcap\n"
     ]
    },
    {
     "name": "stderr",
     "output_type": "stream",
     "text": [
      "Splitting ddostrace.to-victim.20070804_142936.pcap: 4771322 packets [32:27, 5205.92 packets/s]"
     ]
    },
    {
     "name": "stdout",
     "output_type": "stream",
     "text": [
      "File 30 of 300 saved: cropped/ddostrace.to-victim.20070804_142936_29.pcap\n"
     ]
    },
    {
     "name": "stderr",
     "output_type": "stream",
     "text": [
      "Splitting ddostrace.to-victim.20070804_142936.pcap: 4939295 packets [33:37, 5258.12 packets/s]"
     ]
    },
    {
     "name": "stdout",
     "output_type": "stream",
     "text": [
      "File 31 of 300 saved: cropped/ddostrace.to-victim.20070804_142936_30.pcap\n"
     ]
    },
    {
     "name": "stderr",
     "output_type": "stream",
     "text": [
      "Splitting ddostrace.to-victim.20070804_142936.pcap: 5106746 packets [34:37, 5216.80 packets/s]"
     ]
    },
    {
     "name": "stdout",
     "output_type": "stream",
     "text": [
      "File 32 of 300 saved: cropped/ddostrace.to-victim.20070804_142936_31.pcap\n"
     ]
    },
    {
     "name": "stderr",
     "output_type": "stream",
     "text": [
      "Splitting ddostrace.to-victim.20070804_142936.pcap: 5276787 packets [35:48, 5203.97 packets/s]"
     ]
    },
    {
     "name": "stdout",
     "output_type": "stream",
     "text": [
      "File 33 of 300 saved: cropped/ddostrace.to-victim.20070804_142936_32.pcap\n"
     ]
    },
    {
     "name": "stderr",
     "output_type": "stream",
     "text": [
      "Splitting ddostrace.to-victim.20070804_142936.pcap: 5444441 packets [36:58, 5157.71 packets/s]"
     ]
    },
    {
     "name": "stdout",
     "output_type": "stream",
     "text": [
      "File 34 of 300 saved: cropped/ddostrace.to-victim.20070804_142936_33.pcap\n"
     ]
    },
    {
     "name": "stderr",
     "output_type": "stream",
     "text": [
      "Splitting ddostrace.to-victim.20070804_142936.pcap: 5548398 packets [37:48, 5219.41 packets/s]"
     ]
    },
    {
     "name": "stdout",
     "output_type": "stream",
     "text": [
      "File 35 of 300 saved: cropped/ddostrace.to-victim.20070804_142936_34.pcap\n"
     ]
    },
    {
     "name": "stderr",
     "output_type": "stream",
     "text": [
      "Splitting ddostrace.to-victim.20070804_142936.pcap: 5615035 packets [38:10, 5024.89 packets/s]"
     ]
    },
    {
     "name": "stdout",
     "output_type": "stream",
     "text": [
      "File 36 of 300 saved: cropped/ddostrace.to-victim.20070804_142936_35.pcap\n"
     ]
    },
    {
     "name": "stderr",
     "output_type": "stream",
     "text": [
      "Splitting ddostrace.to-victim.20070804_142936.pcap: 5782990 packets [39:08, 2285.87 packets/s]"
     ]
    },
    {
     "name": "stdout",
     "output_type": "stream",
     "text": [
      "File 37 of 300 saved: cropped/ddostrace.to-victim.20070804_142936_36.pcap\n"
     ]
    },
    {
     "name": "stderr",
     "output_type": "stream",
     "text": [
      "Splitting ddostrace.to-victim.20070804_142936.pcap: 5949531 packets [40:19, 5189.01 packets/s]"
     ]
    },
    {
     "name": "stdout",
     "output_type": "stream",
     "text": [
      "File 38 of 300 saved: cropped/ddostrace.to-victim.20070804_142936_37.pcap\n"
     ]
    },
    {
     "name": "stderr",
     "output_type": "stream",
     "text": [
      "Splitting ddostrace.to-victim.20070804_142936.pcap: 6117558 packets [41:29, 5178.74 packets/s]"
     ]
    },
    {
     "name": "stdout",
     "output_type": "stream",
     "text": [
      "File 39 of 300 saved: cropped/ddostrace.to-victim.20070804_142936_38.pcap\n"
     ]
    },
    {
     "name": "stderr",
     "output_type": "stream",
     "text": [
      "Splitting ddostrace.to-victim.20070804_142936.pcap: 6279921 packets [42:29, 5194.20 packets/s]"
     ]
    },
    {
     "name": "stdout",
     "output_type": "stream",
     "text": [
      "File 40 of 300 saved: cropped/ddostrace.to-victim.20070804_142936_39.pcap\n"
     ]
    },
    {
     "name": "stderr",
     "output_type": "stream",
     "text": [
      "Splitting ddostrace.to-victim.20070804_142936.pcap: 6445328 packets [43:40, 5265.77 packets/s]"
     ]
    },
    {
     "name": "stdout",
     "output_type": "stream",
     "text": [
      "File 41 of 300 saved: cropped/ddostrace.to-victim.20070804_142936_40.pcap\n"
     ]
    },
    {
     "name": "stderr",
     "output_type": "stream",
     "text": [
      "Splitting ddostrace.to-victim.20070804_142936.pcap: 6619143 packets [44:50, 5199.93 packets/s]"
     ]
    },
    {
     "name": "stdout",
     "output_type": "stream",
     "text": [
      "File 42 of 300 saved: cropped/ddostrace.to-victim.20070804_142936_41.pcap\n"
     ]
    },
    {
     "name": "stderr",
     "output_type": "stream",
     "text": [
      "Splitting ddostrace.to-victim.20070804_142936.pcap: 6789659 packets [45:51, 5252.73 packets/s]"
     ]
    },
    {
     "name": "stdout",
     "output_type": "stream",
     "text": [
      "File 43 of 300 saved: cropped/ddostrace.to-victim.20070804_142936_42.pcap\n"
     ]
    },
    {
     "name": "stderr",
     "output_type": "stream",
     "text": [
      "Splitting ddostrace.to-victim.20070804_142936.pcap: 6958967 packets [47:01, 5214.71 packets/s]"
     ]
    },
    {
     "name": "stdout",
     "output_type": "stream",
     "text": [
      "File 44 of 300 saved: cropped/ddostrace.to-victim.20070804_142936_43.pcap\n"
     ]
    },
    {
     "name": "stderr",
     "output_type": "stream",
     "text": [
      "Splitting ddostrace.to-victim.20070804_142936.pcap: 7066636 packets [48:01, 5202.45 packets/s]"
     ]
    },
    {
     "name": "stdout",
     "output_type": "stream",
     "text": [
      "File 45 of 300 saved: cropped/ddostrace.to-victim.20070804_142936_44.pcap\n"
     ]
    },
    {
     "name": "stderr",
     "output_type": "stream",
     "text": [
      "Splitting ddostrace.to-victim.20070804_142936.pcap: 7078462 packets [48:06, 4930.88 packets/s]"
     ]
    },
    {
     "name": "stdout",
     "output_type": "stream",
     "text": [
      "File 46 of 300 saved: cropped/ddostrace.to-victim.20070804_142936_45.pcap\n"
     ]
    },
    {
     "name": "stderr",
     "output_type": "stream",
     "text": [
      "Splitting ddostrace.to-victim.20070804_142936.pcap: 7088610 packets [48:10, 5112.67 packets/s]"
     ]
    },
    {
     "name": "stdout",
     "output_type": "stream",
     "text": [
      "File 47 of 300 saved: cropped/ddostrace.to-victim.20070804_142936_46.pcap\n"
     ]
    },
    {
     "name": "stderr",
     "output_type": "stream",
     "text": [
      "Splitting ddostrace.to-victim.20070804_142936.pcap: 7098864 packets [48:14, 4968.49 packets/s]"
     ]
    },
    {
     "name": "stdout",
     "output_type": "stream",
     "text": [
      "File 48 of 300 saved: cropped/ddostrace.to-victim.20070804_142936_47.pcap\n"
     ]
    },
    {
     "name": "stderr",
     "output_type": "stream",
     "text": [
      "Splitting ddostrace.to-victim.20070804_142936.pcap: 7241187 packets [49:01, 5206.11 packets/s]"
     ]
    },
    {
     "name": "stdout",
     "output_type": "stream",
     "text": [
      "File 49 of 300 saved: cropped/ddostrace.to-victim.20070804_142936_48.pcap\n"
     ]
    },
    {
     "name": "stderr",
     "output_type": "stream",
     "text": [
      "Splitting ddostrace.to-victim.20070804_142936.pcap: 7407009 packets [50:02, 5237.09 packets/s]"
     ]
    },
    {
     "name": "stdout",
     "output_type": "stream",
     "text": [
      "File 50 of 300 saved: cropped/ddostrace.to-victim.20070804_142936_49.pcap\n"
     ]
    },
    {
     "name": "stderr",
     "output_type": "stream",
     "text": [
      "Splitting ddostrace.to-victim.20070804_142936.pcap: 7573462 packets [51:12, 4665.62 packets/s]"
     ]
    },
    {
     "name": "stdout",
     "output_type": "stream",
     "text": [
      "File 51 of 300 saved: cropped/ddostrace.to-victim.20070804_142936_50.pcap\n"
     ]
    },
    {
     "name": "stderr",
     "output_type": "stream",
     "text": [
      "Splitting ddostrace.to-victim.20070804_142936.pcap: 7739621 packets [52:12, 5177.73 packets/s]"
     ]
    },
    {
     "name": "stdout",
     "output_type": "stream",
     "text": [
      "File 52 of 300 saved: cropped/ddostrace.to-victim.20070804_142936_51.pcap\n"
     ]
    },
    {
     "name": "stderr",
     "output_type": "stream",
     "text": [
      "Splitting ddostrace.to-victim.20070804_142936.pcap: 7904866 packets [53:22, 5236.80 packets/s]"
     ]
    },
    {
     "name": "stdout",
     "output_type": "stream",
     "text": [
      "File 53 of 300 saved: cropped/ddostrace.to-victim.20070804_142936_52.pcap\n"
     ]
    },
    {
     "name": "stderr",
     "output_type": "stream",
     "text": [
      "Splitting ddostrace.to-victim.20070804_142936.pcap: 8072337 packets [54:33, 5089.71 packets/s]"
     ]
    },
    {
     "name": "stdout",
     "output_type": "stream",
     "text": [
      "File 54 of 300 saved: cropped/ddostrace.to-victim.20070804_142936_53.pcap\n"
     ]
    },
    {
     "name": "stderr",
     "output_type": "stream",
     "text": [
      "Splitting ddostrace.to-victim.20070804_142936.pcap: 8234072 packets [55:33, 5160.69 packets/s]"
     ]
    },
    {
     "name": "stdout",
     "output_type": "stream",
     "text": [
      "File 55 of 300 saved: cropped/ddostrace.to-victim.20070804_142936_54.pcap\n"
     ]
    },
    {
     "name": "stderr",
     "output_type": "stream",
     "text": [
      "Splitting ddostrace.to-victim.20070804_142936.pcap: 8396221 packets [56:44, 5211.21 packets/s]"
     ]
    },
    {
     "name": "stdout",
     "output_type": "stream",
     "text": [
      "File 56 of 300 saved: cropped/ddostrace.to-victim.20070804_142936_55.pcap\n"
     ]
    },
    {
     "name": "stderr",
     "output_type": "stream",
     "text": [
      "Splitting ddostrace.to-victim.20070804_142936.pcap: 8565332 packets [57:44, 5124.98 packets/s]"
     ]
    },
    {
     "name": "stdout",
     "output_type": "stream",
     "text": [
      "File 57 of 300 saved: cropped/ddostrace.to-victim.20070804_142936_56.pcap\n"
     ]
    },
    {
     "name": "stderr",
     "output_type": "stream",
     "text": [
      "Splitting ddostrace.to-victim.20070804_142936.pcap: 8732290 packets [58:54, 4529.03 packets/s]"
     ]
    },
    {
     "name": "stdout",
     "output_type": "stream",
     "text": [
      "File 58 of 300 saved: cropped/ddostrace.to-victim.20070804_142936_57.pcap\n"
     ]
    },
    {
     "name": "stderr",
     "output_type": "stream",
     "text": [
      "Splitting ddostrace.to-victim.20070804_142936.pcap: 8899774 packets [1:00:04, 5178.69 packets/s]"
     ]
    },
    {
     "name": "stdout",
     "output_type": "stream",
     "text": [
      "File 59 of 300 saved: cropped/ddostrace.to-victim.20070804_142936_58.pcap\n"
     ]
    },
    {
     "name": "stderr",
     "output_type": "stream",
     "text": [
      "Splitting ddostrace.to-victim.20070804_142936.pcap: 9060429 packets [1:01:05, 5019.18 packets/s]"
     ]
    },
    {
     "name": "stdout",
     "output_type": "stream",
     "text": [
      "File 60 of 300 saved: cropped/ddostrace.to-victim.20070804_142936_59.pcap\n"
     ]
    },
    {
     "name": "stderr",
     "output_type": "stream",
     "text": [
      "Splitting ddostrace.to-victim.20070804_142936.pcap: 9219727 packets [1:02:15, 2423.43 packets/s]"
     ]
    },
    {
     "name": "stdout",
     "output_type": "stream",
     "text": [
      "File 61 of 300 saved: cropped/ddostrace.to-victim.20070804_142936_60.pcap\n"
     ]
    },
    {
     "name": "stderr",
     "output_type": "stream",
     "text": [
      "Splitting ddostrace.to-victim.20070804_142936.pcap: 9384647 packets [1:03:16, 5197.41 packets/s]"
     ]
    },
    {
     "name": "stdout",
     "output_type": "stream",
     "text": [
      "File 62 of 300 saved: cropped/ddostrace.to-victim.20070804_142936_61.pcap\n"
     ]
    },
    {
     "name": "stderr",
     "output_type": "stream",
     "text": [
      "Splitting ddostrace.to-victim.20070804_142936.pcap: 9550890 packets [1:04:26, 4929.91 packets/s]"
     ]
    },
    {
     "name": "stdout",
     "output_type": "stream",
     "text": [
      "File 63 of 300 saved: cropped/ddostrace.to-victim.20070804_142936_62.pcap\n"
     ]
    },
    {
     "name": "stderr",
     "output_type": "stream",
     "text": [
      "Splitting ddostrace.to-victim.20070804_142936.pcap: 9718632 packets [1:05:26, 5163.16 packets/s]"
     ]
    },
    {
     "name": "stdout",
     "output_type": "stream",
     "text": [
      "File 64 of 300 saved: cropped/ddostrace.to-victim.20070804_142936_63.pcap\n"
     ]
    },
    {
     "name": "stderr",
     "output_type": "stream",
     "text": [
      "Splitting ddostrace.to-victim.20070804_142936.pcap: 9880679 packets [1:06:36, 2818.64 packets/s]"
     ]
    },
    {
     "name": "stdout",
     "output_type": "stream",
     "text": [
      "File 65 of 300 saved: cropped/ddostrace.to-victim.20070804_142936_64.pcap\n"
     ]
    },
    {
     "name": "stderr",
     "output_type": "stream",
     "text": [
      "Splitting ddostrace.to-victim.20070804_142936.pcap: 10045472 packets [1:07:37, 5071.47 packets/s]"
     ]
    },
    {
     "name": "stdout",
     "output_type": "stream",
     "text": [
      "File 66 of 300 saved: cropped/ddostrace.to-victim.20070804_142936_65.pcap\n"
     ]
    },
    {
     "name": "stderr",
     "output_type": "stream",
     "text": [
      "Splitting ddostrace.to-victim.20070804_142936.pcap: 10209300 packets [1:08:47, 2245.88 packets/s]"
     ]
    },
    {
     "name": "stdout",
     "output_type": "stream",
     "text": [
      "File 67 of 300 saved: cropped/ddostrace.to-victim.20070804_142936_66.pcap\n"
     ]
    },
    {
     "name": "stderr",
     "output_type": "stream",
     "text": [
      "Splitting ddostrace.to-victim.20070804_142936.pcap: 10372849 packets [1:09:57, 5247.30 packets/s]"
     ]
    },
    {
     "name": "stdout",
     "output_type": "stream",
     "text": [
      "File 68 of 300 saved: cropped/ddostrace.to-victim.20070804_142936_67.pcap\n"
     ]
    },
    {
     "name": "stderr",
     "output_type": "stream",
     "text": [
      "Splitting ddostrace.to-victim.20070804_142936.pcap: 10535582 packets [1:10:57, 5263.39 packets/s]"
     ]
    },
    {
     "name": "stdout",
     "output_type": "stream",
     "text": [
      "File 69 of 300 saved: cropped/ddostrace.to-victim.20070804_142936_68.pcap\n"
     ]
    },
    {
     "name": "stderr",
     "output_type": "stream",
     "text": [
      "Splitting ddostrace.to-victim.20070804_142936.pcap: 10694979 packets [1:11:57, 5137.70 packets/s]"
     ]
    },
    {
     "name": "stdout",
     "output_type": "stream",
     "text": [
      "File 70 of 300 saved: cropped/ddostrace.to-victim.20070804_142936_69.pcap\n"
     ]
    },
    {
     "name": "stderr",
     "output_type": "stream",
     "text": [
      "Splitting ddostrace.to-victim.20070804_142936.pcap: 10860105 packets [1:13:08, 5232.28 packets/s]"
     ]
    },
    {
     "name": "stdout",
     "output_type": "stream",
     "text": [
      "File 71 of 300 saved: cropped/ddostrace.to-victim.20070804_142936_70.pcap\n"
     ]
    },
    {
     "name": "stderr",
     "output_type": "stream",
     "text": [
      "Splitting ddostrace.to-victim.20070804_142936.pcap: 11024455 packets [1:14:09, 4120.35 packets/s]"
     ]
    },
    {
     "name": "stdout",
     "output_type": "stream",
     "text": [
      "File 72 of 300 saved: cropped/ddostrace.to-victim.20070804_142936_71.pcap\n"
     ]
    },
    {
     "name": "stderr",
     "output_type": "stream",
     "text": [
      "Splitting ddostrace.to-victim.20070804_142936.pcap: 11188213 packets [1:15:19, 5221.80 packets/s]"
     ]
    },
    {
     "name": "stdout",
     "output_type": "stream",
     "text": [
      "File 73 of 300 saved: cropped/ddostrace.to-victim.20070804_142936_72.pcap\n"
     ]
    },
    {
     "name": "stderr",
     "output_type": "stream",
     "text": [
      "Splitting ddostrace.to-victim.20070804_142936.pcap: 11351150 packets [1:16:19, 5189.46 packets/s]"
     ]
    },
    {
     "name": "stdout",
     "output_type": "stream",
     "text": [
      "File 74 of 300 saved: cropped/ddostrace.to-victim.20070804_142936_73.pcap\n"
     ]
    },
    {
     "name": "stderr",
     "output_type": "stream",
     "text": [
      "Splitting ddostrace.to-victim.20070804_142936.pcap: 11508684 packets [1:17:30, 5234.13 packets/s]"
     ]
    },
    {
     "name": "stdout",
     "output_type": "stream",
     "text": [
      "File 75 of 300 saved: cropped/ddostrace.to-victim.20070804_142936_74.pcap\n"
     ]
    },
    {
     "name": "stderr",
     "output_type": "stream",
     "text": [
      "Splitting ddostrace.to-victim.20070804_142936.pcap: 11668369 packets [1:18:30, 5208.32 packets/s]"
     ]
    },
    {
     "name": "stdout",
     "output_type": "stream",
     "text": [
      "File 76 of 300 saved: cropped/ddostrace.to-victim.20070804_142936_75.pcap\n"
     ]
    },
    {
     "name": "stderr",
     "output_type": "stream",
     "text": [
      "Splitting ddostrace.to-victim.20070804_142936.pcap: 11831584 packets [1:19:41, 5233.57 packets/s]"
     ]
    },
    {
     "name": "stdout",
     "output_type": "stream",
     "text": [
      "File 77 of 300 saved: cropped/ddostrace.to-victim.20070804_142936_76.pcap\n"
     ]
    },
    {
     "name": "stderr",
     "output_type": "stream",
     "text": [
      "Splitting ddostrace.to-victim.20070804_142936.pcap: 11994556 packets [1:20:41, 5191.76 packets/s]"
     ]
    },
    {
     "name": "stdout",
     "output_type": "stream",
     "text": [
      "File 78 of 300 saved: cropped/ddostrace.to-victim.20070804_142936_77.pcap\n"
     ]
    },
    {
     "name": "stderr",
     "output_type": "stream",
     "text": [
      "Splitting ddostrace.to-victim.20070804_142936.pcap: 12158969 packets [1:21:51, 2744.34 packets/s]"
     ]
    },
    {
     "name": "stdout",
     "output_type": "stream",
     "text": [
      "File 79 of 300 saved: cropped/ddostrace.to-victim.20070804_142936_78.pcap\n"
     ]
    },
    {
     "name": "stderr",
     "output_type": "stream",
     "text": [
      "Splitting ddostrace.to-victim.20070804_142936.pcap: 12316914 packets [1:22:51, 5245.25 packets/s]"
     ]
    },
    {
     "name": "stdout",
     "output_type": "stream",
     "text": [
      "File 80 of 300 saved: cropped/ddostrace.to-victim.20070804_142936_79.pcap\n"
     ]
    },
    {
     "name": "stderr",
     "output_type": "stream",
     "text": [
      "Splitting ddostrace.to-victim.20070804_142936.pcap: 12477298 packets [1:23:52, 5222.33 packets/s]"
     ]
    },
    {
     "name": "stdout",
     "output_type": "stream",
     "text": [
      "File 81 of 300 saved: cropped/ddostrace.to-victim.20070804_142936_80.pcap\n"
     ]
    },
    {
     "name": "stderr",
     "output_type": "stream",
     "text": [
      "Splitting ddostrace.to-victim.20070804_142936.pcap: 12640460 packets [1:25:02, 5246.89 packets/s]"
     ]
    },
    {
     "name": "stdout",
     "output_type": "stream",
     "text": [
      "File 82 of 300 saved: cropped/ddostrace.to-victim.20070804_142936_81.pcap\n"
     ]
    },
    {
     "name": "stderr",
     "output_type": "stream",
     "text": [
      "Splitting ddostrace.to-victim.20070804_142936.pcap: 12804073 packets [1:26:03, 5161.52 packets/s]"
     ]
    },
    {
     "name": "stdout",
     "output_type": "stream",
     "text": [
      "File 83 of 300 saved: cropped/ddostrace.to-victim.20070804_142936_82.pcap\n"
     ]
    },
    {
     "name": "stderr",
     "output_type": "stream",
     "text": [
      "Splitting ddostrace.to-victim.20070804_142936.pcap: 12967723 packets [1:27:13, 5226.81 packets/s]"
     ]
    },
    {
     "name": "stdout",
     "output_type": "stream",
     "text": [
      "File 84 of 300 saved: cropped/ddostrace.to-victim.20070804_142936_83.pcap\n"
     ]
    },
    {
     "name": "stderr",
     "output_type": "stream",
     "text": [
      "Splitting ddostrace.to-victim.20070804_142936.pcap: 13126434 packets [1:28:23, 5180.08 packets/s]"
     ]
    },
    {
     "name": "stdout",
     "output_type": "stream",
     "text": [
      "File 85 of 300 saved: cropped/ddostrace.to-victim.20070804_142936_84.pcap\n"
     ]
    },
    {
     "name": "stderr",
     "output_type": "stream",
     "text": [
      "Splitting ddostrace.to-victim.20070804_142936.pcap: 13289188 packets [1:29:23, 5161.19 packets/s]"
     ]
    },
    {
     "name": "stdout",
     "output_type": "stream",
     "text": [
      "File 86 of 300 saved: cropped/ddostrace.to-victim.20070804_142936_85.pcap\n"
     ]
    },
    {
     "name": "stderr",
     "output_type": "stream",
     "text": [
      "Splitting ddostrace.to-victim.20070804_142936.pcap: 13452296 packets [1:30:33, 5206.76 packets/s]"
     ]
    },
    {
     "name": "stdout",
     "output_type": "stream",
     "text": [
      "File 87 of 300 saved: cropped/ddostrace.to-victim.20070804_142936_86.pcap\n"
     ]
    },
    {
     "name": "stderr",
     "output_type": "stream",
     "text": [
      "Splitting ddostrace.to-victim.20070804_142936.pcap: 13616265 packets [1:31:33, 3975.22 packets/s]"
     ]
    },
    {
     "name": "stdout",
     "output_type": "stream",
     "text": [
      "File 88 of 300 saved: cropped/ddostrace.to-victim.20070804_142936_87.pcap\n"
     ]
    },
    {
     "name": "stderr",
     "output_type": "stream",
     "text": [
      "Splitting ddostrace.to-victim.20070804_142936.pcap: 13779492 packets [1:32:44, 5158.98 packets/s]"
     ]
    },
    {
     "name": "stdout",
     "output_type": "stream",
     "text": [
      "File 89 of 300 saved: cropped/ddostrace.to-victim.20070804_142936_88.pcap\n"
     ]
    },
    {
     "name": "stderr",
     "output_type": "stream",
     "text": [
      "Splitting ddostrace.to-victim.20070804_142936.pcap: 13938019 packets [1:33:44, 5230.72 packets/s]"
     ]
    },
    {
     "name": "stdout",
     "output_type": "stream",
     "text": [
      "File 90 of 300 saved: cropped/ddostrace.to-victim.20070804_142936_89.pcap\n"
     ]
    },
    {
     "name": "stderr",
     "output_type": "stream",
     "text": [
      "Splitting ddostrace.to-victim.20070804_142936.pcap: 14101763 packets [1:34:54, 4273.20 packets/s]"
     ]
    },
    {
     "name": "stdout",
     "output_type": "stream",
     "text": [
      "File 91 of 300 saved: cropped/ddostrace.to-victim.20070804_142936_90.pcap\n"
     ]
    },
    {
     "name": "stderr",
     "output_type": "stream",
     "text": [
      "Splitting ddostrace.to-victim.20070804_142936.pcap: 14265686 packets [1:35:55, 5148.22 packets/s]"
     ]
    },
    {
     "name": "stdout",
     "output_type": "stream",
     "text": [
      "File 92 of 300 saved: cropped/ddostrace.to-victim.20070804_142936_91.pcap\n"
     ]
    },
    {
     "name": "stderr",
     "output_type": "stream",
     "text": [
      "Splitting ddostrace.to-victim.20070804_142936.pcap: 14429556 packets [1:37:05, 5193.29 packets/s]"
     ]
    },
    {
     "name": "stdout",
     "output_type": "stream",
     "text": [
      "File 93 of 300 saved: cropped/ddostrace.to-victim.20070804_142936_92.pcap\n"
     ]
    },
    {
     "name": "stderr",
     "output_type": "stream",
     "text": [
      "Splitting ddostrace.to-victim.20070804_142936.pcap: 14592820 packets [1:38:05, 5200.48 packets/s]"
     ]
    },
    {
     "name": "stdout",
     "output_type": "stream",
     "text": [
      "File 94 of 300 saved: cropped/ddostrace.to-victim.20070804_142936_93.pcap\n"
     ]
    },
    {
     "name": "stderr",
     "output_type": "stream",
     "text": [
      "Splitting ddostrace.to-victim.20070804_142936.pcap: 14739029 packets [1:39:05, 5247.56 packets/s]"
     ]
    },
    {
     "name": "stdout",
     "output_type": "stream",
     "text": [
      "File 95 of 300 saved: cropped/ddostrace.to-victim.20070804_142936_94.pcap\n"
     ]
    },
    {
     "name": "stderr",
     "output_type": "stream",
     "text": [
      "Splitting ddostrace.to-victim.20070804_142936.pcap: 14899689 packets [1:40:06, 5264.94 packets/s]"
     ]
    },
    {
     "name": "stdout",
     "output_type": "stream",
     "text": [
      "File 96 of 300 saved: cropped/ddostrace.to-victim.20070804_142936_95.pcap\n"
     ]
    },
    {
     "name": "stderr",
     "output_type": "stream",
     "text": [
      "Splitting ddostrace.to-victim.20070804_142936.pcap: 15064688 packets [1:41:16, 5186.03 packets/s]"
     ]
    },
    {
     "name": "stdout",
     "output_type": "stream",
     "text": [
      "File 97 of 300 saved: cropped/ddostrace.to-victim.20070804_142936_96.pcap\n"
     ]
    },
    {
     "name": "stderr",
     "output_type": "stream",
     "text": [
      "Splitting ddostrace.to-victim.20070804_142936.pcap: 15229463 packets [1:42:26, 4725.57 packets/s]"
     ]
    },
    {
     "name": "stdout",
     "output_type": "stream",
     "text": [
      "File 98 of 300 saved: cropped/ddostrace.to-victim.20070804_142936_97.pcap\n"
     ]
    },
    {
     "name": "stderr",
     "output_type": "stream",
     "text": [
      "Splitting ddostrace.to-victim.20070804_142936.pcap: 15393927 packets [1:43:27, 4002.05 packets/s]"
     ]
    },
    {
     "name": "stdout",
     "output_type": "stream",
     "text": [
      "File 99 of 300 saved: cropped/ddostrace.to-victim.20070804_142936_98.pcap\n"
     ]
    },
    {
     "name": "stderr",
     "output_type": "stream",
     "text": [
      "Splitting ddostrace.to-victim.20070804_142936.pcap: 15552308 packets [1:44:37, 5250.54 packets/s]"
     ]
    },
    {
     "name": "stdout",
     "output_type": "stream",
     "text": [
      "File 100 of 300 saved: cropped/ddostrace.to-victim.20070804_142936_99.pcap\n"
     ]
    },
    {
     "name": "stderr",
     "output_type": "stream",
     "text": [
      "Splitting ddostrace.to-victim.20070804_142936.pcap: 15712887 packets [1:45:37, 5216.78 packets/s]"
     ]
    },
    {
     "name": "stdout",
     "output_type": "stream",
     "text": [
      "File 101 of 300 saved: cropped/ddostrace.to-victim.20070804_142936_100.pcap\n"
     ]
    },
    {
     "name": "stderr",
     "output_type": "stream",
     "text": [
      "Splitting ddostrace.to-victim.20070804_142936.pcap: 15877619 packets [1:46:47, 5200.08 packets/s]"
     ]
    },
    {
     "name": "stdout",
     "output_type": "stream",
     "text": [
      "File 102 of 300 saved: cropped/ddostrace.to-victim.20070804_142936_101.pcap\n"
     ]
    },
    {
     "name": "stderr",
     "output_type": "stream",
     "text": [
      "Splitting ddostrace.to-victim.20070804_142936.pcap: 16043924 packets [1:47:48, 5208.98 packets/s]"
     ]
    },
    {
     "name": "stdout",
     "output_type": "stream",
     "text": [
      "File 103 of 300 saved: cropped/ddostrace.to-victim.20070804_142936_102.pcap\n"
     ]
    },
    {
     "name": "stderr",
     "output_type": "stream",
     "text": [
      "Splitting ddostrace.to-victim.20070804_142936.pcap: 16207298 packets [1:48:58, 4999.56 packets/s]"
     ]
    },
    {
     "name": "stdout",
     "output_type": "stream",
     "text": [
      "File 104 of 300 saved: cropped/ddostrace.to-victim.20070804_142936_103.pcap\n"
     ]
    },
    {
     "name": "stderr",
     "output_type": "stream",
     "text": [
      "Splitting ddostrace.to-victim.20070804_142936.pcap: 16364838 packets [1:49:58, 5238.89 packets/s]"
     ]
    },
    {
     "name": "stdout",
     "output_type": "stream",
     "text": [
      "File 105 of 300 saved: cropped/ddostrace.to-victim.20070804_142936_104.pcap\n"
     ]
    },
    {
     "name": "stderr",
     "output_type": "stream",
     "text": [
      "Splitting ddostrace.to-victim.20070804_142936.pcap: 16528560 packets [1:51:08, 5227.39 packets/s]"
     ]
    },
    {
     "name": "stdout",
     "output_type": "stream",
     "text": [
      "File 106 of 300 saved: cropped/ddostrace.to-victim.20070804_142936_105.pcap\n"
     ]
    },
    {
     "name": "stderr",
     "output_type": "stream",
     "text": [
      "Splitting ddostrace.to-victim.20070804_142936.pcap: 16693276 packets [1:52:08, 5201.87 packets/s]"
     ]
    },
    {
     "name": "stdout",
     "output_type": "stream",
     "text": [
      "File 107 of 300 saved: cropped/ddostrace.to-victim.20070804_142936_106.pcap\n"
     ]
    },
    {
     "name": "stderr",
     "output_type": "stream",
     "text": [
      "Splitting ddostrace.to-victim.20070804_142936.pcap: 16856000 packets [1:53:19, 5174.48 packets/s]"
     ]
    },
    {
     "name": "stdout",
     "output_type": "stream",
     "text": [
      "File 108 of 300 saved: cropped/ddostrace.to-victim.20070804_142936_107.pcap\n"
     ]
    },
    {
     "name": "stderr",
     "output_type": "stream",
     "text": [
      "Splitting ddostrace.to-victim.20070804_142936.pcap: 17020327 packets [1:54:19, 5261.25 packets/s]"
     ]
    },
    {
     "name": "stdout",
     "output_type": "stream",
     "text": [
      "File 109 of 300 saved: cropped/ddostrace.to-victim.20070804_142936_108.pcap\n"
     ]
    },
    {
     "name": "stderr",
     "output_type": "stream",
     "text": [
      "Splitting ddostrace.to-victim.20070804_142936.pcap: 17179062 packets [1:55:29, 5115.62 packets/s]"
     ]
    },
    {
     "name": "stdout",
     "output_type": "stream",
     "text": [
      "File 110 of 300 saved: cropped/ddostrace.to-victim.20070804_142936_109.pcap\n"
     ]
    },
    {
     "name": "stderr",
     "output_type": "stream",
     "text": [
      "Splitting ddostrace.to-victim.20070804_142936.pcap: 17343943 packets [1:56:30, 5184.88 packets/s]"
     ]
    },
    {
     "name": "stdout",
     "output_type": "stream",
     "text": [
      "File 111 of 300 saved: cropped/ddostrace.to-victim.20070804_142936_110.pcap\n"
     ]
    },
    {
     "name": "stderr",
     "output_type": "stream",
     "text": [
      "Splitting ddostrace.to-victim.20070804_142936.pcap: 17508424 packets [1:57:40, 5217.22 packets/s]"
     ]
    },
    {
     "name": "stdout",
     "output_type": "stream",
     "text": [
      "File 112 of 300 saved: cropped/ddostrace.to-victim.20070804_142936_111.pcap\n"
     ]
    },
    {
     "name": "stderr",
     "output_type": "stream",
     "text": [
      "Splitting ddostrace.to-victim.20070804_142936.pcap: 17671258 packets [1:58:51, 4467.55 packets/s]"
     ]
    },
    {
     "name": "stdout",
     "output_type": "stream",
     "text": [
      "File 113 of 300 saved: cropped/ddostrace.to-victim.20070804_142936_112.pcap\n"
     ]
    },
    {
     "name": "stderr",
     "output_type": "stream",
     "text": [
      "Splitting ddostrace.to-victim.20070804_142936.pcap: 17834423 packets [2:00:01, 5120.73 packets/s]"
     ]
    },
    {
     "name": "stdout",
     "output_type": "stream",
     "text": [
      "File 114 of 300 saved: cropped/ddostrace.to-victim.20070804_142936_113.pcap\n"
     ]
    },
    {
     "name": "stderr",
     "output_type": "stream",
     "text": [
      "Splitting ddostrace.to-victim.20070804_142936.pcap: 17992376 packets [2:01:01, 4827.68 packets/s]"
     ]
    },
    {
     "name": "stdout",
     "output_type": "stream",
     "text": [
      "File 115 of 300 saved: cropped/ddostrace.to-victim.20070804_142936_114.pcap\n"
     ]
    },
    {
     "name": "stderr",
     "output_type": "stream",
     "text": [
      "Splitting ddostrace.to-victim.20070804_142936.pcap: 18151846 packets [2:02:12, 4949.00 packets/s]"
     ]
    },
    {
     "name": "stdout",
     "output_type": "stream",
     "text": [
      "File 116 of 300 saved: cropped/ddostrace.to-victim.20070804_142936_115.pcap\n"
     ]
    },
    {
     "name": "stderr",
     "output_type": "stream",
     "text": [
      "Splitting ddostrace.to-victim.20070804_142936.pcap: 18316726 packets [2:03:12, 5044.54 packets/s]"
     ]
    },
    {
     "name": "stdout",
     "output_type": "stream",
     "text": [
      "File 117 of 300 saved: cropped/ddostrace.to-victim.20070804_142936_116.pcap\n"
     ]
    },
    {
     "name": "stderr",
     "output_type": "stream",
     "text": [
      "Splitting ddostrace.to-victim.20070804_142936.pcap: 18480951 packets [2:04:22, 5156.10 packets/s]"
     ]
    },
    {
     "name": "stdout",
     "output_type": "stream",
     "text": [
      "File 118 of 300 saved: cropped/ddostrace.to-victim.20070804_142936_117.pcap\n"
     ]
    },
    {
     "name": "stderr",
     "output_type": "stream",
     "text": [
      "Splitting ddostrace.to-victim.20070804_142936.pcap: 18643973 packets [2:05:32, 4856.23 packets/s]"
     ]
    },
    {
     "name": "stdout",
     "output_type": "stream",
     "text": [
      "File 119 of 300 saved: cropped/ddostrace.to-victim.20070804_142936_118.pcap\n"
     ]
    },
    {
     "name": "stderr",
     "output_type": "stream",
     "text": [
      "Splitting ddostrace.to-victim.20070804_142936.pcap: 18803057 packets [2:06:33, 3497.95 packets/s]"
     ]
    },
    {
     "name": "stdout",
     "output_type": "stream",
     "text": [
      "File 120 of 300 saved: cropped/ddostrace.to-victim.20070804_142936_119.pcap\n"
     ]
    },
    {
     "name": "stderr",
     "output_type": "stream",
     "text": [
      "Splitting ddostrace.to-victim.20070804_142936.pcap: 18951141 packets [2:07:43, 4961.60 packets/s]"
     ]
    },
    {
     "name": "stdout",
     "output_type": "stream",
     "text": [
      "File 121 of 300 saved: cropped/ddostrace.to-victim.20070804_142936_120.pcap\n"
     ]
    },
    {
     "name": "stderr",
     "output_type": "stream",
     "text": [
      "Splitting ddostrace.to-victim.20070804_142936.pcap: 19116077 packets [2:08:43, 5092.33 packets/s]"
     ]
    },
    {
     "name": "stdout",
     "output_type": "stream",
     "text": [
      "File 122 of 300 saved: cropped/ddostrace.to-victim.20070804_142936_121.pcap\n"
     ]
    },
    {
     "name": "stderr",
     "output_type": "stream",
     "text": [
      "Splitting ddostrace.to-victim.20070804_142936.pcap: 19280373 packets [2:09:53, 5030.93 packets/s]"
     ]
    },
    {
     "name": "stdout",
     "output_type": "stream",
     "text": [
      "File 123 of 300 saved: cropped/ddostrace.to-victim.20070804_142936_122.pcap\n"
     ]
    },
    {
     "name": "stderr",
     "output_type": "stream",
     "text": [
      "Splitting ddostrace.to-victim.20070804_142936.pcap: 19444215 packets [2:11:04, 2224.69 packets/s]"
     ]
    },
    {
     "name": "stdout",
     "output_type": "stream",
     "text": [
      "File 124 of 300 saved: cropped/ddostrace.to-victim.20070804_142936_123.pcap\n"
     ]
    },
    {
     "name": "stderr",
     "output_type": "stream",
     "text": [
      "Splitting ddostrace.to-victim.20070804_142936.pcap: 19578712 packets [2:12:04, 5082.47 packets/s]"
     ]
    },
    {
     "name": "stdout",
     "output_type": "stream",
     "text": [
      "File 125 of 300 saved: cropped/ddostrace.to-victim.20070804_142936_124.pcap\n"
     ]
    },
    {
     "name": "stderr",
     "output_type": "stream",
     "text": [
      "Splitting ddostrace.to-victim.20070804_142936.pcap: 19588139 packets [2:12:15, 4470.88 packets/s]"
     ]
    },
    {
     "name": "stdout",
     "output_type": "stream",
     "text": [
      "File 126 of 300 saved: cropped/ddostrace.to-victim.20070804_142936_125.pcap\n"
     ]
    },
    {
     "name": "stderr",
     "output_type": "stream",
     "text": [
      "Splitting ddostrace.to-victim.20070804_142936.pcap: 19599415 packets [2:12:20, 4920.34 packets/s]"
     ]
    },
    {
     "name": "stdout",
     "output_type": "stream",
     "text": [
      "File 127 of 300 saved: cropped/ddostrace.to-victim.20070804_142936_126.pcap\n"
     ]
    },
    {
     "name": "stderr",
     "output_type": "stream",
     "text": [
      "Splitting ddostrace.to-victim.20070804_142936.pcap: 19641342 packets [2:12:31, 5107.33 packets/s]"
     ]
    },
    {
     "name": "stdout",
     "output_type": "stream",
     "text": [
      "File 128 of 300 saved: cropped/ddostrace.to-victim.20070804_142936_127.pcap\n"
     ]
    },
    {
     "name": "stderr",
     "output_type": "stream",
     "text": [
      "Splitting ddostrace.to-victim.20070804_142936.pcap: 19802640 packets [2:13:24, 5115.21 packets/s]"
     ]
    },
    {
     "name": "stdout",
     "output_type": "stream",
     "text": [
      "File 129 of 300 saved: cropped/ddostrace.to-victim.20070804_142936_128.pcap\n"
     ]
    },
    {
     "name": "stderr",
     "output_type": "stream",
     "text": [
      "Splitting ddostrace.to-victim.20070804_142936.pcap: 19962090 packets [2:14:35, 4622.00 packets/s]"
     ]
    },
    {
     "name": "stdout",
     "output_type": "stream",
     "text": [
      "File 130 of 300 saved: cropped/ddostrace.to-victim.20070804_142936_129.pcap\n"
     ]
    },
    {
     "name": "stderr",
     "output_type": "stream",
     "text": [
      "Splitting ddostrace.to-victim.20070804_142936.pcap: 20122126 packets [2:15:35, 5057.52 packets/s]"
     ]
    },
    {
     "name": "stdout",
     "output_type": "stream",
     "text": [
      "File 131 of 300 saved: cropped/ddostrace.to-victim.20070804_142936_130.pcap\n"
     ]
    },
    {
     "name": "stderr",
     "output_type": "stream",
     "text": [
      "Splitting ddostrace.to-victim.20070804_142936.pcap: 20282433 packets [2:16:45, 5019.72 packets/s]"
     ]
    },
    {
     "name": "stdout",
     "output_type": "stream",
     "text": [
      "File 132 of 300 saved: cropped/ddostrace.to-victim.20070804_142936_131.pcap\n"
     ]
    },
    {
     "name": "stderr",
     "output_type": "stream",
     "text": [
      "Splitting ddostrace.to-victim.20070804_142936.pcap: 20442472 packets [2:17:45, 5016.02 packets/s]"
     ]
    },
    {
     "name": "stdout",
     "output_type": "stream",
     "text": [
      "File 133 of 300 saved: cropped/ddostrace.to-victim.20070804_142936_132.pcap\n"
     ]
    },
    {
     "name": "stderr",
     "output_type": "stream",
     "text": [
      "Splitting ddostrace.to-victim.20070804_142936.pcap: 20603471 packets [2:18:56, 4924.27 packets/s]"
     ]
    },
    {
     "name": "stdout",
     "output_type": "stream",
     "text": [
      "File 134 of 300 saved: cropped/ddostrace.to-victim.20070804_142936_133.pcap\n"
     ]
    },
    {
     "name": "stderr",
     "output_type": "stream",
     "text": [
      "Splitting ddostrace.to-victim.20070804_142936.pcap: 20758316 packets [2:19:56, 5072.21 packets/s]"
     ]
    },
    {
     "name": "stdout",
     "output_type": "stream",
     "text": [
      "File 135 of 300 saved: cropped/ddostrace.to-victim.20070804_142936_134.pcap\n"
     ]
    },
    {
     "name": "stderr",
     "output_type": "stream",
     "text": [
      "Splitting ddostrace.to-victim.20070804_142936.pcap: 20915484 packets [2:21:06, 2700.12 packets/s]"
     ]
    },
    {
     "name": "stdout",
     "output_type": "stream",
     "text": [
      "File 136 of 300 saved: cropped/ddostrace.to-victim.20070804_142936_135.pcap\n"
     ]
    },
    {
     "name": "stderr",
     "output_type": "stream",
     "text": [
      "Splitting ddostrace.to-victim.20070804_142936.pcap: 21077483 packets [2:22:06, 5082.90 packets/s]"
     ]
    },
    {
     "name": "stdout",
     "output_type": "stream",
     "text": [
      "File 137 of 300 saved: cropped/ddostrace.to-victim.20070804_142936_136.pcap\n"
     ]
    },
    {
     "name": "stderr",
     "output_type": "stream",
     "text": [
      "Splitting ddostrace.to-victim.20070804_142936.pcap: 21241378 packets [2:23:16, 5027.63 packets/s]"
     ]
    },
    {
     "name": "stdout",
     "output_type": "stream",
     "text": [
      "File 138 of 300 saved: cropped/ddostrace.to-victim.20070804_142936_137.pcap\n"
     ]
    },
    {
     "name": "stderr",
     "output_type": "stream",
     "text": [
      "Splitting ddostrace.to-victim.20070804_142936.pcap: 21402948 packets [2:24:27, 5003.38 packets/s]"
     ]
    },
    {
     "name": "stdout",
     "output_type": "stream",
     "text": [
      "File 139 of 300 saved: cropped/ddostrace.to-victim.20070804_142936_138.pcap\n"
     ]
    },
    {
     "name": "stderr",
     "output_type": "stream",
     "text": [
      "Splitting ddostrace.to-victim.20070804_142936.pcap: 21557435 packets [2:25:28, 5099.94 packets/s]"
     ]
    },
    {
     "name": "stdout",
     "output_type": "stream",
     "text": [
      "File 140 of 300 saved: cropped/ddostrace.to-victim.20070804_142936_139.pcap\n"
     ]
    },
    {
     "name": "stderr",
     "output_type": "stream",
     "text": [
      "Splitting ddostrace.to-victim.20070804_142936.pcap: 21710445 packets [2:26:28, 4953.41 packets/s]"
     ]
    },
    {
     "name": "stdout",
     "output_type": "stream",
     "text": [
      "File 141 of 300 saved: cropped/ddostrace.to-victim.20070804_142936_140.pcap\n"
     ]
    },
    {
     "name": "stderr",
     "output_type": "stream",
     "text": [
      "Splitting ddostrace.to-victim.20070804_142936.pcap: 21871866 packets [2:27:38, 4867.64 packets/s]"
     ]
    },
    {
     "name": "stdout",
     "output_type": "stream",
     "text": [
      "File 142 of 300 saved: cropped/ddostrace.to-victim.20070804_142936_141.pcap\n"
     ]
    },
    {
     "name": "stderr",
     "output_type": "stream",
     "text": [
      "Splitting ddostrace.to-victim.20070804_142936.pcap: 22032647 packets [2:28:48, 4893.50 packets/s]"
     ]
    },
    {
     "name": "stdout",
     "output_type": "stream",
     "text": [
      "File 143 of 300 saved: cropped/ddostrace.to-victim.20070804_142936_142.pcap\n"
     ]
    },
    {
     "name": "stderr",
     "output_type": "stream",
     "text": [
      "Splitting ddostrace.to-victim.20070804_142936.pcap: 22193147 packets [2:29:58, 4690.89 packets/s]"
     ]
    },
    {
     "name": "stdout",
     "output_type": "stream",
     "text": [
      "File 144 of 300 saved: cropped/ddostrace.to-victim.20070804_142936_143.pcap\n"
     ]
    },
    {
     "name": "stderr",
     "output_type": "stream",
     "text": [
      "Splitting ddostrace.to-victim.20070804_142936.pcap: 22350212 packets [2:30:59, 5001.57 packets/s]"
     ]
    },
    {
     "name": "stdout",
     "output_type": "stream",
     "text": [
      "File 145 of 300 saved: cropped/ddostrace.to-victim.20070804_142936_144.pcap\n"
     ]
    },
    {
     "name": "stderr",
     "output_type": "stream",
     "text": [
      "Splitting ddostrace.to-victim.20070804_142936.pcap: 22512069 packets [2:32:09, 5015.76 packets/s]"
     ]
    },
    {
     "name": "stdout",
     "output_type": "stream",
     "text": [
      "File 146 of 300 saved: cropped/ddostrace.to-victim.20070804_142936_145.pcap\n"
     ]
    },
    {
     "name": "stderr",
     "output_type": "stream",
     "text": [
      "Splitting ddostrace.to-victim.20070804_142936.pcap: 22673177 packets [2:33:09, 5102.01 packets/s]"
     ]
    },
    {
     "name": "stdout",
     "output_type": "stream",
     "text": [
      "File 147 of 300 saved: cropped/ddostrace.to-victim.20070804_142936_146.pcap\n"
     ]
    },
    {
     "name": "stderr",
     "output_type": "stream",
     "text": [
      "Splitting ddostrace.to-victim.20070804_142936.pcap: 22832567 packets [2:34:20, 4899.38 packets/s]"
     ]
    },
    {
     "name": "stdout",
     "output_type": "stream",
     "text": [
      "File 148 of 300 saved: cropped/ddostrace.to-victim.20070804_142936_147.pcap\n"
     ]
    },
    {
     "name": "stderr",
     "output_type": "stream",
     "text": [
      "Splitting ddostrace.to-victim.20070804_142936.pcap: 22994912 packets [2:35:20, 4973.04 packets/s]"
     ]
    },
    {
     "name": "stdout",
     "output_type": "stream",
     "text": [
      "File 149 of 300 saved: cropped/ddostrace.to-victim.20070804_142936_148.pcap\n"
     ]
    },
    {
     "name": "stderr",
     "output_type": "stream",
     "text": [
      "Splitting ddostrace.to-victim.20070804_142936.pcap: 23150674 packets [2:36:30, 4973.96 packets/s]"
     ]
    },
    {
     "name": "stdout",
     "output_type": "stream",
     "text": [
      "File 150 of 300 saved: cropped/ddostrace.to-victim.20070804_142936_149.pcap\n"
     ]
    },
    {
     "name": "stderr",
     "output_type": "stream",
     "text": [
      "Splitting ddostrace.to-victim.20070804_142936.pcap: 23312428 packets [2:37:31, 5059.86 packets/s]"
     ]
    },
    {
     "name": "stdout",
     "output_type": "stream",
     "text": [
      "File 151 of 300 saved: cropped/ddostrace.to-victim.20070804_142936_150.pcap\n"
     ]
    },
    {
     "name": "stderr",
     "output_type": "stream",
     "text": [
      "Splitting ddostrace.to-victim.20070804_142936.pcap: 23472964 packets [2:38:41, 4983.68 packets/s]"
     ]
    },
    {
     "name": "stdout",
     "output_type": "stream",
     "text": [
      "File 152 of 300 saved: cropped/ddostrace.to-victim.20070804_142936_151.pcap\n"
     ]
    },
    {
     "name": "stderr",
     "output_type": "stream",
     "text": [
      "Splitting ddostrace.to-victim.20070804_142936.pcap: 23634352 packets [2:39:51, 4979.28 packets/s]"
     ]
    },
    {
     "name": "stdout",
     "output_type": "stream",
     "text": [
      "File 153 of 300 saved: cropped/ddostrace.to-victim.20070804_142936_152.pcap\n"
     ]
    },
    {
     "name": "stderr",
     "output_type": "stream",
     "text": [
      "Splitting ddostrace.to-victim.20070804_142936.pcap: 23796146 packets [2:40:51, 5023.58 packets/s]"
     ]
    },
    {
     "name": "stdout",
     "output_type": "stream",
     "text": [
      "File 154 of 300 saved: cropped/ddostrace.to-victim.20070804_142936_153.pcap\n"
     ]
    },
    {
     "name": "stderr",
     "output_type": "stream",
     "text": [
      "Splitting ddostrace.to-victim.20070804_142936.pcap: 23951744 packets [2:42:02, 5032.21 packets/s]"
     ]
    },
    {
     "name": "stdout",
     "output_type": "stream",
     "text": [
      "File 155 of 300 saved: cropped/ddostrace.to-victim.20070804_142936_154.pcap\n"
     ]
    },
    {
     "name": "stderr",
     "output_type": "stream",
     "text": [
      "Splitting ddostrace.to-victim.20070804_142936.pcap: 24108100 packets [2:43:02, 5057.00 packets/s]"
     ]
    },
    {
     "name": "stdout",
     "output_type": "stream",
     "text": [
      "File 156 of 300 saved: cropped/ddostrace.to-victim.20070804_142936_155.pcap\n"
     ]
    },
    {
     "name": "stderr",
     "output_type": "stream",
     "text": [
      "Splitting ddostrace.to-victim.20070804_142936.pcap: 24271543 packets [2:44:12, 5111.20 packets/s]"
     ]
    },
    {
     "name": "stdout",
     "output_type": "stream",
     "text": [
      "File 157 of 300 saved: cropped/ddostrace.to-victim.20070804_142936_156.pcap\n"
     ]
    },
    {
     "name": "stderr",
     "output_type": "stream",
     "text": [
      "Splitting ddostrace.to-victim.20070804_142936.pcap: 24434134 packets [2:45:12, 5035.35 packets/s]"
     ]
    },
    {
     "name": "stdout",
     "output_type": "stream",
     "text": [
      "File 158 of 300 saved: cropped/ddostrace.to-victim.20070804_142936_157.pcap\n"
     ]
    },
    {
     "name": "stderr",
     "output_type": "stream",
     "text": [
      "Splitting ddostrace.to-victim.20070804_142936.pcap: 24596285 packets [2:46:22, 4958.55 packets/s]"
     ]
    },
    {
     "name": "stdout",
     "output_type": "stream",
     "text": [
      "File 159 of 300 saved: cropped/ddostrace.to-victim.20070804_142936_158.pcap\n"
     ]
    },
    {
     "name": "stderr",
     "output_type": "stream",
     "text": [
      "Splitting ddostrace.to-victim.20070804_142936.pcap: 24753887 packets [2:47:32, 4827.84 packets/s]"
     ]
    },
    {
     "name": "stdout",
     "output_type": "stream",
     "text": [
      "File 160 of 300 saved: cropped/ddostrace.to-victim.20070804_142936_159.pcap\n"
     ]
    },
    {
     "name": "stderr",
     "output_type": "stream",
     "text": [
      "Splitting ddostrace.to-victim.20070804_142936.pcap: 24910760 packets [2:48:33, 4971.59 packets/s]"
     ]
    },
    {
     "name": "stdout",
     "output_type": "stream",
     "text": [
      "File 161 of 300 saved: cropped/ddostrace.to-victim.20070804_142936_160.pcap\n"
     ]
    },
    {
     "name": "stderr",
     "output_type": "stream",
     "text": [
      "Splitting ddostrace.to-victim.20070804_142936.pcap: 25073511 packets [2:49:43, 5072.93 packets/s]"
     ]
    },
    {
     "name": "stdout",
     "output_type": "stream",
     "text": [
      "File 162 of 300 saved: cropped/ddostrace.to-victim.20070804_142936_161.pcap\n"
     ]
    },
    {
     "name": "stderr",
     "output_type": "stream",
     "text": [
      "Splitting ddostrace.to-victim.20070804_142936.pcap: 25236223 packets [2:50:43, 4929.53 packets/s]"
     ]
    },
    {
     "name": "stdout",
     "output_type": "stream",
     "text": [
      "File 163 of 300 saved: cropped/ddostrace.to-victim.20070804_142936_162.pcap\n"
     ]
    },
    {
     "name": "stderr",
     "output_type": "stream",
     "text": [
      "Splitting ddostrace.to-victim.20070804_142936.pcap: 25401186 packets [2:51:53, 4292.85 packets/s]"
     ]
    },
    {
     "name": "stdout",
     "output_type": "stream",
     "text": [
      "File 164 of 300 saved: cropped/ddostrace.to-victim.20070804_142936_163.pcap\n"
     ]
    },
    {
     "name": "stderr",
     "output_type": "stream",
     "text": [
      "Splitting ddostrace.to-victim.20070804_142936.pcap: 25558452 packets [2:53:03, 4818.99 packets/s]"
     ]
    },
    {
     "name": "stdout",
     "output_type": "stream",
     "text": [
      "File 165 of 300 saved: cropped/ddostrace.to-victim.20070804_142936_164.pcap\n"
     ]
    },
    {
     "name": "stderr",
     "output_type": "stream",
     "text": [
      "Splitting ddostrace.to-victim.20070804_142936.pcap: 25720519 packets [2:54:04, 4644.10 packets/s]"
     ]
    },
    {
     "name": "stdout",
     "output_type": "stream",
     "text": [
      "File 166 of 300 saved: cropped/ddostrace.to-victim.20070804_142936_165.pcap\n"
     ]
    },
    {
     "name": "stderr",
     "output_type": "stream",
     "text": [
      "Splitting ddostrace.to-victim.20070804_142936.pcap: 25882129 packets [2:55:14, 5038.09 packets/s]"
     ]
    },
    {
     "name": "stdout",
     "output_type": "stream",
     "text": [
      "File 167 of 300 saved: cropped/ddostrace.to-victim.20070804_142936_166.pcap\n"
     ]
    },
    {
     "name": "stderr",
     "output_type": "stream",
     "text": [
      "Splitting ddostrace.to-victim.20070804_142936.pcap: 26044195 packets [2:56:24, 4988.34 packets/s]"
     ]
    },
    {
     "name": "stdout",
     "output_type": "stream",
     "text": [
      "File 168 of 300 saved: cropped/ddostrace.to-victim.20070804_142936_167.pcap\n"
     ]
    },
    {
     "name": "stderr",
     "output_type": "stream",
     "text": [
      "Splitting ddostrace.to-victim.20070804_142936.pcap: 26205771 packets [2:57:24, 4993.60 packets/s]"
     ]
    },
    {
     "name": "stdout",
     "output_type": "stream",
     "text": [
      "File 169 of 300 saved: cropped/ddostrace.to-victim.20070804_142936_168.pcap\n"
     ]
    },
    {
     "name": "stderr",
     "output_type": "stream",
     "text": [
      "Splitting ddostrace.to-victim.20070804_142936.pcap: 26362213 packets [2:58:35, 5026.33 packets/s]"
     ]
    },
    {
     "name": "stdout",
     "output_type": "stream",
     "text": [
      "File 170 of 300 saved: cropped/ddostrace.to-victim.20070804_142936_169.pcap\n"
     ]
    },
    {
     "name": "stderr",
     "output_type": "stream",
     "text": [
      "Splitting ddostrace.to-victim.20070804_142936.pcap: 26524805 packets [2:59:35, 5023.34 packets/s]"
     ]
    },
    {
     "name": "stdout",
     "output_type": "stream",
     "text": [
      "File 171 of 300 saved: cropped/ddostrace.to-victim.20070804_142936_170.pcap\n"
     ]
    },
    {
     "name": "stderr",
     "output_type": "stream",
     "text": [
      "Splitting ddostrace.to-victim.20070804_142936.pcap: 26685727 packets [3:00:46, 4906.94 packets/s]"
     ]
    },
    {
     "name": "stdout",
     "output_type": "stream",
     "text": [
      "File 172 of 300 saved: cropped/ddostrace.to-victim.20070804_142936_171.pcap\n"
     ]
    },
    {
     "name": "stderr",
     "output_type": "stream",
     "text": [
      "Splitting ddostrace.to-victim.20070804_142936.pcap: 26847112 packets [3:01:46, 5035.44 packets/s]"
     ]
    },
    {
     "name": "stdout",
     "output_type": "stream",
     "text": [
      "File 173 of 300 saved: cropped/ddostrace.to-victim.20070804_142936_172.pcap\n"
     ]
    },
    {
     "name": "stderr",
     "output_type": "stream",
     "text": [
      "Splitting ddostrace.to-victim.20070804_142936.pcap: 27011146 packets [3:02:56, 3872.04 packets/s]"
     ]
    },
    {
     "name": "stdout",
     "output_type": "stream",
     "text": [
      "File 174 of 300 saved: cropped/ddostrace.to-victim.20070804_142936_173.pcap\n"
     ]
    },
    {
     "name": "stderr",
     "output_type": "stream",
     "text": [
      "Splitting ddostrace.to-victim.20070804_142936.pcap: 27169529 packets [3:04:07, 5020.69 packets/s]"
     ]
    },
    {
     "name": "stdout",
     "output_type": "stream",
     "text": [
      "File 175 of 300 saved: cropped/ddostrace.to-victim.20070804_142936_174.pcap\n"
     ]
    },
    {
     "name": "stderr",
     "output_type": "stream",
     "text": [
      "Splitting ddostrace.to-victim.20070804_142936.pcap: 27321036 packets [3:05:07, 5023.00 packets/s]"
     ]
    },
    {
     "name": "stdout",
     "output_type": "stream",
     "text": [
      "File 176 of 300 saved: cropped/ddostrace.to-victim.20070804_142936_175.pcap\n"
     ]
    },
    {
     "name": "stderr",
     "output_type": "stream",
     "text": [
      "Splitting ddostrace.to-victim.20070804_142936.pcap: 27485158 packets [3:06:17, 2681.63 packets/s]"
     ]
    },
    {
     "name": "stdout",
     "output_type": "stream",
     "text": [
      "File 177 of 300 saved: cropped/ddostrace.to-victim.20070804_142936_176.pcap\n"
     ]
    },
    {
     "name": "stderr",
     "output_type": "stream",
     "text": [
      "Splitting ddostrace.to-victim.20070804_142936.pcap: 27649165 packets [3:07:28, 5068.47 packets/s]"
     ]
    },
    {
     "name": "stdout",
     "output_type": "stream",
     "text": [
      "File 178 of 300 saved: cropped/ddostrace.to-victim.20070804_142936_177.pcap\n"
     ]
    },
    {
     "name": "stderr",
     "output_type": "stream",
     "text": [
      "Splitting ddostrace.to-victim.20070804_142936.pcap: 27811452 packets [3:08:28, 4945.74 packets/s]"
     ]
    },
    {
     "name": "stdout",
     "output_type": "stream",
     "text": [
      "File 179 of 300 saved: cropped/ddostrace.to-victim.20070804_142936_178.pcap\n"
     ]
    },
    {
     "name": "stderr",
     "output_type": "stream",
     "text": [
      "Splitting ddostrace.to-victim.20070804_142936.pcap: 27970482 packets [3:09:38, 2614.26 packets/s]"
     ]
    },
    {
     "name": "stdout",
     "output_type": "stream",
     "text": [
      "File 180 of 300 saved: cropped/ddostrace.to-victim.20070804_142936_179.pcap\n"
     ]
    },
    {
     "name": "stderr",
     "output_type": "stream",
     "text": [
      "Splitting ddostrace.to-victim.20070804_142936.pcap: 28109748 packets [3:10:38, 5103.83 packets/s]"
     ]
    },
    {
     "name": "stdout",
     "output_type": "stream",
     "text": [
      "File 181 of 300 saved: cropped/ddostrace.to-victim.20070804_142936_180.pcap\n"
     ]
    },
    {
     "name": "stderr",
     "output_type": "stream",
     "text": [
      "Splitting ddostrace.to-victim.20070804_142936.pcap: 28271668 packets [3:11:38, 5066.27 packets/s]"
     ]
    },
    {
     "name": "stdout",
     "output_type": "stream",
     "text": [
      "File 182 of 300 saved: cropped/ddostrace.to-victim.20070804_142936_181.pcap\n"
     ]
    },
    {
     "name": "stderr",
     "output_type": "stream",
     "text": [
      "Splitting ddostrace.to-victim.20070804_142936.pcap: 28434043 packets [3:12:49, 4957.28 packets/s]"
     ]
    },
    {
     "name": "stdout",
     "output_type": "stream",
     "text": [
      "File 183 of 300 saved: cropped/ddostrace.to-victim.20070804_142936_182.pcap\n"
     ]
    },
    {
     "name": "stderr",
     "output_type": "stream",
     "text": [
      "Splitting ddostrace.to-victim.20070804_142936.pcap: 28598550 packets [3:14:00, 4890.69 packets/s]"
     ]
    },
    {
     "name": "stdout",
     "output_type": "stream",
     "text": [
      "File 184 of 300 saved: cropped/ddostrace.to-victim.20070804_142936_183.pcap\n"
     ]
    },
    {
     "name": "stderr",
     "output_type": "stream",
     "text": [
      "Splitting ddostrace.to-victim.20070804_142936.pcap: 28741214 packets [3:15:01, 5116.22 packets/s]"
     ]
    },
    {
     "name": "stdout",
     "output_type": "stream",
     "text": [
      "File 185 of 300 saved: cropped/ddostrace.to-victim.20070804_142936_184.pcap\n"
     ]
    },
    {
     "name": "stderr",
     "output_type": "stream",
     "text": [
      "Splitting ddostrace.to-victim.20070804_142936.pcap: 28903962 packets [3:16:01, 5018.71 packets/s]"
     ]
    },
    {
     "name": "stdout",
     "output_type": "stream",
     "text": [
      "File 186 of 300 saved: cropped/ddostrace.to-victim.20070804_142936_185.pcap\n"
     ]
    },
    {
     "name": "stderr",
     "output_type": "stream",
     "text": [
      "Splitting ddostrace.to-victim.20070804_142936.pcap: 29066734 packets [3:17:11, 5089.20 packets/s]"
     ]
    },
    {
     "name": "stdout",
     "output_type": "stream",
     "text": [
      "File 187 of 300 saved: cropped/ddostrace.to-victim.20070804_142936_186.pcap\n"
     ]
    },
    {
     "name": "stderr",
     "output_type": "stream",
     "text": [
      "Splitting ddostrace.to-victim.20070804_142936.pcap: 29229603 packets [3:18:22, 4083.19 packets/s]"
     ]
    },
    {
     "name": "stdout",
     "output_type": "stream",
     "text": [
      "File 188 of 300 saved: cropped/ddostrace.to-victim.20070804_142936_187.pcap\n"
     ]
    },
    {
     "name": "stderr",
     "output_type": "stream",
     "text": [
      "Splitting ddostrace.to-victim.20070804_142936.pcap: 29391919 packets [3:19:23, 2595.99 packets/s]"
     ]
    },
    {
     "name": "stdout",
     "output_type": "stream",
     "text": [
      "File 189 of 300 saved: cropped/ddostrace.to-victim.20070804_142936_188.pcap\n"
     ]
    },
    {
     "name": "stderr",
     "output_type": "stream",
     "text": [
      "Splitting ddostrace.to-victim.20070804_142936.pcap: 29548921 packets [3:20:33, 5033.97 packets/s]"
     ]
    },
    {
     "name": "stdout",
     "output_type": "stream",
     "text": [
      "File 190 of 300 saved: cropped/ddostrace.to-victim.20070804_142936_189.pcap\n"
     ]
    },
    {
     "name": "stderr",
     "output_type": "stream",
     "text": [
      "Splitting ddostrace.to-victim.20070804_142936.pcap: 29712490 packets [3:21:33, 4954.77 packets/s]"
     ]
    },
    {
     "name": "stdout",
     "output_type": "stream",
     "text": [
      "File 191 of 300 saved: cropped/ddostrace.to-victim.20070804_142936_190.pcap\n"
     ]
    },
    {
     "name": "stderr",
     "output_type": "stream",
     "text": [
      "Splitting ddostrace.to-victim.20070804_142936.pcap: 29874977 packets [3:22:44, 5067.83 packets/s]"
     ]
    },
    {
     "name": "stdout",
     "output_type": "stream",
     "text": [
      "File 192 of 300 saved: cropped/ddostrace.to-victim.20070804_142936_191.pcap\n"
     ]
    },
    {
     "name": "stderr",
     "output_type": "stream",
     "text": [
      "Splitting ddostrace.to-victim.20070804_142936.pcap: 30038286 packets [3:23:54, 4913.51 packets/s]"
     ]
    },
    {
     "name": "stdout",
     "output_type": "stream",
     "text": [
      "File 193 of 300 saved: cropped/ddostrace.to-victim.20070804_142936_192.pcap\n"
     ]
    },
    {
     "name": "stderr",
     "output_type": "stream",
     "text": [
      "Splitting ddostrace.to-victim.20070804_142936.pcap: 30200549 packets [3:25:04, 4954.53 packets/s]"
     ]
    },
    {
     "name": "stdout",
     "output_type": "stream",
     "text": [
      "File 194 of 300 saved: cropped/ddostrace.to-victim.20070804_142936_193.pcap\n"
     ]
    },
    {
     "name": "stderr",
     "output_type": "stream",
     "text": [
      "Splitting ddostrace.to-victim.20070804_142936.pcap: 30357911 packets [3:26:04, 5031.03 packets/s]"
     ]
    },
    {
     "name": "stdout",
     "output_type": "stream",
     "text": [
      "File 195 of 300 saved: cropped/ddostrace.to-victim.20070804_142936_194.pcap\n"
     ]
    },
    {
     "name": "stderr",
     "output_type": "stream",
     "text": [
      "Splitting ddostrace.to-victim.20070804_142936.pcap: 30515962 packets [3:27:15, 4999.49 packets/s]"
     ]
    },
    {
     "name": "stdout",
     "output_type": "stream",
     "text": [
      "File 196 of 300 saved: cropped/ddostrace.to-victim.20070804_142936_195.pcap\n"
     ]
    },
    {
     "name": "stderr",
     "output_type": "stream",
     "text": [
      "Splitting ddostrace.to-victim.20070804_142936.pcap: 30679471 packets [3:28:25, 2043.62 packets/s]"
     ]
    },
    {
     "name": "stdout",
     "output_type": "stream",
     "text": [
      "File 197 of 300 saved: cropped/ddostrace.to-victim.20070804_142936_196.pcap\n"
     ]
    },
    {
     "name": "stderr",
     "output_type": "stream",
     "text": [
      "Splitting ddostrace.to-victim.20070804_142936.pcap: 30841854 packets [3:29:35, 4959.56 packets/s]"
     ]
    },
    {
     "name": "stdout",
     "output_type": "stream",
     "text": [
      "File 198 of 300 saved: cropped/ddostrace.to-victim.20070804_142936_197.pcap\n"
     ]
    },
    {
     "name": "stderr",
     "output_type": "stream",
     "text": [
      "Splitting ddostrace.to-victim.20070804_142936.pcap: 31005549 packets [3:30:35, 4835.09 packets/s]"
     ]
    },
    {
     "name": "stdout",
     "output_type": "stream",
     "text": [
      "File 199 of 300 saved: cropped/ddostrace.to-victim.20070804_142936_198.pcap\n"
     ]
    },
    {
     "name": "stderr",
     "output_type": "stream",
     "text": [
      "Splitting ddostrace.to-victim.20070804_142936.pcap: 31162354 packets [3:31:45, 4967.52 packets/s]"
     ]
    },
    {
     "name": "stdout",
     "output_type": "stream",
     "text": [
      "File 200 of 300 saved: cropped/ddostrace.to-victim.20070804_142936_199.pcap\n"
     ]
    },
    {
     "name": "stderr",
     "output_type": "stream",
     "text": [
      "Splitting ddostrace.to-victim.20070804_142936.pcap: 31320007 packets [3:32:46, 4963.62 packets/s]"
     ]
    },
    {
     "name": "stdout",
     "output_type": "stream",
     "text": [
      "File 201 of 300 saved: cropped/ddostrace.to-victim.20070804_142936_200.pcap\n"
     ]
    },
    {
     "name": "stderr",
     "output_type": "stream",
     "text": [
      "Splitting ddostrace.to-victim.20070804_142936.pcap: 31482645 packets [3:33:56, 4966.21 packets/s]"
     ]
    },
    {
     "name": "stdout",
     "output_type": "stream",
     "text": [
      "File 202 of 300 saved: cropped/ddostrace.to-victim.20070804_142936_201.pcap\n"
     ]
    },
    {
     "name": "stderr",
     "output_type": "stream",
     "text": [
      "Splitting ddostrace.to-victim.20070804_142936.pcap: 31645551 packets [3:35:06, 4975.42 packets/s]"
     ]
    },
    {
     "name": "stdout",
     "output_type": "stream",
     "text": [
      "File 203 of 300 saved: cropped/ddostrace.to-victim.20070804_142936_202.pcap\n"
     ]
    },
    {
     "name": "stderr",
     "output_type": "stream",
     "text": [
      "Splitting ddostrace.to-victim.20070804_142936.pcap: 31810035 packets [3:36:16, 4933.96 packets/s]"
     ]
    },
    {
     "name": "stdout",
     "output_type": "stream",
     "text": [
      "File 204 of 300 saved: cropped/ddostrace.to-victim.20070804_142936_203.pcap\n"
     ]
    },
    {
     "name": "stderr",
     "output_type": "stream",
     "text": [
      "Splitting ddostrace.to-victim.20070804_142936.pcap: 31913565 packets [3:37:07, 4920.48 packets/s]"
     ]
    },
    {
     "name": "stdout",
     "output_type": "stream",
     "text": [
      "File 205 of 300 saved: cropped/ddostrace.to-victim.20070804_142936_204.pcap\n"
     ]
    },
    {
     "name": "stderr",
     "output_type": "stream",
     "text": [
      "Splitting ddostrace.to-victim.20070804_142936.pcap: 31923226 packets [3:37:14, 4466.64 packets/s]"
     ]
    },
    {
     "name": "stdout",
     "output_type": "stream",
     "text": [
      "File 206 of 300 saved: cropped/ddostrace.to-victim.20070804_142936_205.pcap\n"
     ]
    },
    {
     "name": "stderr",
     "output_type": "stream",
     "text": [
      "Splitting ddostrace.to-victim.20070804_142936.pcap: 31934315 packets [3:37:19, 4331.91 packets/s]"
     ]
    },
    {
     "name": "stdout",
     "output_type": "stream",
     "text": [
      "File 207 of 300 saved: cropped/ddostrace.to-victim.20070804_142936_206.pcap\n"
     ]
    },
    {
     "name": "stderr",
     "output_type": "stream",
     "text": [
      "Splitting ddostrace.to-victim.20070804_142936.pcap: 31950205 packets [3:37:25, 4292.24 packets/s]"
     ]
    },
    {
     "name": "stdout",
     "output_type": "stream",
     "text": [
      "File 208 of 300 saved: cropped/ddostrace.to-victim.20070804_142936_207.pcap\n"
     ]
    },
    {
     "name": "stderr",
     "output_type": "stream",
     "text": [
      "Splitting ddostrace.to-victim.20070804_142936.pcap: 31967236 packets [3:37:32, 4216.22 packets/s]"
     ]
    },
    {
     "name": "stdout",
     "output_type": "stream",
     "text": [
      "File 209 of 300 saved: cropped/ddostrace.to-victim.20070804_142936_208.pcap\n"
     ]
    },
    {
     "name": "stderr",
     "output_type": "stream",
     "text": [
      "Splitting ddostrace.to-victim.20070804_142936.pcap: 32107724 packets [3:38:18, 4914.60 packets/s]"
     ]
    },
    {
     "name": "stdout",
     "output_type": "stream",
     "text": [
      "File 210 of 300 saved: cropped/ddostrace.to-victim.20070804_142936_209.pcap\n"
     ]
    },
    {
     "name": "stderr",
     "output_type": "stream",
     "text": [
      "Splitting ddostrace.to-victim.20070804_142936.pcap: 32269893 packets [3:39:28, 4600.23 packets/s]"
     ]
    },
    {
     "name": "stdout",
     "output_type": "stream",
     "text": [
      "File 211 of 300 saved: cropped/ddostrace.to-victim.20070804_142936_210.pcap\n"
     ]
    },
    {
     "name": "stderr",
     "output_type": "stream",
     "text": [
      "Splitting ddostrace.to-victim.20070804_142936.pcap: 32433672 packets [3:40:28, 4993.75 packets/s]"
     ]
    },
    {
     "name": "stdout",
     "output_type": "stream",
     "text": [
      "File 212 of 300 saved: cropped/ddostrace.to-victim.20070804_142936_211.pcap\n"
     ]
    },
    {
     "name": "stderr",
     "output_type": "stream",
     "text": [
      "Splitting ddostrace.to-victim.20070804_142936.pcap: 32596904 packets [3:41:39, 4972.83 packets/s]"
     ]
    },
    {
     "name": "stdout",
     "output_type": "stream",
     "text": [
      "File 213 of 300 saved: cropped/ddostrace.to-victim.20070804_142936_212.pcap\n"
     ]
    },
    {
     "name": "stderr",
     "output_type": "stream",
     "text": [
      "Splitting ddostrace.to-victim.20070804_142936.pcap: 32759728 packets [3:42:49, 4854.74 packets/s]"
     ]
    },
    {
     "name": "stdout",
     "output_type": "stream",
     "text": [
      "File 214 of 300 saved: cropped/ddostrace.to-victim.20070804_142936_213.pcap\n"
     ]
    },
    {
     "name": "stderr",
     "output_type": "stream",
     "text": [
      "Splitting ddostrace.to-victim.20070804_142936.pcap: 32917104 packets [3:43:49, 4888.22 packets/s]"
     ]
    },
    {
     "name": "stdout",
     "output_type": "stream",
     "text": [
      "File 215 of 300 saved: cropped/ddostrace.to-victim.20070804_142936_214.pcap\n"
     ]
    },
    {
     "name": "stderr",
     "output_type": "stream",
     "text": [
      "Splitting ddostrace.to-victim.20070804_142936.pcap: 33062435 packets [3:44:59, 4933.18 packets/s]"
     ]
    },
    {
     "name": "stdout",
     "output_type": "stream",
     "text": [
      "File 216 of 300 saved: cropped/ddostrace.to-victim.20070804_142936_215.pcap\n"
     ]
    },
    {
     "name": "stderr",
     "output_type": "stream",
     "text": [
      "Splitting ddostrace.to-victim.20070804_142936.pcap: 33228015 packets [3:46:00, 4892.68 packets/s]"
     ]
    },
    {
     "name": "stdout",
     "output_type": "stream",
     "text": [
      "File 217 of 300 saved: cropped/ddostrace.to-victim.20070804_142936_216.pcap\n"
     ]
    },
    {
     "name": "stderr",
     "output_type": "stream",
     "text": [
      "Splitting ddostrace.to-victim.20070804_142936.pcap: 33392302 packets [3:47:10, 4995.09 packets/s]"
     ]
    },
    {
     "name": "stdout",
     "output_type": "stream",
     "text": [
      "File 218 of 300 saved: cropped/ddostrace.to-victim.20070804_142936_217.pcap\n"
     ]
    },
    {
     "name": "stderr",
     "output_type": "stream",
     "text": [
      "Splitting ddostrace.to-victim.20070804_142936.pcap: 33557574 packets [3:48:21, 2326.11 packets/s]"
     ]
    },
    {
     "name": "stdout",
     "output_type": "stream",
     "text": [
      "File 219 of 300 saved: cropped/ddostrace.to-victim.20070804_142936_218.pcap\n"
     ]
    },
    {
     "name": "stderr",
     "output_type": "stream",
     "text": [
      "Splitting ddostrace.to-victim.20070804_142936.pcap: 33702018 packets [3:49:21, 4850.38 packets/s]"
     ]
    },
    {
     "name": "stdout",
     "output_type": "stream",
     "text": [
      "File 220 of 300 saved: cropped/ddostrace.to-victim.20070804_142936_219.pcap\n"
     ]
    },
    {
     "name": "stderr",
     "output_type": "stream",
     "text": [
      "Splitting ddostrace.to-victim.20070804_142936.pcap: 33714810 packets [3:49:39, 4995.38 packets/s]"
     ]
    },
    {
     "name": "stdout",
     "output_type": "stream",
     "text": [
      "File 221 of 300 saved: cropped/ddostrace.to-victim.20070804_142936_220.pcap\n"
     ]
    },
    {
     "name": "stderr",
     "output_type": "stream",
     "text": [
      "Splitting ddostrace.to-victim.20070804_142936.pcap: 33824145 packets [3:50:21, 4355.15 packets/s]"
     ]
    },
    {
     "name": "stdout",
     "output_type": "stream",
     "text": [
      "File 222 of 300 saved: cropped/ddostrace.to-victim.20070804_142936_221.pcap\n"
     ]
    },
    {
     "name": "stderr",
     "output_type": "stream",
     "text": [
      "Splitting ddostrace.to-victim.20070804_142936.pcap: 33987084 packets [3:51:21, 4973.92 packets/s]"
     ]
    },
    {
     "name": "stdout",
     "output_type": "stream",
     "text": [
      "File 223 of 300 saved: cropped/ddostrace.to-victim.20070804_142936_222.pcap\n"
     ]
    },
    {
     "name": "stderr",
     "output_type": "stream",
     "text": [
      "Splitting ddostrace.to-victim.20070804_142936.pcap: 34150382 packets [3:52:32, 2106.69 packets/s]"
     ]
    },
    {
     "name": "stdout",
     "output_type": "stream",
     "text": [
      "File 224 of 300 saved: cropped/ddostrace.to-victim.20070804_142936_223.pcap\n"
     ]
    },
    {
     "name": "stderr",
     "output_type": "stream",
     "text": [
      "Splitting ddostrace.to-victim.20070804_142936.pcap: 34308811 packets [3:53:32, 3954.91 packets/s]"
     ]
    },
    {
     "name": "stdout",
     "output_type": "stream",
     "text": [
      "File 225 of 300 saved: cropped/ddostrace.to-victim.20070804_142936_224.pcap\n"
     ]
    },
    {
     "name": "stderr",
     "output_type": "stream",
     "text": [
      "Splitting ddostrace.to-victim.20070804_142936.pcap: 34456468 packets [3:54:42, 4874.95 packets/s]"
     ]
    },
    {
     "name": "stdout",
     "output_type": "stream",
     "text": [
      "File 226 of 300 saved: cropped/ddostrace.to-victim.20070804_142936_225.pcap\n"
     ]
    },
    {
     "name": "stderr",
     "output_type": "stream",
     "text": [
      "Splitting ddostrace.to-victim.20070804_142936.pcap: 34619351 packets [3:55:42, 5047.32 packets/s]"
     ]
    },
    {
     "name": "stdout",
     "output_type": "stream",
     "text": [
      "File 227 of 300 saved: cropped/ddostrace.to-victim.20070804_142936_226.pcap\n"
     ]
    },
    {
     "name": "stderr",
     "output_type": "stream",
     "text": [
      "Splitting ddostrace.to-victim.20070804_142936.pcap: 34782725 packets [3:56:52, 5061.96 packets/s]"
     ]
    },
    {
     "name": "stdout",
     "output_type": "stream",
     "text": [
      "File 228 of 300 saved: cropped/ddostrace.to-victim.20070804_142936_227.pcap\n"
     ]
    },
    {
     "name": "stderr",
     "output_type": "stream",
     "text": [
      "Splitting ddostrace.to-victim.20070804_142936.pcap: 34944967 packets [3:58:03, 4844.22 packets/s]"
     ]
    },
    {
     "name": "stdout",
     "output_type": "stream",
     "text": [
      "File 229 of 300 saved: cropped/ddostrace.to-victim.20070804_142936_228.pcap\n"
     ]
    },
    {
     "name": "stderr",
     "output_type": "stream",
     "text": [
      "Splitting ddostrace.to-victim.20070804_142936.pcap: 35089409 packets [3:59:03, 5004.76 packets/s]"
     ]
    },
    {
     "name": "stdout",
     "output_type": "stream",
     "text": [
      "File 230 of 300 saved: cropped/ddostrace.to-victim.20070804_142936_229.pcap\n"
     ]
    },
    {
     "name": "stderr",
     "output_type": "stream",
     "text": [
      "Splitting ddostrace.to-victim.20070804_142936.pcap: 35102388 packets [3:59:18, 4904.14 packets/s]"
     ]
    },
    {
     "name": "stdout",
     "output_type": "stream",
     "text": [
      "File 231 of 300 saved: cropped/ddostrace.to-victim.20070804_142936_230.pcap\n"
     ]
    },
    {
     "name": "stderr",
     "output_type": "stream",
     "text": [
      "Splitting ddostrace.to-victim.20070804_142936.pcap: 35119177 packets [3:59:25, 4482.94 packets/s]"
     ]
    },
    {
     "name": "stdout",
     "output_type": "stream",
     "text": [
      "File 232 of 300 saved: cropped/ddostrace.to-victim.20070804_142936_231.pcap\n"
     ]
    },
    {
     "name": "stderr",
     "output_type": "stream",
     "text": [
      "Splitting ddostrace.to-victim.20070804_142936.pcap: 35269787 packets [4:00:13, 4314.55 packets/s]"
     ]
    },
    {
     "name": "stdout",
     "output_type": "stream",
     "text": [
      "File 233 of 300 saved: cropped/ddostrace.to-victim.20070804_142936_232.pcap\n"
     ]
    },
    {
     "name": "stderr",
     "output_type": "stream",
     "text": [
      "Splitting ddostrace.to-victim.20070804_142936.pcap: 35431981 packets [4:01:24, 4742.47 packets/s]"
     ]
    },
    {
     "name": "stdout",
     "output_type": "stream",
     "text": [
      "File 234 of 300 saved: cropped/ddostrace.to-victim.20070804_142936_233.pcap\n"
     ]
    },
    {
     "name": "stderr",
     "output_type": "stream",
     "text": [
      "Splitting ddostrace.to-victim.20070804_142936.pcap: 35577959 packets [4:02:24, 4997.16 packets/s]"
     ]
    },
    {
     "name": "stdout",
     "output_type": "stream",
     "text": [
      "File 235 of 300 saved: cropped/ddostrace.to-victim.20070804_142936_234.pcap\n"
     ]
    },
    {
     "name": "stderr",
     "output_type": "stream",
     "text": [
      "Splitting ddostrace.to-victim.20070804_142936.pcap: 35726117 packets [4:03:24, 3477.18 packets/s]"
     ]
    },
    {
     "name": "stdout",
     "output_type": "stream",
     "text": [
      "File 236 of 300 saved: cropped/ddostrace.to-victim.20070804_142936_235.pcap\n"
     ]
    },
    {
     "name": "stderr",
     "output_type": "stream",
     "text": [
      "Splitting ddostrace.to-victim.20070804_142936.pcap: 35887745 packets [4:04:34, 5078.29 packets/s]"
     ]
    },
    {
     "name": "stdout",
     "output_type": "stream",
     "text": [
      "File 237 of 300 saved: cropped/ddostrace.to-victim.20070804_142936_236.pcap\n"
     ]
    },
    {
     "name": "stderr",
     "output_type": "stream",
     "text": [
      "Splitting ddostrace.to-victim.20070804_142936.pcap: 36050992 packets [4:05:44, 5061.46 packets/s]"
     ]
    },
    {
     "name": "stdout",
     "output_type": "stream",
     "text": [
      "File 238 of 300 saved: cropped/ddostrace.to-victim.20070804_142936_237.pcap\n"
     ]
    },
    {
     "name": "stderr",
     "output_type": "stream",
     "text": [
      "Splitting ddostrace.to-victim.20070804_142936.pcap: 36214279 packets [4:06:55, 4944.57 packets/s]"
     ]
    },
    {
     "name": "stdout",
     "output_type": "stream",
     "text": [
      "File 239 of 300 saved: cropped/ddostrace.to-victim.20070804_142936_238.pcap\n"
     ]
    },
    {
     "name": "stderr",
     "output_type": "stream",
     "text": [
      "Splitting ddostrace.to-victim.20070804_142936.pcap: 36362554 packets [4:07:55, 4862.14 packets/s]"
     ]
    },
    {
     "name": "stdout",
     "output_type": "stream",
     "text": [
      "File 240 of 300 saved: cropped/ddostrace.to-victim.20070804_142936_239.pcap\n"
     ]
    },
    {
     "name": "stderr",
     "output_type": "stream",
     "text": [
      "Splitting ddostrace.to-victim.20070804_142936.pcap: 36474963 packets [4:08:45, 4980.25 packets/s]"
     ]
    },
    {
     "name": "stdout",
     "output_type": "stream",
     "text": [
      "File 241 of 300 saved: cropped/ddostrace.to-victim.20070804_142936_240.pcap\n"
     ]
    },
    {
     "name": "stderr",
     "output_type": "stream",
     "text": [
      "Splitting ddostrace.to-victim.20070804_142936.pcap: 36638320 packets [4:09:45, 5001.91 packets/s]"
     ]
    },
    {
     "name": "stdout",
     "output_type": "stream",
     "text": [
      "File 242 of 300 saved: cropped/ddostrace.to-victim.20070804_142936_241.pcap\n"
     ]
    },
    {
     "name": "stderr",
     "output_type": "stream",
     "text": [
      "Splitting ddostrace.to-victim.20070804_142936.pcap: 36802236 packets [4:10:56, 5022.72 packets/s]"
     ]
    },
    {
     "name": "stdout",
     "output_type": "stream",
     "text": [
      "File 243 of 300 saved: cropped/ddostrace.to-victim.20070804_142936_242.pcap\n"
     ]
    },
    {
     "name": "stderr",
     "output_type": "stream",
     "text": [
      "Splitting ddostrace.to-victim.20070804_142936.pcap: 36966368 packets [4:11:57, 4929.53 packets/s]"
     ]
    },
    {
     "name": "stdout",
     "output_type": "stream",
     "text": [
      "File 244 of 300 saved: cropped/ddostrace.to-victim.20070804_142936_243.pcap\n"
     ]
    },
    {
     "name": "stderr",
     "output_type": "stream",
     "text": [
      "Splitting ddostrace.to-victim.20070804_142936.pcap: 37116005 packets [4:13:07, 4953.54 packets/s]"
     ]
    },
    {
     "name": "stdout",
     "output_type": "stream",
     "text": [
      "File 245 of 300 saved: cropped/ddostrace.to-victim.20070804_142936_244.pcap\n"
     ]
    },
    {
     "name": "stderr",
     "output_type": "stream",
     "text": [
      "Splitting ddostrace.to-victim.20070804_142936.pcap: 37125676 packets [4:13:24, 4377.79 packets/s]"
     ]
    },
    {
     "name": "stdout",
     "output_type": "stream",
     "text": [
      "File 246 of 300 saved: cropped/ddostrace.to-victim.20070804_142936_245.pcap\n"
     ]
    },
    {
     "name": "stderr",
     "output_type": "stream",
     "text": [
      "Splitting ddostrace.to-victim.20070804_142936.pcap: 37137651 packets [4:13:29, 4020.44 packets/s]"
     ]
    },
    {
     "name": "stdout",
     "output_type": "stream",
     "text": [
      "File 247 of 300 saved: cropped/ddostrace.to-victim.20070804_142936_246.pcap\n"
     ]
    },
    {
     "name": "stderr",
     "output_type": "stream",
     "text": [
      "Splitting ddostrace.to-victim.20070804_142936.pcap: 37172873 packets [4:13:39, 4808.21 packets/s]"
     ]
    },
    {
     "name": "stdout",
     "output_type": "stream",
     "text": [
      "File 248 of 300 saved: cropped/ddostrace.to-victim.20070804_142936_247.pcap\n"
     ]
    },
    {
     "name": "stderr",
     "output_type": "stream",
     "text": [
      "Splitting ddostrace.to-victim.20070804_142936.pcap: 37336993 packets [4:14:38, 4117.41 packets/s]"
     ]
    },
    {
     "name": "stdout",
     "output_type": "stream",
     "text": [
      "File 249 of 300 saved: cropped/ddostrace.to-victim.20070804_142936_248.pcap\n"
     ]
    },
    {
     "name": "stderr",
     "output_type": "stream",
     "text": [
      "Splitting ddostrace.to-victim.20070804_142936.pcap: 37499110 packets [4:15:48, 4976.48 packets/s]"
     ]
    },
    {
     "name": "stdout",
     "output_type": "stream",
     "text": [
      "File 250 of 300 saved: cropped/ddostrace.to-victim.20070804_142936_249.pcap\n"
     ]
    },
    {
     "name": "stderr",
     "output_type": "stream",
     "text": [
      "Splitting ddostrace.to-victim.20070804_142936.pcap: 37664145 packets [4:16:48, 5027.20 packets/s]"
     ]
    },
    {
     "name": "stdout",
     "output_type": "stream",
     "text": [
      "File 251 of 300 saved: cropped/ddostrace.to-victim.20070804_142936_250.pcap\n"
     ]
    },
    {
     "name": "stderr",
     "output_type": "stream",
     "text": [
      "Splitting ddostrace.to-victim.20070804_142936.pcap: 37828287 packets [4:17:59, 5008.16 packets/s]"
     ]
    },
    {
     "name": "stdout",
     "output_type": "stream",
     "text": [
      "File 252 of 300 saved: cropped/ddostrace.to-victim.20070804_142936_251.pcap\n"
     ]
    },
    {
     "name": "stderr",
     "output_type": "stream",
     "text": [
      "Splitting ddostrace.to-victim.20070804_142936.pcap: 37992176 packets [4:19:09, 4753.43 packets/s]"
     ]
    },
    {
     "name": "stdout",
     "output_type": "stream",
     "text": [
      "File 253 of 300 saved: cropped/ddostrace.to-victim.20070804_142936_252.pcap\n"
     ]
    },
    {
     "name": "stderr",
     "output_type": "stream",
     "text": [
      "Splitting ddostrace.to-victim.20070804_142936.pcap: 38156825 packets [4:20:19, 4358.86 packets/s]"
     ]
    },
    {
     "name": "stdout",
     "output_type": "stream",
     "text": [
      "File 254 of 300 saved: cropped/ddostrace.to-victim.20070804_142936_253.pcap\n"
     ]
    },
    {
     "name": "stderr",
     "output_type": "stream",
     "text": [
      "Splitting ddostrace.to-victim.20070804_142936.pcap: 38316284 packets [4:21:29, 5109.44 packets/s]"
     ]
    },
    {
     "name": "stdout",
     "output_type": "stream",
     "text": [
      "File 255 of 300 saved: cropped/ddostrace.to-victim.20070804_142936_254.pcap\n"
     ]
    },
    {
     "name": "stderr",
     "output_type": "stream",
     "text": [
      "Splitting ddostrace.to-victim.20070804_142936.pcap: 38476627 packets [4:22:29, 4806.77 packets/s]"
     ]
    },
    {
     "name": "stdout",
     "output_type": "stream",
     "text": [
      "File 256 of 300 saved: cropped/ddostrace.to-victim.20070804_142936_255.pcap\n"
     ]
    },
    {
     "name": "stderr",
     "output_type": "stream",
     "text": [
      "Splitting ddostrace.to-victim.20070804_142936.pcap: 38639193 packets [4:23:40, 2987.43 packets/s]"
     ]
    },
    {
     "name": "stdout",
     "output_type": "stream",
     "text": [
      "File 257 of 300 saved: cropped/ddostrace.to-victim.20070804_142936_256.pcap\n"
     ]
    },
    {
     "name": "stderr",
     "output_type": "stream",
     "text": [
      "Splitting ddostrace.to-victim.20070804_142936.pcap: 38804380 packets [4:24:50, 5058.09 packets/s]"
     ]
    },
    {
     "name": "stdout",
     "output_type": "stream",
     "text": [
      "File 258 of 300 saved: cropped/ddostrace.to-victim.20070804_142936_257.pcap\n"
     ]
    },
    {
     "name": "stderr",
     "output_type": "stream",
     "text": [
      "Splitting ddostrace.to-victim.20070804_142936.pcap: 38969916 packets [4:26:00, 4953.73 packets/s]"
     ]
    },
    {
     "name": "stdout",
     "output_type": "stream",
     "text": [
      "File 259 of 300 saved: cropped/ddostrace.to-victim.20070804_142936_258.pcap\n"
     ]
    },
    {
     "name": "stderr",
     "output_type": "stream",
     "text": [
      "Splitting ddostrace.to-victim.20070804_142936.pcap: 39122971 packets [4:27:00, 4919.86 packets/s]"
     ]
    },
    {
     "name": "stdout",
     "output_type": "stream",
     "text": [
      "File 260 of 300 saved: cropped/ddostrace.to-victim.20070804_142936_259.pcap\n"
     ]
    },
    {
     "name": "stderr",
     "output_type": "stream",
     "text": [
      "Splitting ddostrace.to-victim.20070804_142936.pcap: 39252839 packets [4:28:11, 3302.64 packets/s]"
     ]
    },
    {
     "name": "stdout",
     "output_type": "stream",
     "text": [
      "File 261 of 300 saved: cropped/ddostrace.to-victim.20070804_142936_260.pcap\n"
     ]
    },
    {
     "name": "stderr",
     "output_type": "stream",
     "text": [
      "Splitting ddostrace.to-victim.20070804_142936.pcap: 39419852 packets [4:29:11, 5002.28 packets/s]"
     ]
    },
    {
     "name": "stdout",
     "output_type": "stream",
     "text": [
      "File 262 of 300 saved: cropped/ddostrace.to-victim.20070804_142936_261.pcap\n"
     ]
    },
    {
     "name": "stderr",
     "output_type": "stream",
     "text": [
      "Splitting ddostrace.to-victim.20070804_142936.pcap: 39585323 packets [4:30:22, 4637.04 packets/s]"
     ]
    },
    {
     "name": "stdout",
     "output_type": "stream",
     "text": [
      "File 263 of 300 saved: cropped/ddostrace.to-victim.20070804_142936_262.pcap\n"
     ]
    },
    {
     "name": "stderr",
     "output_type": "stream",
     "text": [
      "Splitting ddostrace.to-victim.20070804_142936.pcap: 39751015 packets [4:31:23, 5011.15 packets/s]"
     ]
    },
    {
     "name": "stdout",
     "output_type": "stream",
     "text": [
      "File 264 of 300 saved: cropped/ddostrace.to-victim.20070804_142936_263.pcap\n"
     ]
    },
    {
     "name": "stderr",
     "output_type": "stream",
     "text": [
      "Splitting ddostrace.to-victim.20070804_142936.pcap: 39907252 packets [4:32:33, 4778.97 packets/s]"
     ]
    },
    {
     "name": "stdout",
     "output_type": "stream",
     "text": [
      "File 265 of 300 saved: cropped/ddostrace.to-victim.20070804_142936_264.pcap\n"
     ]
    },
    {
     "name": "stderr",
     "output_type": "stream",
     "text": [
      "Splitting ddostrace.to-victim.20070804_142936.pcap: 40007865 packets [4:33:24, 4938.47 packets/s]"
     ]
    },
    {
     "name": "stdout",
     "output_type": "stream",
     "text": [
      "File 266 of 300 saved: cropped/ddostrace.to-victim.20070804_142936_265.pcap\n"
     ]
    },
    {
     "name": "stderr",
     "output_type": "stream",
     "text": [
      "Splitting ddostrace.to-victim.20070804_142936.pcap: 40174415 packets [4:34:24, 4909.63 packets/s]"
     ]
    },
    {
     "name": "stdout",
     "output_type": "stream",
     "text": [
      "File 267 of 300 saved: cropped/ddostrace.to-victim.20070804_142936_266.pcap\n"
     ]
    },
    {
     "name": "stderr",
     "output_type": "stream",
     "text": [
      "Splitting ddostrace.to-victim.20070804_142936.pcap: 40339964 packets [4:35:34, 4758.53 packets/s]"
     ]
    },
    {
     "name": "stdout",
     "output_type": "stream",
     "text": [
      "File 268 of 300 saved: cropped/ddostrace.to-victim.20070804_142936_267.pcap\n"
     ]
    },
    {
     "name": "stderr",
     "output_type": "stream",
     "text": [
      "Splitting ddostrace.to-victim.20070804_142936.pcap: 40505753 packets [4:36:45, 4911.49 packets/s]"
     ]
    },
    {
     "name": "stdout",
     "output_type": "stream",
     "text": [
      "File 269 of 300 saved: cropped/ddostrace.to-victim.20070804_142936_268.pcap\n"
     ]
    },
    {
     "name": "stderr",
     "output_type": "stream",
     "text": [
      "Splitting ddostrace.to-victim.20070804_142936.pcap: 40664022 packets [4:37:45, 4949.46 packets/s]"
     ]
    },
    {
     "name": "stdout",
     "output_type": "stream",
     "text": [
      "File 270 of 300 saved: cropped/ddostrace.to-victim.20070804_142936_269.pcap\n"
     ]
    },
    {
     "name": "stderr",
     "output_type": "stream",
     "text": [
      "Splitting ddostrace.to-victim.20070804_142936.pcap: 40676692 packets [4:38:09, 3189.90 packets/s]"
     ]
    },
    {
     "name": "stdout",
     "output_type": "stream",
     "text": [
      "File 271 of 300 saved: cropped/ddostrace.to-victim.20070804_142936_270.pcap\n"
     ]
    },
    {
     "name": "stderr",
     "output_type": "stream",
     "text": [
      "Splitting ddostrace.to-victim.20070804_142936.pcap: 40694402 packets [4:38:17, 4712.67 packets/s]"
     ]
    },
    {
     "name": "stdout",
     "output_type": "stream",
     "text": [
      "File 272 of 300 saved: cropped/ddostrace.to-victim.20070804_142936_271.pcap\n"
     ]
    },
    {
     "name": "stderr",
     "output_type": "stream",
     "text": [
      "Splitting ddostrace.to-victim.20070804_142936.pcap: 40840109 packets [4:39:05, 4898.71 packets/s]"
     ]
    },
    {
     "name": "stdout",
     "output_type": "stream",
     "text": [
      "File 273 of 300 saved: cropped/ddostrace.to-victim.20070804_142936_272.pcap\n"
     ]
    },
    {
     "name": "stderr",
     "output_type": "stream",
     "text": [
      "Splitting ddostrace.to-victim.20070804_142936.pcap: 41005831 packets [4:40:15, 4966.75 packets/s]"
     ]
    },
    {
     "name": "stdout",
     "output_type": "stream",
     "text": [
      "File 274 of 300 saved: cropped/ddostrace.to-victim.20070804_142936_273.pcap\n"
     ]
    },
    {
     "name": "stderr",
     "output_type": "stream",
     "text": [
      "Splitting ddostrace.to-victim.20070804_142936.pcap: 41167773 packets [4:41:15, 5068.02 packets/s]"
     ]
    },
    {
     "name": "stdout",
     "output_type": "stream",
     "text": [
      "File 275 of 300 saved: cropped/ddostrace.to-victim.20070804_142936_274.pcap\n"
     ]
    },
    {
     "name": "stderr",
     "output_type": "stream",
     "text": [
      "Splitting ddostrace.to-victim.20070804_142936.pcap: 41329649 packets [4:42:26, 5001.39 packets/s]"
     ]
    },
    {
     "name": "stdout",
     "output_type": "stream",
     "text": [
      "File 276 of 300 saved: cropped/ddostrace.to-victim.20070804_142936_275.pcap\n"
     ]
    },
    {
     "name": "stderr",
     "output_type": "stream",
     "text": [
      "Splitting ddostrace.to-victim.20070804_142936.pcap: 41493647 packets [4:43:36, 4952.89 packets/s]"
     ]
    },
    {
     "name": "stdout",
     "output_type": "stream",
     "text": [
      "File 277 of 300 saved: cropped/ddostrace.to-victim.20070804_142936_276.pcap\n"
     ]
    },
    {
     "name": "stderr",
     "output_type": "stream",
     "text": [
      "Splitting ddostrace.to-victim.20070804_142936.pcap: 41659691 packets [4:44:46, 4917.67 packets/s]"
     ]
    },
    {
     "name": "stdout",
     "output_type": "stream",
     "text": [
      "File 278 of 300 saved: cropped/ddostrace.to-victim.20070804_142936_277.pcap\n"
     ]
    },
    {
     "name": "stderr",
     "output_type": "stream",
     "text": [
      "Splitting ddostrace.to-victim.20070804_142936.pcap: 41825344 packets [4:45:56, 4878.02 packets/s]"
     ]
    },
    {
     "name": "stdout",
     "output_type": "stream",
     "text": [
      "File 279 of 300 saved: cropped/ddostrace.to-victim.20070804_142936_278.pcap\n"
     ]
    },
    {
     "name": "stderr",
     "output_type": "stream",
     "text": [
      "Splitting ddostrace.to-victim.20070804_142936.pcap: 41987106 packets [4:47:07, 5004.51 packets/s]"
     ]
    },
    {
     "name": "stdout",
     "output_type": "stream",
     "text": [
      "File 280 of 300 saved: cropped/ddostrace.to-victim.20070804_142936_279.pcap\n"
     ]
    },
    {
     "name": "stderr",
     "output_type": "stream",
     "text": [
      "Splitting ddostrace.to-victim.20070804_142936.pcap: 42112556 packets [4:47:57, 5035.38 packets/s]"
     ]
    },
    {
     "name": "stdout",
     "output_type": "stream",
     "text": [
      "File 281 of 300 saved: cropped/ddostrace.to-victim.20070804_142936_280.pcap\n"
     ]
    },
    {
     "name": "stderr",
     "output_type": "stream",
     "text": [
      "Splitting ddostrace.to-victim.20070804_142936.pcap: 42276710 packets [4:49:08, 3877.70 packets/s]"
     ]
    },
    {
     "name": "stdout",
     "output_type": "stream",
     "text": [
      "File 282 of 300 saved: cropped/ddostrace.to-victim.20070804_142936_281.pcap\n"
     ]
    },
    {
     "name": "stderr",
     "output_type": "stream",
     "text": [
      "Splitting ddostrace.to-victim.20070804_142936.pcap: 42442958 packets [4:50:09, 5018.01 packets/s]"
     ]
    },
    {
     "name": "stdout",
     "output_type": "stream",
     "text": [
      "File 283 of 300 saved: cropped/ddostrace.to-victim.20070804_142936_282.pcap\n"
     ]
    },
    {
     "name": "stderr",
     "output_type": "stream",
     "text": [
      "Splitting ddostrace.to-victim.20070804_142936.pcap: 42610303 packets [4:51:19, 4848.25 packets/s]"
     ]
    },
    {
     "name": "stdout",
     "output_type": "stream",
     "text": [
      "File 284 of 300 saved: cropped/ddostrace.to-victim.20070804_142936_283.pcap\n"
     ]
    },
    {
     "name": "stderr",
     "output_type": "stream",
     "text": [
      "Splitting ddostrace.to-victim.20070804_142936.pcap: 42770581 packets [4:52:29, 4335.26 packets/s]"
     ]
    },
    {
     "name": "stdout",
     "output_type": "stream",
     "text": [
      "File 285 of 300 saved: cropped/ddostrace.to-victim.20070804_142936_284.pcap\n"
     ]
    },
    {
     "name": "stderr",
     "output_type": "stream",
     "text": [
      "Splitting ddostrace.to-victim.20070804_142936.pcap: 42780294 packets [4:52:50, 3738.97 packets/s]"
     ]
    },
    {
     "name": "stdout",
     "output_type": "stream",
     "text": [
      "File 286 of 300 saved: cropped/ddostrace.to-victim.20070804_142936_285.pcap\n"
     ]
    },
    {
     "name": "stderr",
     "output_type": "stream",
     "text": [
      "Splitting ddostrace.to-victim.20070804_142936.pcap: 42792998 packets [4:52:55, 4632.23 packets/s]"
     ]
    },
    {
     "name": "stdout",
     "output_type": "stream",
     "text": [
      "File 287 of 300 saved: cropped/ddostrace.to-victim.20070804_142936_286.pcap\n"
     ]
    },
    {
     "name": "stderr",
     "output_type": "stream",
     "text": [
      "Splitting ddostrace.to-victim.20070804_142936.pcap: 42854167 packets [4:53:11, 4960.36 packets/s]"
     ]
    },
    {
     "name": "stdout",
     "output_type": "stream",
     "text": [
      "File 288 of 300 saved: cropped/ddostrace.to-victim.20070804_142936_287.pcap\n"
     ]
    },
    {
     "name": "stderr",
     "output_type": "stream",
     "text": [
      "Splitting ddostrace.to-victim.20070804_142936.pcap: 43019177 packets [4:54:10, 5009.16 packets/s]"
     ]
    },
    {
     "name": "stdout",
     "output_type": "stream",
     "text": [
      "File 289 of 300 saved: cropped/ddostrace.to-victim.20070804_142936_288.pcap\n"
     ]
    },
    {
     "name": "stderr",
     "output_type": "stream",
     "text": [
      "Splitting ddostrace.to-victim.20070804_142936.pcap: 43178579 packets [4:55:20, 4876.02 packets/s]"
     ]
    },
    {
     "name": "stdout",
     "output_type": "stream",
     "text": [
      "File 290 of 300 saved: cropped/ddostrace.to-victim.20070804_142936_289.pcap\n"
     ]
    },
    {
     "name": "stderr",
     "output_type": "stream",
     "text": [
      "Splitting ddostrace.to-victim.20070804_142936.pcap: 43199267 packets [4:55:43, 4885.20 packets/s]"
     ]
    },
    {
     "name": "stdout",
     "output_type": "stream",
     "text": [
      "File 291 of 300 saved: cropped/ddostrace.to-victim.20070804_142936_290.pcap\n"
     ]
    },
    {
     "name": "stderr",
     "output_type": "stream",
     "text": [
      "Splitting ddostrace.to-victim.20070804_142936.pcap: 43241259 packets [4:55:56, 4960.92 packets/s]"
     ]
    },
    {
     "name": "stdout",
     "output_type": "stream",
     "text": [
      "File 292 of 300 saved: cropped/ddostrace.to-victim.20070804_142936_291.pcap\n"
     ]
    },
    {
     "name": "stderr",
     "output_type": "stream",
     "text": [
      "Splitting ddostrace.to-victim.20070804_142936.pcap: 43406250 packets [4:57:00, 4952.46 packets/s]"
     ]
    },
    {
     "name": "stdout",
     "output_type": "stream",
     "text": [
      "File 293 of 300 saved: cropped/ddostrace.to-victim.20070804_142936_292.pcap\n"
     ]
    },
    {
     "name": "stderr",
     "output_type": "stream",
     "text": [
      "Splitting ddostrace.to-victim.20070804_142936.pcap: 43570834 packets [4:58:11, 3775.62 packets/s]"
     ]
    },
    {
     "name": "stdout",
     "output_type": "stream",
     "text": [
      "File 294 of 300 saved: cropped/ddostrace.to-victim.20070804_142936_293.pcap\n"
     ]
    },
    {
     "name": "stderr",
     "output_type": "stream",
     "text": [
      "Splitting ddostrace.to-victim.20070804_142936.pcap: 43730954 packets [4:59:51, 2757.34 packets/s]"
     ]
    },
    {
     "name": "stdout",
     "output_type": "stream",
     "text": [
      "File 295 of 300 saved: cropped/ddostrace.to-victim.20070804_142936_294.pcap\n"
     ]
    },
    {
     "name": "stderr",
     "output_type": "stream",
     "text": [
      "Splitting ddostrace.to-victim.20070804_142936.pcap: 43748669 packets [5:00:20, 3472.37 packets/s]"
     ]
    },
    {
     "name": "stdout",
     "output_type": "stream",
     "text": [
      "File 296 of 300 saved: cropped/ddostrace.to-victim.20070804_142936_295.pcap\n"
     ]
    },
    {
     "name": "stderr",
     "output_type": "stream",
     "text": [
      "Splitting ddostrace.to-victim.20070804_142936.pcap: 43908546 packets [5:01:12, 4987.30 packets/s]"
     ]
    },
    {
     "name": "stdout",
     "output_type": "stream",
     "text": [
      "File 297 of 300 saved: cropped/ddostrace.to-victim.20070804_142936_296.pcap\n"
     ]
    },
    {
     "name": "stderr",
     "output_type": "stream",
     "text": [
      "Splitting ddostrace.to-victim.20070804_142936.pcap: 44074438 packets [5:02:22, 4542.65 packets/s]"
     ]
    },
    {
     "name": "stdout",
     "output_type": "stream",
     "text": [
      "File 298 of 300 saved: cropped/ddostrace.to-victim.20070804_142936_297.pcap\n"
     ]
    },
    {
     "name": "stderr",
     "output_type": "stream",
     "text": [
      "Splitting ddostrace.to-victim.20070804_142936.pcap: 44239278 packets [5:03:32, 4960.28 packets/s]"
     ]
    },
    {
     "name": "stdout",
     "output_type": "stream",
     "text": [
      "File 299 of 300 saved: cropped/ddostrace.to-victim.20070804_142936_298.pcap\n"
     ]
    },
    {
     "name": "stderr",
     "output_type": "stream",
     "text": [
      "Splitting ddostrace.to-victim.20070804_142936.pcap: 44343856 packets [5:04:12, 2429.51 packets/s]\n"
     ]
    },
    {
     "name": "stdout",
     "output_type": "stream",
     "text": [
      "Split ddostrace.to-victim.20070804_142936.pcap into 299 parts successfully.\n"
     ]
    },
    {
     "name": "stderr",
     "output_type": "stream",
     "text": [
      "Splitting ddostrace.to-victim.20070804_143436.pcap: 157002 packets [00:51, 4661.75 packets/s]"
     ]
    },
    {
     "name": "stdout",
     "output_type": "stream",
     "text": [
      "File 1 of 300 saved: cropped/ddostrace.to-victim.20070804_143436_0.pcap\n"
     ]
    },
    {
     "name": "stderr",
     "output_type": "stream",
     "text": [
      "Splitting ddostrace.to-victim.20070804_143436.pcap: 322991 packets [01:51, 4801.01 packets/s]"
     ]
    },
    {
     "name": "stdout",
     "output_type": "stream",
     "text": [
      "File 2 of 300 saved: cropped/ddostrace.to-victim.20070804_143436_1.pcap\n"
     ]
    },
    {
     "name": "stderr",
     "output_type": "stream",
     "text": [
      "Splitting ddostrace.to-victim.20070804_143436.pcap: 491195 packets [03:02, 5054.37 packets/s]"
     ]
    },
    {
     "name": "stdout",
     "output_type": "stream",
     "text": [
      "File 3 of 300 saved: cropped/ddostrace.to-victim.20070804_143436_2.pcap\n"
     ]
    },
    {
     "name": "stderr",
     "output_type": "stream",
     "text": [
      "Splitting ddostrace.to-victim.20070804_143436.pcap: 655628 packets [04:12, 4995.89 packets/s]"
     ]
    },
    {
     "name": "stdout",
     "output_type": "stream",
     "text": [
      "File 4 of 300 saved: cropped/ddostrace.to-victim.20070804_143436_3.pcap\n"
     ]
    },
    {
     "name": "stderr",
     "output_type": "stream",
     "text": [
      "Splitting ddostrace.to-victim.20070804_143436.pcap: 817748 packets [05:22, 4945.41 packets/s]"
     ]
    },
    {
     "name": "stdout",
     "output_type": "stream",
     "text": [
      "File 5 of 300 saved: cropped/ddostrace.to-victim.20070804_143436_4.pcap\n"
     ]
    },
    {
     "name": "stderr",
     "output_type": "stream",
     "text": [
      "Splitting ddostrace.to-victim.20070804_143436.pcap: 941813 packets [06:22, 4886.15 packets/s]"
     ]
    },
    {
     "name": "stdout",
     "output_type": "stream",
     "text": [
      "File 6 of 300 saved: cropped/ddostrace.to-victim.20070804_143436_5.pcap\n"
     ]
    },
    {
     "name": "stderr",
     "output_type": "stream",
     "text": [
      "Splitting ddostrace.to-victim.20070804_143436.pcap: 1019995 packets [07:02, 4766.99 packets/s]"
     ]
    },
    {
     "name": "stdout",
     "output_type": "stream",
     "text": [
      "File 7 of 300 saved: cropped/ddostrace.to-victim.20070804_143436_6.pcap\n"
     ]
    },
    {
     "name": "stderr",
     "output_type": "stream",
     "text": [
      "Splitting ddostrace.to-victim.20070804_143436.pcap: 1034807 packets [07:09, 4980.06 packets/s]"
     ]
    },
    {
     "name": "stdout",
     "output_type": "stream",
     "text": [
      "File 8 of 300 saved: cropped/ddostrace.to-victim.20070804_143436_7.pcap\n"
     ]
    },
    {
     "name": "stderr",
     "output_type": "stream",
     "text": [
      "Splitting ddostrace.to-victim.20070804_143436.pcap: 1049544 packets [07:16, 4759.40 packets/s]"
     ]
    },
    {
     "name": "stdout",
     "output_type": "stream",
     "text": [
      "File 9 of 300 saved: cropped/ddostrace.to-victim.20070804_143436_8.pcap\n"
     ]
    },
    {
     "name": "stderr",
     "output_type": "stream",
     "text": [
      "Splitting ddostrace.to-victim.20070804_143436.pcap: 1060110 packets [07:21, 4594.57 packets/s]"
     ]
    },
    {
     "name": "stdout",
     "output_type": "stream",
     "text": [
      "File 10 of 300 saved: cropped/ddostrace.to-victim.20070804_143436_9.pcap\n"
     ]
    },
    {
     "name": "stderr",
     "output_type": "stream",
     "text": [
      "Splitting ddostrace.to-victim.20070804_143436.pcap: 1218769 packets [08:13, 3202.92 packets/s]"
     ]
    },
    {
     "name": "stdout",
     "output_type": "stream",
     "text": [
      "File 11 of 300 saved: cropped/ddostrace.to-victim.20070804_143436_10.pcap\n"
     ]
    },
    {
     "name": "stderr",
     "output_type": "stream",
     "text": [
      "Splitting ddostrace.to-victim.20070804_143436.pcap: 1384485 packets [09:23, 3902.73 packets/s]"
     ]
    },
    {
     "name": "stdout",
     "output_type": "stream",
     "text": [
      "File 12 of 300 saved: cropped/ddostrace.to-victim.20070804_143436_11.pcap\n"
     ]
    },
    {
     "name": "stderr",
     "output_type": "stream",
     "text": [
      "Splitting ddostrace.to-victim.20070804_143436.pcap: 1550672 packets [10:33, 4953.25 packets/s]"
     ]
    },
    {
     "name": "stdout",
     "output_type": "stream",
     "text": [
      "File 13 of 300 saved: cropped/ddostrace.to-victim.20070804_143436_12.pcap\n"
     ]
    },
    {
     "name": "stderr",
     "output_type": "stream",
     "text": [
      "Splitting ddostrace.to-victim.20070804_143436.pcap: 1717223 packets [11:43, 4814.17 packets/s]"
     ]
    },
    {
     "name": "stdout",
     "output_type": "stream",
     "text": [
      "File 14 of 300 saved: cropped/ddostrace.to-victim.20070804_143436_13.pcap\n"
     ]
    },
    {
     "name": "stderr",
     "output_type": "stream",
     "text": [
      "Splitting ddostrace.to-victim.20070804_143436.pcap: 1855714 packets [12:44, 4775.28 packets/s]"
     ]
    },
    {
     "name": "stdout",
     "output_type": "stream",
     "text": [
      "File 15 of 300 saved: cropped/ddostrace.to-victim.20070804_143436_14.pcap\n"
     ]
    },
    {
     "name": "stderr",
     "output_type": "stream",
     "text": [
      "Splitting ddostrace.to-victim.20070804_143436.pcap: 1993693 packets [13:44, 4983.30 packets/s]"
     ]
    },
    {
     "name": "stdout",
     "output_type": "stream",
     "text": [
      "File 16 of 300 saved: cropped/ddostrace.to-victim.20070804_143436_15.pcap\n"
     ]
    },
    {
     "name": "stderr",
     "output_type": "stream",
     "text": [
      "Splitting ddostrace.to-victim.20070804_143436.pcap: 2156597 packets [14:44, 2940.32 packets/s]"
     ]
    },
    {
     "name": "stdout",
     "output_type": "stream",
     "text": [
      "File 17 of 300 saved: cropped/ddostrace.to-victim.20070804_143436_16.pcap\n"
     ]
    },
    {
     "name": "stderr",
     "output_type": "stream",
     "text": [
      "Splitting ddostrace.to-victim.20070804_143436.pcap: 2324483 packets [15:55, 5024.20 packets/s]"
     ]
    },
    {
     "name": "stdout",
     "output_type": "stream",
     "text": [
      "File 18 of 300 saved: cropped/ddostrace.to-victim.20070804_143436_17.pcap\n"
     ]
    },
    {
     "name": "stderr",
     "output_type": "stream",
     "text": [
      "Splitting ddostrace.to-victim.20070804_143436.pcap: 2489915 packets [17:05, 3631.84 packets/s]"
     ]
    },
    {
     "name": "stdout",
     "output_type": "stream",
     "text": [
      "File 19 of 300 saved: cropped/ddostrace.to-victim.20070804_143436_18.pcap\n"
     ]
    },
    {
     "name": "stderr",
     "output_type": "stream",
     "text": [
      "Splitting ddostrace.to-victim.20070804_143436.pcap: 2655924 packets [18:15, 4425.53 packets/s]"
     ]
    },
    {
     "name": "stdout",
     "output_type": "stream",
     "text": [
      "File 20 of 300 saved: cropped/ddostrace.to-victim.20070804_143436_19.pcap\n"
     ]
    },
    {
     "name": "stderr",
     "output_type": "stream",
     "text": [
      "Splitting ddostrace.to-victim.20070804_143436.pcap: 2772184 packets [19:16, 5014.80 packets/s]"
     ]
    },
    {
     "name": "stdout",
     "output_type": "stream",
     "text": [
      "File 21 of 300 saved: cropped/ddostrace.to-victim.20070804_143436_20.pcap\n"
     ]
    },
    {
     "name": "stderr",
     "output_type": "stream",
     "text": [
      "Splitting ddostrace.to-victim.20070804_143436.pcap: 2933171 packets [20:07, 4999.08 packets/s]"
     ]
    },
    {
     "name": "stdout",
     "output_type": "stream",
     "text": [
      "File 22 of 300 saved: cropped/ddostrace.to-victim.20070804_143436_21.pcap\n"
     ]
    },
    {
     "name": "stderr",
     "output_type": "stream",
     "text": [
      "Splitting ddostrace.to-victim.20070804_143436.pcap: 3098631 packets [21:17, 4603.89 packets/s]"
     ]
    },
    {
     "name": "stdout",
     "output_type": "stream",
     "text": [
      "File 23 of 300 saved: cropped/ddostrace.to-victim.20070804_143436_22.pcap\n"
     ]
    },
    {
     "name": "stderr",
     "output_type": "stream",
     "text": [
      "Splitting ddostrace.to-victim.20070804_143436.pcap: 3264026 packets [22:37, 3555.04 packets/s]"
     ]
    },
    {
     "name": "stdout",
     "output_type": "stream",
     "text": [
      "File 24 of 300 saved: cropped/ddostrace.to-victim.20070804_143436_23.pcap\n"
     ]
    },
    {
     "name": "stderr",
     "output_type": "stream",
     "text": [
      "Splitting ddostrace.to-victim.20070804_143436.pcap: 3428140 packets [23:38, 4864.45 packets/s]"
     ]
    },
    {
     "name": "stdout",
     "output_type": "stream",
     "text": [
      "File 25 of 300 saved: cropped/ddostrace.to-victim.20070804_143436_24.pcap\n"
     ]
    },
    {
     "name": "stderr",
     "output_type": "stream",
     "text": [
      "Splitting ddostrace.to-victim.20070804_143436.pcap: 3500859 packets [24:29, 4839.66 packets/s]"
     ]
    },
    {
     "name": "stdout",
     "output_type": "stream",
     "text": [
      "File 26 of 300 saved: cropped/ddostrace.to-victim.20070804_143436_25.pcap\n"
     ]
    },
    {
     "name": "stderr",
     "output_type": "stream",
     "text": [
      "Splitting ddostrace.to-victim.20070804_143436.pcap: 3512076 packets [24:34, 4823.76 packets/s]"
     ]
    },
    {
     "name": "stdout",
     "output_type": "stream",
     "text": [
      "File 27 of 300 saved: cropped/ddostrace.to-victim.20070804_143436_26.pcap\n"
     ]
    },
    {
     "name": "stderr",
     "output_type": "stream",
     "text": [
      "Splitting ddostrace.to-victim.20070804_143436.pcap: 3525965 packets [24:40, 4780.54 packets/s]"
     ]
    },
    {
     "name": "stdout",
     "output_type": "stream",
     "text": [
      "File 28 of 300 saved: cropped/ddostrace.to-victim.20070804_143436_27.pcap\n"
     ]
    },
    {
     "name": "stderr",
     "output_type": "stream",
     "text": [
      "Splitting ddostrace.to-victim.20070804_143436.pcap: 3555785 packets [24:49, 4800.48 packets/s]"
     ]
    },
    {
     "name": "stdout",
     "output_type": "stream",
     "text": [
      "File 29 of 300 saved: cropped/ddostrace.to-victim.20070804_143436_28.pcap\n"
     ]
    },
    {
     "name": "stderr",
     "output_type": "stream",
     "text": [
      "Splitting ddostrace.to-victim.20070804_143436.pcap: 3723332 packets [25:49, 5060.21 packets/s]"
     ]
    },
    {
     "name": "stdout",
     "output_type": "stream",
     "text": [
      "File 30 of 300 saved: cropped/ddostrace.to-victim.20070804_143436_29.pcap\n"
     ]
    },
    {
     "name": "stderr",
     "output_type": "stream",
     "text": [
      "Splitting ddostrace.to-victim.20070804_143436.pcap: 3888976 packets [26:59, 5009.44 packets/s]"
     ]
    },
    {
     "name": "stdout",
     "output_type": "stream",
     "text": [
      "File 31 of 300 saved: cropped/ddostrace.to-victim.20070804_143436_30.pcap\n"
     ]
    },
    {
     "name": "stderr",
     "output_type": "stream",
     "text": [
      "Splitting ddostrace.to-victim.20070804_143436.pcap: 4056437 packets [28:09, 4436.71 packets/s]"
     ]
    },
    {
     "name": "stdout",
     "output_type": "stream",
     "text": [
      "File 32 of 300 saved: cropped/ddostrace.to-victim.20070804_143436_31.pcap\n"
     ]
    },
    {
     "name": "stderr",
     "output_type": "stream",
     "text": [
      "Splitting ddostrace.to-victim.20070804_143436.pcap: 4222003 packets [29:19, 4973.99 packets/s]"
     ]
    },
    {
     "name": "stdout",
     "output_type": "stream",
     "text": [
      "File 33 of 300 saved: cropped/ddostrace.to-victim.20070804_143436_32.pcap\n"
     ]
    },
    {
     "name": "stderr",
     "output_type": "stream",
     "text": [
      "Splitting ddostrace.to-victim.20070804_143436.pcap: 4391921 packets [30:30, 4975.85 packets/s]"
     ]
    },
    {
     "name": "stdout",
     "output_type": "stream",
     "text": [
      "File 34 of 300 saved: cropped/ddostrace.to-victim.20070804_143436_33.pcap\n"
     ]
    },
    {
     "name": "stderr",
     "output_type": "stream",
     "text": [
      "Splitting ddostrace.to-victim.20070804_143436.pcap: 4559437 packets [31:40, 4802.55 packets/s]"
     ]
    },
    {
     "name": "stdout",
     "output_type": "stream",
     "text": [
      "File 35 of 300 saved: cropped/ddostrace.to-victim.20070804_143436_34.pcap\n"
     ]
    },
    {
     "name": "stderr",
     "output_type": "stream",
     "text": [
      "Splitting ddostrace.to-victim.20070804_143436.pcap: 4697892 packets [32:41, 3119.07 packets/s]"
     ]
    },
    {
     "name": "stdout",
     "output_type": "stream",
     "text": [
      "File 36 of 300 saved: cropped/ddostrace.to-victim.20070804_143436_35.pcap\n"
     ]
    },
    {
     "name": "stderr",
     "output_type": "stream",
     "text": [
      "Splitting ddostrace.to-victim.20070804_143436.pcap: 4860990 packets [33:51, 3397.39 packets/s]"
     ]
    },
    {
     "name": "stdout",
     "output_type": "stream",
     "text": [
      "File 37 of 300 saved: cropped/ddostrace.to-victim.20070804_143436_36.pcap\n"
     ]
    },
    {
     "name": "stderr",
     "output_type": "stream",
     "text": [
      "Splitting ddostrace.to-victim.20070804_143436.pcap: 5028613 packets [35:01, 4879.91 packets/s]"
     ]
    },
    {
     "name": "stdout",
     "output_type": "stream",
     "text": [
      "File 38 of 300 saved: cropped/ddostrace.to-victim.20070804_143436_37.pcap\n"
     ]
    },
    {
     "name": "stderr",
     "output_type": "stream",
     "text": [
      "Splitting ddostrace.to-victim.20070804_143436.pcap: 5195634 packets [36:01, 4906.17 packets/s]"
     ]
    },
    {
     "name": "stdout",
     "output_type": "stream",
     "text": [
      "File 39 of 300 saved: cropped/ddostrace.to-victim.20070804_143436_38.pcap\n"
     ]
    },
    {
     "name": "stderr",
     "output_type": "stream",
     "text": [
      "Splitting ddostrace.to-victim.20070804_143436.pcap: 5362362 packets [37:12, 4285.75 packets/s]"
     ]
    },
    {
     "name": "stdout",
     "output_type": "stream",
     "text": [
      "File 40 of 300 saved: cropped/ddostrace.to-victim.20070804_143436_39.pcap\n"
     ]
    },
    {
     "name": "stderr",
     "output_type": "stream",
     "text": [
      "Splitting ddostrace.to-victim.20070804_143436.pcap: 5503916 packets [38:22, 5005.49 packets/s]"
     ]
    },
    {
     "name": "stdout",
     "output_type": "stream",
     "text": [
      "File 41 of 300 saved: cropped/ddostrace.to-victim.20070804_143436_40.pcap\n"
     ]
    },
    {
     "name": "stderr",
     "output_type": "stream",
     "text": [
      "Splitting ddostrace.to-victim.20070804_143436.pcap: 5649574 packets [39:22, 4773.20 packets/s]"
     ]
    },
    {
     "name": "stdout",
     "output_type": "stream",
     "text": [
      "File 42 of 300 saved: cropped/ddostrace.to-victim.20070804_143436_41.pcap\n"
     ]
    },
    {
     "name": "stderr",
     "output_type": "stream",
     "text": [
      "Splitting ddostrace.to-victim.20070804_143436.pcap: 5817944 packets [40:33, 4852.88 packets/s]"
     ]
    },
    {
     "name": "stdout",
     "output_type": "stream",
     "text": [
      "File 43 of 300 saved: cropped/ddostrace.to-victim.20070804_143436_42.pcap\n"
     ]
    },
    {
     "name": "stderr",
     "output_type": "stream",
     "text": [
      "Splitting ddostrace.to-victim.20070804_143436.pcap: 5985612 packets [41:43, 2942.50 packets/s]"
     ]
    },
    {
     "name": "stdout",
     "output_type": "stream",
     "text": [
      "File 44 of 300 saved: cropped/ddostrace.to-victim.20070804_143436_43.pcap\n"
     ]
    },
    {
     "name": "stderr",
     "output_type": "stream",
     "text": [
      "Splitting ddostrace.to-victim.20070804_143436.pcap: 6153325 packets [42:53, 4848.57 packets/s]"
     ]
    },
    {
     "name": "stdout",
     "output_type": "stream",
     "text": [
      "File 45 of 300 saved: cropped/ddostrace.to-victim.20070804_143436_44.pcap\n"
     ]
    },
    {
     "name": "stderr",
     "output_type": "stream",
     "text": [
      "Splitting ddostrace.to-victim.20070804_143436.pcap: 6199948 packets [43:18, 4797.62 packets/s]"
     ]
    },
    {
     "name": "stdout",
     "output_type": "stream",
     "text": [
      "File 46 of 300 saved: cropped/ddostrace.to-victim.20070804_143436_45.pcap\n"
     ]
    },
    {
     "name": "stderr",
     "output_type": "stream",
     "text": [
      "Splitting ddostrace.to-victim.20070804_143436.pcap: 6284697 packets [44:04, 4811.50 packets/s]"
     ]
    },
    {
     "name": "stdout",
     "output_type": "stream",
     "text": [
      "File 47 of 300 saved: cropped/ddostrace.to-victim.20070804_143436_46.pcap\n"
     ]
    },
    {
     "name": "stderr",
     "output_type": "stream",
     "text": [
      "Splitting ddostrace.to-victim.20070804_143436.pcap: 6451520 packets [44:54, 5066.62 packets/s]"
     ]
    },
    {
     "name": "stdout",
     "output_type": "stream",
     "text": [
      "File 48 of 300 saved: cropped/ddostrace.to-victim.20070804_143436_47.pcap\n"
     ]
    },
    {
     "name": "stderr",
     "output_type": "stream",
     "text": [
      "Splitting ddostrace.to-victim.20070804_143436.pcap: 6618249 packets [46:04, 4911.26 packets/s]"
     ]
    },
    {
     "name": "stdout",
     "output_type": "stream",
     "text": [
      "File 49 of 300 saved: cropped/ddostrace.to-victim.20070804_143436_48.pcap\n"
     ]
    },
    {
     "name": "stderr",
     "output_type": "stream",
     "text": [
      "Splitting ddostrace.to-victim.20070804_143436.pcap: 6784916 packets [47:14, 4191.19 packets/s]"
     ]
    },
    {
     "name": "stdout",
     "output_type": "stream",
     "text": [
      "File 50 of 300 saved: cropped/ddostrace.to-victim.20070804_143436_49.pcap\n"
     ]
    },
    {
     "name": "stderr",
     "output_type": "stream",
     "text": [
      "Splitting ddostrace.to-victim.20070804_143436.pcap: 6865677 packets [48:05, 4727.37 packets/s]"
     ]
    },
    {
     "name": "stdout",
     "output_type": "stream",
     "text": [
      "File 51 of 300 saved: cropped/ddostrace.to-victim.20070804_143436_50.pcap\n"
     ]
    },
    {
     "name": "stderr",
     "output_type": "stream",
     "text": [
      "Splitting ddostrace.to-victim.20070804_143436.pcap: 6880447 packets [48:12, 4290.56 packets/s]"
     ]
    },
    {
     "name": "stdout",
     "output_type": "stream",
     "text": [
      "File 52 of 300 saved: cropped/ddostrace.to-victim.20070804_143436_51.pcap\n"
     ]
    },
    {
     "name": "stderr",
     "output_type": "stream",
     "text": [
      "Splitting ddostrace.to-victim.20070804_143436.pcap: 6898253 packets [48:19, 4170.35 packets/s]"
     ]
    },
    {
     "name": "stdout",
     "output_type": "stream",
     "text": [
      "File 53 of 300 saved: cropped/ddostrace.to-victim.20070804_143436_52.pcap\n"
     ]
    },
    {
     "name": "stderr",
     "output_type": "stream",
     "text": [
      "Splitting ddostrace.to-victim.20070804_143436.pcap: 7037445 packets [49:05, 4934.94 packets/s]"
     ]
    },
    {
     "name": "stdout",
     "output_type": "stream",
     "text": [
      "File 54 of 300 saved: cropped/ddostrace.to-victim.20070804_143436_53.pcap\n"
     ]
    },
    {
     "name": "stderr",
     "output_type": "stream",
     "text": [
      "Splitting ddostrace.to-victim.20070804_143436.pcap: 7205337 packets [50:15, 4908.23 packets/s]"
     ]
    },
    {
     "name": "stdout",
     "output_type": "stream",
     "text": [
      "File 55 of 300 saved: cropped/ddostrace.to-victim.20070804_143436_54.pcap\n"
     ]
    },
    {
     "name": "stderr",
     "output_type": "stream",
     "text": [
      "Splitting ddostrace.to-victim.20070804_143436.pcap: 7369793 packets [51:25, 4812.74 packets/s]"
     ]
    },
    {
     "name": "stdout",
     "output_type": "stream",
     "text": [
      "File 56 of 300 saved: cropped/ddostrace.to-victim.20070804_143436_55.pcap\n"
     ]
    },
    {
     "name": "stderr",
     "output_type": "stream",
     "text": [
      "Splitting ddostrace.to-victim.20070804_143436.pcap: 7540633 packets [52:36, 4901.78 packets/s]"
     ]
    },
    {
     "name": "stdout",
     "output_type": "stream",
     "text": [
      "File 57 of 300 saved: cropped/ddostrace.to-victim.20070804_143436_56.pcap\n"
     ]
    },
    {
     "name": "stderr",
     "output_type": "stream",
     "text": [
      "Splitting ddostrace.to-victim.20070804_143436.pcap: 7711339 packets [53:46, 4901.81 packets/s]"
     ]
    },
    {
     "name": "stdout",
     "output_type": "stream",
     "text": [
      "File 58 of 300 saved: cropped/ddostrace.to-victim.20070804_143436_57.pcap\n"
     ]
    },
    {
     "name": "stderr",
     "output_type": "stream",
     "text": [
      "Splitting ddostrace.to-victim.20070804_143436.pcap: 7882090 packets [54:56, 4770.57 packets/s]"
     ]
    },
    {
     "name": "stdout",
     "output_type": "stream",
     "text": [
      "File 59 of 300 saved: cropped/ddostrace.to-victim.20070804_143436_58.pcap\n"
     ]
    },
    {
     "name": "stderr",
     "output_type": "stream",
     "text": [
      "Splitting ddostrace.to-victim.20070804_143436.pcap: 8051488 packets [56:06, 4038.75 packets/s]"
     ]
    },
    {
     "name": "stdout",
     "output_type": "stream",
     "text": [
      "File 60 of 300 saved: cropped/ddostrace.to-victim.20070804_143436_59.pcap\n"
     ]
    },
    {
     "name": "stderr",
     "output_type": "stream",
     "text": [
      "Splitting ddostrace.to-victim.20070804_143436.pcap: 8215330 packets [57:18, 4954.19 packets/s]"
     ]
    },
    {
     "name": "stdout",
     "output_type": "stream",
     "text": [
      "File 61 of 300 saved: cropped/ddostrace.to-victim.20070804_143436_60.pcap\n"
     ]
    },
    {
     "name": "stderr",
     "output_type": "stream",
     "text": [
      "Splitting ddostrace.to-victim.20070804_143436.pcap: 8377622 packets [58:28, 4853.42 packets/s]"
     ]
    },
    {
     "name": "stdout",
     "output_type": "stream",
     "text": [
      "File 62 of 300 saved: cropped/ddostrace.to-victim.20070804_143436_61.pcap\n"
     ]
    },
    {
     "name": "stderr",
     "output_type": "stream",
     "text": [
      "Splitting ddostrace.to-victim.20070804_143436.pcap: 8549165 packets [59:38, 4835.10 packets/s]"
     ]
    },
    {
     "name": "stdout",
     "output_type": "stream",
     "text": [
      "File 63 of 300 saved: cropped/ddostrace.to-victim.20070804_143436_62.pcap\n"
     ]
    },
    {
     "name": "stderr",
     "output_type": "stream",
     "text": [
      "Splitting ddostrace.to-victim.20070804_143436.pcap: 8719408 packets [1:00:49, 2402.54 packets/s]"
     ]
    },
    {
     "name": "stdout",
     "output_type": "stream",
     "text": [
      "File 64 of 300 saved: cropped/ddostrace.to-victim.20070804_143436_63.pcap\n"
     ]
    },
    {
     "name": "stderr",
     "output_type": "stream",
     "text": [
      "Splitting ddostrace.to-victim.20070804_143436.pcap: 8888941 packets [1:01:59, 4876.69 packets/s]"
     ]
    },
    {
     "name": "stdout",
     "output_type": "stream",
     "text": [
      "File 65 of 300 saved: cropped/ddostrace.to-victim.20070804_143436_64.pcap\n"
     ]
    },
    {
     "name": "stderr",
     "output_type": "stream",
     "text": [
      "Splitting ddostrace.to-victim.20070804_143436.pcap: 9054858 packets [1:03:09, 4816.66 packets/s]"
     ]
    },
    {
     "name": "stdout",
     "output_type": "stream",
     "text": [
      "File 66 of 300 saved: cropped/ddostrace.to-victim.20070804_143436_65.pcap\n"
     ]
    },
    {
     "name": "stderr",
     "output_type": "stream",
     "text": [
      "Splitting ddostrace.to-victim.20070804_143436.pcap: 9224425 packets [1:04:30, 4816.41 packets/s]"
     ]
    },
    {
     "name": "stdout",
     "output_type": "stream",
     "text": [
      "File 67 of 300 saved: cropped/ddostrace.to-victim.20070804_143436_66.pcap\n"
     ]
    },
    {
     "name": "stderr",
     "output_type": "stream",
     "text": [
      "Splitting ddostrace.to-victim.20070804_143436.pcap: 9393925 packets [1:05:31, 4971.86 packets/s]"
     ]
    },
    {
     "name": "stdout",
     "output_type": "stream",
     "text": [
      "File 68 of 300 saved: cropped/ddostrace.to-victim.20070804_143436_67.pcap\n"
     ]
    },
    {
     "name": "stderr",
     "output_type": "stream",
     "text": [
      "Splitting ddostrace.to-victim.20070804_143436.pcap: 9562825 packets [1:06:51, 4723.65 packets/s]"
     ]
    },
    {
     "name": "stdout",
     "output_type": "stream",
     "text": [
      "File 69 of 300 saved: cropped/ddostrace.to-victim.20070804_143436_68.pcap\n"
     ]
    },
    {
     "name": "stderr",
     "output_type": "stream",
     "text": [
      "Splitting ddostrace.to-victim.20070804_143436.pcap: 9730394 packets [1:08:01, 5066.71 packets/s]"
     ]
    },
    {
     "name": "stdout",
     "output_type": "stream",
     "text": [
      "File 70 of 300 saved: cropped/ddostrace.to-victim.20070804_143436_69.pcap\n"
     ]
    },
    {
     "name": "stderr",
     "output_type": "stream",
     "text": [
      "Splitting ddostrace.to-victim.20070804_143436.pcap: 9894809 packets [1:09:11, 4918.43 packets/s]"
     ]
    },
    {
     "name": "stdout",
     "output_type": "stream",
     "text": [
      "File 71 of 300 saved: cropped/ddostrace.to-victim.20070804_143436_70.pcap\n"
     ]
    },
    {
     "name": "stderr",
     "output_type": "stream",
     "text": [
      "Splitting ddostrace.to-victim.20070804_143436.pcap: 10064004 packets [1:10:22, 2720.27 packets/s]"
     ]
    },
    {
     "name": "stdout",
     "output_type": "stream",
     "text": [
      "File 72 of 300 saved: cropped/ddostrace.to-victim.20070804_143436_71.pcap\n"
     ]
    },
    {
     "name": "stderr",
     "output_type": "stream",
     "text": [
      "Splitting ddostrace.to-victim.20070804_143436.pcap: 10234068 packets [1:11:32, 3820.87 packets/s]"
     ]
    },
    {
     "name": "stdout",
     "output_type": "stream",
     "text": [
      "File 73 of 300 saved: cropped/ddostrace.to-victim.20070804_143436_72.pcap\n"
     ]
    },
    {
     "name": "stderr",
     "output_type": "stream",
     "text": [
      "Splitting ddostrace.to-victim.20070804_143436.pcap: 10262657 packets [1:11:53, 4915.69 packets/s]"
     ]
    },
    {
     "name": "stdout",
     "output_type": "stream",
     "text": [
      "File 74 of 300 saved: cropped/ddostrace.to-victim.20070804_143436_73.pcap\n"
     ]
    },
    {
     "name": "stderr",
     "output_type": "stream",
     "text": [
      "Splitting ddostrace.to-victim.20070804_143436.pcap: 10323141 packets [1:12:15, 4678.22 packets/s]"
     ]
    },
    {
     "name": "stdout",
     "output_type": "stream",
     "text": [
      "File 75 of 300 saved: cropped/ddostrace.to-victim.20070804_143436_74.pcap\n"
     ]
    },
    {
     "name": "stderr",
     "output_type": "stream",
     "text": [
      "Splitting ddostrace.to-victim.20070804_143436.pcap: 10350990 packets [1:12:33, 4230.70 packets/s]"
     ]
    },
    {
     "name": "stdout",
     "output_type": "stream",
     "text": [
      "File 76 of 300 saved: cropped/ddostrace.to-victim.20070804_143436_75.pcap\n"
     ]
    },
    {
     "name": "stderr",
     "output_type": "stream",
     "text": [
      "Splitting ddostrace.to-victim.20070804_143436.pcap: 10492519 packets [1:13:22, 4820.40 packets/s]"
     ]
    },
    {
     "name": "stdout",
     "output_type": "stream",
     "text": [
      "File 77 of 300 saved: cropped/ddostrace.to-victim.20070804_143436_76.pcap\n"
     ]
    },
    {
     "name": "stderr",
     "output_type": "stream",
     "text": [
      "Splitting ddostrace.to-victim.20070804_143436.pcap: 10661161 packets [1:14:33, 4883.18 packets/s]"
     ]
    },
    {
     "name": "stdout",
     "output_type": "stream",
     "text": [
      "File 78 of 300 saved: cropped/ddostrace.to-victim.20070804_143436_77.pcap\n"
     ]
    },
    {
     "name": "stderr",
     "output_type": "stream",
     "text": [
      "Splitting ddostrace.to-victim.20070804_143436.pcap: 10830237 packets [1:15:43, 4807.18 packets/s]"
     ]
    },
    {
     "name": "stdout",
     "output_type": "stream",
     "text": [
      "File 79 of 300 saved: cropped/ddostrace.to-victim.20070804_143436_78.pcap\n"
     ]
    },
    {
     "name": "stderr",
     "output_type": "stream",
     "text": [
      "Splitting ddostrace.to-victim.20070804_143436.pcap: 10999186 packets [1:16:53, 3124.48 packets/s]"
     ]
    },
    {
     "name": "stdout",
     "output_type": "stream",
     "text": [
      "File 80 of 300 saved: cropped/ddostrace.to-victim.20070804_143436_79.pcap\n"
     ]
    },
    {
     "name": "stderr",
     "output_type": "stream",
     "text": [
      "Splitting ddostrace.to-victim.20070804_143436.pcap: 11089883 packets [1:17:36, 3215.01 packets/s]"
     ]
    },
    {
     "name": "stdout",
     "output_type": "stream",
     "text": [
      "File 81 of 300 saved: cropped/ddostrace.to-victim.20070804_143436_80.pcap\n"
     ]
    },
    {
     "name": "stderr",
     "output_type": "stream",
     "text": [
      "Splitting ddostrace.to-victim.20070804_143436.pcap: 11134460 packets [1:18:06, 3680.69 packets/s]"
     ]
    },
    {
     "name": "stdout",
     "output_type": "stream",
     "text": [
      "File 82 of 300 saved: cropped/ddostrace.to-victim.20070804_143436_81.pcap\n"
     ]
    },
    {
     "name": "stderr",
     "output_type": "stream",
     "text": [
      "Splitting ddostrace.to-victim.20070804_143436.pcap: 11302578 packets [1:19:04, 4938.29 packets/s]"
     ]
    },
    {
     "name": "stdout",
     "output_type": "stream",
     "text": [
      "File 83 of 300 saved: cropped/ddostrace.to-victim.20070804_143436_82.pcap\n"
     ]
    },
    {
     "name": "stderr",
     "output_type": "stream",
     "text": [
      "Splitting ddostrace.to-victim.20070804_143436.pcap: 11472809 packets [1:20:14, 3100.79 packets/s]"
     ]
    },
    {
     "name": "stdout",
     "output_type": "stream",
     "text": [
      "File 84 of 300 saved: cropped/ddostrace.to-victim.20070804_143436_83.pcap\n"
     ]
    },
    {
     "name": "stderr",
     "output_type": "stream",
     "text": [
      "Splitting ddostrace.to-victim.20070804_143436.pcap: 11642632 packets [1:21:25, 4921.30 packets/s]"
     ]
    },
    {
     "name": "stdout",
     "output_type": "stream",
     "text": [
      "File 85 of 300 saved: cropped/ddostrace.to-victim.20070804_143436_84.pcap\n"
     ]
    },
    {
     "name": "stderr",
     "output_type": "stream",
     "text": [
      "Splitting ddostrace.to-victim.20070804_143436.pcap: 11735470 packets [1:22:26, 4881.60 packets/s]"
     ]
    },
    {
     "name": "stdout",
     "output_type": "stream",
     "text": [
      "File 86 of 300 saved: cropped/ddostrace.to-victim.20070804_143436_85.pcap\n"
     ]
    },
    {
     "name": "stderr",
     "output_type": "stream",
     "text": [
      "Splitting ddostrace.to-victim.20070804_143436.pcap: 11903500 packets [1:23:26, 3726.45 packets/s]"
     ]
    },
    {
     "name": "stdout",
     "output_type": "stream",
     "text": [
      "File 87 of 300 saved: cropped/ddostrace.to-victim.20070804_143436_86.pcap\n"
     ]
    },
    {
     "name": "stderr",
     "output_type": "stream",
     "text": [
      "Splitting ddostrace.to-victim.20070804_143436.pcap: 12071757 packets [1:24:36, 4990.69 packets/s]"
     ]
    },
    {
     "name": "stdout",
     "output_type": "stream",
     "text": [
      "File 88 of 300 saved: cropped/ddostrace.to-victim.20070804_143436_87.pcap\n"
     ]
    },
    {
     "name": "stderr",
     "output_type": "stream",
     "text": [
      "Splitting ddostrace.to-victim.20070804_143436.pcap: 12239726 packets [1:25:47, 4842.59 packets/s]"
     ]
    },
    {
     "name": "stdout",
     "output_type": "stream",
     "text": [
      "File 89 of 300 saved: cropped/ddostrace.to-victim.20070804_143436_88.pcap\n"
     ]
    },
    {
     "name": "stderr",
     "output_type": "stream",
     "text": [
      "Splitting ddostrace.to-victim.20070804_143436.pcap: 12407311 packets [1:26:57, 4896.50 packets/s]"
     ]
    },
    {
     "name": "stdout",
     "output_type": "stream",
     "text": [
      "File 90 of 300 saved: cropped/ddostrace.to-victim.20070804_143436_89.pcap\n"
     ]
    },
    {
     "name": "stderr",
     "output_type": "stream",
     "text": [
      "Splitting ddostrace.to-victim.20070804_143436.pcap: 12497298 packets [1:27:47, 4759.56 packets/s]"
     ]
    },
    {
     "name": "stdout",
     "output_type": "stream",
     "text": [
      "File 91 of 300 saved: cropped/ddostrace.to-victim.20070804_143436_90.pcap\n"
     ]
    },
    {
     "name": "stderr",
     "output_type": "stream",
     "text": [
      "Splitting ddostrace.to-victim.20070804_143436.pcap: 12512201 packets [1:27:54, 4665.34 packets/s]"
     ]
    },
    {
     "name": "stdout",
     "output_type": "stream",
     "text": [
      "File 92 of 300 saved: cropped/ddostrace.to-victim.20070804_143436_91.pcap\n"
     ]
    },
    {
     "name": "stderr",
     "output_type": "stream",
     "text": [
      "Splitting ddostrace.to-victim.20070804_143436.pcap: 12528858 packets [1:28:00, 4441.12 packets/s]"
     ]
    },
    {
     "name": "stdout",
     "output_type": "stream",
     "text": [
      "File 93 of 300 saved: cropped/ddostrace.to-victim.20070804_143436_92.pcap\n"
     ]
    },
    {
     "name": "stderr",
     "output_type": "stream",
     "text": [
      "Splitting ddostrace.to-victim.20070804_143436.pcap: 12544565 packets [1:28:09, 4155.15 packets/s]"
     ]
    },
    {
     "name": "stdout",
     "output_type": "stream",
     "text": [
      "File 94 of 300 saved: cropped/ddostrace.to-victim.20070804_143436_93.pcap\n"
     ]
    },
    {
     "name": "stderr",
     "output_type": "stream",
     "text": [
      "Splitting ddostrace.to-victim.20070804_143436.pcap: 12688538 packets [1:28:57, 4862.53 packets/s]"
     ]
    },
    {
     "name": "stdout",
     "output_type": "stream",
     "text": [
      "File 95 of 300 saved: cropped/ddostrace.to-victim.20070804_143436_94.pcap\n"
     ]
    },
    {
     "name": "stderr",
     "output_type": "stream",
     "text": [
      "Splitting ddostrace.to-victim.20070804_143436.pcap: 12853561 packets [1:30:07, 4795.48 packets/s]"
     ]
    },
    {
     "name": "stdout",
     "output_type": "stream",
     "text": [
      "File 96 of 300 saved: cropped/ddostrace.to-victim.20070804_143436_95.pcap\n"
     ]
    },
    {
     "name": "stderr",
     "output_type": "stream",
     "text": [
      "Splitting ddostrace.to-victim.20070804_143436.pcap: 13022454 packets [1:31:18, 4810.07 packets/s]"
     ]
    },
    {
     "name": "stdout",
     "output_type": "stream",
     "text": [
      "File 97 of 300 saved: cropped/ddostrace.to-victim.20070804_143436_96.pcap\n"
     ]
    },
    {
     "name": "stderr",
     "output_type": "stream",
     "text": [
      "Splitting ddostrace.to-victim.20070804_143436.pcap: 13191455 packets [1:32:28, 4930.61 packets/s]"
     ]
    },
    {
     "name": "stdout",
     "output_type": "stream",
     "text": [
      "File 98 of 300 saved: cropped/ddostrace.to-victim.20070804_143436_97.pcap\n"
     ]
    },
    {
     "name": "stderr",
     "output_type": "stream",
     "text": [
      "Splitting ddostrace.to-victim.20070804_143436.pcap: 13360526 packets [1:33:38, 4593.39 packets/s]"
     ]
    },
    {
     "name": "stdout",
     "output_type": "stream",
     "text": [
      "File 99 of 300 saved: cropped/ddostrace.to-victim.20070804_143436_98.pcap\n"
     ]
    },
    {
     "name": "stderr",
     "output_type": "stream",
     "text": [
      "Splitting ddostrace.to-victim.20070804_143436.pcap: 13529551 packets [1:34:49, 4890.67 packets/s]"
     ]
    },
    {
     "name": "stdout",
     "output_type": "stream",
     "text": [
      "File 100 of 300 saved: cropped/ddostrace.to-victim.20070804_143436_99.pcap\n"
     ]
    },
    {
     "name": "stderr",
     "output_type": "stream",
     "text": [
      "Splitting ddostrace.to-victim.20070804_143436.pcap: 13690740 packets [1:35:59, 4947.08 packets/s]"
     ]
    },
    {
     "name": "stdout",
     "output_type": "stream",
     "text": [
      "File 101 of 300 saved: cropped/ddostrace.to-victim.20070804_143436_100.pcap\n"
     ]
    },
    {
     "name": "stderr",
     "output_type": "stream",
     "text": [
      "Splitting ddostrace.to-victim.20070804_143436.pcap: 13855029 packets [1:37:09, 4885.16 packets/s]"
     ]
    },
    {
     "name": "stdout",
     "output_type": "stream",
     "text": [
      "File 102 of 300 saved: cropped/ddostrace.to-victim.20070804_143436_101.pcap\n"
     ]
    },
    {
     "name": "stderr",
     "output_type": "stream",
     "text": [
      "Splitting ddostrace.to-victim.20070804_143436.pcap: 14022287 packets [1:38:19, 4815.28 packets/s]"
     ]
    },
    {
     "name": "stdout",
     "output_type": "stream",
     "text": [
      "File 103 of 300 saved: cropped/ddostrace.to-victim.20070804_143436_102.pcap\n"
     ]
    },
    {
     "name": "stderr",
     "output_type": "stream",
     "text": [
      "Splitting ddostrace.to-victim.20070804_143436.pcap: 14192053 packets [1:39:30, 4970.48 packets/s]"
     ]
    },
    {
     "name": "stdout",
     "output_type": "stream",
     "text": [
      "File 104 of 300 saved: cropped/ddostrace.to-victim.20070804_143436_103.pcap\n"
     ]
    },
    {
     "name": "stderr",
     "output_type": "stream",
     "text": [
      "Splitting ddostrace.to-victim.20070804_143436.pcap: 14361115 packets [1:40:40, 4890.14 packets/s]"
     ]
    },
    {
     "name": "stdout",
     "output_type": "stream",
     "text": [
      "File 105 of 300 saved: cropped/ddostrace.to-victim.20070804_143436_104.pcap\n"
     ]
    },
    {
     "name": "stderr",
     "output_type": "stream",
     "text": [
      "Splitting ddostrace.to-victim.20070804_143436.pcap: 14452011 packets [1:41:30, 4793.84 packets/s]"
     ]
    },
    {
     "name": "stdout",
     "output_type": "stream",
     "text": [
      "File 106 of 300 saved: cropped/ddostrace.to-victim.20070804_143436_105.pcap\n"
     ]
    },
    {
     "name": "stderr",
     "output_type": "stream",
     "text": [
      "Splitting ddostrace.to-victim.20070804_143436.pcap: 14462457 packets [1:41:38, 3988.87 packets/s]"
     ]
    },
    {
     "name": "stdout",
     "output_type": "stream",
     "text": [
      "File 107 of 300 saved: cropped/ddostrace.to-victim.20070804_143436_106.pcap\n"
     ]
    },
    {
     "name": "stderr",
     "output_type": "stream",
     "text": [
      "Splitting ddostrace.to-victim.20070804_143436.pcap: 14476594 packets [1:41:44, 4596.51 packets/s]"
     ]
    },
    {
     "name": "stdout",
     "output_type": "stream",
     "text": [
      "File 108 of 300 saved: cropped/ddostrace.to-victim.20070804_143436_107.pcap\n"
     ]
    },
    {
     "name": "stderr",
     "output_type": "stream",
     "text": [
      "Splitting ddostrace.to-victim.20070804_143436.pcap: 14530558 packets [1:42:10, 4954.26 packets/s]"
     ]
    },
    {
     "name": "stdout",
     "output_type": "stream",
     "text": [
      "File 109 of 300 saved: cropped/ddostrace.to-victim.20070804_143436_108.pcap\n"
     ]
    },
    {
     "name": "stderr",
     "output_type": "stream",
     "text": [
      "Splitting ddostrace.to-victim.20070804_143436.pcap: 14698561 packets [1:43:00, 2935.08 packets/s]"
     ]
    },
    {
     "name": "stdout",
     "output_type": "stream",
     "text": [
      "File 110 of 300 saved: cropped/ddostrace.to-victim.20070804_143436_109.pcap\n"
     ]
    },
    {
     "name": "stderr",
     "output_type": "stream",
     "text": [
      "Splitting ddostrace.to-victim.20070804_143436.pcap: 14807102 packets [1:44:00, 4885.22 packets/s]"
     ]
    },
    {
     "name": "stdout",
     "output_type": "stream",
     "text": [
      "File 111 of 300 saved: cropped/ddostrace.to-victim.20070804_143436_110.pcap\n"
     ]
    },
    {
     "name": "stderr",
     "output_type": "stream",
     "text": [
      "Splitting ddostrace.to-victim.20070804_143436.pcap: 14976098 packets [1:45:01, 3877.39 packets/s]"
     ]
    },
    {
     "name": "stdout",
     "output_type": "stream",
     "text": [
      "File 112 of 300 saved: cropped/ddostrace.to-victim.20070804_143436_111.pcap\n"
     ]
    },
    {
     "name": "stderr",
     "output_type": "stream",
     "text": [
      "Splitting ddostrace.to-victim.20070804_143436.pcap: 15144882 packets [1:46:11, 4929.55 packets/s]"
     ]
    },
    {
     "name": "stdout",
     "output_type": "stream",
     "text": [
      "File 113 of 300 saved: cropped/ddostrace.to-victim.20070804_143436_112.pcap\n"
     ]
    },
    {
     "name": "stderr",
     "output_type": "stream",
     "text": [
      "Splitting ddostrace.to-victim.20070804_143436.pcap: 15313965 packets [1:47:21, 3778.23 packets/s]"
     ]
    },
    {
     "name": "stdout",
     "output_type": "stream",
     "text": [
      "File 114 of 300 saved: cropped/ddostrace.to-victim.20070804_143436_113.pcap\n"
     ]
    },
    {
     "name": "stderr",
     "output_type": "stream",
     "text": [
      "Splitting ddostrace.to-victim.20070804_143436.pcap: 15481666 packets [1:48:31, 4790.20 packets/s]"
     ]
    },
    {
     "name": "stdout",
     "output_type": "stream",
     "text": [
      "File 115 of 300 saved: cropped/ddostrace.to-victim.20070804_143436_114.pcap\n"
     ]
    },
    {
     "name": "stderr",
     "output_type": "stream",
     "text": [
      "Splitting ddostrace.to-victim.20070804_143436.pcap: 15573848 packets [1:49:13, 3201.60 packets/s]"
     ]
    },
    {
     "name": "stdout",
     "output_type": "stream",
     "text": [
      "File 116 of 300 saved: cropped/ddostrace.to-victim.20070804_143436_115.pcap\n"
     ]
    },
    {
     "name": "stderr",
     "output_type": "stream",
     "text": [
      "Splitting ddostrace.to-victim.20070804_143436.pcap: 15667228 packets [1:50:02, 4395.08 packets/s]"
     ]
    },
    {
     "name": "stdout",
     "output_type": "stream",
     "text": [
      "File 117 of 300 saved: cropped/ddostrace.to-victim.20070804_143436_116.pcap\n"
     ]
    },
    {
     "name": "stderr",
     "output_type": "stream",
     "text": [
      "Splitting ddostrace.to-victim.20070804_143436.pcap: 15837185 packets [1:51:02, 4847.04 packets/s]"
     ]
    },
    {
     "name": "stdout",
     "output_type": "stream",
     "text": [
      "File 118 of 300 saved: cropped/ddostrace.to-victim.20070804_143436_117.pcap\n"
     ]
    },
    {
     "name": "stderr",
     "output_type": "stream",
     "text": [
      "Splitting ddostrace.to-victim.20070804_143436.pcap: 16006406 packets [1:52:12, 4849.15 packets/s]"
     ]
    },
    {
     "name": "stdout",
     "output_type": "stream",
     "text": [
      "File 119 of 300 saved: cropped/ddostrace.to-victim.20070804_143436_118.pcap\n"
     ]
    },
    {
     "name": "stderr",
     "output_type": "stream",
     "text": [
      "Splitting ddostrace.to-victim.20070804_143436.pcap: 16175818 packets [1:53:22, 4940.67 packets/s]"
     ]
    },
    {
     "name": "stdout",
     "output_type": "stream",
     "text": [
      "File 120 of 300 saved: cropped/ddostrace.to-victim.20070804_143436_119.pcap\n"
     ]
    },
    {
     "name": "stderr",
     "output_type": "stream",
     "text": [
      "Splitting ddostrace.to-victim.20070804_143436.pcap: 16316844 packets [1:54:32, 4656.18 packets/s]"
     ]
    },
    {
     "name": "stdout",
     "output_type": "stream",
     "text": [
      "File 121 of 300 saved: cropped/ddostrace.to-victim.20070804_143436_120.pcap\n"
     ]
    },
    {
     "name": "stderr",
     "output_type": "stream",
     "text": [
      "Splitting ddostrace.to-victim.20070804_143436.pcap: 16482956 packets [1:55:33, 4885.14 packets/s]"
     ]
    },
    {
     "name": "stdout",
     "output_type": "stream",
     "text": [
      "File 122 of 300 saved: cropped/ddostrace.to-victim.20070804_143436_121.pcap\n"
     ]
    },
    {
     "name": "stderr",
     "output_type": "stream",
     "text": [
      "Splitting ddostrace.to-victim.20070804_143436.pcap: 16651909 packets [1:56:53, 2021.47 packets/s]"
     ]
    },
    {
     "name": "stdout",
     "output_type": "stream",
     "text": [
      "File 123 of 300 saved: cropped/ddostrace.to-victim.20070804_143436_122.pcap\n"
     ]
    },
    {
     "name": "stderr",
     "output_type": "stream",
     "text": [
      "Splitting ddostrace.to-victim.20070804_143436.pcap: 16820408 packets [1:58:03, 4490.71 packets/s]"
     ]
    },
    {
     "name": "stdout",
     "output_type": "stream",
     "text": [
      "File 124 of 300 saved: cropped/ddostrace.to-victim.20070804_143436_123.pcap\n"
     ]
    },
    {
     "name": "stderr",
     "output_type": "stream",
     "text": [
      "Splitting ddostrace.to-victim.20070804_143436.pcap: 16986523 packets [1:59:13, 4966.29 packets/s]"
     ]
    },
    {
     "name": "stdout",
     "output_type": "stream",
     "text": [
      "File 125 of 300 saved: cropped/ddostrace.to-victim.20070804_143436_124.pcap\n"
     ]
    },
    {
     "name": "stderr",
     "output_type": "stream",
     "text": [
      "Splitting ddostrace.to-victim.20070804_143436.pcap: 17130616 packets [2:00:14, 4943.16 packets/s]"
     ]
    },
    {
     "name": "stdout",
     "output_type": "stream",
     "text": [
      "File 126 of 300 saved: cropped/ddostrace.to-victim.20070804_143436_125.pcap\n"
     ]
    },
    {
     "name": "stderr",
     "output_type": "stream",
     "text": [
      "Splitting ddostrace.to-victim.20070804_143436.pcap: 17301783 packets [2:01:24, 4959.88 packets/s]"
     ]
    },
    {
     "name": "stdout",
     "output_type": "stream",
     "text": [
      "File 127 of 300 saved: cropped/ddostrace.to-victim.20070804_143436_126.pcap\n"
     ]
    },
    {
     "name": "stderr",
     "output_type": "stream",
     "text": [
      "Splitting ddostrace.to-victim.20070804_143436.pcap: 17474699 packets [2:02:44, 4690.55 packets/s]"
     ]
    },
    {
     "name": "stdout",
     "output_type": "stream",
     "text": [
      "File 128 of 300 saved: cropped/ddostrace.to-victim.20070804_143436_127.pcap\n"
     ]
    },
    {
     "name": "stderr",
     "output_type": "stream",
     "text": [
      "Splitting ddostrace.to-victim.20070804_143436.pcap: 17645768 packets [2:03:54, 4799.00 packets/s]"
     ]
    },
    {
     "name": "stdout",
     "output_type": "stream",
     "text": [
      "File 129 of 300 saved: cropped/ddostrace.to-victim.20070804_143436_128.pcap\n"
     ]
    },
    {
     "name": "stderr",
     "output_type": "stream",
     "text": [
      "Splitting ddostrace.to-victim.20070804_143436.pcap: 17816035 packets [2:05:05, 4857.43 packets/s]"
     ]
    },
    {
     "name": "stdout",
     "output_type": "stream",
     "text": [
      "File 130 of 300 saved: cropped/ddostrace.to-victim.20070804_143436_129.pcap\n"
     ]
    },
    {
     "name": "stderr",
     "output_type": "stream",
     "text": [
      "Splitting ddostrace.to-victim.20070804_143436.pcap: 17981905 packets [2:06:15, 3553.83 packets/s]"
     ]
    },
    {
     "name": "stdout",
     "output_type": "stream",
     "text": [
      "File 131 of 300 saved: cropped/ddostrace.to-victim.20070804_143436_130.pcap\n"
     ]
    },
    {
     "name": "stderr",
     "output_type": "stream",
     "text": [
      "Splitting ddostrace.to-victim.20070804_143436.pcap: 18152399 packets [2:07:25, 4974.46 packets/s]"
     ]
    },
    {
     "name": "stdout",
     "output_type": "stream",
     "text": [
      "File 132 of 300 saved: cropped/ddostrace.to-victim.20070804_143436_131.pcap\n"
     ]
    },
    {
     "name": "stderr",
     "output_type": "stream",
     "text": [
      "Splitting ddostrace.to-victim.20070804_143436.pcap: 18321883 packets [2:08:35, 4725.69 packets/s]"
     ]
    },
    {
     "name": "stdout",
     "output_type": "stream",
     "text": [
      "File 133 of 300 saved: cropped/ddostrace.to-victim.20070804_143436_132.pcap\n"
     ]
    },
    {
     "name": "stderr",
     "output_type": "stream",
     "text": [
      "Splitting ddostrace.to-victim.20070804_143436.pcap: 18492664 packets [2:09:55, 4784.60 packets/s]"
     ]
    },
    {
     "name": "stdout",
     "output_type": "stream",
     "text": [
      "File 134 of 300 saved: cropped/ddostrace.to-victim.20070804_143436_133.pcap\n"
     ]
    },
    {
     "name": "stderr",
     "output_type": "stream",
     "text": [
      "Splitting ddostrace.to-victim.20070804_143436.pcap: 18664611 packets [2:11:06, 4632.28 packets/s]"
     ]
    },
    {
     "name": "stdout",
     "output_type": "stream",
     "text": [
      "File 135 of 300 saved: cropped/ddostrace.to-victim.20070804_143436_134.pcap\n"
     ]
    },
    {
     "name": "stderr",
     "output_type": "stream",
     "text": [
      "Splitting ddostrace.to-victim.20070804_143436.pcap: 18767005 packets [2:12:06, 4807.40 packets/s]"
     ]
    },
    {
     "name": "stdout",
     "output_type": "stream",
     "text": [
      "File 136 of 300 saved: cropped/ddostrace.to-victim.20070804_143436_135.pcap\n"
     ]
    },
    {
     "name": "stderr",
     "output_type": "stream",
     "text": [
      "Splitting ddostrace.to-victim.20070804_143436.pcap: 18784596 packets [2:12:13, 4759.73 packets/s]"
     ]
    },
    {
     "name": "stdout",
     "output_type": "stream",
     "text": [
      "File 137 of 300 saved: cropped/ddostrace.to-victim.20070804_143436_136.pcap\n"
     ]
    },
    {
     "name": "stderr",
     "output_type": "stream",
     "text": [
      "Splitting ddostrace.to-victim.20070804_143436.pcap: 18811201 packets [2:12:22, 4303.86 packets/s]"
     ]
    },
    {
     "name": "stdout",
     "output_type": "stream",
     "text": [
      "File 138 of 300 saved: cropped/ddostrace.to-victim.20070804_143436_137.pcap\n"
     ]
    },
    {
     "name": "stderr",
     "output_type": "stream",
     "text": [
      "Splitting ddostrace.to-victim.20070804_143436.pcap: 18981696 packets [2:13:16, 4592.50 packets/s]"
     ]
    },
    {
     "name": "stdout",
     "output_type": "stream",
     "text": [
      "File 139 of 300 saved: cropped/ddostrace.to-victim.20070804_143436_138.pcap\n"
     ]
    },
    {
     "name": "stderr",
     "output_type": "stream",
     "text": [
      "Splitting ddostrace.to-victim.20070804_143436.pcap: 19150580 packets [2:14:38, 4867.64 packets/s]"
     ]
    },
    {
     "name": "stdout",
     "output_type": "stream",
     "text": [
      "File 140 of 300 saved: cropped/ddostrace.to-victim.20070804_143436_139.pcap\n"
     ]
    },
    {
     "name": "stderr",
     "output_type": "stream",
     "text": [
      "Splitting ddostrace.to-victim.20070804_143436.pcap: 19252197 packets [2:15:28, 3340.31 packets/s]"
     ]
    },
    {
     "name": "stdout",
     "output_type": "stream",
     "text": [
      "File 141 of 300 saved: cropped/ddostrace.to-victim.20070804_143436_140.pcap\n"
     ]
    },
    {
     "name": "stderr",
     "output_type": "stream",
     "text": [
      "Splitting ddostrace.to-victim.20070804_143436.pcap: 19387669 packets [2:16:18, 4747.88 packets/s]"
     ]
    },
    {
     "name": "stdout",
     "output_type": "stream",
     "text": [
      "File 142 of 300 saved: cropped/ddostrace.to-victim.20070804_143436_141.pcap\n"
     ]
    },
    {
     "name": "stderr",
     "output_type": "stream",
     "text": [
      "Splitting ddostrace.to-victim.20070804_143436.pcap: 19557545 packets [2:17:28, 4988.09 packets/s]"
     ]
    },
    {
     "name": "stdout",
     "output_type": "stream",
     "text": [
      "File 143 of 300 saved: cropped/ddostrace.to-victim.20070804_143436_142.pcap\n"
     ]
    },
    {
     "name": "stderr",
     "output_type": "stream",
     "text": [
      "Splitting ddostrace.to-victim.20070804_143436.pcap: 19723630 packets [2:18:39, 4594.60 packets/s]"
     ]
    },
    {
     "name": "stdout",
     "output_type": "stream",
     "text": [
      "File 144 of 300 saved: cropped/ddostrace.to-victim.20070804_143436_143.pcap\n"
     ]
    },
    {
     "name": "stderr",
     "output_type": "stream",
     "text": [
      "Splitting ddostrace.to-victim.20070804_143436.pcap: 19893969 packets [2:19:49, 4977.54 packets/s]"
     ]
    },
    {
     "name": "stdout",
     "output_type": "stream",
     "text": [
      "File 145 of 300 saved: cropped/ddostrace.to-victim.20070804_143436_144.pcap\n"
     ]
    },
    {
     "name": "stderr",
     "output_type": "stream",
     "text": [
      "Splitting ddostrace.to-victim.20070804_143436.pcap: 19995425 packets [2:20:49, 3710.42 packets/s]"
     ]
    },
    {
     "name": "stdout",
     "output_type": "stream",
     "text": [
      "File 146 of 300 saved: cropped/ddostrace.to-victim.20070804_143436_145.pcap\n"
     ]
    },
    {
     "name": "stderr",
     "output_type": "stream",
     "text": [
      "Splitting ddostrace.to-victim.20070804_143436.pcap: 20007410 packets [2:20:52, 4907.94 packets/s]"
     ]
    },
    {
     "name": "stdout",
     "output_type": "stream",
     "text": [
      "File 147 of 300 saved: cropped/ddostrace.to-victim.20070804_143436_146.pcap\n"
     ]
    },
    {
     "name": "stderr",
     "output_type": "stream",
     "text": [
      "Splitting ddostrace.to-victim.20070804_143436.pcap: 20019806 packets [2:20:58, 1644.64 packets/s]"
     ]
    },
    {
     "name": "stdout",
     "output_type": "stream",
     "text": [
      "File 148 of 300 saved: cropped/ddostrace.to-victim.20070804_143436_147.pcap\n"
     ]
    },
    {
     "name": "stderr",
     "output_type": "stream",
     "text": [
      "Splitting ddostrace.to-victim.20070804_143436.pcap: 20063700 packets [2:21:10, 4482.78 packets/s]"
     ]
    },
    {
     "name": "stdout",
     "output_type": "stream",
     "text": [
      "File 149 of 300 saved: cropped/ddostrace.to-victim.20070804_143436_148.pcap\n"
     ]
    },
    {
     "name": "stderr",
     "output_type": "stream",
     "text": [
      "Splitting ddostrace.to-victim.20070804_143436.pcap: 20233973 packets [2:22:09, 4925.64 packets/s]"
     ]
    },
    {
     "name": "stdout",
     "output_type": "stream",
     "text": [
      "File 150 of 300 saved: cropped/ddostrace.to-victim.20070804_143436_149.pcap\n"
     ]
    },
    {
     "name": "stderr",
     "output_type": "stream",
     "text": [
      "Splitting ddostrace.to-victim.20070804_143436.pcap: 20401702 packets [2:23:20, 4491.52 packets/s]"
     ]
    },
    {
     "name": "stdout",
     "output_type": "stream",
     "text": [
      "File 151 of 300 saved: cropped/ddostrace.to-victim.20070804_143436_150.pcap\n"
     ]
    },
    {
     "name": "stderr",
     "output_type": "stream",
     "text": [
      "Splitting ddostrace.to-victim.20070804_143436.pcap: 20568902 packets [2:24:40, 4811.42 packets/s]"
     ]
    },
    {
     "name": "stdout",
     "output_type": "stream",
     "text": [
      "File 152 of 300 saved: cropped/ddostrace.to-victim.20070804_143436_151.pcap\n"
     ]
    },
    {
     "name": "stderr",
     "output_type": "stream",
     "text": [
      "Splitting ddostrace.to-victim.20070804_143436.pcap: 20736354 packets [2:25:50, 4930.66 packets/s]"
     ]
    },
    {
     "name": "stdout",
     "output_type": "stream",
     "text": [
      "File 153 of 300 saved: cropped/ddostrace.to-victim.20070804_143436_152.pcap\n"
     ]
    },
    {
     "name": "stderr",
     "output_type": "stream",
     "text": [
      "Splitting ddostrace.to-victim.20070804_143436.pcap: 20903520 packets [2:27:01, 4847.43 packets/s]"
     ]
    },
    {
     "name": "stdout",
     "output_type": "stream",
     "text": [
      "File 154 of 300 saved: cropped/ddostrace.to-victim.20070804_143436_153.pcap\n"
     ]
    },
    {
     "name": "stderr",
     "output_type": "stream",
     "text": [
      "Splitting ddostrace.to-victim.20070804_143436.pcap: 21072536 packets [2:28:11, 4940.18 packets/s]"
     ]
    },
    {
     "name": "stdout",
     "output_type": "stream",
     "text": [
      "File 155 of 300 saved: cropped/ddostrace.to-victim.20070804_143436_154.pcap\n"
     ]
    },
    {
     "name": "stderr",
     "output_type": "stream",
     "text": [
      "Splitting ddostrace.to-victim.20070804_143436.pcap: 21232362 packets [2:29:21, 4756.45 packets/s]"
     ]
    },
    {
     "name": "stdout",
     "output_type": "stream",
     "text": [
      "File 156 of 300 saved: cropped/ddostrace.to-victim.20070804_143436_155.pcap\n"
     ]
    },
    {
     "name": "stderr",
     "output_type": "stream",
     "text": [
      "Splitting ddostrace.to-victim.20070804_143436.pcap: 21396411 packets [2:30:32, 4115.88 packets/s]"
     ]
    },
    {
     "name": "stdout",
     "output_type": "stream",
     "text": [
      "File 157 of 300 saved: cropped/ddostrace.to-victim.20070804_143436_156.pcap\n"
     ]
    },
    {
     "name": "stderr",
     "output_type": "stream",
     "text": [
      "Splitting ddostrace.to-victim.20070804_143436.pcap: 21565147 packets [2:31:42, 3349.26 packets/s]"
     ]
    },
    {
     "name": "stdout",
     "output_type": "stream",
     "text": [
      "File 158 of 300 saved: cropped/ddostrace.to-victim.20070804_143436_157.pcap\n"
     ]
    },
    {
     "name": "stderr",
     "output_type": "stream",
     "text": [
      "Splitting ddostrace.to-victim.20070804_143436.pcap: 21734265 packets [2:32:52, 4847.54 packets/s]"
     ]
    },
    {
     "name": "stdout",
     "output_type": "stream",
     "text": [
      "File 159 of 300 saved: cropped/ddostrace.to-victim.20070804_143436_158.pcap\n"
     ]
    },
    {
     "name": "stderr",
     "output_type": "stream",
     "text": [
      "Splitting ddostrace.to-victim.20070804_143436.pcap: 21903645 packets [2:34:02, 4780.78 packets/s]"
     ]
    },
    {
     "name": "stdout",
     "output_type": "stream",
     "text": [
      "File 160 of 300 saved: cropped/ddostrace.to-victim.20070804_143436_159.pcap\n"
     ]
    },
    {
     "name": "stderr",
     "output_type": "stream",
     "text": [
      "Splitting ddostrace.to-victim.20070804_143436.pcap: 22009637 packets [2:35:03, 4885.51 packets/s]"
     ]
    },
    {
     "name": "stdout",
     "output_type": "stream",
     "text": [
      "File 161 of 300 saved: cropped/ddostrace.to-victim.20070804_143436_160.pcap\n"
     ]
    },
    {
     "name": "stderr",
     "output_type": "stream",
     "text": [
      "Splitting ddostrace.to-victim.20070804_143436.pcap: 22112375 packets [2:35:53, 4940.43 packets/s]"
     ]
    },
    {
     "name": "stdout",
     "output_type": "stream",
     "text": [
      "File 162 of 300 saved: cropped/ddostrace.to-victim.20070804_143436_161.pcap\n"
     ]
    },
    {
     "name": "stderr",
     "output_type": "stream",
     "text": [
      "Splitting ddostrace.to-victim.20070804_143436.pcap: 22281710 packets [2:36:53, 4275.94 packets/s]"
     ]
    },
    {
     "name": "stdout",
     "output_type": "stream",
     "text": [
      "File 163 of 300 saved: cropped/ddostrace.to-victim.20070804_143436_162.pcap\n"
     ]
    },
    {
     "name": "stderr",
     "output_type": "stream",
     "text": [
      "Splitting ddostrace.to-victim.20070804_143436.pcap: 22450801 packets [2:38:03, 4780.98 packets/s]"
     ]
    },
    {
     "name": "stdout",
     "output_type": "stream",
     "text": [
      "File 164 of 300 saved: cropped/ddostrace.to-victim.20070804_143436_163.pcap\n"
     ]
    },
    {
     "name": "stderr",
     "output_type": "stream",
     "text": [
      "Splitting ddostrace.to-victim.20070804_143436.pcap: 22619263 packets [2:39:14, 4946.84 packets/s]"
     ]
    },
    {
     "name": "stdout",
     "output_type": "stream",
     "text": [
      "File 165 of 300 saved: cropped/ddostrace.to-victim.20070804_143436_164.pcap\n"
     ]
    },
    {
     "name": "stderr",
     "output_type": "stream",
     "text": [
      "Splitting ddostrace.to-victim.20070804_143436.pcap: 22728184 packets [2:40:04, 4817.31 packets/s]"
     ]
    },
    {
     "name": "stdout",
     "output_type": "stream",
     "text": [
      "File 166 of 300 saved: cropped/ddostrace.to-victim.20070804_143436_165.pcap\n"
     ]
    },
    {
     "name": "stderr",
     "output_type": "stream",
     "text": [
      "Splitting ddostrace.to-victim.20070804_143436.pcap: 22813937 packets [2:40:37, 4687.07 packets/s]"
     ]
    },
    {
     "name": "stdout",
     "output_type": "stream",
     "text": [
      "File 167 of 300 saved: cropped/ddostrace.to-victim.20070804_143436_166.pcap\n"
     ]
    },
    {
     "name": "stderr",
     "output_type": "stream",
     "text": [
      "Splitting ddostrace.to-victim.20070804_143436.pcap: 22983367 packets [2:41:44, 4804.09 packets/s]"
     ]
    },
    {
     "name": "stdout",
     "output_type": "stream",
     "text": [
      "File 168 of 300 saved: cropped/ddostrace.to-victim.20070804_143436_167.pcap\n"
     ]
    },
    {
     "name": "stderr",
     "output_type": "stream",
     "text": [
      "Splitting ddostrace.to-victim.20070804_143436.pcap: 23152509 packets [2:42:55, 3378.40 packets/s]"
     ]
    },
    {
     "name": "stdout",
     "output_type": "stream",
     "text": [
      "File 169 of 300 saved: cropped/ddostrace.to-victim.20070804_143436_168.pcap\n"
     ]
    },
    {
     "name": "stderr",
     "output_type": "stream",
     "text": [
      "Splitting ddostrace.to-victim.20070804_143436.pcap: 23322311 packets [2:44:05, 4768.96 packets/s]"
     ]
    },
    {
     "name": "stdout",
     "output_type": "stream",
     "text": [
      "File 170 of 300 saved: cropped/ddostrace.to-victim.20070804_143436_169.pcap\n"
     ]
    },
    {
     "name": "stderr",
     "output_type": "stream",
     "text": [
      "Splitting ddostrace.to-victim.20070804_143436.pcap: 23485974 packets [2:45:25, 4777.51 packets/s]"
     ]
    },
    {
     "name": "stdout",
     "output_type": "stream",
     "text": [
      "File 171 of 300 saved: cropped/ddostrace.to-victim.20070804_143436_170.pcap\n"
     ]
    },
    {
     "name": "stderr",
     "output_type": "stream",
     "text": [
      "Splitting ddostrace.to-victim.20070804_143436.pcap: 23655339 packets [2:46:36, 2008.82 packets/s]"
     ]
    },
    {
     "name": "stdout",
     "output_type": "stream",
     "text": [
      "File 172 of 300 saved: cropped/ddostrace.to-victim.20070804_143436_171.pcap\n"
     ]
    },
    {
     "name": "stderr",
     "output_type": "stream",
     "text": [
      "Splitting ddostrace.to-victim.20070804_143436.pcap: 23824128 packets [2:47:46, 4811.32 packets/s]"
     ]
    },
    {
     "name": "stdout",
     "output_type": "stream",
     "text": [
      "File 173 of 300 saved: cropped/ddostrace.to-victim.20070804_143436_172.pcap\n"
     ]
    },
    {
     "name": "stderr",
     "output_type": "stream",
     "text": [
      "Splitting ddostrace.to-victim.20070804_143436.pcap: 23988776 packets [2:48:56, 4245.46 packets/s]"
     ]
    },
    {
     "name": "stdout",
     "output_type": "stream",
     "text": [
      "File 174 of 300 saved: cropped/ddostrace.to-victim.20070804_143436_173.pcap\n"
     ]
    },
    {
     "name": "stderr",
     "output_type": "stream",
     "text": [
      "Splitting ddostrace.to-victim.20070804_143436.pcap: 24156183 packets [2:50:06, 4836.11 packets/s]"
     ]
    },
    {
     "name": "stdout",
     "output_type": "stream",
     "text": [
      "File 175 of 300 saved: cropped/ddostrace.to-victim.20070804_143436_174.pcap\n"
     ]
    },
    {
     "name": "stderr",
     "output_type": "stream",
     "text": [
      "Splitting ddostrace.to-victim.20070804_143436.pcap: 24266750 packets [2:51:06, 4848.17 packets/s]"
     ]
    },
    {
     "name": "stdout",
     "output_type": "stream",
     "text": [
      "File 176 of 300 saved: cropped/ddostrace.to-victim.20070804_143436_175.pcap\n"
     ]
    },
    {
     "name": "stderr",
     "output_type": "stream",
     "text": [
      "Splitting ddostrace.to-victim.20070804_143436.pcap: 24405392 packets [2:51:57, 4736.99 packets/s]"
     ]
    },
    {
     "name": "stdout",
     "output_type": "stream",
     "text": [
      "File 177 of 300 saved: cropped/ddostrace.to-victim.20070804_143436_176.pcap\n"
     ]
    },
    {
     "name": "stderr",
     "output_type": "stream",
     "text": [
      "Splitting ddostrace.to-victim.20070804_143436.pcap: 24575109 packets [2:53:07, 4752.51 packets/s]"
     ]
    },
    {
     "name": "stdout",
     "output_type": "stream",
     "text": [
      "File 178 of 300 saved: cropped/ddostrace.to-victim.20070804_143436_177.pcap\n"
     ]
    },
    {
     "name": "stderr",
     "output_type": "stream",
     "text": [
      "Splitting ddostrace.to-victim.20070804_143436.pcap: 24745273 packets [2:54:18, 4847.08 packets/s]"
     ]
    },
    {
     "name": "stdout",
     "output_type": "stream",
     "text": [
      "File 179 of 300 saved: cropped/ddostrace.to-victim.20070804_143436_178.pcap\n"
     ]
    },
    {
     "name": "stderr",
     "output_type": "stream",
     "text": [
      "Splitting ddostrace.to-victim.20070804_143436.pcap: 24915019 packets [2:55:28, 4945.95 packets/s]"
     ]
    },
    {
     "name": "stdout",
     "output_type": "stream",
     "text": [
      "File 180 of 300 saved: cropped/ddostrace.to-victim.20070804_143436_179.pcap\n"
     ]
    },
    {
     "name": "stderr",
     "output_type": "stream",
     "text": [
      "Splitting ddostrace.to-victim.20070804_143436.pcap: 25029039 packets [2:56:28, 4747.06 packets/s]"
     ]
    },
    {
     "name": "stdout",
     "output_type": "stream",
     "text": [
      "File 181 of 300 saved: cropped/ddostrace.to-victim.20070804_143436_180.pcap\n"
     ]
    },
    {
     "name": "stderr",
     "output_type": "stream",
     "text": [
      "Splitting ddostrace.to-victim.20070804_143436.pcap: 25046194 packets [2:56:43, 4842.61 packets/s]"
     ]
    },
    {
     "name": "stdout",
     "output_type": "stream",
     "text": [
      "File 182 of 300 saved: cropped/ddostrace.to-victim.20070804_143436_181.pcap\n"
     ]
    },
    {
     "name": "stderr",
     "output_type": "stream",
     "text": [
      "Splitting ddostrace.to-victim.20070804_143436.pcap: 25201554 packets [2:57:38, 4362.10 packets/s]"
     ]
    },
    {
     "name": "stdout",
     "output_type": "stream",
     "text": [
      "File 183 of 300 saved: cropped/ddostrace.to-victim.20070804_143436_182.pcap\n"
     ]
    },
    {
     "name": "stderr",
     "output_type": "stream",
     "text": [
      "Splitting ddostrace.to-victim.20070804_143436.pcap: 25368927 packets [2:58:49, 4140.83 packets/s]"
     ]
    },
    {
     "name": "stdout",
     "output_type": "stream",
     "text": [
      "File 184 of 300 saved: cropped/ddostrace.to-victim.20070804_143436_183.pcap\n"
     ]
    },
    {
     "name": "stderr",
     "output_type": "stream",
     "text": [
      "Splitting ddostrace.to-victim.20070804_143436.pcap: 25536998 packets [2:59:59, 4830.33 packets/s]"
     ]
    },
    {
     "name": "stdout",
     "output_type": "stream",
     "text": [
      "File 185 of 300 saved: cropped/ddostrace.to-victim.20070804_143436_184.pcap\n"
     ]
    },
    {
     "name": "stderr",
     "output_type": "stream",
     "text": [
      "Splitting ddostrace.to-victim.20070804_143436.pcap: 25647572 packets [3:00:59, 4812.40 packets/s]"
     ]
    },
    {
     "name": "stdout",
     "output_type": "stream",
     "text": [
      "File 186 of 300 saved: cropped/ddostrace.to-victim.20070804_143436_185.pcap\n"
     ]
    },
    {
     "name": "stderr",
     "output_type": "stream",
     "text": [
      "Splitting ddostrace.to-victim.20070804_143436.pcap: 25657535 packets [3:01:06, 4162.34 packets/s]"
     ]
    },
    {
     "name": "stdout",
     "output_type": "stream",
     "text": [
      "File 187 of 300 saved: cropped/ddostrace.to-victim.20070804_143436_186.pcap\n"
     ]
    },
    {
     "name": "stderr",
     "output_type": "stream",
     "text": [
      "Splitting ddostrace.to-victim.20070804_143436.pcap: 25669153 packets [3:01:11, 4621.58 packets/s]"
     ]
    },
    {
     "name": "stdout",
     "output_type": "stream",
     "text": [
      "File 188 of 300 saved: cropped/ddostrace.to-victim.20070804_143436_187.pcap\n"
     ]
    },
    {
     "name": "stderr",
     "output_type": "stream",
     "text": [
      "Splitting ddostrace.to-victim.20070804_143436.pcap: 25784649 packets [3:01:59, 4842.63 packets/s]"
     ]
    },
    {
     "name": "stdout",
     "output_type": "stream",
     "text": [
      "File 189 of 300 saved: cropped/ddostrace.to-victim.20070804_143436_188.pcap\n"
     ]
    },
    {
     "name": "stderr",
     "output_type": "stream",
     "text": [
      "Splitting ddostrace.to-victim.20070804_143436.pcap: 25951483 packets [3:02:59, 4844.93 packets/s]"
     ]
    },
    {
     "name": "stdout",
     "output_type": "stream",
     "text": [
      "File 190 of 300 saved: cropped/ddostrace.to-victim.20070804_143436_189.pcap\n"
     ]
    },
    {
     "name": "stderr",
     "output_type": "stream",
     "text": [
      "Splitting ddostrace.to-victim.20070804_143436.pcap: 26116262 packets [3:04:10, 4818.62 packets/s]"
     ]
    },
    {
     "name": "stdout",
     "output_type": "stream",
     "text": [
      "File 191 of 300 saved: cropped/ddostrace.to-victim.20070804_143436_190.pcap\n"
     ]
    },
    {
     "name": "stderr",
     "output_type": "stream",
     "text": [
      "Splitting ddostrace.to-victim.20070804_143436.pcap: 26284759 packets [3:05:21, 4745.95 packets/s]"
     ]
    },
    {
     "name": "stdout",
     "output_type": "stream",
     "text": [
      "File 192 of 300 saved: cropped/ddostrace.to-victim.20070804_143436_191.pcap\n"
     ]
    },
    {
     "name": "stderr",
     "output_type": "stream",
     "text": [
      "Splitting ddostrace.to-victim.20070804_143436.pcap: 26452716 packets [3:06:31, 4267.16 packets/s]"
     ]
    },
    {
     "name": "stdout",
     "output_type": "stream",
     "text": [
      "File 193 of 300 saved: cropped/ddostrace.to-victim.20070804_143436_192.pcap\n"
     ]
    },
    {
     "name": "stderr",
     "output_type": "stream",
     "text": [
      "Splitting ddostrace.to-victim.20070804_143436.pcap: 26620208 packets [3:07:42, 4894.39 packets/s]"
     ]
    },
    {
     "name": "stdout",
     "output_type": "stream",
     "text": [
      "File 194 of 300 saved: cropped/ddostrace.to-victim.20070804_143436_193.pcap\n"
     ]
    },
    {
     "name": "stderr",
     "output_type": "stream",
     "text": [
      "Splitting ddostrace.to-victim.20070804_143436.pcap: 26785430 packets [3:08:52, 3301.98 packets/s]"
     ]
    },
    {
     "name": "stdout",
     "output_type": "stream",
     "text": [
      "File 195 of 300 saved: cropped/ddostrace.to-victim.20070804_143436_194.pcap\n"
     ]
    },
    {
     "name": "stderr",
     "output_type": "stream",
     "text": [
      "Splitting ddostrace.to-victim.20070804_143436.pcap: 26908068 packets [3:09:52, 4803.73 packets/s]"
     ]
    },
    {
     "name": "stdout",
     "output_type": "stream",
     "text": [
      "File 196 of 300 saved: cropped/ddostrace.to-victim.20070804_143436_195.pcap\n"
     ]
    },
    {
     "name": "stderr",
     "output_type": "stream",
     "text": [
      "Splitting ddostrace.to-victim.20070804_143436.pcap: 27072699 packets [3:10:52, 4824.00 packets/s]"
     ]
    },
    {
     "name": "stdout",
     "output_type": "stream",
     "text": [
      "File 197 of 300 saved: cropped/ddostrace.to-victim.20070804_143436_196.pcap\n"
     ]
    },
    {
     "name": "stderr",
     "output_type": "stream",
     "text": [
      "Splitting ddostrace.to-victim.20070804_143436.pcap: 27243223 packets [3:12:04, 4387.99 packets/s]"
     ]
    },
    {
     "name": "stdout",
     "output_type": "stream",
     "text": [
      "File 198 of 300 saved: cropped/ddostrace.to-victim.20070804_143436_197.pcap\n"
     ]
    },
    {
     "name": "stderr",
     "output_type": "stream",
     "text": [
      "Splitting ddostrace.to-victim.20070804_143436.pcap: 27413410 packets [3:13:24, 4837.05 packets/s]"
     ]
    },
    {
     "name": "stdout",
     "output_type": "stream",
     "text": [
      "File 199 of 300 saved: cropped/ddostrace.to-victim.20070804_143436_198.pcap\n"
     ]
    },
    {
     "name": "stderr",
     "output_type": "stream",
     "text": [
      "Splitting ddostrace.to-victim.20070804_143436.pcap: 27582255 packets [3:14:34, 4342.96 packets/s]"
     ]
    },
    {
     "name": "stdout",
     "output_type": "stream",
     "text": [
      "File 200 of 300 saved: cropped/ddostrace.to-victim.20070804_143436_199.pcap\n"
     ]
    },
    {
     "name": "stderr",
     "output_type": "stream",
     "text": [
      "Splitting ddostrace.to-victim.20070804_143436.pcap: 27703358 packets [3:15:35, 4949.86 packets/s]"
     ]
    },
    {
     "name": "stdout",
     "output_type": "stream",
     "text": [
      "File 201 of 300 saved: cropped/ddostrace.to-victim.20070804_143436_200.pcap\n"
     ]
    },
    {
     "name": "stderr",
     "output_type": "stream",
     "text": [
      "Splitting ddostrace.to-victim.20070804_143436.pcap: 27733636 packets [3:15:48, 3933.26 packets/s]"
     ]
    },
    {
     "name": "stdout",
     "output_type": "stream",
     "text": [
      "File 202 of 300 saved: cropped/ddostrace.to-victim.20070804_143436_201.pcap\n"
     ]
    },
    {
     "name": "stderr",
     "output_type": "stream",
     "text": [
      "Splitting ddostrace.to-victim.20070804_143436.pcap: 27903608 packets [3:16:45, 4779.35 packets/s]"
     ]
    },
    {
     "name": "stdout",
     "output_type": "stream",
     "text": [
      "File 203 of 300 saved: cropped/ddostrace.to-victim.20070804_143436_202.pcap\n"
     ]
    },
    {
     "name": "stderr",
     "output_type": "stream",
     "text": [
      "Splitting ddostrace.to-victim.20070804_143436.pcap: 28072761 packets [3:17:56, 4750.04 packets/s]"
     ]
    },
    {
     "name": "stdout",
     "output_type": "stream",
     "text": [
      "File 204 of 300 saved: cropped/ddostrace.to-victim.20070804_143436_203.pcap\n"
     ]
    },
    {
     "name": "stderr",
     "output_type": "stream",
     "text": [
      "Splitting ddostrace.to-victim.20070804_143436.pcap: 28240399 packets [3:19:16, 2414.02 packets/s]"
     ]
    },
    {
     "name": "stdout",
     "output_type": "stream",
     "text": [
      "File 205 of 300 saved: cropped/ddostrace.to-victim.20070804_143436_204.pcap\n"
     ]
    },
    {
     "name": "stderr",
     "output_type": "stream",
     "text": [
      "Splitting ddostrace.to-victim.20070804_143436.pcap: 28377387 packets [3:20:16, 4727.44 packets/s]"
     ]
    },
    {
     "name": "stdout",
     "output_type": "stream",
     "text": [
      "File 206 of 300 saved: cropped/ddostrace.to-victim.20070804_143436_205.pcap\n"
     ]
    },
    {
     "name": "stderr",
     "output_type": "stream",
     "text": [
      "Splitting ddostrace.to-victim.20070804_143436.pcap: 28545173 packets [3:21:27, 4784.67 packets/s]"
     ]
    },
    {
     "name": "stdout",
     "output_type": "stream",
     "text": [
      "File 207 of 300 saved: cropped/ddostrace.to-victim.20070804_143436_206.pcap\n"
     ]
    },
    {
     "name": "stderr",
     "output_type": "stream",
     "text": [
      "Splitting ddostrace.to-victim.20070804_143436.pcap: 28713935 packets [3:22:37, 4804.15 packets/s]"
     ]
    },
    {
     "name": "stdout",
     "output_type": "stream",
     "text": [
      "File 208 of 300 saved: cropped/ddostrace.to-victim.20070804_143436_207.pcap\n"
     ]
    },
    {
     "name": "stderr",
     "output_type": "stream",
     "text": [
      "Splitting ddostrace.to-victim.20070804_143436.pcap: 28881995 packets [3:23:57, 4529.93 packets/s]"
     ]
    },
    {
     "name": "stdout",
     "output_type": "stream",
     "text": [
      "File 209 of 300 saved: cropped/ddostrace.to-victim.20070804_143436_208.pcap\n"
     ]
    },
    {
     "name": "stderr",
     "output_type": "stream",
     "text": [
      "Splitting ddostrace.to-victim.20070804_143436.pcap: 29049931 packets [3:25:08, 4566.83 packets/s]"
     ]
    },
    {
     "name": "stdout",
     "output_type": "stream",
     "text": [
      "File 210 of 300 saved: cropped/ddostrace.to-victim.20070804_143436_209.pcap\n"
     ]
    },
    {
     "name": "stderr",
     "output_type": "stream",
     "text": [
      "Splitting ddostrace.to-victim.20070804_143436.pcap: 29173613 packets [3:26:08, 4863.00 packets/s]"
     ]
    },
    {
     "name": "stdout",
     "output_type": "stream",
     "text": [
      "File 211 of 300 saved: cropped/ddostrace.to-victim.20070804_143436_210.pcap\n"
     ]
    },
    {
     "name": "stderr",
     "output_type": "stream",
     "text": [
      "Splitting ddostrace.to-victim.20070804_143436.pcap: 29187770 packets [3:26:21, 4160.76 packets/s]"
     ]
    },
    {
     "name": "stdout",
     "output_type": "stream",
     "text": [
      "File 212 of 300 saved: cropped/ddostrace.to-victim.20070804_143436_211.pcap\n"
     ]
    },
    {
     "name": "stderr",
     "output_type": "stream",
     "text": [
      "Splitting ddostrace.to-victim.20070804_143436.pcap: 29204551 packets [3:26:28, 4922.30 packets/s]"
     ]
    },
    {
     "name": "stdout",
     "output_type": "stream",
     "text": [
      "File 213 of 300 saved: cropped/ddostrace.to-victim.20070804_143436_212.pcap\n"
     ]
    },
    {
     "name": "stderr",
     "output_type": "stream",
     "text": [
      "Splitting ddostrace.to-victim.20070804_143436.pcap: 29317428 packets [3:27:08, 4689.30 packets/s]"
     ]
    },
    {
     "name": "stdout",
     "output_type": "stream",
     "text": [
      "File 214 of 300 saved: cropped/ddostrace.to-victim.20070804_143436_213.pcap\n"
     ]
    },
    {
     "name": "stderr",
     "output_type": "stream",
     "text": [
      "Splitting ddostrace.to-victim.20070804_143436.pcap: 29486851 packets [3:28:08, 3575.95 packets/s]"
     ]
    },
    {
     "name": "stdout",
     "output_type": "stream",
     "text": [
      "File 215 of 300 saved: cropped/ddostrace.to-victim.20070804_143436_214.pcap\n"
     ]
    },
    {
     "name": "stderr",
     "output_type": "stream",
     "text": [
      "Splitting ddostrace.to-victim.20070804_143436.pcap: 29612377 packets [3:29:18, 4810.32 packets/s]"
     ]
    },
    {
     "name": "stdout",
     "output_type": "stream",
     "text": [
      "File 216 of 300 saved: cropped/ddostrace.to-victim.20070804_143436_215.pcap\n"
     ]
    },
    {
     "name": "stderr",
     "output_type": "stream",
     "text": [
      "Splitting ddostrace.to-victim.20070804_143436.pcap: 29767093 packets [3:30:19, 4766.45 packets/s]"
     ]
    },
    {
     "name": "stdout",
     "output_type": "stream",
     "text": [
      "File 217 of 300 saved: cropped/ddostrace.to-victim.20070804_143436_216.pcap\n"
     ]
    },
    {
     "name": "stderr",
     "output_type": "stream",
     "text": [
      "Splitting ddostrace.to-victim.20070804_143436.pcap: 29936739 packets [3:31:29, 4637.27 packets/s]"
     ]
    },
    {
     "name": "stdout",
     "output_type": "stream",
     "text": [
      "File 218 of 300 saved: cropped/ddostrace.to-victim.20070804_143436_217.pcap\n"
     ]
    },
    {
     "name": "stderr",
     "output_type": "stream",
     "text": [
      "Splitting ddostrace.to-victim.20070804_143436.pcap: 30106057 packets [3:32:39, 4757.00 packets/s]"
     ]
    },
    {
     "name": "stdout",
     "output_type": "stream",
     "text": [
      "File 219 of 300 saved: cropped/ddostrace.to-victim.20070804_143436_218.pcap\n"
     ]
    },
    {
     "name": "stderr",
     "output_type": "stream",
     "text": [
      "Splitting ddostrace.to-victim.20070804_143436.pcap: 30275538 packets [3:33:50, 4785.32 packets/s]"
     ]
    },
    {
     "name": "stdout",
     "output_type": "stream",
     "text": [
      "File 220 of 300 saved: cropped/ddostrace.to-victim.20070804_143436_219.pcap\n"
     ]
    },
    {
     "name": "stderr",
     "output_type": "stream",
     "text": [
      "Splitting ddostrace.to-victim.20070804_143436.pcap: 30398092 packets [3:34:50, 4125.20 packets/s]"
     ]
    },
    {
     "name": "stdout",
     "output_type": "stream",
     "text": [
      "File 221 of 300 saved: cropped/ddostrace.to-victim.20070804_143436_220.pcap\n"
     ]
    },
    {
     "name": "stderr",
     "output_type": "stream",
     "text": [
      "Splitting ddostrace.to-victim.20070804_143436.pcap: 30457592 packets [3:35:16, 4696.90 packets/s]"
     ]
    },
    {
     "name": "stdout",
     "output_type": "stream",
     "text": [
      "File 222 of 300 saved: cropped/ddostrace.to-victim.20070804_143436_221.pcap\n"
     ]
    },
    {
     "name": "stderr",
     "output_type": "stream",
     "text": [
      "Splitting ddostrace.to-victim.20070804_143436.pcap: 30627344 packets [3:36:20, 4814.26 packets/s]"
     ]
    },
    {
     "name": "stdout",
     "output_type": "stream",
     "text": [
      "File 223 of 300 saved: cropped/ddostrace.to-victim.20070804_143436_222.pcap\n"
     ]
    },
    {
     "name": "stderr",
     "output_type": "stream",
     "text": [
      "Splitting ddostrace.to-victim.20070804_143436.pcap: 30796647 packets [3:37:30, 4848.09 packets/s]"
     ]
    },
    {
     "name": "stdout",
     "output_type": "stream",
     "text": [
      "File 224 of 300 saved: cropped/ddostrace.to-victim.20070804_143436_223.pcap\n"
     ]
    },
    {
     "name": "stderr",
     "output_type": "stream",
     "text": [
      "Splitting ddostrace.to-victim.20070804_143436.pcap: 30965618 packets [3:38:51, 4811.46 packets/s]"
     ]
    },
    {
     "name": "stdout",
     "output_type": "stream",
     "text": [
      "File 225 of 300 saved: cropped/ddostrace.to-victim.20070804_143436_224.pcap\n"
     ]
    },
    {
     "name": "stderr",
     "output_type": "stream",
     "text": [
      "Splitting ddostrace.to-victim.20070804_143436.pcap: 31127542 packets [3:40:01, 4525.29 packets/s]"
     ]
    },
    {
     "name": "stdout",
     "output_type": "stream",
     "text": [
      "File 226 of 300 saved: cropped/ddostrace.to-victim.20070804_143436_225.pcap\n"
     ]
    },
    {
     "name": "stderr",
     "output_type": "stream",
     "text": [
      "Splitting ddostrace.to-victim.20070804_143436.pcap: 31296374 packets [3:41:11, 3325.24 packets/s]"
     ]
    },
    {
     "name": "stdout",
     "output_type": "stream",
     "text": [
      "File 227 of 300 saved: cropped/ddostrace.to-victim.20070804_143436_226.pcap\n"
     ]
    },
    {
     "name": "stderr",
     "output_type": "stream",
     "text": [
      "Splitting ddostrace.to-victim.20070804_143436.pcap: 31464209 packets [3:42:21, 4728.85 packets/s]"
     ]
    },
    {
     "name": "stdout",
     "output_type": "stream",
     "text": [
      "File 228 of 300 saved: cropped/ddostrace.to-victim.20070804_143436_227.pcap\n"
     ]
    },
    {
     "name": "stderr",
     "output_type": "stream",
     "text": [
      "Splitting ddostrace.to-victim.20070804_143436.pcap: 31632410 packets [3:43:32, 3122.98 packets/s]"
     ]
    },
    {
     "name": "stdout",
     "output_type": "stream",
     "text": [
      "File 229 of 300 saved: cropped/ddostrace.to-victim.20070804_143436_228.pcap\n"
     ]
    },
    {
     "name": "stderr",
     "output_type": "stream",
     "text": [
      "Splitting ddostrace.to-victim.20070804_143436.pcap: 31801724 packets [3:44:42, 4781.74 packets/s]"
     ]
    },
    {
     "name": "stdout",
     "output_type": "stream",
     "text": [
      "File 230 of 300 saved: cropped/ddostrace.to-victim.20070804_143436_229.pcap\n"
     ]
    },
    {
     "name": "stderr",
     "output_type": "stream",
     "text": [
      "Splitting ddostrace.to-victim.20070804_143436.pcap: 31965545 packets [3:45:52, 4799.26 packets/s]"
     ]
    },
    {
     "name": "stdout",
     "output_type": "stream",
     "text": [
      "File 231 of 300 saved: cropped/ddostrace.to-victim.20070804_143436_230.pcap\n"
     ]
    },
    {
     "name": "stderr",
     "output_type": "stream",
     "text": [
      "Splitting ddostrace.to-victim.20070804_143436.pcap: 32135208 packets [3:47:12, 4025.44 packets/s]"
     ]
    },
    {
     "name": "stdout",
     "output_type": "stream",
     "text": [
      "File 232 of 300 saved: cropped/ddostrace.to-victim.20070804_143436_231.pcap\n"
     ]
    },
    {
     "name": "stderr",
     "output_type": "stream",
     "text": [
      "Splitting ddostrace.to-victim.20070804_143436.pcap: 32304167 packets [3:48:22, 4699.89 packets/s]"
     ]
    },
    {
     "name": "stdout",
     "output_type": "stream",
     "text": [
      "File 233 of 300 saved: cropped/ddostrace.to-victim.20070804_143436_232.pcap\n"
     ]
    },
    {
     "name": "stderr",
     "output_type": "stream",
     "text": [
      "Splitting ddostrace.to-victim.20070804_143436.pcap: 32470531 packets [3:49:33, 3933.63 packets/s]"
     ]
    },
    {
     "name": "stdout",
     "output_type": "stream",
     "text": [
      "File 234 of 300 saved: cropped/ddostrace.to-victim.20070804_143436_233.pcap\n"
     ]
    },
    {
     "name": "stderr",
     "output_type": "stream",
     "text": [
      "Splitting ddostrace.to-victim.20070804_143436.pcap: 32639194 packets [3:50:43, 4857.45 packets/s]"
     ]
    },
    {
     "name": "stdout",
     "output_type": "stream",
     "text": [
      "File 235 of 300 saved: cropped/ddostrace.to-victim.20070804_143436_234.pcap\n"
     ]
    },
    {
     "name": "stderr",
     "output_type": "stream",
     "text": [
      "Splitting ddostrace.to-victim.20070804_143436.pcap: 32801030 packets [3:51:53, 2259.79 packets/s]"
     ]
    },
    {
     "name": "stdout",
     "output_type": "stream",
     "text": [
      "File 236 of 300 saved: cropped/ddostrace.to-victim.20070804_143436_235.pcap\n"
     ]
    },
    {
     "name": "stderr",
     "output_type": "stream",
     "text": [
      "Splitting ddostrace.to-victim.20070804_143436.pcap: 32965519 packets [3:53:04, 4795.69 packets/s]"
     ]
    },
    {
     "name": "stdout",
     "output_type": "stream",
     "text": [
      "File 237 of 300 saved: cropped/ddostrace.to-victim.20070804_143436_236.pcap\n"
     ]
    },
    {
     "name": "stderr",
     "output_type": "stream",
     "text": [
      "Splitting ddostrace.to-victim.20070804_143436.pcap: 33135222 packets [3:54:14, 3774.06 packets/s]"
     ]
    },
    {
     "name": "stdout",
     "output_type": "stream",
     "text": [
      "File 238 of 300 saved: cropped/ddostrace.to-victim.20070804_143436_237.pcap\n"
     ]
    },
    {
     "name": "stderr",
     "output_type": "stream",
     "text": [
      "Splitting ddostrace.to-victim.20070804_143436.pcap: 33303815 packets [3:55:34, 4436.12 packets/s]"
     ]
    },
    {
     "name": "stdout",
     "output_type": "stream",
     "text": [
      "File 239 of 300 saved: cropped/ddostrace.to-victim.20070804_143436_238.pcap\n"
     ]
    },
    {
     "name": "stderr",
     "output_type": "stream",
     "text": [
      "Splitting ddostrace.to-victim.20070804_143436.pcap: 33472905 packets [3:56:45, 4600.83 packets/s]"
     ]
    },
    {
     "name": "stdout",
     "output_type": "stream",
     "text": [
      "File 240 of 300 saved: cropped/ddostrace.to-victim.20070804_143436_239.pcap\n"
     ]
    },
    {
     "name": "stderr",
     "output_type": "stream",
     "text": [
      "Splitting ddostrace.to-victim.20070804_143436.pcap: 33635444 packets [3:57:55, 4655.65 packets/s]"
     ]
    },
    {
     "name": "stdout",
     "output_type": "stream",
     "text": [
      "File 241 of 300 saved: cropped/ddostrace.to-victim.20070804_143436_240.pcap\n"
     ]
    },
    {
     "name": "stderr",
     "output_type": "stream",
     "text": [
      "Splitting ddostrace.to-victim.20070804_143436.pcap: 33752532 packets [3:58:55, 4827.27 packets/s]"
     ]
    },
    {
     "name": "stdout",
     "output_type": "stream",
     "text": [
      "File 242 of 300 saved: cropped/ddostrace.to-victim.20070804_143436_241.pcap\n"
     ]
    },
    {
     "name": "stderr",
     "output_type": "stream",
     "text": [
      "Splitting ddostrace.to-victim.20070804_143436.pcap: 33847861 packets [3:59:45, 4789.40 packets/s]"
     ]
    },
    {
     "name": "stdout",
     "output_type": "stream",
     "text": [
      "File 243 of 300 saved: cropped/ddostrace.to-victim.20070804_143436_242.pcap\n"
     ]
    },
    {
     "name": "stderr",
     "output_type": "stream",
     "text": [
      "Splitting ddostrace.to-victim.20070804_143436.pcap: 34016591 packets [4:00:45, 3305.68 packets/s]"
     ]
    },
    {
     "name": "stdout",
     "output_type": "stream",
     "text": [
      "File 244 of 300 saved: cropped/ddostrace.to-victim.20070804_143436_243.pcap\n"
     ]
    },
    {
     "name": "stderr",
     "output_type": "stream",
     "text": [
      "Splitting ddostrace.to-victim.20070804_143436.pcap: 34185246 packets [4:01:56, 4744.43 packets/s]"
     ]
    },
    {
     "name": "stdout",
     "output_type": "stream",
     "text": [
      "File 245 of 300 saved: cropped/ddostrace.to-victim.20070804_143436_244.pcap\n"
     ]
    },
    {
     "name": "stderr",
     "output_type": "stream",
     "text": [
      "Splitting ddostrace.to-victim.20070804_143436.pcap: 34349662 packets [4:03:06, 4844.71 packets/s]"
     ]
    },
    {
     "name": "stdout",
     "output_type": "stream",
     "text": [
      "File 246 of 300 saved: cropped/ddostrace.to-victim.20070804_143436_245.pcap\n"
     ]
    },
    {
     "name": "stderr",
     "output_type": "stream",
     "text": [
      "Splitting ddostrace.to-victim.20070804_143436.pcap: 34519157 packets [4:04:16, 4748.08 packets/s]"
     ]
    },
    {
     "name": "stdout",
     "output_type": "stream",
     "text": [
      "File 247 of 300 saved: cropped/ddostrace.to-victim.20070804_143436_246.pcap\n"
     ]
    },
    {
     "name": "stderr",
     "output_type": "stream",
     "text": [
      "Splitting ddostrace.to-victim.20070804_143436.pcap: 34688916 packets [4:05:36, 4752.08 packets/s]"
     ]
    },
    {
     "name": "stdout",
     "output_type": "stream",
     "text": [
      "File 248 of 300 saved: cropped/ddostrace.to-victim.20070804_143436_247.pcap\n"
     ]
    },
    {
     "name": "stderr",
     "output_type": "stream",
     "text": [
      "Splitting ddostrace.to-victim.20070804_143436.pcap: 34859340 packets [4:06:46, 4889.07 packets/s]"
     ]
    },
    {
     "name": "stdout",
     "output_type": "stream",
     "text": [
      "File 249 of 300 saved: cropped/ddostrace.to-victim.20070804_143436_248.pcap\n"
     ]
    },
    {
     "name": "stderr",
     "output_type": "stream",
     "text": [
      "Splitting ddostrace.to-victim.20070804_143436.pcap: 35030867 packets [4:07:57, 4239.55 packets/s]"
     ]
    },
    {
     "name": "stdout",
     "output_type": "stream",
     "text": [
      "File 250 of 300 saved: cropped/ddostrace.to-victim.20070804_143436_249.pcap\n"
     ]
    },
    {
     "name": "stderr",
     "output_type": "stream",
     "text": [
      "Splitting ddostrace.to-victim.20070804_143436.pcap: 35198005 packets [4:09:17, 4816.83 packets/s]"
     ]
    },
    {
     "name": "stdout",
     "output_type": "stream",
     "text": [
      "File 251 of 300 saved: cropped/ddostrace.to-victim.20070804_143436_250.pcap\n"
     ]
    },
    {
     "name": "stderr",
     "output_type": "stream",
     "text": [
      "Splitting ddostrace.to-victim.20070804_143436.pcap: 35344523 packets [4:10:17, 4809.94 packets/s]"
     ]
    },
    {
     "name": "stdout",
     "output_type": "stream",
     "text": [
      "File 252 of 300 saved: cropped/ddostrace.to-victim.20070804_143436_251.pcap\n"
     ]
    },
    {
     "name": "stderr",
     "output_type": "stream",
     "text": [
      "Splitting ddostrace.to-victim.20070804_143436.pcap: 35516679 packets [4:11:27, 4508.22 packets/s]"
     ]
    },
    {
     "name": "stdout",
     "output_type": "stream",
     "text": [
      "File 253 of 300 saved: cropped/ddostrace.to-victim.20070804_143436_252.pcap\n"
     ]
    },
    {
     "name": "stderr",
     "output_type": "stream",
     "text": [
      "Splitting ddostrace.to-victim.20070804_143436.pcap: 35686764 packets [4:12:48, 4801.01 packets/s]"
     ]
    },
    {
     "name": "stdout",
     "output_type": "stream",
     "text": [
      "File 254 of 300 saved: cropped/ddostrace.to-victim.20070804_143436_253.pcap\n"
     ]
    },
    {
     "name": "stderr",
     "output_type": "stream",
     "text": [
      "Splitting ddostrace.to-victim.20070804_143436.pcap: 35858880 packets [4:13:58, 4760.09 packets/s]"
     ]
    },
    {
     "name": "stdout",
     "output_type": "stream",
     "text": [
      "File 255 of 300 saved: cropped/ddostrace.to-victim.20070804_143436_254.pcap\n"
     ]
    },
    {
     "name": "stderr",
     "output_type": "stream",
     "text": [
      "Splitting ddostrace.to-victim.20070804_143436.pcap: 36024542 packets [4:15:08, 4780.71 packets/s]"
     ]
    },
    {
     "name": "stdout",
     "output_type": "stream",
     "text": [
      "File 256 of 300 saved: cropped/ddostrace.to-victim.20070804_143436_255.pcap\n"
     ]
    },
    {
     "name": "stderr",
     "output_type": "stream",
     "text": [
      "Splitting ddostrace.to-victim.20070804_143436.pcap: 36190657 packets [4:16:18, 4684.15 packets/s]"
     ]
    },
    {
     "name": "stdout",
     "output_type": "stream",
     "text": [
      "File 257 of 300 saved: cropped/ddostrace.to-victim.20070804_143436_256.pcap\n"
     ]
    },
    {
     "name": "stderr",
     "output_type": "stream",
     "text": [
      "Splitting ddostrace.to-victim.20070804_143436.pcap: 36361362 packets [4:17:39, 4547.47 packets/s]"
     ]
    },
    {
     "name": "stdout",
     "output_type": "stream",
     "text": [
      "File 258 of 300 saved: cropped/ddostrace.to-victim.20070804_143436_257.pcap\n"
     ]
    },
    {
     "name": "stderr",
     "output_type": "stream",
     "text": [
      "Splitting ddostrace.to-victim.20070804_143436.pcap: 36531705 packets [4:18:59, 4662.28 packets/s]"
     ]
    },
    {
     "name": "stdout",
     "output_type": "stream",
     "text": [
      "File 259 of 300 saved: cropped/ddostrace.to-victim.20070804_143436_258.pcap\n"
     ]
    },
    {
     "name": "stderr",
     "output_type": "stream",
     "text": [
      "Splitting ddostrace.to-victim.20070804_143436.pcap: 36700060 packets [4:20:09, 4798.43 packets/s]"
     ]
    },
    {
     "name": "stdout",
     "output_type": "stream",
     "text": [
      "File 260 of 300 saved: cropped/ddostrace.to-victim.20070804_143436_259.pcap\n"
     ]
    },
    {
     "name": "stderr",
     "output_type": "stream",
     "text": [
      "Splitting ddostrace.to-victim.20070804_143436.pcap: 36813083 packets [4:21:09, 4880.31 packets/s]"
     ]
    },
    {
     "name": "stdout",
     "output_type": "stream",
     "text": [
      "File 261 of 300 saved: cropped/ddostrace.to-victim.20070804_143436_260.pcap\n"
     ]
    },
    {
     "name": "stderr",
     "output_type": "stream",
     "text": [
      "Splitting ddostrace.to-victim.20070804_143436.pcap: 36827977 packets [4:21:21, 4647.81 packets/s]"
     ]
    },
    {
     "name": "stdout",
     "output_type": "stream",
     "text": [
      "File 262 of 300 saved: cropped/ddostrace.to-victim.20070804_143436_261.pcap\n"
     ]
    },
    {
     "name": "stderr",
     "output_type": "stream",
     "text": [
      "Splitting ddostrace.to-victim.20070804_143436.pcap: 36848890 packets [4:21:29, 3908.92 packets/s]"
     ]
    },
    {
     "name": "stdout",
     "output_type": "stream",
     "text": [
      "File 263 of 300 saved: cropped/ddostrace.to-victim.20070804_143436_262.pcap\n"
     ]
    },
    {
     "name": "stderr",
     "output_type": "stream",
     "text": [
      "Splitting ddostrace.to-victim.20070804_143436.pcap: 36977665 packets [4:22:20, 4561.77 packets/s]"
     ]
    },
    {
     "name": "stdout",
     "output_type": "stream",
     "text": [
      "File 264 of 300 saved: cropped/ddostrace.to-victim.20070804_143436_263.pcap\n"
     ]
    },
    {
     "name": "stderr",
     "output_type": "stream",
     "text": [
      "Splitting ddostrace.to-victim.20070804_143436.pcap: 37147457 packets [4:23:20, 4632.62 packets/s]"
     ]
    },
    {
     "name": "stdout",
     "output_type": "stream",
     "text": [
      "File 265 of 300 saved: cropped/ddostrace.to-victim.20070804_143436_264.pcap\n"
     ]
    },
    {
     "name": "stderr",
     "output_type": "stream",
     "text": [
      "Splitting ddostrace.to-victim.20070804_143436.pcap: 37312391 packets [4:24:40, 2458.68 packets/s]"
     ]
    },
    {
     "name": "stdout",
     "output_type": "stream",
     "text": [
      "File 266 of 300 saved: cropped/ddostrace.to-victim.20070804_143436_265.pcap\n"
     ]
    },
    {
     "name": "stderr",
     "output_type": "stream",
     "text": [
      "Splitting ddostrace.to-victim.20070804_143436.pcap: 37481256 packets [4:25:50, 4652.37 packets/s]"
     ]
    },
    {
     "name": "stdout",
     "output_type": "stream",
     "text": [
      "File 267 of 300 saved: cropped/ddostrace.to-victim.20070804_143436_266.pcap\n"
     ]
    },
    {
     "name": "stderr",
     "output_type": "stream",
     "text": [
      "Splitting ddostrace.to-victim.20070804_143436.pcap: 37649059 packets [4:27:01, 4703.47 packets/s]"
     ]
    },
    {
     "name": "stdout",
     "output_type": "stream",
     "text": [
      "File 268 of 300 saved: cropped/ddostrace.to-victim.20070804_143436_267.pcap\n"
     ]
    },
    {
     "name": "stderr",
     "output_type": "stream",
     "text": [
      "Splitting ddostrace.to-victim.20070804_143436.pcap: 37816661 packets [4:28:11, 4740.63 packets/s]"
     ]
    },
    {
     "name": "stdout",
     "output_type": "stream",
     "text": [
      "File 269 of 300 saved: cropped/ddostrace.to-victim.20070804_143436_268.pcap\n"
     ]
    },
    {
     "name": "stderr",
     "output_type": "stream",
     "text": [
      "Splitting ddostrace.to-victim.20070804_143436.pcap: 37983647 packets [4:29:31, 4659.54 packets/s]"
     ]
    },
    {
     "name": "stdout",
     "output_type": "stream",
     "text": [
      "File 270 of 300 saved: cropped/ddostrace.to-victim.20070804_143436_269.pcap\n"
     ]
    },
    {
     "name": "stderr",
     "output_type": "stream",
     "text": [
      "Splitting ddostrace.to-victim.20070804_143436.pcap: 38137108 packets [4:30:51, 2952.33 packets/s]"
     ]
    },
    {
     "name": "stdout",
     "output_type": "stream",
     "text": [
      "File 271 of 300 saved: cropped/ddostrace.to-victim.20070804_143436_270.pcap\n"
     ]
    },
    {
     "name": "stderr",
     "output_type": "stream",
     "text": [
      "Splitting ddostrace.to-victim.20070804_143436.pcap: 38305264 packets [4:32:02, 4590.59 packets/s]"
     ]
    },
    {
     "name": "stdout",
     "output_type": "stream",
     "text": [
      "File 272 of 300 saved: cropped/ddostrace.to-victim.20070804_143436_271.pcap\n"
     ]
    },
    {
     "name": "stderr",
     "output_type": "stream",
     "text": [
      "Splitting ddostrace.to-victim.20070804_143436.pcap: 38473634 packets [4:33:22, 4743.86 packets/s]"
     ]
    },
    {
     "name": "stdout",
     "output_type": "stream",
     "text": [
      "File 273 of 300 saved: cropped/ddostrace.to-victim.20070804_143436_272.pcap\n"
     ]
    },
    {
     "name": "stderr",
     "output_type": "stream",
     "text": [
      "Splitting ddostrace.to-victim.20070804_143436.pcap: 38641558 packets [4:34:32, 4688.09 packets/s]"
     ]
    },
    {
     "name": "stdout",
     "output_type": "stream",
     "text": [
      "File 274 of 300 saved: cropped/ddostrace.to-victim.20070804_143436_273.pcap\n"
     ]
    },
    {
     "name": "stderr",
     "output_type": "stream",
     "text": [
      "Splitting ddostrace.to-victim.20070804_143436.pcap: 38811119 packets [4:35:42, 4694.98 packets/s]"
     ]
    },
    {
     "name": "stdout",
     "output_type": "stream",
     "text": [
      "File 275 of 300 saved: cropped/ddostrace.to-victim.20070804_143436_274.pcap\n"
     ]
    },
    {
     "name": "stderr",
     "output_type": "stream",
     "text": [
      "Splitting ddostrace.to-victim.20070804_143436.pcap: 38973582 packets [4:36:52, 4862.71 packets/s]"
     ]
    },
    {
     "name": "stdout",
     "output_type": "stream",
     "text": [
      "File 276 of 300 saved: cropped/ddostrace.to-victim.20070804_143436_275.pcap\n"
     ]
    },
    {
     "name": "stderr",
     "output_type": "stream",
     "text": [
      "Splitting ddostrace.to-victim.20070804_143436.pcap: 39135749 packets [4:38:03, 4686.50 packets/s]"
     ]
    },
    {
     "name": "stdout",
     "output_type": "stream",
     "text": [
      "File 277 of 300 saved: cropped/ddostrace.to-victim.20070804_143436_276.pcap\n"
     ]
    },
    {
     "name": "stderr",
     "output_type": "stream",
     "text": [
      "Splitting ddostrace.to-victim.20070804_143436.pcap: 39305599 packets [4:39:23, 4441.40 packets/s]"
     ]
    },
    {
     "name": "stdout",
     "output_type": "stream",
     "text": [
      "File 278 of 300 saved: cropped/ddostrace.to-victim.20070804_143436_277.pcap\n"
     ]
    },
    {
     "name": "stderr",
     "output_type": "stream",
     "text": [
      "Splitting ddostrace.to-victim.20070804_143436.pcap: 39475921 packets [4:40:33, 4866.80 packets/s]"
     ]
    },
    {
     "name": "stdout",
     "output_type": "stream",
     "text": [
      "File 279 of 300 saved: cropped/ddostrace.to-victim.20070804_143436_278.pcap\n"
     ]
    },
    {
     "name": "stderr",
     "output_type": "stream",
     "text": [
      "Splitting ddostrace.to-victim.20070804_143436.pcap: 39644307 packets [4:41:44, 4602.65 packets/s]"
     ]
    },
    {
     "name": "stdout",
     "output_type": "stream",
     "text": [
      "File 280 of 300 saved: cropped/ddostrace.to-victim.20070804_143436_279.pcap\n"
     ]
    },
    {
     "name": "stderr",
     "output_type": "stream",
     "text": [
      "Splitting ddostrace.to-victim.20070804_143436.pcap: 39807138 packets [4:42:55, 4594.34 packets/s]"
     ]
    },
    {
     "name": "stdout",
     "output_type": "stream",
     "text": [
      "File 281 of 300 saved: cropped/ddostrace.to-victim.20070804_143436_280.pcap\n"
     ]
    },
    {
     "name": "stderr",
     "output_type": "stream",
     "text": [
      "Splitting ddostrace.to-victim.20070804_143436.pcap: 39969606 packets [4:44:05, 4641.08 packets/s]"
     ]
    },
    {
     "name": "stdout",
     "output_type": "stream",
     "text": [
      "File 282 of 300 saved: cropped/ddostrace.to-victim.20070804_143436_281.pcap\n"
     ]
    },
    {
     "name": "stderr",
     "output_type": "stream",
     "text": [
      "Splitting ddostrace.to-victim.20070804_143436.pcap: 40140225 packets [4:45:16, 4730.86 packets/s]"
     ]
    },
    {
     "name": "stdout",
     "output_type": "stream",
     "text": [
      "File 283 of 300 saved: cropped/ddostrace.to-victim.20070804_143436_282.pcap\n"
     ]
    },
    {
     "name": "stderr",
     "output_type": "stream",
     "text": [
      "Splitting ddostrace.to-victim.20070804_143436.pcap: 40309993 packets [4:46:26, 4432.25 packets/s]"
     ]
    },
    {
     "name": "stdout",
     "output_type": "stream",
     "text": [
      "File 284 of 300 saved: cropped/ddostrace.to-victim.20070804_143436_283.pcap\n"
     ]
    },
    {
     "name": "stderr",
     "output_type": "stream",
     "text": [
      "Splitting ddostrace.to-victim.20070804_143436.pcap: 40478929 packets [4:47:46, 4610.96 packets/s]"
     ]
    },
    {
     "name": "stdout",
     "output_type": "stream",
     "text": [
      "File 285 of 300 saved: cropped/ddostrace.to-victim.20070804_143436_284.pcap\n"
     ]
    },
    {
     "name": "stderr",
     "output_type": "stream",
     "text": [
      "Splitting ddostrace.to-victim.20070804_143436.pcap: 40639978 packets [4:48:57, 4634.63 packets/s]"
     ]
    },
    {
     "name": "stdout",
     "output_type": "stream",
     "text": [
      "File 286 of 300 saved: cropped/ddostrace.to-victim.20070804_143436_285.pcap\n"
     ]
    },
    {
     "name": "stderr",
     "output_type": "stream",
     "text": [
      "Splitting ddostrace.to-victim.20070804_143436.pcap: 40807888 packets [4:50:07, 4732.04 packets/s]"
     ]
    },
    {
     "name": "stdout",
     "output_type": "stream",
     "text": [
      "File 287 of 300 saved: cropped/ddostrace.to-victim.20070804_143436_286.pcap\n"
     ]
    },
    {
     "name": "stderr",
     "output_type": "stream",
     "text": [
      "Splitting ddostrace.to-victim.20070804_143436.pcap: 40973983 packets [4:51:17, 4293.95 packets/s]"
     ]
    },
    {
     "name": "stdout",
     "output_type": "stream",
     "text": [
      "File 288 of 300 saved: cropped/ddostrace.to-victim.20070804_143436_287.pcap\n"
     ]
    },
    {
     "name": "stderr",
     "output_type": "stream",
     "text": [
      "Splitting ddostrace.to-victim.20070804_143436.pcap: 41140917 packets [4:52:27, 4186.10 packets/s]"
     ]
    },
    {
     "name": "stdout",
     "output_type": "stream",
     "text": [
      "File 289 of 300 saved: cropped/ddostrace.to-victim.20070804_143436_288.pcap\n"
     ]
    },
    {
     "name": "stderr",
     "output_type": "stream",
     "text": [
      "Splitting ddostrace.to-victim.20070804_143436.pcap: 41309475 packets [4:53:38, 4709.26 packets/s]"
     ]
    },
    {
     "name": "stdout",
     "output_type": "stream",
     "text": [
      "File 290 of 300 saved: cropped/ddostrace.to-victim.20070804_143436_289.pcap\n"
     ]
    },
    {
     "name": "stderr",
     "output_type": "stream",
     "text": [
      "Splitting ddostrace.to-victim.20070804_143436.pcap: 41472299 packets [4:54:58, 4528.94 packets/s]"
     ]
    },
    {
     "name": "stdout",
     "output_type": "stream",
     "text": [
      "File 291 of 300 saved: cropped/ddostrace.to-victim.20070804_143436_290.pcap\n"
     ]
    },
    {
     "name": "stderr",
     "output_type": "stream",
     "text": [
      "Splitting ddostrace.to-victim.20070804_143436.pcap: 41640396 packets [4:56:08, 4927.50 packets/s]"
     ]
    },
    {
     "name": "stdout",
     "output_type": "stream",
     "text": [
      "File 292 of 300 saved: cropped/ddostrace.to-victim.20070804_143436_291.pcap\n"
     ]
    },
    {
     "name": "stderr",
     "output_type": "stream",
     "text": [
      "Splitting ddostrace.to-victim.20070804_143436.pcap: 41808250 packets [4:57:19, 4748.05 packets/s]"
     ]
    },
    {
     "name": "stdout",
     "output_type": "stream",
     "text": [
      "File 293 of 300 saved: cropped/ddostrace.to-victim.20070804_143436_292.pcap\n"
     ]
    },
    {
     "name": "stderr",
     "output_type": "stream",
     "text": [
      "Splitting ddostrace.to-victim.20070804_143436.pcap: 41976917 packets [4:58:29, 4846.62 packets/s]"
     ]
    },
    {
     "name": "stdout",
     "output_type": "stream",
     "text": [
      "File 294 of 300 saved: cropped/ddostrace.to-victim.20070804_143436_293.pcap\n"
     ]
    },
    {
     "name": "stderr",
     "output_type": "stream",
     "text": [
      "Splitting ddostrace.to-victim.20070804_143436.pcap: 42146157 packets [4:59:40, 4861.67 packets/s]"
     ]
    },
    {
     "name": "stdout",
     "output_type": "stream",
     "text": [
      "File 295 of 300 saved: cropped/ddostrace.to-victim.20070804_143436_294.pcap\n"
     ]
    },
    {
     "name": "stderr",
     "output_type": "stream",
     "text": [
      "Splitting ddostrace.to-victim.20070804_143436.pcap: 42308998 packets [5:00:50, 4551.80 packets/s]"
     ]
    },
    {
     "name": "stdout",
     "output_type": "stream",
     "text": [
      "File 296 of 300 saved: cropped/ddostrace.to-victim.20070804_143436_295.pcap\n"
     ]
    },
    {
     "name": "stderr",
     "output_type": "stream",
     "text": [
      "Splitting ddostrace.to-victim.20070804_143436.pcap: 42448517 packets [5:02:00, 4654.83 packets/s]"
     ]
    },
    {
     "name": "stdout",
     "output_type": "stream",
     "text": [
      "File 297 of 300 saved: cropped/ddostrace.to-victim.20070804_143436_296.pcap\n"
     ]
    },
    {
     "name": "stderr",
     "output_type": "stream",
     "text": [
      "Splitting ddostrace.to-victim.20070804_143436.pcap: 42618501 packets [5:03:01, 2426.78 packets/s]"
     ]
    },
    {
     "name": "stdout",
     "output_type": "stream",
     "text": [
      "File 298 of 300 saved: cropped/ddostrace.to-victim.20070804_143436_297.pcap\n"
     ]
    },
    {
     "name": "stderr",
     "output_type": "stream",
     "text": [
      "Splitting ddostrace.to-victim.20070804_143436.pcap: 42789595 packets [5:04:21, 4490.76 packets/s]"
     ]
    },
    {
     "name": "stdout",
     "output_type": "stream",
     "text": [
      "File 299 of 300 saved: cropped/ddostrace.to-victim.20070804_143436_298.pcap\n"
     ]
    },
    {
     "name": "stderr",
     "output_type": "stream",
     "text": [
      "Splitting ddostrace.to-victim.20070804_143436.pcap: 42908505 packets [5:05:06, 2343.90 packets/s]\n"
     ]
    },
    {
     "name": "stdout",
     "output_type": "stream",
     "text": [
      "Split ddostrace.to-victim.20070804_143436.pcap into 299 parts successfully.\n"
     ]
    },
    {
     "name": "stderr",
     "output_type": "stream",
     "text": [
      "Splitting ddostrace.to-victim.20070804_143936.pcap: 170736 packets [00:55, 4210.04 packets/s]"
     ]
    },
    {
     "name": "stdout",
     "output_type": "stream",
     "text": [
      "File 1 of 300 saved: cropped/ddostrace.to-victim.20070804_143936_0.pcap\n"
     ]
    },
    {
     "name": "stderr",
     "output_type": "stream",
     "text": [
      "Splitting ddostrace.to-victim.20070804_143936.pcap: 330734 packets [02:05, 4948.63 packets/s]"
     ]
    },
    {
     "name": "stdout",
     "output_type": "stream",
     "text": [
      "File 2 of 300 saved: cropped/ddostrace.to-victim.20070804_143936_1.pcap\n"
     ]
    },
    {
     "name": "stderr",
     "output_type": "stream",
     "text": [
      "Splitting ddostrace.to-victim.20070804_143936.pcap: 499561 packets [03:16, 4682.37 packets/s]"
     ]
    },
    {
     "name": "stdout",
     "output_type": "stream",
     "text": [
      "File 3 of 300 saved: cropped/ddostrace.to-victim.20070804_143936_2.pcap\n"
     ]
    },
    {
     "name": "stderr",
     "output_type": "stream",
     "text": [
      "Splitting ddostrace.to-victim.20070804_143936.pcap: 671538 packets [04:26, 4818.32 packets/s]"
     ]
    },
    {
     "name": "stdout",
     "output_type": "stream",
     "text": [
      "File 4 of 300 saved: cropped/ddostrace.to-victim.20070804_143936_3.pcap\n"
     ]
    },
    {
     "name": "stderr",
     "output_type": "stream",
     "text": [
      "Splitting ddostrace.to-victim.20070804_143936.pcap: 843210 packets [05:46, 4642.37 packets/s]"
     ]
    },
    {
     "name": "stdout",
     "output_type": "stream",
     "text": [
      "File 5 of 300 saved: cropped/ddostrace.to-victim.20070804_143936_4.pcap\n"
     ]
    },
    {
     "name": "stderr",
     "output_type": "stream",
     "text": [
      "Splitting ddostrace.to-victim.20070804_143936.pcap: 1013104 packets [06:56, 4755.28 packets/s]"
     ]
    },
    {
     "name": "stdout",
     "output_type": "stream",
     "text": [
      "File 6 of 300 saved: cropped/ddostrace.to-victim.20070804_143936_5.pcap\n"
     ]
    },
    {
     "name": "stderr",
     "output_type": "stream",
     "text": [
      "Splitting ddostrace.to-victim.20070804_143936.pcap: 1178609 packets [08:07, 4515.62 packets/s]"
     ]
    },
    {
     "name": "stdout",
     "output_type": "stream",
     "text": [
      "File 7 of 300 saved: cropped/ddostrace.to-victim.20070804_143936_6.pcap\n"
     ]
    },
    {
     "name": "stderr",
     "output_type": "stream",
     "text": [
      "Splitting ddostrace.to-victim.20070804_143936.pcap: 1348719 packets [09:17, 4660.49 packets/s]"
     ]
    },
    {
     "name": "stdout",
     "output_type": "stream",
     "text": [
      "File 8 of 300 saved: cropped/ddostrace.to-victim.20070804_143936_7.pcap\n"
     ]
    },
    {
     "name": "stderr",
     "output_type": "stream",
     "text": [
      "Splitting ddostrace.to-victim.20070804_143936.pcap: 1520097 packets [10:37, 4614.77 packets/s]"
     ]
    },
    {
     "name": "stdout",
     "output_type": "stream",
     "text": [
      "File 9 of 300 saved: cropped/ddostrace.to-victim.20070804_143936_8.pcap\n"
     ]
    },
    {
     "name": "stderr",
     "output_type": "stream",
     "text": [
      "Splitting ddostrace.to-victim.20070804_143936.pcap: 1692091 packets [11:47, 3612.68 packets/s]"
     ]
    },
    {
     "name": "stdout",
     "output_type": "stream",
     "text": [
      "File 10 of 300 saved: cropped/ddostrace.to-victim.20070804_143936_9.pcap\n"
     ]
    },
    {
     "name": "stderr",
     "output_type": "stream",
     "text": [
      "Splitting ddostrace.to-victim.20070804_143936.pcap: 1864027 packets [13:18, 4450.13 packets/s]"
     ]
    },
    {
     "name": "stdout",
     "output_type": "stream",
     "text": [
      "File 11 of 300 saved: cropped/ddostrace.to-victim.20070804_143936_10.pcap\n"
     ]
    },
    {
     "name": "stderr",
     "output_type": "stream",
     "text": [
      "Splitting ddostrace.to-victim.20070804_143936.pcap: 2031138 packets [14:28, 4685.49 packets/s]"
     ]
    },
    {
     "name": "stdout",
     "output_type": "stream",
     "text": [
      "File 12 of 300 saved: cropped/ddostrace.to-victim.20070804_143936_11.pcap\n"
     ]
    },
    {
     "name": "stderr",
     "output_type": "stream",
     "text": [
      "Splitting ddostrace.to-victim.20070804_143936.pcap: 2201188 packets [15:49, 3355.57 packets/s]"
     ]
    },
    {
     "name": "stdout",
     "output_type": "stream",
     "text": [
      "File 13 of 300 saved: cropped/ddostrace.to-victim.20070804_143936_12.pcap\n"
     ]
    },
    {
     "name": "stderr",
     "output_type": "stream",
     "text": [
      "Splitting ddostrace.to-victim.20070804_143936.pcap: 2369940 packets [16:59, 4690.54 packets/s]"
     ]
    },
    {
     "name": "stdout",
     "output_type": "stream",
     "text": [
      "File 14 of 300 saved: cropped/ddostrace.to-victim.20070804_143936_13.pcap\n"
     ]
    },
    {
     "name": "stderr",
     "output_type": "stream",
     "text": [
      "Splitting ddostrace.to-victim.20070804_143936.pcap: 2542014 packets [18:19, 4835.75 packets/s]"
     ]
    },
    {
     "name": "stdout",
     "output_type": "stream",
     "text": [
      "File 15 of 300 saved: cropped/ddostrace.to-victim.20070804_143936_14.pcap\n"
     ]
    },
    {
     "name": "stderr",
     "output_type": "stream",
     "text": [
      "Splitting ddostrace.to-victim.20070804_143936.pcap: 2714559 packets [19:30, 3169.66 packets/s]"
     ]
    },
    {
     "name": "stdout",
     "output_type": "stream",
     "text": [
      "File 16 of 300 saved: cropped/ddostrace.to-victim.20070804_143936_15.pcap\n"
     ]
    },
    {
     "name": "stderr",
     "output_type": "stream",
     "text": [
      "Splitting ddostrace.to-victim.20070804_143936.pcap: 2876012 packets [20:50, 4657.23 packets/s]"
     ]
    },
    {
     "name": "stdout",
     "output_type": "stream",
     "text": [
      "File 17 of 300 saved: cropped/ddostrace.to-victim.20070804_143936_16.pcap\n"
     ]
    },
    {
     "name": "stderr",
     "output_type": "stream",
     "text": [
      "Splitting ddostrace.to-victim.20070804_143936.pcap: 3043481 packets [22:00, 4870.20 packets/s]"
     ]
    },
    {
     "name": "stdout",
     "output_type": "stream",
     "text": [
      "File 18 of 300 saved: cropped/ddostrace.to-victim.20070804_143936_17.pcap\n"
     ]
    },
    {
     "name": "stderr",
     "output_type": "stream",
     "text": [
      "Splitting ddostrace.to-victim.20070804_143936.pcap: 3212529 packets [23:11, 4706.66 packets/s]"
     ]
    },
    {
     "name": "stdout",
     "output_type": "stream",
     "text": [
      "File 19 of 300 saved: cropped/ddostrace.to-victim.20070804_143936_18.pcap\n"
     ]
    },
    {
     "name": "stderr",
     "output_type": "stream",
     "text": [
      "Splitting ddostrace.to-victim.20070804_143936.pcap: 3382795 packets [24:31, 4058.10 packets/s]"
     ]
    },
    {
     "name": "stdout",
     "output_type": "stream",
     "text": [
      "File 20 of 300 saved: cropped/ddostrace.to-victim.20070804_143936_19.pcap\n"
     ]
    },
    {
     "name": "stderr",
     "output_type": "stream",
     "text": [
      "Splitting ddostrace.to-victim.20070804_143936.pcap: 3555203 packets [25:41, 4660.79 packets/s]"
     ]
    },
    {
     "name": "stdout",
     "output_type": "stream",
     "text": [
      "File 21 of 300 saved: cropped/ddostrace.to-victim.20070804_143936_20.pcap\n"
     ]
    },
    {
     "name": "stderr",
     "output_type": "stream",
     "text": [
      "Splitting ddostrace.to-victim.20070804_143936.pcap: 3717792 packets [26:52, 4878.41 packets/s]"
     ]
    },
    {
     "name": "stdout",
     "output_type": "stream",
     "text": [
      "File 22 of 300 saved: cropped/ddostrace.to-victim.20070804_143936_21.pcap\n"
     ]
    },
    {
     "name": "stderr",
     "output_type": "stream",
     "text": [
      "Splitting ddostrace.to-victim.20070804_143936.pcap: 3871857 packets [28:02, 4545.07 packets/s]"
     ]
    },
    {
     "name": "stdout",
     "output_type": "stream",
     "text": [
      "File 23 of 300 saved: cropped/ddostrace.to-victim.20070804_143936_22.pcap\n"
     ]
    },
    {
     "name": "stderr",
     "output_type": "stream",
     "text": [
      "Splitting ddostrace.to-victim.20070804_143936.pcap: 4044700 packets [29:12, 4485.30 packets/s]"
     ]
    },
    {
     "name": "stdout",
     "output_type": "stream",
     "text": [
      "File 24 of 300 saved: cropped/ddostrace.to-victim.20070804_143936_23.pcap\n"
     ]
    },
    {
     "name": "stderr",
     "output_type": "stream",
     "text": [
      "Splitting ddostrace.to-victim.20070804_143936.pcap: 4214118 packets [30:32, 4461.81 packets/s]"
     ]
    },
    {
     "name": "stdout",
     "output_type": "stream",
     "text": [
      "File 25 of 300 saved: cropped/ddostrace.to-victim.20070804_143936_24.pcap\n"
     ]
    },
    {
     "name": "stderr",
     "output_type": "stream",
     "text": [
      "Splitting ddostrace.to-victim.20070804_143936.pcap: 4382504 packets [31:43, 4202.35 packets/s]"
     ]
    },
    {
     "name": "stdout",
     "output_type": "stream",
     "text": [
      "File 26 of 300 saved: cropped/ddostrace.to-victim.20070804_143936_25.pcap\n"
     ]
    },
    {
     "name": "stderr",
     "output_type": "stream",
     "text": [
      "Splitting ddostrace.to-victim.20070804_143936.pcap: 4547959 packets [33:03, 3830.47 packets/s]"
     ]
    },
    {
     "name": "stdout",
     "output_type": "stream",
     "text": [
      "File 27 of 300 saved: cropped/ddostrace.to-victim.20070804_143936_26.pcap\n"
     ]
    },
    {
     "name": "stderr",
     "output_type": "stream",
     "text": [
      "Splitting ddostrace.to-victim.20070804_143936.pcap: 4718384 packets [34:13, 3175.92 packets/s]"
     ]
    },
    {
     "name": "stdout",
     "output_type": "stream",
     "text": [
      "File 28 of 300 saved: cropped/ddostrace.to-victim.20070804_143936_27.pcap\n"
     ]
    },
    {
     "name": "stderr",
     "output_type": "stream",
     "text": [
      "Splitting ddostrace.to-victim.20070804_143936.pcap: 4888978 packets [35:23, 4583.54 packets/s]"
     ]
    },
    {
     "name": "stdout",
     "output_type": "stream",
     "text": [
      "File 29 of 300 saved: cropped/ddostrace.to-victim.20070804_143936_28.pcap\n"
     ]
    },
    {
     "name": "stderr",
     "output_type": "stream",
     "text": [
      "Splitting ddostrace.to-victim.20070804_143936.pcap: 5060652 packets [36:44, 4394.05 packets/s]"
     ]
    },
    {
     "name": "stdout",
     "output_type": "stream",
     "text": [
      "File 30 of 300 saved: cropped/ddostrace.to-victim.20070804_143936_29.pcap\n"
     ]
    },
    {
     "name": "stderr",
     "output_type": "stream",
     "text": [
      "Splitting ddostrace.to-victim.20070804_143936.pcap: 5229848 packets [37:54, 4751.75 packets/s]"
     ]
    },
    {
     "name": "stdout",
     "output_type": "stream",
     "text": [
      "File 31 of 300 saved: cropped/ddostrace.to-victim.20070804_143936_30.pcap\n"
     ]
    },
    {
     "name": "stderr",
     "output_type": "stream",
     "text": [
      "Splitting ddostrace.to-victim.20070804_143936.pcap: 5397090 packets [39:04, 4645.76 packets/s]"
     ]
    },
    {
     "name": "stdout",
     "output_type": "stream",
     "text": [
      "File 32 of 300 saved: cropped/ddostrace.to-victim.20070804_143936_31.pcap\n"
     ]
    },
    {
     "name": "stderr",
     "output_type": "stream",
     "text": [
      "Splitting ddostrace.to-victim.20070804_143936.pcap: 5567311 packets [40:24, 4546.43 packets/s]"
     ]
    },
    {
     "name": "stdout",
     "output_type": "stream",
     "text": [
      "File 33 of 300 saved: cropped/ddostrace.to-victim.20070804_143936_32.pcap\n"
     ]
    },
    {
     "name": "stderr",
     "output_type": "stream",
     "text": [
      "Splitting ddostrace.to-victim.20070804_143936.pcap: 5739696 packets [41:34, 4636.29 packets/s]"
     ]
    },
    {
     "name": "stdout",
     "output_type": "stream",
     "text": [
      "File 34 of 300 saved: cropped/ddostrace.to-victim.20070804_143936_33.pcap\n"
     ]
    },
    {
     "name": "stderr",
     "output_type": "stream",
     "text": [
      "Splitting ddostrace.to-victim.20070804_143936.pcap: 5912364 packets [42:55, 4714.96 packets/s]"
     ]
    },
    {
     "name": "stdout",
     "output_type": "stream",
     "text": [
      "File 35 of 300 saved: cropped/ddostrace.to-victim.20070804_143936_34.pcap\n"
     ]
    },
    {
     "name": "stderr",
     "output_type": "stream",
     "text": [
      "Splitting ddostrace.to-victim.20070804_143936.pcap: 6085498 packets [44:05, 4702.74 packets/s]"
     ]
    },
    {
     "name": "stdout",
     "output_type": "stream",
     "text": [
      "File 36 of 300 saved: cropped/ddostrace.to-victim.20070804_143936_35.pcap\n"
     ]
    },
    {
     "name": "stderr",
     "output_type": "stream",
     "text": [
      "Splitting ddostrace.to-victim.20070804_143936.pcap: 6247778 packets [45:26, 4701.02 packets/s]"
     ]
    },
    {
     "name": "stdout",
     "output_type": "stream",
     "text": [
      "File 37 of 300 saved: cropped/ddostrace.to-victim.20070804_143936_36.pcap\n"
     ]
    },
    {
     "name": "stderr",
     "output_type": "stream",
     "text": [
      "Splitting ddostrace.to-victim.20070804_143936.pcap: 6416404 packets [46:36, 4850.54 packets/s]"
     ]
    },
    {
     "name": "stdout",
     "output_type": "stream",
     "text": [
      "File 38 of 300 saved: cropped/ddostrace.to-victim.20070804_143936_37.pcap\n"
     ]
    },
    {
     "name": "stderr",
     "output_type": "stream",
     "text": [
      "Splitting ddostrace.to-victim.20070804_143936.pcap: 6587671 packets [47:46, 4871.33 packets/s]"
     ]
    },
    {
     "name": "stdout",
     "output_type": "stream",
     "text": [
      "File 39 of 300 saved: cropped/ddostrace.to-victim.20070804_143936_38.pcap\n"
     ]
    },
    {
     "name": "stderr",
     "output_type": "stream",
     "text": [
      "Splitting ddostrace.to-victim.20070804_143936.pcap: 6758419 packets [49:06, 4659.02 packets/s]"
     ]
    },
    {
     "name": "stdout",
     "output_type": "stream",
     "text": [
      "File 40 of 300 saved: cropped/ddostrace.to-victim.20070804_143936_39.pcap\n"
     ]
    },
    {
     "name": "stderr",
     "output_type": "stream",
     "text": [
      "Splitting ddostrace.to-victim.20070804_143936.pcap: 6929183 packets [50:16, 4313.87 packets/s]"
     ]
    },
    {
     "name": "stdout",
     "output_type": "stream",
     "text": [
      "File 41 of 300 saved: cropped/ddostrace.to-victim.20070804_143936_40.pcap\n"
     ]
    },
    {
     "name": "stderr",
     "output_type": "stream",
     "text": [
      "Splitting ddostrace.to-victim.20070804_143936.pcap: 7091376 packets [51:27, 4693.88 packets/s]"
     ]
    },
    {
     "name": "stdout",
     "output_type": "stream",
     "text": [
      "File 42 of 300 saved: cropped/ddostrace.to-victim.20070804_143936_41.pcap\n"
     ]
    },
    {
     "name": "stderr",
     "output_type": "stream",
     "text": [
      "Splitting ddostrace.to-victim.20070804_143936.pcap: 7259159 packets [52:47, 4694.72 packets/s]"
     ]
    },
    {
     "name": "stdout",
     "output_type": "stream",
     "text": [
      "File 43 of 300 saved: cropped/ddostrace.to-victim.20070804_143936_42.pcap\n"
     ]
    },
    {
     "name": "stderr",
     "output_type": "stream",
     "text": [
      "Splitting ddostrace.to-victim.20070804_143936.pcap: 7429618 packets [53:57, 4357.97 packets/s]"
     ]
    },
    {
     "name": "stdout",
     "output_type": "stream",
     "text": [
      "File 44 of 300 saved: cropped/ddostrace.to-victim.20070804_143936_43.pcap\n"
     ]
    },
    {
     "name": "stderr",
     "output_type": "stream",
     "text": [
      "Splitting ddostrace.to-victim.20070804_143936.pcap: 7601966 packets [55:07, 4675.36 packets/s]"
     ]
    },
    {
     "name": "stdout",
     "output_type": "stream",
     "text": [
      "File 45 of 300 saved: cropped/ddostrace.to-victim.20070804_143936_44.pcap\n"
     ]
    },
    {
     "name": "stderr",
     "output_type": "stream",
     "text": [
      "Splitting ddostrace.to-victim.20070804_143936.pcap: 7775154 packets [56:28, 4380.52 packets/s]"
     ]
    },
    {
     "name": "stdout",
     "output_type": "stream",
     "text": [
      "File 46 of 300 saved: cropped/ddostrace.to-victim.20070804_143936_45.pcap\n"
     ]
    },
    {
     "name": "stderr",
     "output_type": "stream",
     "text": [
      "Splitting ddostrace.to-victim.20070804_143936.pcap: 7941012 packets [57:48, 2611.25 packets/s]"
     ]
    },
    {
     "name": "stdout",
     "output_type": "stream",
     "text": [
      "File 47 of 300 saved: cropped/ddostrace.to-victim.20070804_143936_46.pcap\n"
     ]
    },
    {
     "name": "stderr",
     "output_type": "stream",
     "text": [
      "Splitting ddostrace.to-victim.20070804_143936.pcap: 8094603 packets [58:48, 4647.98 packets/s]"
     ]
    },
    {
     "name": "stdout",
     "output_type": "stream",
     "text": [
      "File 48 of 300 saved: cropped/ddostrace.to-victim.20070804_143936_47.pcap\n"
     ]
    },
    {
     "name": "stderr",
     "output_type": "stream",
     "text": [
      "Splitting ddostrace.to-victim.20070804_143936.pcap: 8264606 packets [1:00:18, 4528.49 packets/s]"
     ]
    },
    {
     "name": "stdout",
     "output_type": "stream",
     "text": [
      "File 49 of 300 saved: cropped/ddostrace.to-victim.20070804_143936_48.pcap\n"
     ]
    },
    {
     "name": "stderr",
     "output_type": "stream",
     "text": [
      "Splitting ddostrace.to-victim.20070804_143936.pcap: 8434780 packets [1:01:29, 2293.98 packets/s]"
     ]
    },
    {
     "name": "stdout",
     "output_type": "stream",
     "text": [
      "File 50 of 300 saved: cropped/ddostrace.to-victim.20070804_143936_49.pcap\n"
     ]
    },
    {
     "name": "stderr",
     "output_type": "stream",
     "text": [
      "Splitting ddostrace.to-victim.20070804_143936.pcap: 8606011 packets [1:02:49, 4652.36 packets/s]"
     ]
    },
    {
     "name": "stdout",
     "output_type": "stream",
     "text": [
      "File 51 of 300 saved: cropped/ddostrace.to-victim.20070804_143936_50.pcap\n"
     ]
    },
    {
     "name": "stderr",
     "output_type": "stream",
     "text": [
      "Splitting ddostrace.to-victim.20070804_143936.pcap: 8773789 packets [1:04:00, 4620.47 packets/s]"
     ]
    },
    {
     "name": "stdout",
     "output_type": "stream",
     "text": [
      "File 52 of 300 saved: cropped/ddostrace.to-victim.20070804_143936_51.pcap\n"
     ]
    },
    {
     "name": "stderr",
     "output_type": "stream",
     "text": [
      "Splitting ddostrace.to-victim.20070804_143936.pcap: 8943825 packets [1:05:20, 4650.55 packets/s]"
     ]
    },
    {
     "name": "stdout",
     "output_type": "stream",
     "text": [
      "File 53 of 300 saved: cropped/ddostrace.to-victim.20070804_143936_52.pcap\n"
     ]
    },
    {
     "name": "stderr",
     "output_type": "stream",
     "text": [
      "Splitting ddostrace.to-victim.20070804_143936.pcap: 9114508 packets [1:06:31, 4795.97 packets/s]"
     ]
    },
    {
     "name": "stdout",
     "output_type": "stream",
     "text": [
      "File 54 of 300 saved: cropped/ddostrace.to-victim.20070804_143936_53.pcap\n"
     ]
    },
    {
     "name": "stderr",
     "output_type": "stream",
     "text": [
      "Splitting ddostrace.to-victim.20070804_143936.pcap: 9285831 packets [1:07:51, 4569.49 packets/s]"
     ]
    },
    {
     "name": "stdout",
     "output_type": "stream",
     "text": [
      "File 55 of 300 saved: cropped/ddostrace.to-victim.20070804_143936_54.pcap\n"
     ]
    },
    {
     "name": "stderr",
     "output_type": "stream",
     "text": [
      "Splitting ddostrace.to-victim.20070804_143936.pcap: 9457927 packets [1:09:01, 4657.86 packets/s]"
     ]
    },
    {
     "name": "stdout",
     "output_type": "stream",
     "text": [
      "File 56 of 300 saved: cropped/ddostrace.to-victim.20070804_143936_55.pcap\n"
     ]
    },
    {
     "name": "stderr",
     "output_type": "stream",
     "text": [
      "Splitting ddostrace.to-victim.20070804_143936.pcap: 9619217 packets [1:10:11, 4528.67 packets/s]"
     ]
    },
    {
     "name": "stdout",
     "output_type": "stream",
     "text": [
      "File 57 of 300 saved: cropped/ddostrace.to-victim.20070804_143936_56.pcap\n"
     ]
    },
    {
     "name": "stderr",
     "output_type": "stream",
     "text": [
      "Splitting ddostrace.to-victim.20070804_143936.pcap: 9785987 packets [1:11:22, 4641.11 packets/s]"
     ]
    },
    {
     "name": "stdout",
     "output_type": "stream",
     "text": [
      "File 58 of 300 saved: cropped/ddostrace.to-victim.20070804_143936_57.pcap\n"
     ]
    },
    {
     "name": "stderr",
     "output_type": "stream",
     "text": [
      "Splitting ddostrace.to-victim.20070804_143936.pcap: 9957356 packets [1:12:42, 4637.57 packets/s]"
     ]
    },
    {
     "name": "stdout",
     "output_type": "stream",
     "text": [
      "File 59 of 300 saved: cropped/ddostrace.to-victim.20070804_143936_58.pcap\n"
     ]
    },
    {
     "name": "stderr",
     "output_type": "stream",
     "text": [
      "Splitting ddostrace.to-victim.20070804_143936.pcap: 10128416 packets [1:13:52, 3821.99 packets/s]"
     ]
    },
    {
     "name": "stdout",
     "output_type": "stream",
     "text": [
      "File 60 of 300 saved: cropped/ddostrace.to-victim.20070804_143936_59.pcap\n"
     ]
    },
    {
     "name": "stderr",
     "output_type": "stream",
     "text": [
      "Splitting ddostrace.to-victim.20070804_143936.pcap: 10298861 packets [1:15:12, 4722.92 packets/s]"
     ]
    },
    {
     "name": "stdout",
     "output_type": "stream",
     "text": [
      "File 61 of 300 saved: cropped/ddostrace.to-victim.20070804_143936_60.pcap\n"
     ]
    },
    {
     "name": "stderr",
     "output_type": "stream",
     "text": [
      "Splitting ddostrace.to-victim.20070804_143936.pcap: 10460397 packets [1:16:22, 4693.84 packets/s]"
     ]
    },
    {
     "name": "stdout",
     "output_type": "stream",
     "text": [
      "File 62 of 300 saved: cropped/ddostrace.to-victim.20070804_143936_61.pcap\n"
     ]
    },
    {
     "name": "stderr",
     "output_type": "stream",
     "text": [
      "Splitting ddostrace.to-victim.20070804_143936.pcap: 10628862 packets [1:17:33, 4756.43 packets/s]"
     ]
    },
    {
     "name": "stdout",
     "output_type": "stream",
     "text": [
      "File 63 of 300 saved: cropped/ddostrace.to-victim.20070804_143936_62.pcap\n"
     ]
    },
    {
     "name": "stderr",
     "output_type": "stream",
     "text": [
      "Splitting ddostrace.to-victim.20070804_143936.pcap: 10800975 packets [1:19:03, 4555.62 packets/s]"
     ]
    },
    {
     "name": "stdout",
     "output_type": "stream",
     "text": [
      "File 64 of 300 saved: cropped/ddostrace.to-victim.20070804_143936_63.pcap\n"
     ]
    },
    {
     "name": "stderr",
     "output_type": "stream",
     "text": [
      "Splitting ddostrace.to-victim.20070804_143936.pcap: 10969796 packets [1:20:13, 4439.94 packets/s]"
     ]
    },
    {
     "name": "stdout",
     "output_type": "stream",
     "text": [
      "File 65 of 300 saved: cropped/ddostrace.to-victim.20070804_143936_64.pcap\n"
     ]
    },
    {
     "name": "stderr",
     "output_type": "stream",
     "text": [
      "Splitting ddostrace.to-victim.20070804_143936.pcap: 11139785 packets [1:21:34, 2966.66 packets/s]"
     ]
    },
    {
     "name": "stdout",
     "output_type": "stream",
     "text": [
      "File 66 of 300 saved: cropped/ddostrace.to-victim.20070804_143936_65.pcap\n"
     ]
    },
    {
     "name": "stderr",
     "output_type": "stream",
     "text": [
      "Splitting ddostrace.to-victim.20070804_143936.pcap: 11305727 packets [1:22:44, 4578.44 packets/s]"
     ]
    },
    {
     "name": "stdout",
     "output_type": "stream",
     "text": [
      "File 67 of 300 saved: cropped/ddostrace.to-victim.20070804_143936_66.pcap\n"
     ]
    },
    {
     "name": "stderr",
     "output_type": "stream",
     "text": [
      "Splitting ddostrace.to-victim.20070804_143936.pcap: 11477452 packets [1:24:04, 4708.39 packets/s]"
     ]
    },
    {
     "name": "stdout",
     "output_type": "stream",
     "text": [
      "File 68 of 300 saved: cropped/ddostrace.to-victim.20070804_143936_67.pcap\n"
     ]
    },
    {
     "name": "stderr",
     "output_type": "stream",
     "text": [
      "Splitting ddostrace.to-victim.20070804_143936.pcap: 11649241 packets [1:25:14, 4550.22 packets/s]"
     ]
    },
    {
     "name": "stdout",
     "output_type": "stream",
     "text": [
      "File 69 of 300 saved: cropped/ddostrace.to-victim.20070804_143936_68.pcap\n"
     ]
    },
    {
     "name": "stderr",
     "output_type": "stream",
     "text": [
      "Splitting ddostrace.to-victim.20070804_143936.pcap: 11822293 packets [1:26:35, 3511.58 packets/s]"
     ]
    },
    {
     "name": "stdout",
     "output_type": "stream",
     "text": [
      "File 70 of 300 saved: cropped/ddostrace.to-victim.20070804_143936_69.pcap\n"
     ]
    },
    {
     "name": "stderr",
     "output_type": "stream",
     "text": [
      "Splitting ddostrace.to-victim.20070804_143936.pcap: 11991550 packets [1:27:46, 1814.99 packets/s]"
     ]
    },
    {
     "name": "stdout",
     "output_type": "stream",
     "text": [
      "File 71 of 300 saved: cropped/ddostrace.to-victim.20070804_143936_70.pcap\n"
     ]
    },
    {
     "name": "stderr",
     "output_type": "stream",
     "text": [
      "Splitting ddostrace.to-victim.20070804_143936.pcap: 12155721 packets [1:28:57, 4622.28 packets/s]"
     ]
    },
    {
     "name": "stdout",
     "output_type": "stream",
     "text": [
      "File 72 of 300 saved: cropped/ddostrace.to-victim.20070804_143936_71.pcap\n"
     ]
    },
    {
     "name": "stderr",
     "output_type": "stream",
     "text": [
      "Splitting ddostrace.to-victim.20070804_143936.pcap: 12303310 packets [1:30:07, 4590.29 packets/s]"
     ]
    },
    {
     "name": "stdout",
     "output_type": "stream",
     "text": [
      "File 73 of 300 saved: cropped/ddostrace.to-victim.20070804_143936_72.pcap\n"
     ]
    },
    {
     "name": "stderr",
     "output_type": "stream",
     "text": [
      "Splitting ddostrace.to-victim.20070804_143936.pcap: 12474809 packets [1:31:17, 4463.25 packets/s]"
     ]
    },
    {
     "name": "stdout",
     "output_type": "stream",
     "text": [
      "File 74 of 300 saved: cropped/ddostrace.to-victim.20070804_143936_73.pcap\n"
     ]
    },
    {
     "name": "stderr",
     "output_type": "stream",
     "text": [
      "Splitting ddostrace.to-victim.20070804_143936.pcap: 12645585 packets [1:32:38, 4233.86 packets/s]"
     ]
    },
    {
     "name": "stdout",
     "output_type": "stream",
     "text": [
      "File 75 of 300 saved: cropped/ddostrace.to-victim.20070804_143936_74.pcap\n"
     ]
    },
    {
     "name": "stderr",
     "output_type": "stream",
     "text": [
      "Splitting ddostrace.to-victim.20070804_143936.pcap: 12818262 packets [1:33:48, 2899.87 packets/s]"
     ]
    },
    {
     "name": "stdout",
     "output_type": "stream",
     "text": [
      "File 76 of 300 saved: cropped/ddostrace.to-victim.20070804_143936_75.pcap\n"
     ]
    },
    {
     "name": "stderr",
     "output_type": "stream",
     "text": [
      "Splitting ddostrace.to-victim.20070804_143936.pcap: 12980958 packets [1:34:58, 4647.15 packets/s]"
     ]
    },
    {
     "name": "stdout",
     "output_type": "stream",
     "text": [
      "File 77 of 300 saved: cropped/ddostrace.to-victim.20070804_143936_76.pcap\n"
     ]
    },
    {
     "name": "stderr",
     "output_type": "stream",
     "text": [
      "Splitting ddostrace.to-victim.20070804_143936.pcap: 13149189 packets [1:36:18, 4665.20 packets/s]"
     ]
    },
    {
     "name": "stdout",
     "output_type": "stream",
     "text": [
      "File 78 of 300 saved: cropped/ddostrace.to-victim.20070804_143936_77.pcap\n"
     ]
    },
    {
     "name": "stderr",
     "output_type": "stream",
     "text": [
      "Splitting ddostrace.to-victim.20070804_143936.pcap: 13321778 packets [1:37:29, 4572.97 packets/s]"
     ]
    },
    {
     "name": "stdout",
     "output_type": "stream",
     "text": [
      "File 79 of 300 saved: cropped/ddostrace.to-victim.20070804_143936_78.pcap\n"
     ]
    },
    {
     "name": "stderr",
     "output_type": "stream",
     "text": [
      "Splitting ddostrace.to-victim.20070804_143936.pcap: 13494534 packets [1:38:49, 4643.07 packets/s]"
     ]
    },
    {
     "name": "stdout",
     "output_type": "stream",
     "text": [
      "File 80 of 300 saved: cropped/ddostrace.to-victim.20070804_143936_79.pcap\n"
     ]
    },
    {
     "name": "stderr",
     "output_type": "stream",
     "text": [
      "Splitting ddostrace.to-victim.20070804_143936.pcap: 13664460 packets [1:39:59, 4576.74 packets/s]"
     ]
    },
    {
     "name": "stdout",
     "output_type": "stream",
     "text": [
      "File 81 of 300 saved: cropped/ddostrace.to-victim.20070804_143936_80.pcap\n"
     ]
    },
    {
     "name": "stderr",
     "output_type": "stream",
     "text": [
      "Splitting ddostrace.to-victim.20070804_143936.pcap: 13814378 packets [1:41:09, 4776.38 packets/s]"
     ]
    },
    {
     "name": "stdout",
     "output_type": "stream",
     "text": [
      "File 82 of 300 saved: cropped/ddostrace.to-victim.20070804_143936_81.pcap\n"
     ]
    },
    {
     "name": "stderr",
     "output_type": "stream",
     "text": [
      "Splitting ddostrace.to-victim.20070804_143936.pcap: 13981362 packets [1:42:20, 4853.19 packets/s]"
     ]
    },
    {
     "name": "stdout",
     "output_type": "stream",
     "text": [
      "File 83 of 300 saved: cropped/ddostrace.to-victim.20070804_143936_82.pcap\n"
     ]
    },
    {
     "name": "stderr",
     "output_type": "stream",
     "text": [
      "Splitting ddostrace.to-victim.20070804_143936.pcap: 14155067 packets [1:43:30, 4526.98 packets/s]"
     ]
    },
    {
     "name": "stdout",
     "output_type": "stream",
     "text": [
      "File 84 of 300 saved: cropped/ddostrace.to-victim.20070804_143936_83.pcap\n"
     ]
    },
    {
     "name": "stderr",
     "output_type": "stream",
     "text": [
      "Splitting ddostrace.to-victim.20070804_143936.pcap: 14326266 packets [1:44:51, 4460.50 packets/s]"
     ]
    },
    {
     "name": "stdout",
     "output_type": "stream",
     "text": [
      "File 85 of 300 saved: cropped/ddostrace.to-victim.20070804_143936_84.pcap\n"
     ]
    },
    {
     "name": "stderr",
     "output_type": "stream",
     "text": [
      "Splitting ddostrace.to-victim.20070804_143936.pcap: 14495905 packets [1:46:11, 4267.23 packets/s]"
     ]
    },
    {
     "name": "stdout",
     "output_type": "stream",
     "text": [
      "File 86 of 300 saved: cropped/ddostrace.to-victim.20070804_143936_85.pcap\n"
     ]
    },
    {
     "name": "stderr",
     "output_type": "stream",
     "text": [
      "Splitting ddostrace.to-victim.20070804_143936.pcap: 14573974 packets [1:46:44, 4645.58 packets/s]"
     ]
    },
    {
     "name": "stdout",
     "output_type": "stream",
     "text": [
      "File 87 of 300 saved: cropped/ddostrace.to-victim.20070804_143936_86.pcap\n"
     ]
    },
    {
     "name": "stderr",
     "output_type": "stream",
     "text": [
      "Splitting ddostrace.to-victim.20070804_143936.pcap: 14584622 packets [1:47:02, 4590.79 packets/s]"
     ]
    },
    {
     "name": "stdout",
     "output_type": "stream",
     "text": [
      "File 88 of 300 saved: cropped/ddostrace.to-victim.20070804_143936_87.pcap\n"
     ]
    },
    {
     "name": "stderr",
     "output_type": "stream",
     "text": [
      "Splitting ddostrace.to-victim.20070804_143936.pcap: 14728442 packets [1:47:52, 4502.23 packets/s]"
     ]
    },
    {
     "name": "stdout",
     "output_type": "stream",
     "text": [
      "File 89 of 300 saved: cropped/ddostrace.to-victim.20070804_143936_88.pcap\n"
     ]
    },
    {
     "name": "stderr",
     "output_type": "stream",
     "text": [
      "Splitting ddostrace.to-victim.20070804_143936.pcap: 14898788 packets [1:49:02, 4619.55 packets/s]"
     ]
    },
    {
     "name": "stdout",
     "output_type": "stream",
     "text": [
      "File 90 of 300 saved: cropped/ddostrace.to-victim.20070804_143936_89.pcap\n"
     ]
    },
    {
     "name": "stderr",
     "output_type": "stream",
     "text": [
      "Splitting ddostrace.to-victim.20070804_143936.pcap: 15066733 packets [1:50:22, 4483.30 packets/s]"
     ]
    },
    {
     "name": "stdout",
     "output_type": "stream",
     "text": [
      "File 91 of 300 saved: cropped/ddostrace.to-victim.20070804_143936_90.pcap\n"
     ]
    },
    {
     "name": "stderr",
     "output_type": "stream",
     "text": [
      "Splitting ddostrace.to-victim.20070804_143936.pcap: 15235182 packets [1:51:33, 4471.44 packets/s]"
     ]
    },
    {
     "name": "stdout",
     "output_type": "stream",
     "text": [
      "File 92 of 300 saved: cropped/ddostrace.to-victim.20070804_143936_91.pcap\n"
     ]
    },
    {
     "name": "stderr",
     "output_type": "stream",
     "text": [
      "Splitting ddostrace.to-victim.20070804_143936.pcap: 15404418 packets [1:52:43, 4568.94 packets/s]"
     ]
    },
    {
     "name": "stdout",
     "output_type": "stream",
     "text": [
      "File 93 of 300 saved: cropped/ddostrace.to-victim.20070804_143936_92.pcap\n"
     ]
    },
    {
     "name": "stderr",
     "output_type": "stream",
     "text": [
      "Splitting ddostrace.to-victim.20070804_143936.pcap: 15575427 packets [1:54:03, 4715.21 packets/s]"
     ]
    },
    {
     "name": "stdout",
     "output_type": "stream",
     "text": [
      "File 94 of 300 saved: cropped/ddostrace.to-victim.20070804_143936_93.pcap\n"
     ]
    },
    {
     "name": "stderr",
     "output_type": "stream",
     "text": [
      "Splitting ddostrace.to-victim.20070804_143936.pcap: 15745780 packets [1:55:14, 4762.35 packets/s]"
     ]
    },
    {
     "name": "stdout",
     "output_type": "stream",
     "text": [
      "File 95 of 300 saved: cropped/ddostrace.to-victim.20070804_143936_94.pcap\n"
     ]
    },
    {
     "name": "stderr",
     "output_type": "stream",
     "text": [
      "Splitting ddostrace.to-victim.20070804_143936.pcap: 15917398 packets [1:56:34, 4418.04 packets/s]"
     ]
    },
    {
     "name": "stdout",
     "output_type": "stream",
     "text": [
      "File 96 of 300 saved: cropped/ddostrace.to-victim.20070804_143936_95.pcap\n"
     ]
    },
    {
     "name": "stderr",
     "output_type": "stream",
     "text": [
      "Splitting ddostrace.to-victim.20070804_143936.pcap: 16051965 packets [1:57:34, 4690.07 packets/s]"
     ]
    },
    {
     "name": "stdout",
     "output_type": "stream",
     "text": [
      "File 97 of 300 saved: cropped/ddostrace.to-victim.20070804_143936_96.pcap\n"
     ]
    },
    {
     "name": "stderr",
     "output_type": "stream",
     "text": [
      "Splitting ddostrace.to-victim.20070804_143936.pcap: 16216205 packets [1:58:44, 4658.43 packets/s]"
     ]
    },
    {
     "name": "stdout",
     "output_type": "stream",
     "text": [
      "File 98 of 300 saved: cropped/ddostrace.to-victim.20070804_143936_97.pcap\n"
     ]
    },
    {
     "name": "stderr",
     "output_type": "stream",
     "text": [
      "Splitting ddostrace.to-victim.20070804_143936.pcap: 16384895 packets [2:00:05, 3409.18 packets/s]"
     ]
    },
    {
     "name": "stdout",
     "output_type": "stream",
     "text": [
      "File 99 of 300 saved: cropped/ddostrace.to-victim.20070804_143936_98.pcap\n"
     ]
    },
    {
     "name": "stderr",
     "output_type": "stream",
     "text": [
      "Splitting ddostrace.to-victim.20070804_143936.pcap: 16552159 packets [2:01:25, 4680.64 packets/s]"
     ]
    },
    {
     "name": "stdout",
     "output_type": "stream",
     "text": [
      "File 100 of 300 saved: cropped/ddostrace.to-victim.20070804_143936_99.pcap\n"
     ]
    },
    {
     "name": "stderr",
     "output_type": "stream",
     "text": [
      "Splitting ddostrace.to-victim.20070804_143936.pcap: 16722895 packets [2:02:36, 4526.41 packets/s]"
     ]
    },
    {
     "name": "stdout",
     "output_type": "stream",
     "text": [
      "File 101 of 300 saved: cropped/ddostrace.to-victim.20070804_143936_100.pcap\n"
     ]
    },
    {
     "name": "stderr",
     "output_type": "stream",
     "text": [
      "Splitting ddostrace.to-victim.20070804_143936.pcap: 16887009 packets [2:03:56, 4402.88 packets/s]"
     ]
    },
    {
     "name": "stdout",
     "output_type": "stream",
     "text": [
      "File 102 of 300 saved: cropped/ddostrace.to-victim.20070804_143936_101.pcap\n"
     ]
    },
    {
     "name": "stderr",
     "output_type": "stream",
     "text": [
      "Splitting ddostrace.to-victim.20070804_143936.pcap: 17054076 packets [2:05:07, 4173.04 packets/s]"
     ]
    },
    {
     "name": "stdout",
     "output_type": "stream",
     "text": [
      "File 103 of 300 saved: cropped/ddostrace.to-victim.20070804_143936_102.pcap\n"
     ]
    },
    {
     "name": "stderr",
     "output_type": "stream",
     "text": [
      "Splitting ddostrace.to-victim.20070804_143936.pcap: 17226252 packets [2:06:17, 4464.55 packets/s]"
     ]
    },
    {
     "name": "stdout",
     "output_type": "stream",
     "text": [
      "File 104 of 300 saved: cropped/ddostrace.to-victim.20070804_143936_103.pcap\n"
     ]
    },
    {
     "name": "stderr",
     "output_type": "stream",
     "text": [
      "Splitting ddostrace.to-victim.20070804_143936.pcap: 17396405 packets [2:07:37, 4433.95 packets/s]"
     ]
    },
    {
     "name": "stdout",
     "output_type": "stream",
     "text": [
      "File 105 of 300 saved: cropped/ddostrace.to-victim.20070804_143936_104.pcap\n"
     ]
    },
    {
     "name": "stderr",
     "output_type": "stream",
     "text": [
      "Splitting ddostrace.to-victim.20070804_143936.pcap: 17566119 packets [2:08:48, 4625.07 packets/s]"
     ]
    },
    {
     "name": "stdout",
     "output_type": "stream",
     "text": [
      "File 106 of 300 saved: cropped/ddostrace.to-victim.20070804_143936_105.pcap\n"
     ]
    },
    {
     "name": "stderr",
     "output_type": "stream",
     "text": [
      "Splitting ddostrace.to-victim.20070804_143936.pcap: 17731286 packets [2:10:08, 4628.63 packets/s]"
     ]
    },
    {
     "name": "stdout",
     "output_type": "stream",
     "text": [
      "File 107 of 300 saved: cropped/ddostrace.to-victim.20070804_143936_106.pcap\n"
     ]
    },
    {
     "name": "stderr",
     "output_type": "stream",
     "text": [
      "Splitting ddostrace.to-victim.20070804_143936.pcap: 17899353 packets [2:11:19, 4682.90 packets/s]"
     ]
    },
    {
     "name": "stdout",
     "output_type": "stream",
     "text": [
      "File 108 of 300 saved: cropped/ddostrace.to-victim.20070804_143936_107.pcap\n"
     ]
    },
    {
     "name": "stderr",
     "output_type": "stream",
     "text": [
      "Splitting ddostrace.to-victim.20070804_143936.pcap: 18067295 packets [2:12:29, 4454.92 packets/s]"
     ]
    },
    {
     "name": "stdout",
     "output_type": "stream",
     "text": [
      "File 109 of 300 saved: cropped/ddostrace.to-victim.20070804_143936_108.pcap\n"
     ]
    },
    {
     "name": "stderr",
     "output_type": "stream",
     "text": [
      "Splitting ddostrace.to-victim.20070804_143936.pcap: 18236885 packets [2:13:49, 4574.77 packets/s]"
     ]
    },
    {
     "name": "stdout",
     "output_type": "stream",
     "text": [
      "File 110 of 300 saved: cropped/ddostrace.to-victim.20070804_143936_109.pcap\n"
     ]
    },
    {
     "name": "stderr",
     "output_type": "stream",
     "text": [
      "Splitting ddostrace.to-victim.20070804_143936.pcap: 18404750 packets [2:14:59, 4509.94 packets/s]"
     ]
    },
    {
     "name": "stdout",
     "output_type": "stream",
     "text": [
      "File 111 of 300 saved: cropped/ddostrace.to-victim.20070804_143936_110.pcap\n"
     ]
    },
    {
     "name": "stderr",
     "output_type": "stream",
     "text": [
      "Splitting ddostrace.to-victim.20070804_143936.pcap: 18569443 packets [2:16:20, 3158.17 packets/s]"
     ]
    },
    {
     "name": "stdout",
     "output_type": "stream",
     "text": [
      "File 112 of 300 saved: cropped/ddostrace.to-victim.20070804_143936_111.pcap\n"
     ]
    },
    {
     "name": "stderr",
     "output_type": "stream",
     "text": [
      "Splitting ddostrace.to-victim.20070804_143936.pcap: 18737197 packets [2:17:30, 4596.93 packets/s]"
     ]
    },
    {
     "name": "stdout",
     "output_type": "stream",
     "text": [
      "File 113 of 300 saved: cropped/ddostrace.to-victim.20070804_143936_112.pcap\n"
     ]
    },
    {
     "name": "stderr",
     "output_type": "stream",
     "text": [
      "Splitting ddostrace.to-victim.20070804_143936.pcap: 18904849 packets [2:18:50, 4429.35 packets/s]"
     ]
    },
    {
     "name": "stdout",
     "output_type": "stream",
     "text": [
      "File 114 of 300 saved: cropped/ddostrace.to-victim.20070804_143936_113.pcap\n"
     ]
    },
    {
     "name": "stderr",
     "output_type": "stream",
     "text": [
      "Splitting ddostrace.to-victim.20070804_143936.pcap: 19074122 packets [2:20:10, 4578.50 packets/s]"
     ]
    },
    {
     "name": "stdout",
     "output_type": "stream",
     "text": [
      "File 115 of 300 saved: cropped/ddostrace.to-victim.20070804_143936_114.pcap\n"
     ]
    },
    {
     "name": "stderr",
     "output_type": "stream",
     "text": [
      "Splitting ddostrace.to-victim.20070804_143936.pcap: 19243497 packets [2:21:21, 4594.98 packets/s]"
     ]
    },
    {
     "name": "stdout",
     "output_type": "stream",
     "text": [
      "File 116 of 300 saved: cropped/ddostrace.to-victim.20070804_143936_115.pcap\n"
     ]
    },
    {
     "name": "stderr",
     "output_type": "stream",
     "text": [
      "Splitting ddostrace.to-victim.20070804_143936.pcap: 19395684 packets [2:22:31, 4448.25 packets/s]"
     ]
    },
    {
     "name": "stdout",
     "output_type": "stream",
     "text": [
      "File 117 of 300 saved: cropped/ddostrace.to-victim.20070804_143936_116.pcap\n"
     ]
    },
    {
     "name": "stderr",
     "output_type": "stream",
     "text": [
      "Splitting ddostrace.to-victim.20070804_143936.pcap: 19560981 packets [2:23:41, 4720.65 packets/s]"
     ]
    },
    {
     "name": "stdout",
     "output_type": "stream",
     "text": [
      "File 118 of 300 saved: cropped/ddostrace.to-victim.20070804_143936_117.pcap\n"
     ]
    },
    {
     "name": "stderr",
     "output_type": "stream",
     "text": [
      "Splitting ddostrace.to-victim.20070804_143936.pcap: 19729515 packets [2:24:52, 4651.12 packets/s]"
     ]
    },
    {
     "name": "stdout",
     "output_type": "stream",
     "text": [
      "File 119 of 300 saved: cropped/ddostrace.to-victim.20070804_143936_118.pcap\n"
     ]
    },
    {
     "name": "stderr",
     "output_type": "stream",
     "text": [
      "Splitting ddostrace.to-victim.20070804_143936.pcap: 19897569 packets [2:26:12, 4658.22 packets/s]"
     ]
    },
    {
     "name": "stdout",
     "output_type": "stream",
     "text": [
      "File 120 of 300 saved: cropped/ddostrace.to-victim.20070804_143936_119.pcap\n"
     ]
    },
    {
     "name": "stderr",
     "output_type": "stream",
     "text": [
      "Splitting ddostrace.to-victim.20070804_143936.pcap: 20066204 packets [2:27:22, 3204.61 packets/s]"
     ]
    },
    {
     "name": "stdout",
     "output_type": "stream",
     "text": [
      "File 121 of 300 saved: cropped/ddostrace.to-victim.20070804_143936_120.pcap\n"
     ]
    },
    {
     "name": "stderr",
     "output_type": "stream",
     "text": [
      "Splitting ddostrace.to-victim.20070804_143936.pcap: 20158413 packets [2:28:05, 3982.39 packets/s]"
     ]
    },
    {
     "name": "stdout",
     "output_type": "stream",
     "text": [
      "File 122 of 300 saved: cropped/ddostrace.to-victim.20070804_143936_121.pcap\n"
     ]
    },
    {
     "name": "stderr",
     "output_type": "stream",
     "text": [
      "Splitting ddostrace.to-victim.20070804_143936.pcap: 20241981 packets [2:28:54, 4308.58 packets/s]"
     ]
    },
    {
     "name": "stdout",
     "output_type": "stream",
     "text": [
      "File 123 of 300 saved: cropped/ddostrace.to-victim.20070804_143936_122.pcap\n"
     ]
    },
    {
     "name": "stderr",
     "output_type": "stream",
     "text": [
      "Splitting ddostrace.to-victim.20070804_143936.pcap: 20410466 packets [2:29:54, 3850.09 packets/s]"
     ]
    },
    {
     "name": "stdout",
     "output_type": "stream",
     "text": [
      "File 124 of 300 saved: cropped/ddostrace.to-victim.20070804_143936_123.pcap\n"
     ]
    },
    {
     "name": "stderr",
     "output_type": "stream",
     "text": [
      "Splitting ddostrace.to-victim.20070804_143936.pcap: 20578202 packets [2:31:14, 4385.22 packets/s]"
     ]
    },
    {
     "name": "stdout",
     "output_type": "stream",
     "text": [
      "File 125 of 300 saved: cropped/ddostrace.to-victim.20070804_143936_124.pcap\n"
     ]
    },
    {
     "name": "stderr",
     "output_type": "stream",
     "text": [
      "Splitting ddostrace.to-victim.20070804_143936.pcap: 20744103 packets [2:32:24, 4576.14 packets/s]"
     ]
    },
    {
     "name": "stdout",
     "output_type": "stream",
     "text": [
      "File 126 of 300 saved: cropped/ddostrace.to-victim.20070804_143936_125.pcap\n"
     ]
    },
    {
     "name": "stderr",
     "output_type": "stream",
     "text": [
      "Splitting ddostrace.to-victim.20070804_143936.pcap: 20831375 packets [2:33:14, 4666.00 packets/s]"
     ]
    },
    {
     "name": "stdout",
     "output_type": "stream",
     "text": [
      "File 127 of 300 saved: cropped/ddostrace.to-victim.20070804_143936_126.pcap\n"
     ]
    },
    {
     "name": "stderr",
     "output_type": "stream",
     "text": [
      "Splitting ddostrace.to-victim.20070804_143936.pcap: 20842520 packets [2:33:23, 3643.12 packets/s]"
     ]
    },
    {
     "name": "stdout",
     "output_type": "stream",
     "text": [
      "File 128 of 300 saved: cropped/ddostrace.to-victim.20070804_143936_127.pcap\n"
     ]
    },
    {
     "name": "stderr",
     "output_type": "stream",
     "text": [
      "Splitting ddostrace.to-victim.20070804_143936.pcap: 20943172 packets [2:34:04, 4582.53 packets/s]"
     ]
    },
    {
     "name": "stdout",
     "output_type": "stream",
     "text": [
      "File 129 of 300 saved: cropped/ddostrace.to-victim.20070804_143936_128.pcap\n"
     ]
    },
    {
     "name": "stderr",
     "output_type": "stream",
     "text": [
      "Splitting ddostrace.to-victim.20070804_143936.pcap: 21111500 packets [2:35:05, 1980.14 packets/s]"
     ]
    },
    {
     "name": "stdout",
     "output_type": "stream",
     "text": [
      "File 130 of 300 saved: cropped/ddostrace.to-victim.20070804_143936_129.pcap\n"
     ]
    },
    {
     "name": "stderr",
     "output_type": "stream",
     "text": [
      "Splitting ddostrace.to-victim.20070804_143936.pcap: 21279838 packets [2:36:25, 4704.37 packets/s]"
     ]
    },
    {
     "name": "stdout",
     "output_type": "stream",
     "text": [
      "File 131 of 300 saved: cropped/ddostrace.to-victim.20070804_143936_130.pcap\n"
     ]
    },
    {
     "name": "stderr",
     "output_type": "stream",
     "text": [
      "Splitting ddostrace.to-victim.20070804_143936.pcap: 21373447 packets [2:37:15, 3562.12 packets/s]"
     ]
    },
    {
     "name": "stdout",
     "output_type": "stream",
     "text": [
      "File 132 of 300 saved: cropped/ddostrace.to-victim.20070804_143936_131.pcap\n"
     ]
    },
    {
     "name": "stderr",
     "output_type": "stream",
     "text": [
      "Splitting ddostrace.to-victim.20070804_143936.pcap: 21517478 packets [2:38:15, 4471.08 packets/s]"
     ]
    },
    {
     "name": "stdout",
     "output_type": "stream",
     "text": [
      "File 133 of 300 saved: cropped/ddostrace.to-victim.20070804_143936_132.pcap\n"
     ]
    },
    {
     "name": "stderr",
     "output_type": "stream",
     "text": [
      "Splitting ddostrace.to-victim.20070804_143936.pcap: 21686791 packets [2:39:16, 4670.59 packets/s]"
     ]
    },
    {
     "name": "stdout",
     "output_type": "stream",
     "text": [
      "File 134 of 300 saved: cropped/ddostrace.to-victim.20070804_143936_133.pcap\n"
     ]
    },
    {
     "name": "stderr",
     "output_type": "stream",
     "text": [
      "Splitting ddostrace.to-victim.20070804_143936.pcap: 21855043 packets [2:40:36, 4757.20 packets/s]"
     ]
    },
    {
     "name": "stdout",
     "output_type": "stream",
     "text": [
      "File 135 of 300 saved: cropped/ddostrace.to-victim.20070804_143936_134.pcap\n"
     ]
    },
    {
     "name": "stderr",
     "output_type": "stream",
     "text": [
      "Splitting ddostrace.to-victim.20070804_143936.pcap: 22024490 packets [2:41:46, 4604.06 packets/s]"
     ]
    },
    {
     "name": "stdout",
     "output_type": "stream",
     "text": [
      "File 136 of 300 saved: cropped/ddostrace.to-victim.20070804_143936_135.pcap\n"
     ]
    },
    {
     "name": "stderr",
     "output_type": "stream",
     "text": [
      "Splitting ddostrace.to-victim.20070804_143936.pcap: 22168103 packets [2:42:56, 4438.23 packets/s]"
     ]
    },
    {
     "name": "stdout",
     "output_type": "stream",
     "text": [
      "File 137 of 300 saved: cropped/ddostrace.to-victim.20070804_143936_136.pcap\n"
     ]
    },
    {
     "name": "stderr",
     "output_type": "stream",
     "text": [
      "Splitting ddostrace.to-victim.20070804_143936.pcap: 22335766 packets [2:44:07, 4590.27 packets/s]"
     ]
    },
    {
     "name": "stdout",
     "output_type": "stream",
     "text": [
      "File 138 of 300 saved: cropped/ddostrace.to-victim.20070804_143936_137.pcap\n"
     ]
    },
    {
     "name": "stderr",
     "output_type": "stream",
     "text": [
      "Splitting ddostrace.to-victim.20070804_143936.pcap: 22507662 packets [2:45:17, 4079.63 packets/s]"
     ]
    },
    {
     "name": "stdout",
     "output_type": "stream",
     "text": [
      "File 139 of 300 saved: cropped/ddostrace.to-victim.20070804_143936_138.pcap\n"
     ]
    },
    {
     "name": "stderr",
     "output_type": "stream",
     "text": [
      "Splitting ddostrace.to-victim.20070804_143936.pcap: 22678204 packets [2:46:37, 4569.00 packets/s]"
     ]
    },
    {
     "name": "stdout",
     "output_type": "stream",
     "text": [
      "File 140 of 300 saved: cropped/ddostrace.to-victim.20070804_143936_139.pcap\n"
     ]
    },
    {
     "name": "stderr",
     "output_type": "stream",
     "text": [
      "Splitting ddostrace.to-victim.20070804_143936.pcap: 22849170 packets [2:47:47, 4602.12 packets/s]"
     ]
    },
    {
     "name": "stdout",
     "output_type": "stream",
     "text": [
      "File 141 of 300 saved: cropped/ddostrace.to-victim.20070804_143936_140.pcap\n"
     ]
    },
    {
     "name": "stderr",
     "output_type": "stream",
     "text": [
      "Splitting ddostrace.to-victim.20070804_143936.pcap: 22942381 packets [2:48:47, 4414.95 packets/s]"
     ]
    },
    {
     "name": "stdout",
     "output_type": "stream",
     "text": [
      "File 142 of 300 saved: cropped/ddostrace.to-victim.20070804_143936_141.pcap\n"
     ]
    },
    {
     "name": "stderr",
     "output_type": "stream",
     "text": [
      "Splitting ddostrace.to-victim.20070804_143936.pcap: 23036490 packets [2:49:28, 4657.43 packets/s]"
     ]
    },
    {
     "name": "stdout",
     "output_type": "stream",
     "text": [
      "File 143 of 300 saved: cropped/ddostrace.to-victim.20070804_143936_142.pcap\n"
     ]
    },
    {
     "name": "stderr",
     "output_type": "stream",
     "text": [
      "Splitting ddostrace.to-victim.20070804_143936.pcap: 23205617 packets [2:50:28, 4418.24 packets/s]"
     ]
    },
    {
     "name": "stdout",
     "output_type": "stream",
     "text": [
      "File 144 of 300 saved: cropped/ddostrace.to-victim.20070804_143936_143.pcap\n"
     ]
    },
    {
     "name": "stderr",
     "output_type": "stream",
     "text": [
      "Splitting ddostrace.to-victim.20070804_143936.pcap: 23374812 packets [2:51:48, 4633.43 packets/s]"
     ]
    },
    {
     "name": "stdout",
     "output_type": "stream",
     "text": [
      "File 145 of 300 saved: cropped/ddostrace.to-victim.20070804_143936_144.pcap\n"
     ]
    },
    {
     "name": "stderr",
     "output_type": "stream",
     "text": [
      "Splitting ddostrace.to-victim.20070804_143936.pcap: 23542360 packets [2:52:58, 4645.53 packets/s]"
     ]
    },
    {
     "name": "stdout",
     "output_type": "stream",
     "text": [
      "File 146 of 300 saved: cropped/ddostrace.to-victim.20070804_143936_145.pcap\n"
     ]
    },
    {
     "name": "stderr",
     "output_type": "stream",
     "text": [
      "Splitting ddostrace.to-victim.20070804_143936.pcap: 23680130 packets [2:54:09, 4059.67 packets/s]"
     ]
    },
    {
     "name": "stdout",
     "output_type": "stream",
     "text": [
      "File 147 of 300 saved: cropped/ddostrace.to-victim.20070804_143936_146.pcap\n"
     ]
    },
    {
     "name": "stderr",
     "output_type": "stream",
     "text": [
      "Splitting ddostrace.to-victim.20070804_143936.pcap: 23849158 packets [2:55:19, 4706.39 packets/s]"
     ]
    },
    {
     "name": "stdout",
     "output_type": "stream",
     "text": [
      "File 148 of 300 saved: cropped/ddostrace.to-victim.20070804_143936_147.pcap\n"
     ]
    },
    {
     "name": "stderr",
     "output_type": "stream",
     "text": [
      "Splitting ddostrace.to-victim.20070804_143936.pcap: 24018775 packets [2:56:30, 4455.74 packets/s]"
     ]
    },
    {
     "name": "stdout",
     "output_type": "stream",
     "text": [
      "File 149 of 300 saved: cropped/ddostrace.to-victim.20070804_143936_148.pcap\n"
     ]
    },
    {
     "name": "stderr",
     "output_type": "stream",
     "text": [
      "Splitting ddostrace.to-victim.20070804_143936.pcap: 24188548 packets [2:57:40, 4564.70 packets/s]"
     ]
    },
    {
     "name": "stdout",
     "output_type": "stream",
     "text": [
      "File 150 of 300 saved: cropped/ddostrace.to-victim.20070804_143936_149.pcap\n"
     ]
    },
    {
     "name": "stderr",
     "output_type": "stream",
     "text": [
      "Splitting ddostrace.to-victim.20070804_143936.pcap: 24357341 packets [2:59:01, 4696.97 packets/s]"
     ]
    },
    {
     "name": "stdout",
     "output_type": "stream",
     "text": [
      "File 151 of 300 saved: cropped/ddostrace.to-victim.20070804_143936_150.pcap\n"
     ]
    },
    {
     "name": "stderr",
     "output_type": "stream",
     "text": [
      "Splitting ddostrace.to-victim.20070804_143936.pcap: 24449316 packets [3:00:01, 2783.86 packets/s]"
     ]
    },
    {
     "name": "stdout",
     "output_type": "stream",
     "text": [
      "File 152 of 300 saved: cropped/ddostrace.to-victim.20070804_143936_151.pcap\n"
     ]
    },
    {
     "name": "stderr",
     "output_type": "stream",
     "text": [
      "Splitting ddostrace.to-victim.20070804_143936.pcap: 24465550 packets [3:00:05, 4534.64 packets/s]"
     ]
    },
    {
     "name": "stdout",
     "output_type": "stream",
     "text": [
      "File 153 of 300 saved: cropped/ddostrace.to-victim.20070804_143936_152.pcap\n"
     ]
    },
    {
     "name": "stderr",
     "output_type": "stream",
     "text": [
      "Splitting ddostrace.to-victim.20070804_143936.pcap: 24483588 packets [3:00:13, 4474.15 packets/s]"
     ]
    },
    {
     "name": "stdout",
     "output_type": "stream",
     "text": [
      "File 154 of 300 saved: cropped/ddostrace.to-victim.20070804_143936_153.pcap\n"
     ]
    },
    {
     "name": "stderr",
     "output_type": "stream",
     "text": [
      "Splitting ddostrace.to-victim.20070804_143936.pcap: 24501686 packets [3:00:21, 4596.95 packets/s]"
     ]
    },
    {
     "name": "stdout",
     "output_type": "stream",
     "text": [
      "File 155 of 300 saved: cropped/ddostrace.to-victim.20070804_143936_154.pcap\n"
     ]
    },
    {
     "name": "stderr",
     "output_type": "stream",
     "text": [
      "Splitting ddostrace.to-victim.20070804_143936.pcap: 24521475 packets [3:00:29, 4200.83 packets/s]"
     ]
    },
    {
     "name": "stdout",
     "output_type": "stream",
     "text": [
      "File 156 of 300 saved: cropped/ddostrace.to-victim.20070804_143936_155.pcap\n"
     ]
    },
    {
     "name": "stderr",
     "output_type": "stream",
     "text": [
      "Splitting ddostrace.to-victim.20070804_143936.pcap: 24679051 packets [3:01:31, 3717.12 packets/s]"
     ]
    },
    {
     "name": "stdout",
     "output_type": "stream",
     "text": [
      "File 157 of 300 saved: cropped/ddostrace.to-victim.20070804_143936_156.pcap\n"
     ]
    },
    {
     "name": "stderr",
     "output_type": "stream",
     "text": [
      "Splitting ddostrace.to-victim.20070804_143936.pcap: 24848501 packets [3:03:01, 3987.51 packets/s]"
     ]
    },
    {
     "name": "stdout",
     "output_type": "stream",
     "text": [
      "File 158 of 300 saved: cropped/ddostrace.to-victim.20070804_143936_157.pcap\n"
     ]
    },
    {
     "name": "stderr",
     "output_type": "stream",
     "text": [
      "Splitting ddostrace.to-victim.20070804_143936.pcap: 25016815 packets [3:04:12, 4285.26 packets/s]"
     ]
    },
    {
     "name": "stdout",
     "output_type": "stream",
     "text": [
      "File 159 of 300 saved: cropped/ddostrace.to-victim.20070804_143936_158.pcap\n"
     ]
    },
    {
     "name": "stderr",
     "output_type": "stream",
     "text": [
      "Splitting ddostrace.to-victim.20070804_143936.pcap: 25187187 packets [3:05:32, 4637.84 packets/s]"
     ]
    },
    {
     "name": "stdout",
     "output_type": "stream",
     "text": [
      "File 160 of 300 saved: cropped/ddostrace.to-victim.20070804_143936_159.pcap\n"
     ]
    },
    {
     "name": "stderr",
     "output_type": "stream",
     "text": [
      "Splitting ddostrace.to-victim.20070804_143936.pcap: 25356886 packets [3:06:42, 4607.70 packets/s]"
     ]
    },
    {
     "name": "stdout",
     "output_type": "stream",
     "text": [
      "File 161 of 300 saved: cropped/ddostrace.to-victim.20070804_143936_160.pcap\n"
     ]
    },
    {
     "name": "stderr",
     "output_type": "stream",
     "text": [
      "Splitting ddostrace.to-victim.20070804_143936.pcap: 25449472 packets [3:07:42, 4716.75 packets/s]"
     ]
    },
    {
     "name": "stdout",
     "output_type": "stream",
     "text": [
      "File 162 of 300 saved: cropped/ddostrace.to-victim.20070804_143936_161.pcap\n"
     ]
    },
    {
     "name": "stderr",
     "output_type": "stream",
     "text": [
      "Splitting ddostrace.to-victim.20070804_143936.pcap: 25557481 packets [3:08:33, 4521.55 packets/s]"
     ]
    },
    {
     "name": "stdout",
     "output_type": "stream",
     "text": [
      "File 163 of 300 saved: cropped/ddostrace.to-victim.20070804_143936_162.pcap\n"
     ]
    },
    {
     "name": "stderr",
     "output_type": "stream",
     "text": [
      "Splitting ddostrace.to-victim.20070804_143936.pcap: 25727798 packets [3:09:33, 4063.59 packets/s]"
     ]
    },
    {
     "name": "stdout",
     "output_type": "stream",
     "text": [
      "File 164 of 300 saved: cropped/ddostrace.to-victim.20070804_143936_163.pcap\n"
     ]
    },
    {
     "name": "stderr",
     "output_type": "stream",
     "text": [
      "Splitting ddostrace.to-victim.20070804_143936.pcap: 25897836 packets [3:10:43, 4630.69 packets/s]"
     ]
    },
    {
     "name": "stdout",
     "output_type": "stream",
     "text": [
      "File 165 of 300 saved: cropped/ddostrace.to-victim.20070804_143936_164.pcap\n"
     ]
    },
    {
     "name": "stderr",
     "output_type": "stream",
     "text": [
      "Splitting ddostrace.to-victim.20070804_143936.pcap: 26065560 packets [3:12:03, 2211.85 packets/s]"
     ]
    },
    {
     "name": "stdout",
     "output_type": "stream",
     "text": [
      "File 166 of 300 saved: cropped/ddostrace.to-victim.20070804_143936_165.pcap\n"
     ]
    },
    {
     "name": "stderr",
     "output_type": "stream",
     "text": [
      "Splitting ddostrace.to-victim.20070804_143936.pcap: 26155781 packets [3:12:54, 4657.74 packets/s]"
     ]
    },
    {
     "name": "stdout",
     "output_type": "stream",
     "text": [
      "File 167 of 300 saved: cropped/ddostrace.to-victim.20070804_143936_166.pcap\n"
     ]
    },
    {
     "name": "stderr",
     "output_type": "stream",
     "text": [
      "Splitting ddostrace.to-victim.20070804_143936.pcap: 26166874 packets [3:13:02, 4369.93 packets/s]"
     ]
    },
    {
     "name": "stdout",
     "output_type": "stream",
     "text": [
      "File 168 of 300 saved: cropped/ddostrace.to-victim.20070804_143936_167.pcap\n"
     ]
    },
    {
     "name": "stderr",
     "output_type": "stream",
     "text": [
      "Splitting ddostrace.to-victim.20070804_143936.pcap: 26266158 packets [3:13:44, 4597.92 packets/s]"
     ]
    },
    {
     "name": "stdout",
     "output_type": "stream",
     "text": [
      "File 169 of 300 saved: cropped/ddostrace.to-victim.20070804_143936_168.pcap\n"
     ]
    },
    {
     "name": "stderr",
     "output_type": "stream",
     "text": [
      "Splitting ddostrace.to-victim.20070804_143936.pcap: 26433890 packets [3:14:44, 4548.24 packets/s]"
     ]
    },
    {
     "name": "stdout",
     "output_type": "stream",
     "text": [
      "File 170 of 300 saved: cropped/ddostrace.to-victim.20070804_143936_169.pcap\n"
     ]
    },
    {
     "name": "stderr",
     "output_type": "stream",
     "text": [
      "Splitting ddostrace.to-victim.20070804_143936.pcap: 26601039 packets [3:15:54, 3763.53 packets/s]"
     ]
    },
    {
     "name": "stdout",
     "output_type": "stream",
     "text": [
      "File 171 of 300 saved: cropped/ddostrace.to-victim.20070804_143936_170.pcap\n"
     ]
    },
    {
     "name": "stderr",
     "output_type": "stream",
     "text": [
      "Splitting ddostrace.to-victim.20070804_143936.pcap: 26698256 packets [3:16:55, 3631.01 packets/s]"
     ]
    },
    {
     "name": "stdout",
     "output_type": "stream",
     "text": [
      "File 172 of 300 saved: cropped/ddostrace.to-victim.20070804_143936_171.pcap\n"
     ]
    },
    {
     "name": "stderr",
     "output_type": "stream",
     "text": [
      "Splitting ddostrace.to-victim.20070804_143936.pcap: 26866876 packets [3:17:55, 4641.56 packets/s]"
     ]
    },
    {
     "name": "stdout",
     "output_type": "stream",
     "text": [
      "File 173 of 300 saved: cropped/ddostrace.to-victim.20070804_143936_172.pcap\n"
     ]
    },
    {
     "name": "stderr",
     "output_type": "stream",
     "text": [
      "Splitting ddostrace.to-victim.20070804_143936.pcap: 27034252 packets [3:19:15, 4530.95 packets/s]"
     ]
    },
    {
     "name": "stdout",
     "output_type": "stream",
     "text": [
      "File 174 of 300 saved: cropped/ddostrace.to-victim.20070804_143936_173.pcap\n"
     ]
    },
    {
     "name": "stderr",
     "output_type": "stream",
     "text": [
      "Splitting ddostrace.to-victim.20070804_143936.pcap: 27202035 packets [3:20:36, 4616.29 packets/s]"
     ]
    },
    {
     "name": "stdout",
     "output_type": "stream",
     "text": [
      "File 175 of 300 saved: cropped/ddostrace.to-victim.20070804_143936_174.pcap\n"
     ]
    },
    {
     "name": "stderr",
     "output_type": "stream",
     "text": [
      "Splitting ddostrace.to-victim.20070804_143936.pcap: 27371494 packets [3:21:46, 4602.07 packets/s]"
     ]
    },
    {
     "name": "stdout",
     "output_type": "stream",
     "text": [
      "File 176 of 300 saved: cropped/ddostrace.to-victim.20070804_143936_175.pcap\n"
     ]
    },
    {
     "name": "stderr",
     "output_type": "stream",
     "text": [
      "Splitting ddostrace.to-victim.20070804_143936.pcap: 27465381 packets [3:22:46, 4587.93 packets/s]"
     ]
    },
    {
     "name": "stdout",
     "output_type": "stream",
     "text": [
      "File 177 of 300 saved: cropped/ddostrace.to-victim.20070804_143936_176.pcap\n"
     ]
    },
    {
     "name": "stderr",
     "output_type": "stream",
     "text": [
      "Splitting ddostrace.to-victim.20070804_143936.pcap: 27567080 packets [3:23:26, 4477.55 packets/s]"
     ]
    },
    {
     "name": "stdout",
     "output_type": "stream",
     "text": [
      "File 178 of 300 saved: cropped/ddostrace.to-victim.20070804_143936_177.pcap\n"
     ]
    },
    {
     "name": "stderr",
     "output_type": "stream",
     "text": [
      "Splitting ddostrace.to-victim.20070804_143936.pcap: 27735669 packets [3:24:26, 4445.01 packets/s]"
     ]
    },
    {
     "name": "stdout",
     "output_type": "stream",
     "text": [
      "File 179 of 300 saved: cropped/ddostrace.to-victim.20070804_143936_178.pcap\n"
     ]
    },
    {
     "name": "stderr",
     "output_type": "stream",
     "text": [
      "Splitting ddostrace.to-victim.20070804_143936.pcap: 27902315 packets [3:25:46, 4418.80 packets/s]"
     ]
    },
    {
     "name": "stdout",
     "output_type": "stream",
     "text": [
      "File 180 of 300 saved: cropped/ddostrace.to-victim.20070804_143936_179.pcap\n"
     ]
    },
    {
     "name": "stderr",
     "output_type": "stream",
     "text": [
      "Splitting ddostrace.to-victim.20070804_143936.pcap: 28070739 packets [3:26:57, 4474.52 packets/s]"
     ]
    },
    {
     "name": "stdout",
     "output_type": "stream",
     "text": [
      "File 181 of 300 saved: cropped/ddostrace.to-victim.20070804_143936_180.pcap\n"
     ]
    },
    {
     "name": "stderr",
     "output_type": "stream",
     "text": [
      "Splitting ddostrace.to-victim.20070804_143936.pcap: 28165326 packets [3:27:57, 4633.50 packets/s]"
     ]
    },
    {
     "name": "stdout",
     "output_type": "stream",
     "text": [
      "File 182 of 300 saved: cropped/ddostrace.to-victim.20070804_143936_181.pcap\n"
     ]
    },
    {
     "name": "stderr",
     "output_type": "stream",
     "text": [
      "Splitting ddostrace.to-victim.20070804_143936.pcap: 28184342 packets [3:28:04, 4528.10 packets/s]"
     ]
    },
    {
     "name": "stdout",
     "output_type": "stream",
     "text": [
      "File 183 of 300 saved: cropped/ddostrace.to-victim.20070804_143936_182.pcap\n"
     ]
    },
    {
     "name": "stderr",
     "output_type": "stream",
     "text": [
      "Splitting ddostrace.to-victim.20070804_143936.pcap: 28254842 packets [3:28:37, 3488.15 packets/s]"
     ]
    },
    {
     "name": "stdout",
     "output_type": "stream",
     "text": [
      "File 184 of 300 saved: cropped/ddostrace.to-victim.20070804_143936_183.pcap\n"
     ]
    },
    {
     "name": "stderr",
     "output_type": "stream",
     "text": [
      "Splitting ddostrace.to-victim.20070804_143936.pcap: 28422239 packets [3:29:27, 4445.36 packets/s]"
     ]
    },
    {
     "name": "stdout",
     "output_type": "stream",
     "text": [
      "File 185 of 300 saved: cropped/ddostrace.to-victim.20070804_143936_184.pcap\n"
     ]
    },
    {
     "name": "stderr",
     "output_type": "stream",
     "text": [
      "Splitting ddostrace.to-victim.20070804_143936.pcap: 28589539 packets [3:30:47, 4521.27 packets/s]"
     ]
    },
    {
     "name": "stdout",
     "output_type": "stream",
     "text": [
      "File 186 of 300 saved: cropped/ddostrace.to-victim.20070804_143936_185.pcap\n"
     ]
    },
    {
     "name": "stderr",
     "output_type": "stream",
     "text": [
      "Splitting ddostrace.to-victim.20070804_143936.pcap: 28685099 packets [3:31:48, 4440.29 packets/s]"
     ]
    },
    {
     "name": "stdout",
     "output_type": "stream",
     "text": [
      "File 187 of 300 saved: cropped/ddostrace.to-victim.20070804_143936_186.pcap\n"
     ]
    },
    {
     "name": "stderr",
     "output_type": "stream",
     "text": [
      "Splitting ddostrace.to-victim.20070804_143936.pcap: 28705260 packets [3:31:56, 4472.10 packets/s]"
     ]
    },
    {
     "name": "stdout",
     "output_type": "stream",
     "text": [
      "File 188 of 300 saved: cropped/ddostrace.to-victim.20070804_143936_187.pcap\n"
     ]
    },
    {
     "name": "stderr",
     "output_type": "stream",
     "text": [
      "Splitting ddostrace.to-victim.20070804_143936.pcap: 28721889 packets [3:32:04, 4634.75 packets/s]"
     ]
    },
    {
     "name": "stdout",
     "output_type": "stream",
     "text": [
      "File 189 of 300 saved: cropped/ddostrace.to-victim.20070804_143936_188.pcap\n"
     ]
    },
    {
     "name": "stderr",
     "output_type": "stream",
     "text": [
      "Splitting ddostrace.to-victim.20070804_143936.pcap: 28736811 packets [3:32:12, 4471.22 packets/s]"
     ]
    },
    {
     "name": "stdout",
     "output_type": "stream",
     "text": [
      "File 190 of 300 saved: cropped/ddostrace.to-victim.20070804_143936_189.pcap\n"
     ]
    },
    {
     "name": "stderr",
     "output_type": "stream",
     "text": [
      "Splitting ddostrace.to-victim.20070804_143936.pcap: 28748332 packets [3:32:17, 4501.69 packets/s]"
     ]
    },
    {
     "name": "stdout",
     "output_type": "stream",
     "text": [
      "File 191 of 300 saved: cropped/ddostrace.to-victim.20070804_143936_190.pcap\n"
     ]
    },
    {
     "name": "stderr",
     "output_type": "stream",
     "text": [
      "Splitting ddostrace.to-victim.20070804_143936.pcap: 28758734 packets [3:32:22, 4488.77 packets/s]"
     ]
    },
    {
     "name": "stdout",
     "output_type": "stream",
     "text": [
      "File 192 of 300 saved: cropped/ddostrace.to-victim.20070804_143936_191.pcap\n"
     ]
    },
    {
     "name": "stderr",
     "output_type": "stream",
     "text": [
      "Splitting ddostrace.to-victim.20070804_143936.pcap: 28910855 packets [3:33:18, 3712.22 packets/s]"
     ]
    },
    {
     "name": "stdout",
     "output_type": "stream",
     "text": [
      "File 193 of 300 saved: cropped/ddostrace.to-victim.20070804_143936_192.pcap\n"
     ]
    },
    {
     "name": "stderr",
     "output_type": "stream",
     "text": [
      "Splitting ddostrace.to-victim.20070804_143936.pcap: 29079620 packets [3:34:38, 2028.11 packets/s]"
     ]
    },
    {
     "name": "stdout",
     "output_type": "stream",
     "text": [
      "File 194 of 300 saved: cropped/ddostrace.to-victim.20070804_143936_193.pcap\n"
     ]
    },
    {
     "name": "stderr",
     "output_type": "stream",
     "text": [
      "Splitting ddostrace.to-victim.20070804_143936.pcap: 29248568 packets [3:35:48, 4642.03 packets/s]"
     ]
    },
    {
     "name": "stdout",
     "output_type": "stream",
     "text": [
      "File 195 of 300 saved: cropped/ddostrace.to-victim.20070804_143936_194.pcap\n"
     ]
    },
    {
     "name": "stderr",
     "output_type": "stream",
     "text": [
      "Splitting ddostrace.to-victim.20070804_143936.pcap: 29416467 packets [3:37:09, 4651.78 packets/s]"
     ]
    },
    {
     "name": "stdout",
     "output_type": "stream",
     "text": [
      "File 196 of 300 saved: cropped/ddostrace.to-victim.20070804_143936_195.pcap\n"
     ]
    },
    {
     "name": "stderr",
     "output_type": "stream",
     "text": [
      "Splitting ddostrace.to-victim.20070804_143936.pcap: 29570279 packets [3:38:19, 3061.64 packets/s]"
     ]
    },
    {
     "name": "stdout",
     "output_type": "stream",
     "text": [
      "File 197 of 300 saved: cropped/ddostrace.to-victim.20070804_143936_196.pcap\n"
     ]
    },
    {
     "name": "stderr",
     "output_type": "stream",
     "text": [
      "Splitting ddostrace.to-victim.20070804_143936.pcap: 29736546 packets [3:39:30, 4659.37 packets/s]"
     ]
    },
    {
     "name": "stdout",
     "output_type": "stream",
     "text": [
      "File 198 of 300 saved: cropped/ddostrace.to-victim.20070804_143936_197.pcap\n"
     ]
    },
    {
     "name": "stderr",
     "output_type": "stream",
     "text": [
      "Splitting ddostrace.to-victim.20070804_143936.pcap: 29907821 packets [3:40:40, 4650.07 packets/s]"
     ]
    },
    {
     "name": "stdout",
     "output_type": "stream",
     "text": [
      "File 199 of 300 saved: cropped/ddostrace.to-victim.20070804_143936_198.pcap\n"
     ]
    },
    {
     "name": "stderr",
     "output_type": "stream",
     "text": [
      "Splitting ddostrace.to-victim.20070804_143936.pcap: 30079366 packets [3:41:50, 4636.09 packets/s]"
     ]
    },
    {
     "name": "stdout",
     "output_type": "stream",
     "text": [
      "File 200 of 300 saved: cropped/ddostrace.to-victim.20070804_143936_199.pcap\n"
     ]
    },
    {
     "name": "stderr",
     "output_type": "stream",
     "text": [
      "Splitting ddostrace.to-victim.20070804_143936.pcap: 30250232 packets [3:43:11, 4731.72 packets/s]"
     ]
    },
    {
     "name": "stdout",
     "output_type": "stream",
     "text": [
      "File 201 of 300 saved: cropped/ddostrace.to-victim.20070804_143936_200.pcap\n"
     ]
    },
    {
     "name": "stderr",
     "output_type": "stream",
     "text": [
      "Splitting ddostrace.to-victim.20070804_143936.pcap: 30412646 packets [3:44:21, 4050.25 packets/s]"
     ]
    },
    {
     "name": "stdout",
     "output_type": "stream",
     "text": [
      "File 202 of 300 saved: cropped/ddostrace.to-victim.20070804_143936_201.pcap\n"
     ]
    },
    {
     "name": "stderr",
     "output_type": "stream",
     "text": [
      "Splitting ddostrace.to-victim.20070804_143936.pcap: 30578280 packets [3:45:31, 4731.00 packets/s]"
     ]
    },
    {
     "name": "stdout",
     "output_type": "stream",
     "text": [
      "File 203 of 300 saved: cropped/ddostrace.to-victim.20070804_143936_202.pcap\n"
     ]
    },
    {
     "name": "stderr",
     "output_type": "stream",
     "text": [
      "Splitting ddostrace.to-victim.20070804_143936.pcap: 30746029 packets [3:46:41, 4628.46 packets/s]"
     ]
    },
    {
     "name": "stdout",
     "output_type": "stream",
     "text": [
      "File 204 of 300 saved: cropped/ddostrace.to-victim.20070804_143936_203.pcap\n"
     ]
    },
    {
     "name": "stderr",
     "output_type": "stream",
     "text": [
      "Splitting ddostrace.to-victim.20070804_143936.pcap: 30876589 packets [3:47:51, 4565.60 packets/s]"
     ]
    },
    {
     "name": "stdout",
     "output_type": "stream",
     "text": [
      "File 205 of 300 saved: cropped/ddostrace.to-victim.20070804_143936_204.pcap\n"
     ]
    },
    {
     "name": "stderr",
     "output_type": "stream",
     "text": [
      "Splitting ddostrace.to-victim.20070804_143936.pcap: 31038065 packets [3:48:52, 4420.18 packets/s]"
     ]
    },
    {
     "name": "stdout",
     "output_type": "stream",
     "text": [
      "File 206 of 300 saved: cropped/ddostrace.to-victim.20070804_143936_205.pcap\n"
     ]
    },
    {
     "name": "stderr",
     "output_type": "stream",
     "text": [
      "Splitting ddostrace.to-victim.20070804_143936.pcap: 31129039 packets [3:49:52, 4404.96 packets/s]"
     ]
    },
    {
     "name": "stdout",
     "output_type": "stream",
     "text": [
      "File 207 of 300 saved: cropped/ddostrace.to-victim.20070804_143936_206.pcap\n"
     ]
    },
    {
     "name": "stderr",
     "output_type": "stream",
     "text": [
      "Splitting ddostrace.to-victim.20070804_143936.pcap: 31141066 packets [3:49:56, 4101.68 packets/s]"
     ]
    },
    {
     "name": "stdout",
     "output_type": "stream",
     "text": [
      "File 208 of 300 saved: cropped/ddostrace.to-victim.20070804_143936_207.pcap\n"
     ]
    },
    {
     "name": "stderr",
     "output_type": "stream",
     "text": [
      "Splitting ddostrace.to-victim.20070804_143936.pcap: 31156727 packets [3:50:02, 3923.91 packets/s]"
     ]
    },
    {
     "name": "stdout",
     "output_type": "stream",
     "text": [
      "File 209 of 300 saved: cropped/ddostrace.to-victim.20070804_143936_208.pcap\n"
     ]
    },
    {
     "name": "stderr",
     "output_type": "stream",
     "text": [
      "Splitting ddostrace.to-victim.20070804_143936.pcap: 31279216 packets [3:50:52, 4262.50 packets/s]"
     ]
    },
    {
     "name": "stdout",
     "output_type": "stream",
     "text": [
      "File 210 of 300 saved: cropped/ddostrace.to-victim.20070804_143936_209.pcap\n"
     ]
    },
    {
     "name": "stderr",
     "output_type": "stream",
     "text": [
      "Splitting ddostrace.to-victim.20070804_143936.pcap: 31444865 packets [3:51:52, 4065.76 packets/s]"
     ]
    },
    {
     "name": "stdout",
     "output_type": "stream",
     "text": [
      "File 211 of 300 saved: cropped/ddostrace.to-victim.20070804_143936_210.pcap\n"
     ]
    },
    {
     "name": "stderr",
     "output_type": "stream",
     "text": [
      "Splitting ddostrace.to-victim.20070804_143936.pcap: 31543437 packets [3:52:34, 4648.60 packets/s]"
     ]
    },
    {
     "name": "stdout",
     "output_type": "stream",
     "text": [
      "File 212 of 300 saved: cropped/ddostrace.to-victim.20070804_143936_211.pcap\n"
     ]
    },
    {
     "name": "stderr",
     "output_type": "stream",
     "text": [
      "Splitting ddostrace.to-victim.20070804_143936.pcap: 31561368 packets [3:52:57, 3766.32 packets/s]"
     ]
    },
    {
     "name": "stdout",
     "output_type": "stream",
     "text": [
      "File 213 of 300 saved: cropped/ddostrace.to-victim.20070804_143936_212.pcap\n"
     ]
    },
    {
     "name": "stderr",
     "output_type": "stream",
     "text": [
      "Splitting ddostrace.to-victim.20070804_143936.pcap: 31580114 packets [3:53:05, 4361.93 packets/s]"
     ]
    },
    {
     "name": "stdout",
     "output_type": "stream",
     "text": [
      "File 214 of 300 saved: cropped/ddostrace.to-victim.20070804_143936_213.pcap\n"
     ]
    },
    {
     "name": "stderr",
     "output_type": "stream",
     "text": [
      "Splitting ddostrace.to-victim.20070804_143936.pcap: 31698782 packets [3:53:53, 3750.31 packets/s]"
     ]
    },
    {
     "name": "stdout",
     "output_type": "stream",
     "text": [
      "File 215 of 300 saved: cropped/ddostrace.to-victim.20070804_143936_214.pcap\n"
     ]
    },
    {
     "name": "stderr",
     "output_type": "stream",
     "text": [
      "Splitting ddostrace.to-victim.20070804_143936.pcap: 31867166 packets [3:54:53, 3178.47 packets/s]"
     ]
    },
    {
     "name": "stdout",
     "output_type": "stream",
     "text": [
      "File 216 of 300 saved: cropped/ddostrace.to-victim.20070804_143936_215.pcap\n"
     ]
    },
    {
     "name": "stderr",
     "output_type": "stream",
     "text": [
      "Splitting ddostrace.to-victim.20070804_143936.pcap: 31970242 packets [3:55:53, 3698.57 packets/s]"
     ]
    },
    {
     "name": "stdout",
     "output_type": "stream",
     "text": [
      "File 217 of 300 saved: cropped/ddostrace.to-victim.20070804_143936_216.pcap\n"
     ]
    },
    {
     "name": "stderr",
     "output_type": "stream",
     "text": [
      "Splitting ddostrace.to-victim.20070804_143936.pcap: 32121083 packets [3:56:53, 4747.65 packets/s]"
     ]
    },
    {
     "name": "stdout",
     "output_type": "stream",
     "text": [
      "File 218 of 300 saved: cropped/ddostrace.to-victim.20070804_143936_217.pcap\n"
     ]
    },
    {
     "name": "stderr",
     "output_type": "stream",
     "text": [
      "Splitting ddostrace.to-victim.20070804_143936.pcap: 32289490 packets [3:57:54, 4596.61 packets/s]"
     ]
    },
    {
     "name": "stdout",
     "output_type": "stream",
     "text": [
      "File 219 of 300 saved: cropped/ddostrace.to-victim.20070804_143936_218.pcap\n"
     ]
    },
    {
     "name": "stderr",
     "output_type": "stream",
     "text": [
      "Splitting ddostrace.to-victim.20070804_143936.pcap: 32459009 packets [3:59:14, 4634.64 packets/s]"
     ]
    },
    {
     "name": "stdout",
     "output_type": "stream",
     "text": [
      "File 220 of 300 saved: cropped/ddostrace.to-victim.20070804_143936_219.pcap\n"
     ]
    },
    {
     "name": "stderr",
     "output_type": "stream",
     "text": [
      "Splitting ddostrace.to-victim.20070804_143936.pcap: 32626525 packets [4:00:24, 4505.32 packets/s]"
     ]
    },
    {
     "name": "stdout",
     "output_type": "stream",
     "text": [
      "File 221 of 300 saved: cropped/ddostrace.to-victim.20070804_143936_220.pcap\n"
     ]
    },
    {
     "name": "stderr",
     "output_type": "stream",
     "text": [
      "Splitting ddostrace.to-victim.20070804_143936.pcap: 32727786 packets [4:01:25, 2956.48 packets/s]"
     ]
    },
    {
     "name": "stdout",
     "output_type": "stream",
     "text": [
      "File 222 of 300 saved: cropped/ddostrace.to-victim.20070804_143936_221.pcap\n"
     ]
    },
    {
     "name": "stderr",
     "output_type": "stream",
     "text": [
      "Splitting ddostrace.to-victim.20070804_143936.pcap: 32840958 packets [4:02:15, 4304.80 packets/s]"
     ]
    },
    {
     "name": "stdout",
     "output_type": "stream",
     "text": [
      "File 223 of 300 saved: cropped/ddostrace.to-victim.20070804_143936_222.pcap\n"
     ]
    },
    {
     "name": "stderr",
     "output_type": "stream",
     "text": [
      "Splitting ddostrace.to-victim.20070804_143936.pcap: 33008955 packets [4:03:15, 4546.39 packets/s]"
     ]
    },
    {
     "name": "stdout",
     "output_type": "stream",
     "text": [
      "File 224 of 300 saved: cropped/ddostrace.to-victim.20070804_143936_223.pcap\n"
     ]
    },
    {
     "name": "stderr",
     "output_type": "stream",
     "text": [
      "Splitting ddostrace.to-victim.20070804_143936.pcap: 33177636 packets [4:04:25, 4772.91 packets/s]"
     ]
    },
    {
     "name": "stdout",
     "output_type": "stream",
     "text": [
      "File 225 of 300 saved: cropped/ddostrace.to-victim.20070804_143936_224.pcap\n"
     ]
    },
    {
     "name": "stderr",
     "output_type": "stream",
     "text": [
      "Splitting ddostrace.to-victim.20070804_143936.pcap: 33345398 packets [4:05:46, 4543.16 packets/s]"
     ]
    },
    {
     "name": "stdout",
     "output_type": "stream",
     "text": [
      "File 226 of 300 saved: cropped/ddostrace.to-victim.20070804_143936_225.pcap\n"
     ]
    },
    {
     "name": "stderr",
     "output_type": "stream",
     "text": [
      "Splitting ddostrace.to-victim.20070804_143936.pcap: 33502807 packets [4:06:56, 4552.95 packets/s]"
     ]
    },
    {
     "name": "stdout",
     "output_type": "stream",
     "text": [
      "File 227 of 300 saved: cropped/ddostrace.to-victim.20070804_143936_226.pcap\n"
     ]
    },
    {
     "name": "stderr",
     "output_type": "stream",
     "text": [
      "Splitting ddostrace.to-victim.20070804_143936.pcap: 33670978 packets [4:08:06, 4446.34 packets/s]"
     ]
    },
    {
     "name": "stdout",
     "output_type": "stream",
     "text": [
      "File 228 of 300 saved: cropped/ddostrace.to-victim.20070804_143936_227.pcap\n"
     ]
    },
    {
     "name": "stderr",
     "output_type": "stream",
     "text": [
      "Splitting ddostrace.to-victim.20070804_143936.pcap: 33838517 packets [4:09:16, 4510.67 packets/s]"
     ]
    },
    {
     "name": "stdout",
     "output_type": "stream",
     "text": [
      "File 229 of 300 saved: cropped/ddostrace.to-victim.20070804_143936_228.pcap\n"
     ]
    },
    {
     "name": "stderr",
     "output_type": "stream",
     "text": [
      "Splitting ddostrace.to-victim.20070804_143936.pcap: 34007094 packets [4:10:26, 4722.31 packets/s]"
     ]
    },
    {
     "name": "stdout",
     "output_type": "stream",
     "text": [
      "File 230 of 300 saved: cropped/ddostrace.to-victim.20070804_143936_229.pcap\n"
     ]
    },
    {
     "name": "stderr",
     "output_type": "stream",
     "text": [
      "Splitting ddostrace.to-victim.20070804_143936.pcap: 34174257 packets [4:11:47, 4712.64 packets/s]"
     ]
    },
    {
     "name": "stdout",
     "output_type": "stream",
     "text": [
      "File 231 of 300 saved: cropped/ddostrace.to-victim.20070804_143936_230.pcap\n"
     ]
    },
    {
     "name": "stderr",
     "output_type": "stream",
     "text": [
      "Splitting ddostrace.to-victim.20070804_143936.pcap: 34277878 packets [4:12:47, 4499.12 packets/s]"
     ]
    },
    {
     "name": "stdout",
     "output_type": "stream",
     "text": [
      "File 232 of 300 saved: cropped/ddostrace.to-victim.20070804_143936_231.pcap\n"
     ]
    },
    {
     "name": "stderr",
     "output_type": "stream",
     "text": [
      "Splitting ddostrace.to-victim.20070804_143936.pcap: 34291146 packets [4:12:51, 4734.66 packets/s]"
     ]
    },
    {
     "name": "stdout",
     "output_type": "stream",
     "text": [
      "File 233 of 300 saved: cropped/ddostrace.to-victim.20070804_143936_232.pcap\n"
     ]
    },
    {
     "name": "stderr",
     "output_type": "stream",
     "text": [
      "Splitting ddostrace.to-victim.20070804_143936.pcap: 34303346 packets [4:12:57, 4755.68 packets/s]"
     ]
    },
    {
     "name": "stdout",
     "output_type": "stream",
     "text": [
      "File 234 of 300 saved: cropped/ddostrace.to-victim.20070804_143936_233.pcap\n"
     ]
    },
    {
     "name": "stderr",
     "output_type": "stream",
     "text": [
      "Splitting ddostrace.to-victim.20070804_143936.pcap: 34436608 packets [4:13:47, 4579.82 packets/s]"
     ]
    },
    {
     "name": "stdout",
     "output_type": "stream",
     "text": [
      "File 235 of 300 saved: cropped/ddostrace.to-victim.20070804_143936_234.pcap\n"
     ]
    },
    {
     "name": "stderr",
     "output_type": "stream",
     "text": [
      "Splitting ddostrace.to-victim.20070804_143936.pcap: 34605171 packets [4:14:47, 4698.15 packets/s]"
     ]
    },
    {
     "name": "stdout",
     "output_type": "stream",
     "text": [
      "File 236 of 300 saved: cropped/ddostrace.to-victim.20070804_143936_235.pcap\n"
     ]
    },
    {
     "name": "stderr",
     "output_type": "stream",
     "text": [
      "Splitting ddostrace.to-victim.20070804_143936.pcap: 34761614 packets [4:15:58, 4632.29 packets/s]"
     ]
    },
    {
     "name": "stdout",
     "output_type": "stream",
     "text": [
      "File 237 of 300 saved: cropped/ddostrace.to-victim.20070804_143936_236.pcap\n"
     ]
    },
    {
     "name": "stderr",
     "output_type": "stream",
     "text": [
      "Splitting ddostrace.to-victim.20070804_143936.pcap: 34928071 packets [4:17:18, 4015.40 packets/s]"
     ]
    },
    {
     "name": "stdout",
     "output_type": "stream",
     "text": [
      "File 238 of 300 saved: cropped/ddostrace.to-victim.20070804_143936_237.pcap\n"
     ]
    },
    {
     "name": "stderr",
     "output_type": "stream",
     "text": [
      "Splitting ddostrace.to-victim.20070804_143936.pcap: 35097727 packets [4:18:28, 3827.58 packets/s]"
     ]
    },
    {
     "name": "stdout",
     "output_type": "stream",
     "text": [
      "File 239 of 300 saved: cropped/ddostrace.to-victim.20070804_143936_238.pcap\n"
     ]
    },
    {
     "name": "stderr",
     "output_type": "stream",
     "text": [
      "Splitting ddostrace.to-victim.20070804_143936.pcap: 35267121 packets [4:19:48, 4486.02 packets/s]"
     ]
    },
    {
     "name": "stdout",
     "output_type": "stream",
     "text": [
      "File 240 of 300 saved: cropped/ddostrace.to-victim.20070804_143936_239.pcap\n"
     ]
    },
    {
     "name": "stderr",
     "output_type": "stream",
     "text": [
      "Splitting ddostrace.to-victim.20070804_143936.pcap: 35435578 packets [4:20:58, 4373.82 packets/s]"
     ]
    },
    {
     "name": "stdout",
     "output_type": "stream",
     "text": [
      "File 241 of 300 saved: cropped/ddostrace.to-victim.20070804_143936_240.pcap\n"
     ]
    },
    {
     "name": "stderr",
     "output_type": "stream",
     "text": [
      "Splitting ddostrace.to-victim.20070804_143936.pcap: 35596913 packets [4:22:19, 4684.29 packets/s]"
     ]
    },
    {
     "name": "stdout",
     "output_type": "stream",
     "text": [
      "File 242 of 300 saved: cropped/ddostrace.to-victim.20070804_143936_241.pcap\n"
     ]
    },
    {
     "name": "stderr",
     "output_type": "stream",
     "text": [
      "Splitting ddostrace.to-victim.20070804_143936.pcap: 35760996 packets [4:23:29, 4592.76 packets/s]"
     ]
    },
    {
     "name": "stdout",
     "output_type": "stream",
     "text": [
      "File 243 of 300 saved: cropped/ddostrace.to-victim.20070804_143936_242.pcap\n"
     ]
    },
    {
     "name": "stderr",
     "output_type": "stream",
     "text": [
      "Splitting ddostrace.to-victim.20070804_143936.pcap: 35930342 packets [4:24:39, 4674.51 packets/s]"
     ]
    },
    {
     "name": "stdout",
     "output_type": "stream",
     "text": [
      "File 244 of 300 saved: cropped/ddostrace.to-victim.20070804_143936_243.pcap\n"
     ]
    },
    {
     "name": "stderr",
     "output_type": "stream",
     "text": [
      "Splitting ddostrace.to-victim.20070804_143936.pcap: 36098651 packets [4:25:49, 4505.60 packets/s]"
     ]
    },
    {
     "name": "stdout",
     "output_type": "stream",
     "text": [
      "File 245 of 300 saved: cropped/ddostrace.to-victim.20070804_143936_244.pcap\n"
     ]
    },
    {
     "name": "stderr",
     "output_type": "stream",
     "text": [
      "Splitting ddostrace.to-victim.20070804_143936.pcap: 36266572 packets [4:27:10, 4631.37 packets/s]"
     ]
    },
    {
     "name": "stdout",
     "output_type": "stream",
     "text": [
      "File 246 of 300 saved: cropped/ddostrace.to-victim.20070804_143936_245.pcap\n"
     ]
    },
    {
     "name": "stderr",
     "output_type": "stream",
     "text": [
      "Splitting ddostrace.to-victim.20070804_143936.pcap: 36429050 packets [4:28:20, 4608.60 packets/s]"
     ]
    },
    {
     "name": "stdout",
     "output_type": "stream",
     "text": [
      "File 247 of 300 saved: cropped/ddostrace.to-victim.20070804_143936_246.pcap\n"
     ]
    },
    {
     "name": "stderr",
     "output_type": "stream",
     "text": [
      "Splitting ddostrace.to-victim.20070804_143936.pcap: 36598140 packets [4:29:30, 4615.08 packets/s]"
     ]
    },
    {
     "name": "stdout",
     "output_type": "stream",
     "text": [
      "File 248 of 300 saved: cropped/ddostrace.to-victim.20070804_143936_247.pcap\n"
     ]
    },
    {
     "name": "stderr",
     "output_type": "stream",
     "text": [
      "Splitting ddostrace.to-victim.20070804_143936.pcap: 36766258 packets [4:30:50, 4582.71 packets/s]"
     ]
    },
    {
     "name": "stdout",
     "output_type": "stream",
     "text": [
      "File 249 of 300 saved: cropped/ddostrace.to-victim.20070804_143936_248.pcap\n"
     ]
    },
    {
     "name": "stderr",
     "output_type": "stream",
     "text": [
      "Splitting ddostrace.to-victim.20070804_143936.pcap: 36935253 packets [4:32:00, 4716.98 packets/s]"
     ]
    },
    {
     "name": "stdout",
     "output_type": "stream",
     "text": [
      "File 250 of 300 saved: cropped/ddostrace.to-victim.20070804_143936_249.pcap\n"
     ]
    },
    {
     "name": "stderr",
     "output_type": "stream",
     "text": [
      "Splitting ddostrace.to-victim.20070804_143936.pcap: 37103252 packets [4:33:10, 3415.53 packets/s]"
     ]
    },
    {
     "name": "stdout",
     "output_type": "stream",
     "text": [
      "File 251 of 300 saved: cropped/ddostrace.to-victim.20070804_143936_250.pcap\n"
     ]
    },
    {
     "name": "stderr",
     "output_type": "stream",
     "text": [
      "Splitting ddostrace.to-victim.20070804_143936.pcap: 37213648 packets [4:34:11, 4706.79 packets/s]"
     ]
    },
    {
     "name": "stdout",
     "output_type": "stream",
     "text": [
      "File 252 of 300 saved: cropped/ddostrace.to-victim.20070804_143936_251.pcap\n"
     ]
    },
    {
     "name": "stderr",
     "output_type": "stream",
     "text": [
      "Splitting ddostrace.to-victim.20070804_143936.pcap: 37378720 packets [4:35:11, 4576.79 packets/s]"
     ]
    },
    {
     "name": "stdout",
     "output_type": "stream",
     "text": [
      "File 253 of 300 saved: cropped/ddostrace.to-victim.20070804_143936_252.pcap\n"
     ]
    },
    {
     "name": "stderr",
     "output_type": "stream",
     "text": [
      "Splitting ddostrace.to-victim.20070804_143936.pcap: 37546759 packets [4:36:31, 4736.64 packets/s]"
     ]
    },
    {
     "name": "stdout",
     "output_type": "stream",
     "text": [
      "File 254 of 300 saved: cropped/ddostrace.to-victim.20070804_143936_253.pcap\n"
     ]
    },
    {
     "name": "stderr",
     "output_type": "stream",
     "text": [
      "Splitting ddostrace.to-victim.20070804_143936.pcap: 37715769 packets [4:37:42, 4507.39 packets/s]"
     ]
    },
    {
     "name": "stdout",
     "output_type": "stream",
     "text": [
      "File 255 of 300 saved: cropped/ddostrace.to-victim.20070804_143936_254.pcap\n"
     ]
    },
    {
     "name": "stderr",
     "output_type": "stream",
     "text": [
      "Splitting ddostrace.to-victim.20070804_143936.pcap: 37884485 packets [4:38:52, 4458.08 packets/s]"
     ]
    },
    {
     "name": "stdout",
     "output_type": "stream",
     "text": [
      "File 256 of 300 saved: cropped/ddostrace.to-victim.20070804_143936_255.pcap\n"
     ]
    },
    {
     "name": "stderr",
     "output_type": "stream",
     "text": [
      "Splitting ddostrace.to-victim.20070804_143936.pcap: 37996117 packets [4:39:52, 3584.46 packets/s]"
     ]
    },
    {
     "name": "stdout",
     "output_type": "stream",
     "text": [
      "File 257 of 300 saved: cropped/ddostrace.to-victim.20070804_143936_256.pcap\n"
     ]
    },
    {
     "name": "stderr",
     "output_type": "stream",
     "text": [
      "Splitting ddostrace.to-victim.20070804_143936.pcap: 38011237 packets [4:40:08, 4661.45 packets/s]"
     ]
    },
    {
     "name": "stdout",
     "output_type": "stream",
     "text": [
      "File 258 of 300 saved: cropped/ddostrace.to-victim.20070804_143936_257.pcap\n"
     ]
    },
    {
     "name": "stderr",
     "output_type": "stream",
     "text": [
      "Splitting ddostrace.to-victim.20070804_143936.pcap: 38136300 packets [4:40:53, 4698.02 packets/s]"
     ]
    },
    {
     "name": "stdout",
     "output_type": "stream",
     "text": [
      "File 259 of 300 saved: cropped/ddostrace.to-victim.20070804_143936_258.pcap\n"
     ]
    },
    {
     "name": "stderr",
     "output_type": "stream",
     "text": [
      "Splitting ddostrace.to-victim.20070804_143936.pcap: 38299235 packets [4:42:03, 4768.71 packets/s]"
     ]
    },
    {
     "name": "stdout",
     "output_type": "stream",
     "text": [
      "File 260 of 300 saved: cropped/ddostrace.to-victim.20070804_143936_259.pcap\n"
     ]
    },
    {
     "name": "stderr",
     "output_type": "stream",
     "text": [
      "Splitting ddostrace.to-victim.20070804_143936.pcap: 38461968 packets [4:43:13, 4466.24 packets/s]"
     ]
    },
    {
     "name": "stdout",
     "output_type": "stream",
     "text": [
      "File 261 of 300 saved: cropped/ddostrace.to-victim.20070804_143936_260.pcap\n"
     ]
    },
    {
     "name": "stderr",
     "output_type": "stream",
     "text": [
      "Splitting ddostrace.to-victim.20070804_143936.pcap: 38570348 packets [4:44:13, 4100.08 packets/s]"
     ]
    },
    {
     "name": "stdout",
     "output_type": "stream",
     "text": [
      "File 262 of 300 saved: cropped/ddostrace.to-victim.20070804_143936_261.pcap\n"
     ]
    },
    {
     "name": "stderr",
     "output_type": "stream",
     "text": [
      "Splitting ddostrace.to-victim.20070804_143936.pcap: 38685400 packets [4:44:54, 4058.38 packets/s]"
     ]
    },
    {
     "name": "stdout",
     "output_type": "stream",
     "text": [
      "File 263 of 300 saved: cropped/ddostrace.to-victim.20070804_143936_262.pcap\n"
     ]
    },
    {
     "name": "stderr",
     "output_type": "stream",
     "text": [
      "Splitting ddostrace.to-victim.20070804_143936.pcap: 38851147 packets [4:46:04, 4378.03 packets/s]"
     ]
    },
    {
     "name": "stdout",
     "output_type": "stream",
     "text": [
      "File 264 of 300 saved: cropped/ddostrace.to-victim.20070804_143936_263.pcap\n"
     ]
    },
    {
     "name": "stderr",
     "output_type": "stream",
     "text": [
      "Splitting ddostrace.to-victim.20070804_143936.pcap: 39014601 packets [4:47:14, 4673.59 packets/s]"
     ]
    },
    {
     "name": "stdout",
     "output_type": "stream",
     "text": [
      "File 265 of 300 saved: cropped/ddostrace.to-victim.20070804_143936_264.pcap\n"
     ]
    },
    {
     "name": "stderr",
     "output_type": "stream",
     "text": [
      "Splitting ddostrace.to-victim.20070804_143936.pcap: 39177938 packets [4:48:24, 3792.40 packets/s]"
     ]
    },
    {
     "name": "stdout",
     "output_type": "stream",
     "text": [
      "File 266 of 300 saved: cropped/ddostrace.to-victim.20070804_143936_265.pcap\n"
     ]
    },
    {
     "name": "stderr",
     "output_type": "stream",
     "text": [
      "Splitting ddostrace.to-victim.20070804_143936.pcap: 39290959 packets [4:49:25, 4621.58 packets/s]"
     ]
    },
    {
     "name": "stdout",
     "output_type": "stream",
     "text": [
      "File 267 of 300 saved: cropped/ddostrace.to-victim.20070804_143936_266.pcap\n"
     ]
    },
    {
     "name": "stderr",
     "output_type": "stream",
     "text": [
      "Splitting ddostrace.to-victim.20070804_143936.pcap: 39410022 packets [4:50:15, 2839.91 packets/s]"
     ]
    },
    {
     "name": "stdout",
     "output_type": "stream",
     "text": [
      "File 268 of 300 saved: cropped/ddostrace.to-victim.20070804_143936_267.pcap\n"
     ]
    },
    {
     "name": "stderr",
     "output_type": "stream",
     "text": [
      "Splitting ddostrace.to-victim.20070804_143936.pcap: 39576317 packets [4:51:15, 4534.57 packets/s]"
     ]
    },
    {
     "name": "stdout",
     "output_type": "stream",
     "text": [
      "File 269 of 300 saved: cropped/ddostrace.to-victim.20070804_143936_268.pcap\n"
     ]
    },
    {
     "name": "stderr",
     "output_type": "stream",
     "text": [
      "Splitting ddostrace.to-victim.20070804_143936.pcap: 39745612 packets [4:52:35, 4656.51 packets/s]"
     ]
    },
    {
     "name": "stdout",
     "output_type": "stream",
     "text": [
      "File 270 of 300 saved: cropped/ddostrace.to-victim.20070804_143936_269.pcap\n"
     ]
    },
    {
     "name": "stderr",
     "output_type": "stream",
     "text": [
      "Splitting ddostrace.to-victim.20070804_143936.pcap: 39913526 packets [4:53:46, 4635.07 packets/s]"
     ]
    },
    {
     "name": "stdout",
     "output_type": "stream",
     "text": [
      "File 271 of 300 saved: cropped/ddostrace.to-victim.20070804_143936_270.pcap\n"
     ]
    },
    {
     "name": "stderr",
     "output_type": "stream",
     "text": [
      "Splitting ddostrace.to-victim.20070804_143936.pcap: 40026523 packets [4:54:46, 4079.59 packets/s]"
     ]
    },
    {
     "name": "stdout",
     "output_type": "stream",
     "text": [
      "File 272 of 300 saved: cropped/ddostrace.to-victim.20070804_143936_271.pcap\n"
     ]
    },
    {
     "name": "stderr",
     "output_type": "stream",
     "text": [
      "Splitting ddostrace.to-victim.20070804_143936.pcap: 40041576 packets [4:55:00, 4452.39 packets/s]"
     ]
    },
    {
     "name": "stdout",
     "output_type": "stream",
     "text": [
      "File 273 of 300 saved: cropped/ddostrace.to-victim.20070804_143936_272.pcap\n"
     ]
    },
    {
     "name": "stderr",
     "output_type": "stream",
     "text": [
      "Splitting ddostrace.to-victim.20070804_143936.pcap: 40054227 packets [4:55:07, 4240.80 packets/s]"
     ]
    },
    {
     "name": "stdout",
     "output_type": "stream",
     "text": [
      "File 274 of 300 saved: cropped/ddostrace.to-victim.20070804_143936_273.pcap\n"
     ]
    },
    {
     "name": "stderr",
     "output_type": "stream",
     "text": [
      "Splitting ddostrace.to-victim.20070804_143936.pcap: 40223316 packets [4:56:06, 4414.39 packets/s]"
     ]
    },
    {
     "name": "stdout",
     "output_type": "stream",
     "text": [
      "File 275 of 300 saved: cropped/ddostrace.to-victim.20070804_143936_274.pcap\n"
     ]
    },
    {
     "name": "stderr",
     "output_type": "stream",
     "text": [
      "Splitting ddostrace.to-victim.20070804_143936.pcap: 40394775 packets [4:57:16, 2742.26 packets/s]"
     ]
    },
    {
     "name": "stdout",
     "output_type": "stream",
     "text": [
      "File 276 of 300 saved: cropped/ddostrace.to-victim.20070804_143936_275.pcap\n"
     ]
    },
    {
     "name": "stderr",
     "output_type": "stream",
     "text": [
      "Splitting ddostrace.to-victim.20070804_143936.pcap: 40560653 packets [4:58:37, 4506.61 packets/s]"
     ]
    },
    {
     "name": "stdout",
     "output_type": "stream",
     "text": [
      "File 277 of 300 saved: cropped/ddostrace.to-victim.20070804_143936_276.pcap\n"
     ]
    },
    {
     "name": "stderr",
     "output_type": "stream",
     "text": [
      "Splitting ddostrace.to-victim.20070804_143936.pcap: 40712384 packets [4:59:47, 3712.93 packets/s]"
     ]
    },
    {
     "name": "stdout",
     "output_type": "stream",
     "text": [
      "File 278 of 300 saved: cropped/ddostrace.to-victim.20070804_143936_277.pcap\n"
     ]
    },
    {
     "name": "stderr",
     "output_type": "stream",
     "text": [
      "Splitting ddostrace.to-victim.20070804_143936.pcap: 40882459 packets [5:00:57, 4314.75 packets/s]"
     ]
    },
    {
     "name": "stdout",
     "output_type": "stream",
     "text": [
      "File 279 of 300 saved: cropped/ddostrace.to-victim.20070804_143936_278.pcap\n"
     ]
    },
    {
     "name": "stderr",
     "output_type": "stream",
     "text": [
      "Splitting ddostrace.to-victim.20070804_143936.pcap: 41051143 packets [5:02:07, 4587.48 packets/s]"
     ]
    },
    {
     "name": "stdout",
     "output_type": "stream",
     "text": [
      "File 280 of 300 saved: cropped/ddostrace.to-victim.20070804_143936_279.pcap\n"
     ]
    },
    {
     "name": "stderr",
     "output_type": "stream",
     "text": [
      "Splitting ddostrace.to-victim.20070804_143936.pcap: 41219505 packets [5:03:28, 4496.08 packets/s]"
     ]
    },
    {
     "name": "stdout",
     "output_type": "stream",
     "text": [
      "File 281 of 300 saved: cropped/ddostrace.to-victim.20070804_143936_280.pcap\n"
     ]
    },
    {
     "name": "stderr",
     "output_type": "stream",
     "text": [
      "Splitting ddostrace.to-victim.20070804_143936.pcap: 41381818 packets [5:04:38, 4607.33 packets/s]"
     ]
    },
    {
     "name": "stdout",
     "output_type": "stream",
     "text": [
      "File 282 of 300 saved: cropped/ddostrace.to-victim.20070804_143936_281.pcap\n"
     ]
    },
    {
     "name": "stderr",
     "output_type": "stream",
     "text": [
      "Splitting ddostrace.to-victim.20070804_143936.pcap: 41544780 packets [5:05:49, 2731.78 packets/s]"
     ]
    },
    {
     "name": "stdout",
     "output_type": "stream",
     "text": [
      "File 283 of 300 saved: cropped/ddostrace.to-victim.20070804_143936_282.pcap\n"
     ]
    },
    {
     "name": "stderr",
     "output_type": "stream",
     "text": [
      "Splitting ddostrace.to-victim.20070804_143936.pcap: 41714048 packets [5:06:59, 3888.31 packets/s]"
     ]
    },
    {
     "name": "stdout",
     "output_type": "stream",
     "text": [
      "File 284 of 300 saved: cropped/ddostrace.to-victim.20070804_143936_283.pcap\n"
     ]
    },
    {
     "name": "stderr",
     "output_type": "stream",
     "text": [
      "Splitting ddostrace.to-victim.20070804_143936.pcap: 41883642 packets [5:08:19, 2855.01 packets/s]"
     ]
    },
    {
     "name": "stdout",
     "output_type": "stream",
     "text": [
      "File 285 of 300 saved: cropped/ddostrace.to-victim.20070804_143936_284.pcap\n"
     ]
    },
    {
     "name": "stderr",
     "output_type": "stream",
     "text": [
      "Splitting ddostrace.to-victim.20070804_143936.pcap: 42051600 packets [5:09:29, 4077.48 packets/s]"
     ]
    },
    {
     "name": "stdout",
     "output_type": "stream",
     "text": [
      "File 286 of 300 saved: cropped/ddostrace.to-victim.20070804_143936_285.pcap\n"
     ]
    },
    {
     "name": "stderr",
     "output_type": "stream",
     "text": [
      "Splitting ddostrace.to-victim.20070804_143936.pcap: 42215490 packets [5:10:39, 4247.49 packets/s]"
     ]
    },
    {
     "name": "stdout",
     "output_type": "stream",
     "text": [
      "File 287 of 300 saved: cropped/ddostrace.to-victim.20070804_143936_286.pcap\n"
     ]
    },
    {
     "name": "stderr",
     "output_type": "stream",
     "text": [
      "Splitting ddostrace.to-victim.20070804_143936.pcap: 42383604 packets [5:12:00, 4619.63 packets/s]"
     ]
    },
    {
     "name": "stdout",
     "output_type": "stream",
     "text": [
      "File 288 of 300 saved: cropped/ddostrace.to-victim.20070804_143936_287.pcap\n"
     ]
    },
    {
     "name": "stderr",
     "output_type": "stream",
     "text": [
      "Splitting ddostrace.to-victim.20070804_143936.pcap: 42552263 packets [5:13:10, 1980.85 packets/s]"
     ]
    },
    {
     "name": "stdout",
     "output_type": "stream",
     "text": [
      "File 289 of 300 saved: cropped/ddostrace.to-victim.20070804_143936_288.pcap\n"
     ]
    },
    {
     "name": "stderr",
     "output_type": "stream",
     "text": [
      "Splitting ddostrace.to-victim.20070804_143936.pcap: 42720901 packets [5:14:30, 4122.52 packets/s]"
     ]
    },
    {
     "name": "stdout",
     "output_type": "stream",
     "text": [
      "File 290 of 300 saved: cropped/ddostrace.to-victim.20070804_143936_289.pcap\n"
     ]
    },
    {
     "name": "stderr",
     "output_type": "stream",
     "text": [
      "Splitting ddostrace.to-victim.20070804_143936.pcap: 42888351 packets [5:15:40, 4526.49 packets/s]"
     ]
    },
    {
     "name": "stdout",
     "output_type": "stream",
     "text": [
      "File 291 of 300 saved: cropped/ddostrace.to-victim.20070804_143936_290.pcap\n"
     ]
    },
    {
     "name": "stderr",
     "output_type": "stream",
     "text": [
      "Splitting ddostrace.to-victim.20070804_143936.pcap: 43051024 packets [5:16:51, 4435.76 packets/s]"
     ]
    },
    {
     "name": "stdout",
     "output_type": "stream",
     "text": [
      "File 292 of 300 saved: cropped/ddostrace.to-victim.20070804_143936_291.pcap\n"
     ]
    },
    {
     "name": "stderr",
     "output_type": "stream",
     "text": [
      "Splitting ddostrace.to-victim.20070804_143936.pcap: 43217908 packets [5:18:01, 4642.97 packets/s]"
     ]
    },
    {
     "name": "stdout",
     "output_type": "stream",
     "text": [
      "File 293 of 300 saved: cropped/ddostrace.to-victim.20070804_143936_292.pcap\n"
     ]
    },
    {
     "name": "stderr",
     "output_type": "stream",
     "text": [
      "Splitting ddostrace.to-victim.20070804_143936.pcap: 43385310 packets [5:19:22, 4597.30 packets/s]"
     ]
    },
    {
     "name": "stdout",
     "output_type": "stream",
     "text": [
      "File 294 of 300 saved: cropped/ddostrace.to-victim.20070804_143936_293.pcap\n"
     ]
    },
    {
     "name": "stderr",
     "output_type": "stream",
     "text": [
      "Splitting ddostrace.to-victim.20070804_143936.pcap: 43551753 packets [5:20:42, 4568.65 packets/s]"
     ]
    },
    {
     "name": "stdout",
     "output_type": "stream",
     "text": [
      "File 295 of 300 saved: cropped/ddostrace.to-victim.20070804_143936_294.pcap\n"
     ]
    },
    {
     "name": "stderr",
     "output_type": "stream",
     "text": [
      "Splitting ddostrace.to-victim.20070804_143936.pcap: 43718897 packets [5:21:52, 4464.09 packets/s]"
     ]
    },
    {
     "name": "stdout",
     "output_type": "stream",
     "text": [
      "File 296 of 300 saved: cropped/ddostrace.to-victim.20070804_143936_295.pcap\n"
     ]
    },
    {
     "name": "stderr",
     "output_type": "stream",
     "text": [
      "Splitting ddostrace.to-victim.20070804_143936.pcap: 43879216 packets [5:23:02, 4457.41 packets/s]"
     ]
    },
    {
     "name": "stdout",
     "output_type": "stream",
     "text": [
      "File 297 of 300 saved: cropped/ddostrace.to-victim.20070804_143936_296.pcap\n"
     ]
    },
    {
     "name": "stderr",
     "output_type": "stream",
     "text": [
      "Splitting ddostrace.to-victim.20070804_143936.pcap: 44041782 packets [5:24:13, 2555.23 packets/s]"
     ]
    },
    {
     "name": "stdout",
     "output_type": "stream",
     "text": [
      "File 298 of 300 saved: cropped/ddostrace.to-victim.20070804_143936_297.pcap\n"
     ]
    },
    {
     "name": "stderr",
     "output_type": "stream",
     "text": [
      "Splitting ddostrace.to-victim.20070804_143936.pcap: 44210981 packets [5:25:23, 4367.35 packets/s]"
     ]
    },
    {
     "name": "stdout",
     "output_type": "stream",
     "text": [
      "File 299 of 300 saved: cropped/ddostrace.to-victim.20070804_143936_298.pcap\n"
     ]
    },
    {
     "name": "stderr",
     "output_type": "stream",
     "text": [
      "Splitting ddostrace.to-victim.20070804_143936.pcap: 44336495 packets [5:26:18, 2264.56 packets/s]\n"
     ]
    },
    {
     "name": "stdout",
     "output_type": "stream",
     "text": [
      "Split ddostrace.to-victim.20070804_143936.pcap into 299 parts successfully.\n"
     ]
    },
    {
     "name": "stderr",
     "output_type": "stream",
     "text": [
      "Splitting ddostrace.to-victim.20070804_144436.pcap: 168973 packets [00:55, 3595.61 packets/s]"
     ]
    },
    {
     "name": "stdout",
     "output_type": "stream",
     "text": [
      "File 1 of 300 saved: cropped/ddostrace.to-victim.20070804_144436_0.pcap\n"
     ]
    },
    {
     "name": "stderr",
     "output_type": "stream",
     "text": [
      "Splitting ddostrace.to-victim.20070804_144436.pcap: 334264 packets [02:06, 4080.07 packets/s]"
     ]
    },
    {
     "name": "stdout",
     "output_type": "stream",
     "text": [
      "File 2 of 300 saved: cropped/ddostrace.to-victim.20070804_144436_1.pcap\n"
     ]
    },
    {
     "name": "stderr",
     "output_type": "stream",
     "text": [
      "Splitting ddostrace.to-victim.20070804_144436.pcap: 496545 packets [03:16, 4529.40 packets/s]"
     ]
    },
    {
     "name": "stdout",
     "output_type": "stream",
     "text": [
      "File 3 of 300 saved: cropped/ddostrace.to-victim.20070804_144436_2.pcap\n"
     ]
    },
    {
     "name": "stderr",
     "output_type": "stream",
     "text": [
      "Splitting ddostrace.to-victim.20070804_144436.pcap: 648030 packets [04:26, 4402.20 packets/s]"
     ]
    },
    {
     "name": "stdout",
     "output_type": "stream",
     "text": [
      "File 4 of 300 saved: cropped/ddostrace.to-victim.20070804_144436_3.pcap\n"
     ]
    },
    {
     "name": "stderr",
     "output_type": "stream",
     "text": [
      "Splitting ddostrace.to-victim.20070804_144436.pcap: 815691 packets [05:36, 4231.27 packets/s]"
     ]
    },
    {
     "name": "stdout",
     "output_type": "stream",
     "text": [
      "File 5 of 300 saved: cropped/ddostrace.to-victim.20070804_144436_4.pcap\n"
     ]
    },
    {
     "name": "stderr",
     "output_type": "stream",
     "text": [
      "Splitting ddostrace.to-victim.20070804_144436.pcap: 982824 packets [06:57, 4604.38 packets/s]"
     ]
    },
    {
     "name": "stdout",
     "output_type": "stream",
     "text": [
      "File 6 of 300 saved: cropped/ddostrace.to-victim.20070804_144436_5.pcap\n"
     ]
    },
    {
     "name": "stderr",
     "output_type": "stream",
     "text": [
      "Splitting ddostrace.to-victim.20070804_144436.pcap: 1146994 packets [08:07, 4545.74 packets/s]"
     ]
    },
    {
     "name": "stdout",
     "output_type": "stream",
     "text": [
      "File 7 of 300 saved: cropped/ddostrace.to-victim.20070804_144436_6.pcap\n"
     ]
    },
    {
     "name": "stderr",
     "output_type": "stream",
     "text": [
      "Splitting ddostrace.to-victim.20070804_144436.pcap: 1314656 packets [09:17, 4634.15 packets/s]"
     ]
    },
    {
     "name": "stdout",
     "output_type": "stream",
     "text": [
      "File 8 of 300 saved: cropped/ddostrace.to-victim.20070804_144436_7.pcap\n"
     ]
    },
    {
     "name": "stderr",
     "output_type": "stream",
     "text": [
      "Splitting ddostrace.to-victim.20070804_144436.pcap: 1481176 packets [10:38, 4462.79 packets/s]"
     ]
    },
    {
     "name": "stdout",
     "output_type": "stream",
     "text": [
      "File 9 of 300 saved: cropped/ddostrace.to-victim.20070804_144436_8.pcap\n"
     ]
    },
    {
     "name": "stderr",
     "output_type": "stream",
     "text": [
      "Splitting ddostrace.to-victim.20070804_144436.pcap: 1648391 packets [11:48, 4405.85 packets/s]"
     ]
    },
    {
     "name": "stdout",
     "output_type": "stream",
     "text": [
      "File 10 of 300 saved: cropped/ddostrace.to-victim.20070804_144436_9.pcap\n"
     ]
    },
    {
     "name": "stderr",
     "output_type": "stream",
     "text": [
      "Splitting ddostrace.to-victim.20070804_144436.pcap: 1818243 packets [13:28, 1475.09 packets/s]"
     ]
    },
    {
     "name": "stdout",
     "output_type": "stream",
     "text": [
      "File 11 of 300 saved: cropped/ddostrace.to-victim.20070804_144436_10.pcap\n"
     ]
    },
    {
     "name": "stderr",
     "output_type": "stream",
     "text": [
      "Splitting ddostrace.to-victim.20070804_144436.pcap: 1983910 packets [14:48, 3531.65 packets/s]"
     ]
    },
    {
     "name": "stdout",
     "output_type": "stream",
     "text": [
      "File 12 of 300 saved: cropped/ddostrace.to-victim.20070804_144436_11.pcap\n"
     ]
    },
    {
     "name": "stderr",
     "output_type": "stream",
     "text": [
      "Splitting ddostrace.to-victim.20070804_144436.pcap: 2151472 packets [16:09, 4283.60 packets/s]"
     ]
    },
    {
     "name": "stdout",
     "output_type": "stream",
     "text": [
      "File 13 of 300 saved: cropped/ddostrace.to-victim.20070804_144436_12.pcap\n"
     ]
    },
    {
     "name": "stderr",
     "output_type": "stream",
     "text": [
      "Splitting ddostrace.to-victim.20070804_144436.pcap: 2320013 packets [17:19, 1715.46 packets/s]"
     ]
    },
    {
     "name": "stdout",
     "output_type": "stream",
     "text": [
      "File 14 of 300 saved: cropped/ddostrace.to-victim.20070804_144436_13.pcap\n"
     ]
    },
    {
     "name": "stderr",
     "output_type": "stream",
     "text": [
      "Splitting ddostrace.to-victim.20070804_144436.pcap: 2489127 packets [18:39, 4520.59 packets/s]"
     ]
    },
    {
     "name": "stdout",
     "output_type": "stream",
     "text": [
      "File 15 of 300 saved: cropped/ddostrace.to-victim.20070804_144436_14.pcap\n"
     ]
    },
    {
     "name": "stderr",
     "output_type": "stream",
     "text": [
      "Splitting ddostrace.to-victim.20070804_144436.pcap: 2656659 packets [19:49, 4448.85 packets/s]"
     ]
    },
    {
     "name": "stdout",
     "output_type": "stream",
     "text": [
      "File 16 of 300 saved: cropped/ddostrace.to-victim.20070804_144436_15.pcap\n"
     ]
    },
    {
     "name": "stderr",
     "output_type": "stream",
     "text": [
      "Splitting ddostrace.to-victim.20070804_144436.pcap: 2824411 packets [21:09, 4483.32 packets/s]"
     ]
    },
    {
     "name": "stdout",
     "output_type": "stream",
     "text": [
      "File 17 of 300 saved: cropped/ddostrace.to-victim.20070804_144436_16.pcap\n"
     ]
    },
    {
     "name": "stderr",
     "output_type": "stream",
     "text": [
      "Splitting ddostrace.to-victim.20070804_144436.pcap: 2981510 packets [22:20, 4340.28 packets/s]"
     ]
    },
    {
     "name": "stdout",
     "output_type": "stream",
     "text": [
      "File 18 of 300 saved: cropped/ddostrace.to-victim.20070804_144436_17.pcap\n"
     ]
    },
    {
     "name": "stderr",
     "output_type": "stream",
     "text": [
      "Splitting ddostrace.to-victim.20070804_144436.pcap: 3147048 packets [23:31, 4491.46 packets/s]"
     ]
    },
    {
     "name": "stdout",
     "output_type": "stream",
     "text": [
      "File 19 of 300 saved: cropped/ddostrace.to-victim.20070804_144436_18.pcap\n"
     ]
    },
    {
     "name": "stderr",
     "output_type": "stream",
     "text": [
      "Splitting ddostrace.to-victim.20070804_144436.pcap: 3315946 packets [24:51, 4027.61 packets/s]"
     ]
    },
    {
     "name": "stdout",
     "output_type": "stream",
     "text": [
      "File 20 of 300 saved: cropped/ddostrace.to-victim.20070804_144436_19.pcap\n"
     ]
    },
    {
     "name": "stderr",
     "output_type": "stream",
     "text": [
      "Splitting ddostrace.to-victim.20070804_144436.pcap: 3483354 packets [26:01, 4527.41 packets/s]"
     ]
    },
    {
     "name": "stdout",
     "output_type": "stream",
     "text": [
      "File 21 of 300 saved: cropped/ddostrace.to-victim.20070804_144436_20.pcap\n"
     ]
    },
    {
     "name": "stderr",
     "output_type": "stream",
     "text": [
      "Splitting ddostrace.to-victim.20070804_144436.pcap: 3652015 packets [27:12, 1812.51 packets/s]"
     ]
    },
    {
     "name": "stdout",
     "output_type": "stream",
     "text": [
      "File 22 of 300 saved: cropped/ddostrace.to-victim.20070804_144436_21.pcap\n"
     ]
    },
    {
     "name": "stderr",
     "output_type": "stream",
     "text": [
      "Splitting ddostrace.to-victim.20070804_144436.pcap: 3810354 packets [28:32, 4465.64 packets/s]"
     ]
    },
    {
     "name": "stdout",
     "output_type": "stream",
     "text": [
      "File 23 of 300 saved: cropped/ddostrace.to-victim.20070804_144436_22.pcap\n"
     ]
    },
    {
     "name": "stderr",
     "output_type": "stream",
     "text": [
      "Splitting ddostrace.to-victim.20070804_144436.pcap: 3977984 packets [29:42, 4407.51 packets/s]"
     ]
    },
    {
     "name": "stdout",
     "output_type": "stream",
     "text": [
      "File 24 of 300 saved: cropped/ddostrace.to-victim.20070804_144436_23.pcap\n"
     ]
    },
    {
     "name": "stderr",
     "output_type": "stream",
     "text": [
      "Splitting ddostrace.to-victim.20070804_144436.pcap: 4147339 packets [30:52, 4220.92 packets/s]"
     ]
    },
    {
     "name": "stdout",
     "output_type": "stream",
     "text": [
      "File 25 of 300 saved: cropped/ddostrace.to-victim.20070804_144436_24.pcap\n"
     ]
    },
    {
     "name": "stderr",
     "output_type": "stream",
     "text": [
      "Splitting ddostrace.to-victim.20070804_144436.pcap: 4316019 packets [32:13, 4493.96 packets/s]"
     ]
    },
    {
     "name": "stdout",
     "output_type": "stream",
     "text": [
      "File 26 of 300 saved: cropped/ddostrace.to-victim.20070804_144436_25.pcap\n"
     ]
    },
    {
     "name": "stderr",
     "output_type": "stream",
     "text": [
      "Splitting ddostrace.to-victim.20070804_144436.pcap: 4484051 packets [33:23, 4325.00 packets/s]"
     ]
    },
    {
     "name": "stdout",
     "output_type": "stream",
     "text": [
      "File 27 of 300 saved: cropped/ddostrace.to-victim.20070804_144436_26.pcap\n"
     ]
    },
    {
     "name": "stderr",
     "output_type": "stream",
     "text": [
      "Splitting ddostrace.to-victim.20070804_144436.pcap: 4647291 packets [34:43, 4539.75 packets/s]"
     ]
    },
    {
     "name": "stdout",
     "output_type": "stream",
     "text": [
      "File 28 of 300 saved: cropped/ddostrace.to-victim.20070804_144436_27.pcap\n"
     ]
    },
    {
     "name": "stderr",
     "output_type": "stream",
     "text": [
      "Splitting ddostrace.to-victim.20070804_144436.pcap: 4812377 packets [35:53, 4338.92 packets/s]"
     ]
    },
    {
     "name": "stdout",
     "output_type": "stream",
     "text": [
      "File 29 of 300 saved: cropped/ddostrace.to-victim.20070804_144436_28.pcap\n"
     ]
    },
    {
     "name": "stderr",
     "output_type": "stream",
     "text": [
      "Splitting ddostrace.to-victim.20070804_144436.pcap: 4979470 packets [37:05, 3728.60 packets/s]"
     ]
    },
    {
     "name": "stdout",
     "output_type": "stream",
     "text": [
      "File 30 of 300 saved: cropped/ddostrace.to-victim.20070804_144436_29.pcap\n"
     ]
    },
    {
     "name": "stderr",
     "output_type": "stream",
     "text": [
      "Splitting ddostrace.to-victim.20070804_144436.pcap: 5147332 packets [38:25, 4435.97 packets/s]"
     ]
    },
    {
     "name": "stdout",
     "output_type": "stream",
     "text": [
      "File 31 of 300 saved: cropped/ddostrace.to-victim.20070804_144436_30.pcap\n"
     ]
    },
    {
     "name": "stderr",
     "output_type": "stream",
     "text": [
      "Splitting ddostrace.to-victim.20070804_144436.pcap: 5315246 packets [39:35, 4344.60 packets/s]"
     ]
    },
    {
     "name": "stdout",
     "output_type": "stream",
     "text": [
      "File 32 of 300 saved: cropped/ddostrace.to-victim.20070804_144436_31.pcap\n"
     ]
    },
    {
     "name": "stderr",
     "output_type": "stream",
     "text": [
      "Splitting ddostrace.to-victim.20070804_144436.pcap: 5479292 packets [40:56, 2125.54 packets/s]"
     ]
    },
    {
     "name": "stdout",
     "output_type": "stream",
     "text": [
      "File 33 of 300 saved: cropped/ddostrace.to-victim.20070804_144436_32.pcap\n"
     ]
    },
    {
     "name": "stderr",
     "output_type": "stream",
     "text": [
      "Splitting ddostrace.to-victim.20070804_144436.pcap: 5646442 packets [42:06, 4543.24 packets/s]"
     ]
    },
    {
     "name": "stdout",
     "output_type": "stream",
     "text": [
      "File 34 of 300 saved: cropped/ddostrace.to-victim.20070804_144436_33.pcap\n"
     ]
    },
    {
     "name": "stderr",
     "output_type": "stream",
     "text": [
      "Splitting ddostrace.to-victim.20070804_144436.pcap: 5814363 packets [43:16, 4460.19 packets/s]"
     ]
    },
    {
     "name": "stdout",
     "output_type": "stream",
     "text": [
      "File 35 of 300 saved: cropped/ddostrace.to-victim.20070804_144436_34.pcap\n"
     ]
    },
    {
     "name": "stderr",
     "output_type": "stream",
     "text": [
      "Splitting ddostrace.to-victim.20070804_144436.pcap: 5983010 packets [44:36, 4404.49 packets/s]"
     ]
    },
    {
     "name": "stdout",
     "output_type": "stream",
     "text": [
      "File 36 of 300 saved: cropped/ddostrace.to-victim.20070804_144436_35.pcap\n"
     ]
    },
    {
     "name": "stderr",
     "output_type": "stream",
     "text": [
      "Splitting ddostrace.to-victim.20070804_144436.pcap: 6151350 packets [45:47, 4447.31 packets/s]"
     ]
    },
    {
     "name": "stdout",
     "output_type": "stream",
     "text": [
      "File 37 of 300 saved: cropped/ddostrace.to-victim.20070804_144436_36.pcap\n"
     ]
    },
    {
     "name": "stderr",
     "output_type": "stream",
     "text": [
      "Splitting ddostrace.to-victim.20070804_144436.pcap: 6307476 packets [46:57, 4558.74 packets/s]"
     ]
    },
    {
     "name": "stdout",
     "output_type": "stream",
     "text": [
      "File 38 of 300 saved: cropped/ddostrace.to-victim.20070804_144436_37.pcap\n"
     ]
    },
    {
     "name": "stderr",
     "output_type": "stream",
     "text": [
      "Splitting ddostrace.to-victim.20070804_144436.pcap: 6473268 packets [48:17, 4430.99 packets/s]"
     ]
    },
    {
     "name": "stdout",
     "output_type": "stream",
     "text": [
      "File 39 of 300 saved: cropped/ddostrace.to-victim.20070804_144436_38.pcap\n"
     ]
    },
    {
     "name": "stderr",
     "output_type": "stream",
     "text": [
      "Splitting ddostrace.to-victim.20070804_144436.pcap: 6639962 packets [49:28, 4492.37 packets/s]"
     ]
    },
    {
     "name": "stdout",
     "output_type": "stream",
     "text": [
      "File 40 of 300 saved: cropped/ddostrace.to-victim.20070804_144436_39.pcap\n"
     ]
    },
    {
     "name": "stderr",
     "output_type": "stream",
     "text": [
      "Splitting ddostrace.to-victim.20070804_144436.pcap: 6806857 packets [50:38, 4348.80 packets/s]"
     ]
    },
    {
     "name": "stdout",
     "output_type": "stream",
     "text": [
      "File 41 of 300 saved: cropped/ddostrace.to-victim.20070804_144436_40.pcap\n"
     ]
    },
    {
     "name": "stderr",
     "output_type": "stream",
     "text": [
      "Splitting ddostrace.to-victim.20070804_144436.pcap: 6973764 packets [51:58, 3872.43 packets/s]"
     ]
    },
    {
     "name": "stdout",
     "output_type": "stream",
     "text": [
      "File 42 of 300 saved: cropped/ddostrace.to-victim.20070804_144436_41.pcap\n"
     ]
    },
    {
     "name": "stderr",
     "output_type": "stream",
     "text": [
      "Splitting ddostrace.to-victim.20070804_144436.pcap: 7130031 packets [53:08, 4498.21 packets/s]"
     ]
    },
    {
     "name": "stdout",
     "output_type": "stream",
     "text": [
      "File 43 of 300 saved: cropped/ddostrace.to-victim.20070804_144436_42.pcap\n"
     ]
    },
    {
     "name": "stderr",
     "output_type": "stream",
     "text": [
      "Splitting ddostrace.to-victim.20070804_144436.pcap: 7293677 packets [54:29, 1906.05 packets/s]"
     ]
    },
    {
     "name": "stdout",
     "output_type": "stream",
     "text": [
      "File 44 of 300 saved: cropped/ddostrace.to-victim.20070804_144436_43.pcap\n"
     ]
    },
    {
     "name": "stderr",
     "output_type": "stream",
     "text": [
      "Splitting ddostrace.to-victim.20070804_144436.pcap: 7459567 packets [55:39, 4549.23 packets/s]"
     ]
    },
    {
     "name": "stdout",
     "output_type": "stream",
     "text": [
      "File 45 of 300 saved: cropped/ddostrace.to-victim.20070804_144436_44.pcap\n"
     ]
    },
    {
     "name": "stderr",
     "output_type": "stream",
     "text": [
      "Splitting ddostrace.to-victim.20070804_144436.pcap: 7625648 packets [56:49, 4451.73 packets/s]"
     ]
    },
    {
     "name": "stdout",
     "output_type": "stream",
     "text": [
      "File 46 of 300 saved: cropped/ddostrace.to-victim.20070804_144436_45.pcap\n"
     ]
    },
    {
     "name": "stderr",
     "output_type": "stream",
     "text": [
      "Splitting ddostrace.to-victim.20070804_144436.pcap: 7792100 packets [58:09, 3748.19 packets/s]"
     ]
    },
    {
     "name": "stdout",
     "output_type": "stream",
     "text": [
      "File 47 of 300 saved: cropped/ddostrace.to-victim.20070804_144436_46.pcap\n"
     ]
    },
    {
     "name": "stderr",
     "output_type": "stream",
     "text": [
      "Splitting ddostrace.to-victim.20070804_144436.pcap: 7954139 packets [59:19, 4464.32 packets/s]"
     ]
    },
    {
     "name": "stdout",
     "output_type": "stream",
     "text": [
      "File 48 of 300 saved: cropped/ddostrace.to-victim.20070804_144436_47.pcap\n"
     ]
    },
    {
     "name": "stderr",
     "output_type": "stream",
     "text": [
      "Splitting ddostrace.to-victim.20070804_144436.pcap: 8119552 packets [1:00:40, 4576.76 packets/s]"
     ]
    },
    {
     "name": "stdout",
     "output_type": "stream",
     "text": [
      "File 49 of 300 saved: cropped/ddostrace.to-victim.20070804_144436_48.pcap\n"
     ]
    },
    {
     "name": "stderr",
     "output_type": "stream",
     "text": [
      "Splitting ddostrace.to-victim.20070804_144436.pcap: 8285916 packets [1:01:50, 4409.10 packets/s]"
     ]
    },
    {
     "name": "stdout",
     "output_type": "stream",
     "text": [
      "File 50 of 300 saved: cropped/ddostrace.to-victim.20070804_144436_49.pcap\n"
     ]
    },
    {
     "name": "stderr",
     "output_type": "stream",
     "text": [
      "Splitting ddostrace.to-victim.20070804_144436.pcap: 8451316 packets [1:03:00, 4369.07 packets/s]"
     ]
    },
    {
     "name": "stdout",
     "output_type": "stream",
     "text": [
      "File 51 of 300 saved: cropped/ddostrace.to-victim.20070804_144436_50.pcap\n"
     ]
    },
    {
     "name": "stderr",
     "output_type": "stream",
     "text": [
      "Splitting ddostrace.to-victim.20070804_144436.pcap: 8617490 packets [1:04:21, 4473.97 packets/s]"
     ]
    },
    {
     "name": "stdout",
     "output_type": "stream",
     "text": [
      "File 52 of 300 saved: cropped/ddostrace.to-victim.20070804_144436_51.pcap\n"
     ]
    },
    {
     "name": "stderr",
     "output_type": "stream",
     "text": [
      "Splitting ddostrace.to-victim.20070804_144436.pcap: 8647501 packets [1:04:41, 4234.79 packets/s]"
     ]
    },
    {
     "name": "stdout",
     "output_type": "stream",
     "text": [
      "File 53 of 300 saved: cropped/ddostrace.to-victim.20070804_144436_52.pcap\n"
     ]
    },
    {
     "name": "stderr",
     "output_type": "stream",
     "text": [
      "Splitting ddostrace.to-victim.20070804_144436.pcap: 8665279 packets [1:04:51, 4259.89 packets/s]"
     ]
    },
    {
     "name": "stdout",
     "output_type": "stream",
     "text": [
      "File 54 of 300 saved: cropped/ddostrace.to-victim.20070804_144436_53.pcap\n"
     ]
    },
    {
     "name": "stderr",
     "output_type": "stream",
     "text": [
      "Splitting ddostrace.to-victim.20070804_144436.pcap: 8831371 packets [1:05:51, 3536.98 packets/s]"
     ]
    },
    {
     "name": "stdout",
     "output_type": "stream",
     "text": [
      "File 55 of 300 saved: cropped/ddostrace.to-victim.20070804_144436_54.pcap\n"
     ]
    },
    {
     "name": "stderr",
     "output_type": "stream",
     "text": [
      "Splitting ddostrace.to-victim.20070804_144436.pcap: 8996212 packets [1:07:01, 4164.53 packets/s]"
     ]
    },
    {
     "name": "stdout",
     "output_type": "stream",
     "text": [
      "File 56 of 300 saved: cropped/ddostrace.to-victim.20070804_144436_55.pcap\n"
     ]
    },
    {
     "name": "stderr",
     "output_type": "stream",
     "text": [
      "Splitting ddostrace.to-victim.20070804_144436.pcap: 9162376 packets [1:08:21, 4479.45 packets/s]"
     ]
    },
    {
     "name": "stdout",
     "output_type": "stream",
     "text": [
      "File 57 of 300 saved: cropped/ddostrace.to-victim.20070804_144436_56.pcap\n"
     ]
    },
    {
     "name": "stderr",
     "output_type": "stream",
     "text": [
      "Splitting ddostrace.to-victim.20070804_144436.pcap: 9319118 packets [1:09:32, 4236.27 packets/s]"
     ]
    },
    {
     "name": "stdout",
     "output_type": "stream",
     "text": [
      "File 58 of 300 saved: cropped/ddostrace.to-victim.20070804_144436_57.pcap\n"
     ]
    },
    {
     "name": "stderr",
     "output_type": "stream",
     "text": [
      "Splitting ddostrace.to-victim.20070804_144436.pcap: 9483233 packets [1:10:42, 4448.22 packets/s]"
     ]
    },
    {
     "name": "stdout",
     "output_type": "stream",
     "text": [
      "File 59 of 300 saved: cropped/ddostrace.to-victim.20070804_144436_58.pcap\n"
     ]
    },
    {
     "name": "stderr",
     "output_type": "stream",
     "text": [
      "Splitting ddostrace.to-victim.20070804_144436.pcap: 9648219 packets [1:11:52, 4565.40 packets/s]"
     ]
    },
    {
     "name": "stdout",
     "output_type": "stream",
     "text": [
      "File 60 of 300 saved: cropped/ddostrace.to-victim.20070804_144436_59.pcap\n"
     ]
    },
    {
     "name": "stderr",
     "output_type": "stream",
     "text": [
      "Splitting ddostrace.to-victim.20070804_144436.pcap: 9813897 packets [1:13:12, 4564.22 packets/s]"
     ]
    },
    {
     "name": "stdout",
     "output_type": "stream",
     "text": [
      "File 61 of 300 saved: cropped/ddostrace.to-victim.20070804_144436_60.pcap\n"
     ]
    },
    {
     "name": "stderr",
     "output_type": "stream",
     "text": [
      "Splitting ddostrace.to-victim.20070804_144436.pcap: 9980153 packets [1:14:22, 4483.78 packets/s]"
     ]
    },
    {
     "name": "stdout",
     "output_type": "stream",
     "text": [
      "File 62 of 300 saved: cropped/ddostrace.to-victim.20070804_144436_61.pcap\n"
     ]
    },
    {
     "name": "stderr",
     "output_type": "stream",
     "text": [
      "Splitting ddostrace.to-victim.20070804_144436.pcap: 10135340 packets [1:15:33, 4511.59 packets/s]"
     ]
    },
    {
     "name": "stdout",
     "output_type": "stream",
     "text": [
      "File 63 of 300 saved: cropped/ddostrace.to-victim.20070804_144436_62.pcap\n"
     ]
    },
    {
     "name": "stderr",
     "output_type": "stream",
     "text": [
      "Splitting ddostrace.to-victim.20070804_144436.pcap: 10298754 packets [1:16:44, 4615.02 packets/s]"
     ]
    },
    {
     "name": "stdout",
     "output_type": "stream",
     "text": [
      "File 64 of 300 saved: cropped/ddostrace.to-victim.20070804_144436_63.pcap\n"
     ]
    },
    {
     "name": "stderr",
     "output_type": "stream",
     "text": [
      "Splitting ddostrace.to-victim.20070804_144436.pcap: 10462440 packets [1:17:54, 4354.36 packets/s]"
     ]
    },
    {
     "name": "stdout",
     "output_type": "stream",
     "text": [
      "File 65 of 300 saved: cropped/ddostrace.to-victim.20070804_144436_64.pcap\n"
     ]
    },
    {
     "name": "stderr",
     "output_type": "stream",
     "text": [
      "Splitting ddostrace.to-victim.20070804_144436.pcap: 10625828 packets [1:19:14, 4330.53 packets/s]"
     ]
    },
    {
     "name": "stdout",
     "output_type": "stream",
     "text": [
      "File 66 of 300 saved: cropped/ddostrace.to-victim.20070804_144436_65.pcap\n"
     ]
    },
    {
     "name": "stderr",
     "output_type": "stream",
     "text": [
      "Splitting ddostrace.to-victim.20070804_144436.pcap: 10790020 packets [1:20:24, 4585.29 packets/s]"
     ]
    },
    {
     "name": "stdout",
     "output_type": "stream",
     "text": [
      "File 67 of 300 saved: cropped/ddostrace.to-victim.20070804_144436_66.pcap\n"
     ]
    },
    {
     "name": "stderr",
     "output_type": "stream",
     "text": [
      "Splitting ddostrace.to-victim.20070804_144436.pcap: 10818511 packets [1:20:49, 4055.47 packets/s]"
     ]
    },
    {
     "name": "stdout",
     "output_type": "stream",
     "text": [
      "File 68 of 300 saved: cropped/ddostrace.to-victim.20070804_144436_67.pcap\n"
     ]
    },
    {
     "name": "stderr",
     "output_type": "stream",
     "text": [
      "Splitting ddostrace.to-victim.20070804_144436.pcap: 10829480 packets [1:21:01, 3098.64 packets/s]"
     ]
    },
    {
     "name": "stdout",
     "output_type": "stream",
     "text": [
      "File 69 of 300 saved: cropped/ddostrace.to-victim.20070804_144436_68.pcap\n"
     ]
    },
    {
     "name": "stderr",
     "output_type": "stream",
     "text": [
      "Splitting ddostrace.to-victim.20070804_144436.pcap: 10843489 packets [1:21:08, 2534.22 packets/s]"
     ]
    },
    {
     "name": "stdout",
     "output_type": "stream",
     "text": [
      "File 70 of 300 saved: cropped/ddostrace.to-victim.20070804_144436_69.pcap\n"
     ]
    },
    {
     "name": "stderr",
     "output_type": "stream",
     "text": [
      "Splitting ddostrace.to-victim.20070804_144436.pcap: 10870921 packets [1:21:18, 3967.06 packets/s]"
     ]
    },
    {
     "name": "stdout",
     "output_type": "stream",
     "text": [
      "File 71 of 300 saved: cropped/ddostrace.to-victim.20070804_144436_70.pcap\n"
     ]
    },
    {
     "name": "stderr",
     "output_type": "stream",
     "text": [
      "Splitting ddostrace.to-victim.20070804_144436.pcap: 11035368 packets [1:22:25, 4304.95 packets/s]"
     ]
    },
    {
     "name": "stdout",
     "output_type": "stream",
     "text": [
      "File 72 of 300 saved: cropped/ddostrace.to-victim.20070804_144436_71.pcap\n"
     ]
    },
    {
     "name": "stderr",
     "output_type": "stream",
     "text": [
      "Splitting ddostrace.to-victim.20070804_144436.pcap: 11198077 packets [1:23:35, 4385.39 packets/s]"
     ]
    },
    {
     "name": "stdout",
     "output_type": "stream",
     "text": [
      "File 73 of 300 saved: cropped/ddostrace.to-victim.20070804_144436_72.pcap\n"
     ]
    },
    {
     "name": "stderr",
     "output_type": "stream",
     "text": [
      "Splitting ddostrace.to-victim.20070804_144436.pcap: 11362733 packets [1:24:46, 4346.41 packets/s]"
     ]
    },
    {
     "name": "stdout",
     "output_type": "stream",
     "text": [
      "File 74 of 300 saved: cropped/ddostrace.to-victim.20070804_144436_73.pcap\n"
     ]
    },
    {
     "name": "stderr",
     "output_type": "stream",
     "text": [
      "Splitting ddostrace.to-victim.20070804_144436.pcap: 11527630 packets [1:25:56, 4012.99 packets/s]"
     ]
    },
    {
     "name": "stdout",
     "output_type": "stream",
     "text": [
      "File 75 of 300 saved: cropped/ddostrace.to-victim.20070804_144436_74.pcap\n"
     ]
    },
    {
     "name": "stderr",
     "output_type": "stream",
     "text": [
      "Splitting ddostrace.to-victim.20070804_144436.pcap: 11693298 packets [1:27:16, 4452.38 packets/s]"
     ]
    },
    {
     "name": "stdout",
     "output_type": "stream",
     "text": [
      "File 76 of 300 saved: cropped/ddostrace.to-victim.20070804_144436_75.pcap\n"
     ]
    },
    {
     "name": "stderr",
     "output_type": "stream",
     "text": [
      "Splitting ddostrace.to-victim.20070804_144436.pcap: 11857448 packets [1:28:26, 4308.46 packets/s]"
     ]
    },
    {
     "name": "stdout",
     "output_type": "stream",
     "text": [
      "File 77 of 300 saved: cropped/ddostrace.to-victim.20070804_144436_76.pcap\n"
     ]
    },
    {
     "name": "stderr",
     "output_type": "stream",
     "text": [
      "Splitting ddostrace.to-victim.20070804_144436.pcap: 12012268 packets [1:29:37, 4121.31 packets/s]"
     ]
    },
    {
     "name": "stdout",
     "output_type": "stream",
     "text": [
      "File 78 of 300 saved: cropped/ddostrace.to-victim.20070804_144436_77.pcap\n"
     ]
    },
    {
     "name": "stderr",
     "output_type": "stream",
     "text": [
      "Splitting ddostrace.to-victim.20070804_144436.pcap: 12173997 packets [1:30:57, 4079.40 packets/s]"
     ]
    },
    {
     "name": "stdout",
     "output_type": "stream",
     "text": [
      "File 79 of 300 saved: cropped/ddostrace.to-victim.20070804_144436_78.pcap\n"
     ]
    },
    {
     "name": "stderr",
     "output_type": "stream",
     "text": [
      "Splitting ddostrace.to-victim.20070804_144436.pcap: 12338192 packets [1:32:07, 2286.69 packets/s]"
     ]
    },
    {
     "name": "stdout",
     "output_type": "stream",
     "text": [
      "File 80 of 300 saved: cropped/ddostrace.to-victim.20070804_144436_79.pcap\n"
     ]
    },
    {
     "name": "stderr",
     "output_type": "stream",
     "text": [
      "Splitting ddostrace.to-victim.20070804_144436.pcap: 12503673 packets [1:33:17, 4414.68 packets/s]"
     ]
    },
    {
     "name": "stdout",
     "output_type": "stream",
     "text": [
      "File 81 of 300 saved: cropped/ddostrace.to-victim.20070804_144436_80.pcap\n"
     ]
    },
    {
     "name": "stderr",
     "output_type": "stream",
     "text": [
      "Splitting ddostrace.to-victim.20070804_144436.pcap: 12667920 packets [1:34:38, 4409.87 packets/s]"
     ]
    },
    {
     "name": "stdout",
     "output_type": "stream",
     "text": [
      "File 82 of 300 saved: cropped/ddostrace.to-victim.20070804_144436_81.pcap\n"
     ]
    },
    {
     "name": "stderr",
     "output_type": "stream",
     "text": [
      "Splitting ddostrace.to-victim.20070804_144436.pcap: 12821859 packets [1:35:48, 4602.38 packets/s]"
     ]
    },
    {
     "name": "stdout",
     "output_type": "stream",
     "text": [
      "File 83 of 300 saved: cropped/ddostrace.to-victim.20070804_144436_82.pcap\n"
     ]
    },
    {
     "name": "stderr",
     "output_type": "stream",
     "text": [
      "Splitting ddostrace.to-victim.20070804_144436.pcap: 12983659 packets [1:36:58, 4247.90 packets/s]"
     ]
    },
    {
     "name": "stdout",
     "output_type": "stream",
     "text": [
      "File 84 of 300 saved: cropped/ddostrace.to-victim.20070804_144436_83.pcap\n"
     ]
    },
    {
     "name": "stderr",
     "output_type": "stream",
     "text": [
      "Splitting ddostrace.to-victim.20070804_144436.pcap: 13146936 packets [1:38:08, 4329.88 packets/s]"
     ]
    },
    {
     "name": "stdout",
     "output_type": "stream",
     "text": [
      "File 85 of 300 saved: cropped/ddostrace.to-victim.20070804_144436_84.pcap\n"
     ]
    },
    {
     "name": "stderr",
     "output_type": "stream",
     "text": [
      "Splitting ddostrace.to-victim.20070804_144436.pcap: 13312185 packets [1:39:19, 3863.89 packets/s]"
     ]
    },
    {
     "name": "stdout",
     "output_type": "stream",
     "text": [
      "File 86 of 300 saved: cropped/ddostrace.to-victim.20070804_144436_85.pcap\n"
     ]
    },
    {
     "name": "stderr",
     "output_type": "stream",
     "text": [
      "Splitting ddostrace.to-victim.20070804_144436.pcap: 13479550 packets [1:40:39, 4322.36 packets/s]"
     ]
    },
    {
     "name": "stdout",
     "output_type": "stream",
     "text": [
      "File 87 of 300 saved: cropped/ddostrace.to-victim.20070804_144436_86.pcap\n"
     ]
    },
    {
     "name": "stderr",
     "output_type": "stream",
     "text": [
      "Splitting ddostrace.to-victim.20070804_144436.pcap: 13641404 packets [1:41:49, 4573.25 packets/s]"
     ]
    },
    {
     "name": "stdout",
     "output_type": "stream",
     "text": [
      "File 88 of 300 saved: cropped/ddostrace.to-victim.20070804_144436_87.pcap\n"
     ]
    },
    {
     "name": "stderr",
     "output_type": "stream",
     "text": [
      "Splitting ddostrace.to-victim.20070804_144436.pcap: 13806549 packets [1:43:09, 4294.56 packets/s]"
     ]
    },
    {
     "name": "stdout",
     "output_type": "stream",
     "text": [
      "File 89 of 300 saved: cropped/ddostrace.to-victim.20070804_144436_88.pcap\n"
     ]
    },
    {
     "name": "stderr",
     "output_type": "stream",
     "text": [
      "Splitting ddostrace.to-victim.20070804_144436.pcap: 13972451 packets [1:44:20, 3147.65 packets/s]"
     ]
    },
    {
     "name": "stdout",
     "output_type": "stream",
     "text": [
      "File 90 of 300 saved: cropped/ddostrace.to-victim.20070804_144436_89.pcap\n"
     ]
    },
    {
     "name": "stderr",
     "output_type": "stream",
     "text": [
      "Splitting ddostrace.to-victim.20070804_144436.pcap: 14137404 packets [1:45:30, 3873.11 packets/s]"
     ]
    },
    {
     "name": "stdout",
     "output_type": "stream",
     "text": [
      "File 91 of 300 saved: cropped/ddostrace.to-victim.20070804_144436_90.pcap\n"
     ]
    },
    {
     "name": "stderr",
     "output_type": "stream",
     "text": [
      "Splitting ddostrace.to-victim.20070804_144436.pcap: 14303366 packets [1:46:50, 4333.16 packets/s]"
     ]
    },
    {
     "name": "stdout",
     "output_type": "stream",
     "text": [
      "File 92 of 300 saved: cropped/ddostrace.to-victim.20070804_144436_91.pcap\n"
     ]
    },
    {
     "name": "stderr",
     "output_type": "stream",
     "text": [
      "Splitting ddostrace.to-victim.20070804_144436.pcap: 14464610 packets [1:48:00, 4365.72 packets/s]"
     ]
    },
    {
     "name": "stdout",
     "output_type": "stream",
     "text": [
      "File 93 of 300 saved: cropped/ddostrace.to-victim.20070804_144436_92.pcap\n"
     ]
    },
    {
     "name": "stderr",
     "output_type": "stream",
     "text": [
      "Splitting ddostrace.to-victim.20070804_144436.pcap: 14617184 packets [1:49:11, 4445.32 packets/s]"
     ]
    },
    {
     "name": "stdout",
     "output_type": "stream",
     "text": [
      "File 94 of 300 saved: cropped/ddostrace.to-victim.20070804_144436_93.pcap\n"
     ]
    },
    {
     "name": "stderr",
     "output_type": "stream",
     "text": [
      "Splitting ddostrace.to-victim.20070804_144436.pcap: 14781594 packets [1:50:21, 2781.18 packets/s]"
     ]
    },
    {
     "name": "stdout",
     "output_type": "stream",
     "text": [
      "File 95 of 300 saved: cropped/ddostrace.to-victim.20070804_144436_94.pcap\n"
     ]
    },
    {
     "name": "stderr",
     "output_type": "stream",
     "text": [
      "Splitting ddostrace.to-victim.20070804_144436.pcap: 14946001 packets [1:51:32, 4499.77 packets/s]"
     ]
    },
    {
     "name": "stdout",
     "output_type": "stream",
     "text": [
      "File 96 of 300 saved: cropped/ddostrace.to-victim.20070804_144436_95.pcap\n"
     ]
    },
    {
     "name": "stderr",
     "output_type": "stream",
     "text": [
      "Splitting ddostrace.to-victim.20070804_144436.pcap: 15112215 packets [1:52:52, 4585.48 packets/s]"
     ]
    },
    {
     "name": "stdout",
     "output_type": "stream",
     "text": [
      "File 97 of 300 saved: cropped/ddostrace.to-victim.20070804_144436_96.pcap\n"
     ]
    },
    {
     "name": "stderr",
     "output_type": "stream",
     "text": [
      "Splitting ddostrace.to-victim.20070804_144436.pcap: 15267276 packets [1:54:02, 3214.56 packets/s]"
     ]
    },
    {
     "name": "stdout",
     "output_type": "stream",
     "text": [
      "File 98 of 300 saved: cropped/ddostrace.to-victim.20070804_144436_97.pcap\n"
     ]
    },
    {
     "name": "stderr",
     "output_type": "stream",
     "text": [
      "Splitting ddostrace.to-victim.20070804_144436.pcap: 15429694 packets [1:55:12, 4252.24 packets/s]"
     ]
    },
    {
     "name": "stdout",
     "output_type": "stream",
     "text": [
      "File 99 of 300 saved: cropped/ddostrace.to-victim.20070804_144436_98.pcap\n"
     ]
    },
    {
     "name": "stderr",
     "output_type": "stream",
     "text": [
      "Splitting ddostrace.to-victim.20070804_144436.pcap: 15594436 packets [1:56:33, 3277.09 packets/s]"
     ]
    },
    {
     "name": "stdout",
     "output_type": "stream",
     "text": [
      "File 100 of 300 saved: cropped/ddostrace.to-victim.20070804_144436_99.pcap\n"
     ]
    },
    {
     "name": "stderr",
     "output_type": "stream",
     "text": [
      "Splitting ddostrace.to-victim.20070804_144436.pcap: 15759348 packets [1:57:43, 3812.34 packets/s]"
     ]
    },
    {
     "name": "stdout",
     "output_type": "stream",
     "text": [
      "File 101 of 300 saved: cropped/ddostrace.to-victim.20070804_144436_100.pcap\n"
     ]
    },
    {
     "name": "stderr",
     "output_type": "stream",
     "text": [
      "Splitting ddostrace.to-victim.20070804_144436.pcap: 15924928 packets [1:59:03, 4190.91 packets/s]"
     ]
    },
    {
     "name": "stdout",
     "output_type": "stream",
     "text": [
      "File 102 of 300 saved: cropped/ddostrace.to-victim.20070804_144436_101.pcap\n"
     ]
    },
    {
     "name": "stderr",
     "output_type": "stream",
     "text": [
      "Splitting ddostrace.to-victim.20070804_144436.pcap: 16083001 packets [2:00:14, 4332.41 packets/s]"
     ]
    },
    {
     "name": "stdout",
     "output_type": "stream",
     "text": [
      "File 103 of 300 saved: cropped/ddostrace.to-victim.20070804_144436_102.pcap\n"
     ]
    },
    {
     "name": "stderr",
     "output_type": "stream",
     "text": [
      "Splitting ddostrace.to-victim.20070804_144436.pcap: 16246113 packets [2:01:24, 3808.03 packets/s]"
     ]
    },
    {
     "name": "stdout",
     "output_type": "stream",
     "text": [
      "File 104 of 300 saved: cropped/ddostrace.to-victim.20070804_144436_103.pcap\n"
     ]
    },
    {
     "name": "stderr",
     "output_type": "stream",
     "text": [
      "Splitting ddostrace.to-victim.20070804_144436.pcap: 16411636 packets [2:02:34, 4393.67 packets/s]"
     ]
    },
    {
     "name": "stdout",
     "output_type": "stream",
     "text": [
      "File 105 of 300 saved: cropped/ddostrace.to-victim.20070804_144436_104.pcap\n"
     ]
    },
    {
     "name": "stderr",
     "output_type": "stream",
     "text": [
      "Splitting ddostrace.to-victim.20070804_144436.pcap: 16577724 packets [2:03:54, 4402.18 packets/s]"
     ]
    },
    {
     "name": "stdout",
     "output_type": "stream",
     "text": [
      "File 106 of 300 saved: cropped/ddostrace.to-victim.20070804_144436_105.pcap\n"
     ]
    },
    {
     "name": "stderr",
     "output_type": "stream",
     "text": [
      "Splitting ddostrace.to-victim.20070804_144436.pcap: 16744127 packets [2:05:04, 4233.18 packets/s]"
     ]
    },
    {
     "name": "stdout",
     "output_type": "stream",
     "text": [
      "File 107 of 300 saved: cropped/ddostrace.to-victim.20070804_144436_106.pcap\n"
     ]
    },
    {
     "name": "stderr",
     "output_type": "stream",
     "text": [
      "Splitting ddostrace.to-victim.20070804_144436.pcap: 16905963 packets [2:06:15, 4334.31 packets/s]"
     ]
    },
    {
     "name": "stdout",
     "output_type": "stream",
     "text": [
      "File 108 of 300 saved: cropped/ddostrace.to-victim.20070804_144436_107.pcap\n"
     ]
    },
    {
     "name": "stderr",
     "output_type": "stream",
     "text": [
      "Splitting ddostrace.to-victim.20070804_144436.pcap: 17071927 packets [2:07:35, 4363.55 packets/s]"
     ]
    },
    {
     "name": "stdout",
     "output_type": "stream",
     "text": [
      "File 109 of 300 saved: cropped/ddostrace.to-victim.20070804_144436_108.pcap\n"
     ]
    },
    {
     "name": "stderr",
     "output_type": "stream",
     "text": [
      "Splitting ddostrace.to-victim.20070804_144436.pcap: 17238433 packets [2:08:45, 3473.45 packets/s]"
     ]
    },
    {
     "name": "stdout",
     "output_type": "stream",
     "text": [
      "File 110 of 300 saved: cropped/ddostrace.to-victim.20070804_144436_109.pcap\n"
     ]
    },
    {
     "name": "stderr",
     "output_type": "stream",
     "text": [
      "Splitting ddostrace.to-victim.20070804_144436.pcap: 17404527 packets [2:10:05, 4337.16 packets/s]"
     ]
    },
    {
     "name": "stdout",
     "output_type": "stream",
     "text": [
      "File 111 of 300 saved: cropped/ddostrace.to-victim.20070804_144436_110.pcap\n"
     ]
    },
    {
     "name": "stderr",
     "output_type": "stream",
     "text": [
      "Splitting ddostrace.to-victim.20070804_144436.pcap: 17573134 packets [2:11:16, 4388.17 packets/s]"
     ]
    },
    {
     "name": "stdout",
     "output_type": "stream",
     "text": [
      "File 112 of 300 saved: cropped/ddostrace.to-victim.20070804_144436_111.pcap\n"
     ]
    },
    {
     "name": "stderr",
     "output_type": "stream",
     "text": [
      "Splitting ddostrace.to-victim.20070804_144436.pcap: 17735097 packets [2:12:36, 4439.29 packets/s]"
     ]
    },
    {
     "name": "stdout",
     "output_type": "stream",
     "text": [
      "File 113 of 300 saved: cropped/ddostrace.to-victim.20070804_144436_112.pcap\n"
     ]
    },
    {
     "name": "stderr",
     "output_type": "stream",
     "text": [
      "Splitting ddostrace.to-victim.20070804_144436.pcap: 17876834 packets [2:13:36, 3940.55 packets/s]"
     ]
    },
    {
     "name": "stdout",
     "output_type": "stream",
     "text": [
      "File 114 of 300 saved: cropped/ddostrace.to-victim.20070804_144436_113.pcap\n"
     ]
    },
    {
     "name": "stderr",
     "output_type": "stream",
     "text": [
      "Splitting ddostrace.to-victim.20070804_144436.pcap: 17898116 packets [2:13:57, 4266.47 packets/s]"
     ]
    },
    {
     "name": "stdout",
     "output_type": "stream",
     "text": [
      "File 115 of 300 saved: cropped/ddostrace.to-victim.20070804_144436_114.pcap\n"
     ]
    },
    {
     "name": "stderr",
     "output_type": "stream",
     "text": [
      "Splitting ddostrace.to-victim.20070804_144436.pcap: 18064749 packets [2:14:56, 3666.63 packets/s]"
     ]
    },
    {
     "name": "stdout",
     "output_type": "stream",
     "text": [
      "File 116 of 300 saved: cropped/ddostrace.to-victim.20070804_144436_115.pcap\n"
     ]
    },
    {
     "name": "stderr",
     "output_type": "stream",
     "text": [
      "Splitting ddostrace.to-victim.20070804_144436.pcap: 18230273 packets [2:16:17, 4259.70 packets/s]"
     ]
    },
    {
     "name": "stdout",
     "output_type": "stream",
     "text": [
      "File 117 of 300 saved: cropped/ddostrace.to-victim.20070804_144436_116.pcap\n"
     ]
    },
    {
     "name": "stderr",
     "output_type": "stream",
     "text": [
      "Splitting ddostrace.to-victim.20070804_144436.pcap: 18386957 packets [2:17:27, 4241.24 packets/s]"
     ]
    },
    {
     "name": "stdout",
     "output_type": "stream",
     "text": [
      "File 118 of 300 saved: cropped/ddostrace.to-victim.20070804_144436_117.pcap\n"
     ]
    },
    {
     "name": "stderr",
     "output_type": "stream",
     "text": [
      "Splitting ddostrace.to-victim.20070804_144436.pcap: 18550315 packets [2:18:37, 4497.76 packets/s]"
     ]
    },
    {
     "name": "stdout",
     "output_type": "stream",
     "text": [
      "File 119 of 300 saved: cropped/ddostrace.to-victim.20070804_144436_118.pcap\n"
     ]
    },
    {
     "name": "stderr",
     "output_type": "stream",
     "text": [
      "Splitting ddostrace.to-victim.20070804_144436.pcap: 18714363 packets [2:19:58, 4140.57 packets/s]"
     ]
    },
    {
     "name": "stdout",
     "output_type": "stream",
     "text": [
      "File 120 of 300 saved: cropped/ddostrace.to-victim.20070804_144436_119.pcap\n"
     ]
    },
    {
     "name": "stderr",
     "output_type": "stream",
     "text": [
      "Splitting ddostrace.to-victim.20070804_144436.pcap: 18878256 packets [2:21:08, 4459.05 packets/s]"
     ]
    },
    {
     "name": "stdout",
     "output_type": "stream",
     "text": [
      "File 121 of 300 saved: cropped/ddostrace.to-victim.20070804_144436_120.pcap\n"
     ]
    },
    {
     "name": "stderr",
     "output_type": "stream",
     "text": [
      "Splitting ddostrace.to-victim.20070804_144436.pcap: 19043693 packets [2:22:18, 4531.03 packets/s]"
     ]
    },
    {
     "name": "stdout",
     "output_type": "stream",
     "text": [
      "File 122 of 300 saved: cropped/ddostrace.to-victim.20070804_144436_121.pcap\n"
     ]
    },
    {
     "name": "stderr",
     "output_type": "stream",
     "text": [
      "Splitting ddostrace.to-victim.20070804_144436.pcap: 19199387 packets [2:23:38, 4195.94 packets/s]"
     ]
    },
    {
     "name": "stdout",
     "output_type": "stream",
     "text": [
      "File 123 of 300 saved: cropped/ddostrace.to-victim.20070804_144436_122.pcap\n"
     ]
    },
    {
     "name": "stderr",
     "output_type": "stream",
     "text": [
      "Splitting ddostrace.to-victim.20070804_144436.pcap: 19361249 packets [2:24:49, 4416.31 packets/s]"
     ]
    },
    {
     "name": "stdout",
     "output_type": "stream",
     "text": [
      "File 124 of 300 saved: cropped/ddostrace.to-victim.20070804_144436_123.pcap\n"
     ]
    },
    {
     "name": "stderr",
     "output_type": "stream",
     "text": [
      "Splitting ddostrace.to-victim.20070804_144436.pcap: 19526843 packets [2:25:59, 3525.23 packets/s]"
     ]
    },
    {
     "name": "stdout",
     "output_type": "stream",
     "text": [
      "File 125 of 300 saved: cropped/ddostrace.to-victim.20070804_144436_124.pcap\n"
     ]
    },
    {
     "name": "stderr",
     "output_type": "stream",
     "text": [
      "Splitting ddostrace.to-victim.20070804_144436.pcap: 19691568 packets [2:27:09, 4567.23 packets/s]"
     ]
    },
    {
     "name": "stdout",
     "output_type": "stream",
     "text": [
      "File 126 of 300 saved: cropped/ddostrace.to-victim.20070804_144436_125.pcap\n"
     ]
    },
    {
     "name": "stderr",
     "output_type": "stream",
     "text": [
      "Splitting ddostrace.to-victim.20070804_144436.pcap: 19856129 packets [2:28:29, 2607.14 packets/s]"
     ]
    },
    {
     "name": "stdout",
     "output_type": "stream",
     "text": [
      "File 127 of 300 saved: cropped/ddostrace.to-victim.20070804_144436_126.pcap\n"
     ]
    },
    {
     "name": "stderr",
     "output_type": "stream",
     "text": [
      "Splitting ddostrace.to-victim.20070804_144436.pcap: 20016644 packets [2:29:39, 4377.05 packets/s]"
     ]
    },
    {
     "name": "stdout",
     "output_type": "stream",
     "text": [
      "File 128 of 300 saved: cropped/ddostrace.to-victim.20070804_144436_127.pcap\n"
     ]
    },
    {
     "name": "stderr",
     "output_type": "stream",
     "text": [
      "Splitting ddostrace.to-victim.20070804_144436.pcap: 20181200 packets [2:31:00, 4384.30 packets/s]"
     ]
    },
    {
     "name": "stdout",
     "output_type": "stream",
     "text": [
      "File 129 of 300 saved: cropped/ddostrace.to-victim.20070804_144436_128.pcap\n"
     ]
    },
    {
     "name": "stderr",
     "output_type": "stream",
     "text": [
      "Splitting ddostrace.to-victim.20070804_144436.pcap: 20346562 packets [2:32:10, 4433.00 packets/s]"
     ]
    },
    {
     "name": "stdout",
     "output_type": "stream",
     "text": [
      "File 130 of 300 saved: cropped/ddostrace.to-victim.20070804_144436_129.pcap\n"
     ]
    },
    {
     "name": "stderr",
     "output_type": "stream",
     "text": [
      "Splitting ddostrace.to-victim.20070804_144436.pcap: 20510744 packets [2:33:21, 2280.60 packets/s]"
     ]
    },
    {
     "name": "stdout",
     "output_type": "stream",
     "text": [
      "File 131 of 300 saved: cropped/ddostrace.to-victim.20070804_144436_130.pcap\n"
     ]
    },
    {
     "name": "stderr",
     "output_type": "stream",
     "text": [
      "Splitting ddostrace.to-victim.20070804_144436.pcap: 20674852 packets [2:34:41, 4259.48 packets/s]"
     ]
    },
    {
     "name": "stdout",
     "output_type": "stream",
     "text": [
      "File 132 of 300 saved: cropped/ddostrace.to-victim.20070804_144436_131.pcap\n"
     ]
    },
    {
     "name": "stderr",
     "output_type": "stream",
     "text": [
      "Splitting ddostrace.to-victim.20070804_144436.pcap: 20834188 packets [2:35:51, 4441.16 packets/s]"
     ]
    },
    {
     "name": "stdout",
     "output_type": "stream",
     "text": [
      "File 133 of 300 saved: cropped/ddostrace.to-victim.20070804_144436_132.pcap\n"
     ]
    },
    {
     "name": "stderr",
     "output_type": "stream",
     "text": [
      "Splitting ddostrace.to-victim.20070804_144436.pcap: 20997752 packets [2:37:02, 4324.95 packets/s]"
     ]
    },
    {
     "name": "stdout",
     "output_type": "stream",
     "text": [
      "File 134 of 300 saved: cropped/ddostrace.to-victim.20070804_144436_133.pcap\n"
     ]
    },
    {
     "name": "stderr",
     "output_type": "stream",
     "text": [
      "Splitting ddostrace.to-victim.20070804_144436.pcap: 21161383 packets [2:38:12, 4579.10 packets/s]"
     ]
    },
    {
     "name": "stdout",
     "output_type": "stream",
     "text": [
      "File 135 of 300 saved: cropped/ddostrace.to-victim.20070804_144436_134.pcap\n"
     ]
    },
    {
     "name": "stderr",
     "output_type": "stream",
     "text": [
      "Splitting ddostrace.to-victim.20070804_144436.pcap: 21327052 packets [2:39:32, 4398.25 packets/s]"
     ]
    },
    {
     "name": "stdout",
     "output_type": "stream",
     "text": [
      "File 136 of 300 saved: cropped/ddostrace.to-victim.20070804_144436_135.pcap\n"
     ]
    },
    {
     "name": "stderr",
     "output_type": "stream",
     "text": [
      "Splitting ddostrace.to-victim.20070804_144436.pcap: 21491350 packets [2:40:42, 4249.11 packets/s]"
     ]
    },
    {
     "name": "stdout",
     "output_type": "stream",
     "text": [
      "File 137 of 300 saved: cropped/ddostrace.to-victim.20070804_144436_136.pcap\n"
     ]
    },
    {
     "name": "stderr",
     "output_type": "stream",
     "text": [
      "Splitting ddostrace.to-victim.20070804_144436.pcap: 21628412 packets [2:41:53, 4503.55 packets/s]"
     ]
    },
    {
     "name": "stdout",
     "output_type": "stream",
     "text": [
      "File 138 of 300 saved: cropped/ddostrace.to-victim.20070804_144436_137.pcap\n"
     ]
    },
    {
     "name": "stderr",
     "output_type": "stream",
     "text": [
      "Splitting ddostrace.to-victim.20070804_144436.pcap: 21789709 packets [2:43:03, 4484.68 packets/s]"
     ]
    },
    {
     "name": "stdout",
     "output_type": "stream",
     "text": [
      "File 139 of 300 saved: cropped/ddostrace.to-victim.20070804_144436_138.pcap\n"
     ]
    },
    {
     "name": "stderr",
     "output_type": "stream",
     "text": [
      "Splitting ddostrace.to-victim.20070804_144436.pcap: 21955270 packets [2:44:33, 2486.67 packets/s]"
     ]
    },
    {
     "name": "stdout",
     "output_type": "stream",
     "text": [
      "File 140 of 300 saved: cropped/ddostrace.to-victim.20070804_144436_139.pcap\n"
     ]
    },
    {
     "name": "stderr",
     "output_type": "stream",
     "text": [
      "Splitting ddostrace.to-victim.20070804_144436.pcap: 22121432 packets [2:46:04, 4334.43 packets/s]"
     ]
    },
    {
     "name": "stdout",
     "output_type": "stream",
     "text": [
      "File 141 of 300 saved: cropped/ddostrace.to-victim.20070804_144436_140.pcap\n"
     ]
    },
    {
     "name": "stderr",
     "output_type": "stream",
     "text": [
      "Splitting ddostrace.to-victim.20070804_144436.pcap: 22286365 packets [2:47:24, 3976.16 packets/s]"
     ]
    },
    {
     "name": "stdout",
     "output_type": "stream",
     "text": [
      "File 142 of 300 saved: cropped/ddostrace.to-victim.20070804_144436_141.pcap\n"
     ]
    },
    {
     "name": "stderr",
     "output_type": "stream",
     "text": [
      "Splitting ddostrace.to-victim.20070804_144436.pcap: 22444584 packets [2:48:44, 3996.10 packets/s]"
     ]
    },
    {
     "name": "stdout",
     "output_type": "stream",
     "text": [
      "File 143 of 300 saved: cropped/ddostrace.to-victim.20070804_144436_142.pcap\n"
     ]
    },
    {
     "name": "stderr",
     "output_type": "stream",
     "text": [
      "Splitting ddostrace.to-victim.20070804_144436.pcap: 22607370 packets [2:49:55, 3479.83 packets/s]"
     ]
    },
    {
     "name": "stdout",
     "output_type": "stream",
     "text": [
      "File 144 of 300 saved: cropped/ddostrace.to-victim.20070804_144436_143.pcap\n"
     ]
    },
    {
     "name": "stderr",
     "output_type": "stream",
     "text": [
      "Splitting ddostrace.to-victim.20070804_144436.pcap: 22772068 packets [2:51:15, 3502.00 packets/s]"
     ]
    },
    {
     "name": "stdout",
     "output_type": "stream",
     "text": [
      "File 145 of 300 saved: cropped/ddostrace.to-victim.20070804_144436_144.pcap\n"
     ]
    },
    {
     "name": "stderr",
     "output_type": "stream",
     "text": [
      "Splitting ddostrace.to-victim.20070804_144436.pcap: 22935977 packets [2:52:47, 2444.35 packets/s]"
     ]
    },
    {
     "name": "stdout",
     "output_type": "stream",
     "text": [
      "File 146 of 300 saved: cropped/ddostrace.to-victim.20070804_144436_145.pcap\n"
     ]
    },
    {
     "name": "stderr",
     "output_type": "stream",
     "text": [
      "Splitting ddostrace.to-victim.20070804_144436.pcap: 23099887 packets [2:54:27, 3546.75 packets/s]"
     ]
    },
    {
     "name": "stdout",
     "output_type": "stream",
     "text": [
      "File 147 of 300 saved: cropped/ddostrace.to-victim.20070804_144436_146.pcap\n"
     ]
    },
    {
     "name": "stderr",
     "output_type": "stream",
     "text": [
      "Splitting ddostrace.to-victim.20070804_144436.pcap: 23262365 packets [2:55:47, 3525.52 packets/s]"
     ]
    },
    {
     "name": "stdout",
     "output_type": "stream",
     "text": [
      "File 148 of 300 saved: cropped/ddostrace.to-victim.20070804_144436_147.pcap\n"
     ]
    },
    {
     "name": "stderr",
     "output_type": "stream",
     "text": [
      "Splitting ddostrace.to-victim.20070804_144436.pcap: 23427706 packets [2:57:18, 3079.05 packets/s]"
     ]
    },
    {
     "name": "stdout",
     "output_type": "stream",
     "text": [
      "File 149 of 300 saved: cropped/ddostrace.to-victim.20070804_144436_148.pcap\n"
     ]
    },
    {
     "name": "stderr",
     "output_type": "stream",
     "text": [
      "Splitting ddostrace.to-victim.20070804_144436.pcap: 23594128 packets [2:58:58, 2340.57 packets/s]"
     ]
    },
    {
     "name": "stdout",
     "output_type": "stream",
     "text": [
      "File 150 of 300 saved: cropped/ddostrace.to-victim.20070804_144436_149.pcap\n"
     ]
    },
    {
     "name": "stderr",
     "output_type": "stream",
     "text": [
      "Splitting ddostrace.to-victim.20070804_144436.pcap: 23760019 packets [3:00:58, 2809.77 packets/s]"
     ]
    },
    {
     "name": "stdout",
     "output_type": "stream",
     "text": [
      "File 151 of 300 saved: cropped/ddostrace.to-victim.20070804_144436_150.pcap\n"
     ]
    },
    {
     "name": "stderr",
     "output_type": "stream",
     "text": [
      "Splitting ddostrace.to-victim.20070804_144436.pcap: 23924725 packets [3:03:09, 2718.36 packets/s]"
     ]
    },
    {
     "name": "stdout",
     "output_type": "stream",
     "text": [
      "File 152 of 300 saved: cropped/ddostrace.to-victim.20070804_144436_151.pcap\n"
     ]
    },
    {
     "name": "stderr",
     "output_type": "stream",
     "text": [
      "Splitting ddostrace.to-victim.20070804_144436.pcap: 24086367 packets [3:04:49, 2979.30 packets/s]"
     ]
    },
    {
     "name": "stdout",
     "output_type": "stream",
     "text": [
      "File 153 of 300 saved: cropped/ddostrace.to-victim.20070804_144436_152.pcap\n"
     ]
    },
    {
     "name": "stderr",
     "output_type": "stream",
     "text": [
      "Splitting ddostrace.to-victim.20070804_144436.pcap: 24252135 packets [3:06:10, 3487.96 packets/s]"
     ]
    },
    {
     "name": "stdout",
     "output_type": "stream",
     "text": [
      "File 154 of 300 saved: cropped/ddostrace.to-victim.20070804_144436_153.pcap\n"
     ]
    },
    {
     "name": "stderr",
     "output_type": "stream",
     "text": [
      "Splitting ddostrace.to-victim.20070804_144436.pcap: 24417133 packets [3:07:50, 2918.70 packets/s]"
     ]
    },
    {
     "name": "stdout",
     "output_type": "stream",
     "text": [
      "File 155 of 300 saved: cropped/ddostrace.to-victim.20070804_144436_154.pcap\n"
     ]
    },
    {
     "name": "stderr",
     "output_type": "stream",
     "text": [
      "Splitting ddostrace.to-victim.20070804_144436.pcap: 24581966 packets [3:09:30, 3829.34 packets/s]"
     ]
    },
    {
     "name": "stdout",
     "output_type": "stream",
     "text": [
      "File 156 of 300 saved: cropped/ddostrace.to-victim.20070804_144436_155.pcap\n"
     ]
    },
    {
     "name": "stderr",
     "output_type": "stream",
     "text": [
      "Splitting ddostrace.to-victim.20070804_144436.pcap: 24746827 packets [3:11:11, 3254.42 packets/s]"
     ]
    },
    {
     "name": "stdout",
     "output_type": "stream",
     "text": [
      "File 157 of 300 saved: cropped/ddostrace.to-victim.20070804_144436_156.pcap\n"
     ]
    },
    {
     "name": "stderr",
     "output_type": "stream",
     "text": [
      "Splitting ddostrace.to-victim.20070804_144436.pcap: 24906250 packets [3:12:41, 1891.23 packets/s]"
     ]
    },
    {
     "name": "stdout",
     "output_type": "stream",
     "text": [
      "File 158 of 300 saved: cropped/ddostrace.to-victim.20070804_144436_157.pcap\n"
     ]
    },
    {
     "name": "stderr",
     "output_type": "stream",
     "text": [
      "Splitting ddostrace.to-victim.20070804_144436.pcap: 25069491 packets [3:14:11, 3466.44 packets/s]"
     ]
    },
    {
     "name": "stdout",
     "output_type": "stream",
     "text": [
      "File 159 of 300 saved: cropped/ddostrace.to-victim.20070804_144436_158.pcap\n"
     ]
    },
    {
     "name": "stderr",
     "output_type": "stream",
     "text": [
      "Splitting ddostrace.to-victim.20070804_144436.pcap: 25235071 packets [3:15:32, 4180.20 packets/s]"
     ]
    },
    {
     "name": "stdout",
     "output_type": "stream",
     "text": [
      "File 160 of 300 saved: cropped/ddostrace.to-victim.20070804_144436_159.pcap\n"
     ]
    },
    {
     "name": "stderr",
     "output_type": "stream",
     "text": [
      "Splitting ddostrace.to-victim.20070804_144436.pcap: 25401548 packets [3:17:02, 4034.98 packets/s]"
     ]
    },
    {
     "name": "stdout",
     "output_type": "stream",
     "text": [
      "File 161 of 300 saved: cropped/ddostrace.to-victim.20070804_144436_160.pcap\n"
     ]
    },
    {
     "name": "stderr",
     "output_type": "stream",
     "text": [
      "Splitting ddostrace.to-victim.20070804_144436.pcap: 25569884 packets [3:18:32, 3933.01 packets/s]"
     ]
    },
    {
     "name": "stdout",
     "output_type": "stream",
     "text": [
      "File 162 of 300 saved: cropped/ddostrace.to-victim.20070804_144436_161.pcap\n"
     ]
    },
    {
     "name": "stderr",
     "output_type": "stream",
     "text": [
      "Splitting ddostrace.to-victim.20070804_144436.pcap: 25729111 packets [3:20:02, 3569.81 packets/s]"
     ]
    },
    {
     "name": "stdout",
     "output_type": "stream",
     "text": [
      "File 163 of 300 saved: cropped/ddostrace.to-victim.20070804_144436_162.pcap\n"
     ]
    },
    {
     "name": "stderr",
     "output_type": "stream",
     "text": [
      "Splitting ddostrace.to-victim.20070804_144436.pcap: 25886409 packets [3:21:33, 3302.69 packets/s]"
     ]
    },
    {
     "name": "stdout",
     "output_type": "stream",
     "text": [
      "File 164 of 300 saved: cropped/ddostrace.to-victim.20070804_144436_163.pcap\n"
     ]
    },
    {
     "name": "stderr",
     "output_type": "stream",
     "text": [
      "Splitting ddostrace.to-victim.20070804_144436.pcap: 26053925 packets [3:23:03, 4102.24 packets/s]"
     ]
    },
    {
     "name": "stdout",
     "output_type": "stream",
     "text": [
      "File 165 of 300 saved: cropped/ddostrace.to-victim.20070804_144436_164.pcap\n"
     ]
    },
    {
     "name": "stderr",
     "output_type": "stream",
     "text": [
      "Splitting ddostrace.to-victim.20070804_144436.pcap: 26218390 packets [3:24:23, 3850.28 packets/s]"
     ]
    },
    {
     "name": "stdout",
     "output_type": "stream",
     "text": [
      "File 166 of 300 saved: cropped/ddostrace.to-victim.20070804_144436_165.pcap\n"
     ]
    },
    {
     "name": "stderr",
     "output_type": "stream",
     "text": [
      "Splitting ddostrace.to-victim.20070804_144436.pcap: 26384117 packets [3:25:54, 4131.11 packets/s]"
     ]
    },
    {
     "name": "stdout",
     "output_type": "stream",
     "text": [
      "File 167 of 300 saved: cropped/ddostrace.to-victim.20070804_144436_166.pcap\n"
     ]
    },
    {
     "name": "stderr",
     "output_type": "stream",
     "text": [
      "Splitting ddostrace.to-victim.20070804_144436.pcap: 26546360 packets [3:27:25, 3875.48 packets/s]"
     ]
    },
    {
     "name": "stdout",
     "output_type": "stream",
     "text": [
      "File 168 of 300 saved: cropped/ddostrace.to-victim.20070804_144436_167.pcap\n"
     ]
    },
    {
     "name": "stderr",
     "output_type": "stream",
     "text": [
      "Splitting ddostrace.to-victim.20070804_144436.pcap: 26710730 packets [3:28:45, 3079.15 packets/s]"
     ]
    },
    {
     "name": "stdout",
     "output_type": "stream",
     "text": [
      "File 169 of 300 saved: cropped/ddostrace.to-victim.20070804_144436_168.pcap\n"
     ]
    },
    {
     "name": "stderr",
     "output_type": "stream",
     "text": [
      "Splitting ddostrace.to-victim.20070804_144436.pcap: 26875744 packets [3:30:15, 2940.31 packets/s]"
     ]
    },
    {
     "name": "stdout",
     "output_type": "stream",
     "text": [
      "File 170 of 300 saved: cropped/ddostrace.to-victim.20070804_144436_169.pcap\n"
     ]
    },
    {
     "name": "stderr",
     "output_type": "stream",
     "text": [
      "Splitting ddostrace.to-victim.20070804_144436.pcap: 27042785 packets [3:31:56, 4122.88 packets/s]"
     ]
    },
    {
     "name": "stdout",
     "output_type": "stream",
     "text": [
      "File 171 of 300 saved: cropped/ddostrace.to-victim.20070804_144436_170.pcap\n"
     ]
    },
    {
     "name": "stderr",
     "output_type": "stream",
     "text": [
      "Splitting ddostrace.to-victim.20070804_144436.pcap: 27210052 packets [3:33:26, 4000.76 packets/s]"
     ]
    },
    {
     "name": "stdout",
     "output_type": "stream",
     "text": [
      "File 172 of 300 saved: cropped/ddostrace.to-victim.20070804_144436_171.pcap\n"
     ]
    },
    {
     "name": "stderr",
     "output_type": "stream",
     "text": [
      "Splitting ddostrace.to-victim.20070804_144436.pcap: 27369261 packets [3:34:46, 3486.76 packets/s]"
     ]
    },
    {
     "name": "stdout",
     "output_type": "stream",
     "text": [
      "File 173 of 300 saved: cropped/ddostrace.to-victim.20070804_144436_172.pcap\n"
     ]
    },
    {
     "name": "stderr",
     "output_type": "stream",
     "text": [
      "Splitting ddostrace.to-victim.20070804_144436.pcap: 27535358 packets [3:36:17, 4012.74 packets/s]"
     ]
    },
    {
     "name": "stdout",
     "output_type": "stream",
     "text": [
      "File 174 of 300 saved: cropped/ddostrace.to-victim.20070804_144436_173.pcap\n"
     ]
    },
    {
     "name": "stderr",
     "output_type": "stream",
     "text": [
      "Splitting ddostrace.to-victim.20070804_144436.pcap: 27702770 packets [3:37:47, 3491.61 packets/s]"
     ]
    },
    {
     "name": "stdout",
     "output_type": "stream",
     "text": [
      "File 175 of 300 saved: cropped/ddostrace.to-victim.20070804_144436_174.pcap\n"
     ]
    },
    {
     "name": "stderr",
     "output_type": "stream",
     "text": [
      "Splitting ddostrace.to-victim.20070804_144436.pcap: 27872284 packets [3:39:07, 3664.92 packets/s]"
     ]
    },
    {
     "name": "stdout",
     "output_type": "stream",
     "text": [
      "File 176 of 300 saved: cropped/ddostrace.to-victim.20070804_144436_175.pcap\n"
     ]
    },
    {
     "name": "stderr",
     "output_type": "stream",
     "text": [
      "Splitting ddostrace.to-victim.20070804_144436.pcap: 28041614 packets [3:40:48, 1840.75 packets/s]"
     ]
    },
    {
     "name": "stdout",
     "output_type": "stream",
     "text": [
      "File 177 of 300 saved: cropped/ddostrace.to-victim.20070804_144436_176.pcap\n"
     ]
    },
    {
     "name": "stderr",
     "output_type": "stream",
     "text": [
      "Splitting ddostrace.to-victim.20070804_144436.pcap: 28200950 packets [3:42:28, 3150.06 packets/s]"
     ]
    },
    {
     "name": "stdout",
     "output_type": "stream",
     "text": [
      "File 178 of 300 saved: cropped/ddostrace.to-victim.20070804_144436_177.pcap\n"
     ]
    },
    {
     "name": "stderr",
     "output_type": "stream",
     "text": [
      "Splitting ddostrace.to-victim.20070804_144436.pcap: 28363063 packets [3:43:58, 3871.48 packets/s]"
     ]
    },
    {
     "name": "stdout",
     "output_type": "stream",
     "text": [
      "File 179 of 300 saved: cropped/ddostrace.to-victim.20070804_144436_178.pcap\n"
     ]
    },
    {
     "name": "stderr",
     "output_type": "stream",
     "text": [
      "Splitting ddostrace.to-victim.20070804_144436.pcap: 28531599 packets [3:45:39, 3791.44 packets/s]"
     ]
    },
    {
     "name": "stdout",
     "output_type": "stream",
     "text": [
      "File 180 of 300 saved: cropped/ddostrace.to-victim.20070804_144436_179.pcap\n"
     ]
    },
    {
     "name": "stderr",
     "output_type": "stream",
     "text": [
      "Splitting ddostrace.to-victim.20070804_144436.pcap: 28698921 packets [3:47:10, 3374.91 packets/s]"
     ]
    },
    {
     "name": "stdout",
     "output_type": "stream",
     "text": [
      "File 181 of 300 saved: cropped/ddostrace.to-victim.20070804_144436_180.pcap\n"
     ]
    },
    {
     "name": "stderr",
     "output_type": "stream",
     "text": [
      "Splitting ddostrace.to-victim.20070804_144436.pcap: 28864895 packets [3:48:41, 3601.15 packets/s]"
     ]
    },
    {
     "name": "stdout",
     "output_type": "stream",
     "text": [
      "File 182 of 300 saved: cropped/ddostrace.to-victim.20070804_144436_181.pcap\n"
     ]
    },
    {
     "name": "stderr",
     "output_type": "stream",
     "text": [
      "Splitting ddostrace.to-victim.20070804_144436.pcap: 29022872 packets [3:50:11, 3507.33 packets/s]"
     ]
    },
    {
     "name": "stdout",
     "output_type": "stream",
     "text": [
      "File 183 of 300 saved: cropped/ddostrace.to-victim.20070804_144436_182.pcap\n"
     ]
    },
    {
     "name": "stderr",
     "output_type": "stream",
     "text": [
      "Splitting ddostrace.to-victim.20070804_144436.pcap: 29185586 packets [3:51:42, 3437.15 packets/s]"
     ]
    },
    {
     "name": "stdout",
     "output_type": "stream",
     "text": [
      "File 184 of 300 saved: cropped/ddostrace.to-victim.20070804_144436_183.pcap\n"
     ]
    },
    {
     "name": "stderr",
     "output_type": "stream",
     "text": [
      "Splitting ddostrace.to-victim.20070804_144436.pcap: 29353184 packets [3:53:22, 3551.52 packets/s]"
     ]
    },
    {
     "name": "stdout",
     "output_type": "stream",
     "text": [
      "File 185 of 300 saved: cropped/ddostrace.to-victim.20070804_144436_184.pcap\n"
     ]
    },
    {
     "name": "stderr",
     "output_type": "stream",
     "text": [
      "Splitting ddostrace.to-victim.20070804_144436.pcap: 29521332 packets [3:54:52, 4145.73 packets/s]"
     ]
    },
    {
     "name": "stdout",
     "output_type": "stream",
     "text": [
      "File 186 of 300 saved: cropped/ddostrace.to-victim.20070804_144436_185.pcap\n"
     ]
    },
    {
     "name": "stderr",
     "output_type": "stream",
     "text": [
      "Splitting ddostrace.to-victim.20070804_144436.pcap: 29688286 packets [3:56:23, 4102.38 packets/s]"
     ]
    },
    {
     "name": "stdout",
     "output_type": "stream",
     "text": [
      "File 187 of 300 saved: cropped/ddostrace.to-victim.20070804_144436_186.pcap\n"
     ]
    },
    {
     "name": "stderr",
     "output_type": "stream",
     "text": [
      "Splitting ddostrace.to-victim.20070804_144436.pcap: 29851423 packets [3:57:43, 4069.90 packets/s]"
     ]
    },
    {
     "name": "stdout",
     "output_type": "stream",
     "text": [
      "File 188 of 300 saved: cropped/ddostrace.to-victim.20070804_144436_187.pcap\n"
     ]
    },
    {
     "name": "stderr",
     "output_type": "stream",
     "text": [
      "Splitting ddostrace.to-victim.20070804_144436.pcap: 30017349 packets [3:59:13, 3945.34 packets/s]"
     ]
    },
    {
     "name": "stdout",
     "output_type": "stream",
     "text": [
      "File 189 of 300 saved: cropped/ddostrace.to-victim.20070804_144436_188.pcap\n"
     ]
    },
    {
     "name": "stderr",
     "output_type": "stream",
     "text": [
      "Splitting ddostrace.to-victim.20070804_144436.pcap: 30184410 packets [4:00:34, 4070.22 packets/s]"
     ]
    },
    {
     "name": "stdout",
     "output_type": "stream",
     "text": [
      "File 190 of 300 saved: cropped/ddostrace.to-victim.20070804_144436_189.pcap\n"
     ]
    },
    {
     "name": "stderr",
     "output_type": "stream",
     "text": [
      "Splitting ddostrace.to-victim.20070804_144436.pcap: 30350941 packets [4:02:15, 2851.05 packets/s]"
     ]
    },
    {
     "name": "stdout",
     "output_type": "stream",
     "text": [
      "File 191 of 300 saved: cropped/ddostrace.to-victim.20070804_144436_190.pcap\n"
     ]
    },
    {
     "name": "stderr",
     "output_type": "stream",
     "text": [
      "Splitting ddostrace.to-victim.20070804_144436.pcap: 30519363 packets [4:03:45, 3677.34 packets/s]"
     ]
    },
    {
     "name": "stdout",
     "output_type": "stream",
     "text": [
      "File 192 of 300 saved: cropped/ddostrace.to-victim.20070804_144436_191.pcap\n"
     ]
    },
    {
     "name": "stderr",
     "output_type": "stream",
     "text": [
      "Splitting ddostrace.to-victim.20070804_144436.pcap: 30682744 packets [4:05:16, 3179.42 packets/s]"
     ]
    },
    {
     "name": "stdout",
     "output_type": "stream",
     "text": [
      "File 193 of 300 saved: cropped/ddostrace.to-victim.20070804_144436_192.pcap\n"
     ]
    },
    {
     "name": "stderr",
     "output_type": "stream",
     "text": [
      "Splitting ddostrace.to-victim.20070804_144436.pcap: 30850885 packets [4:06:46, 3711.29 packets/s]"
     ]
    },
    {
     "name": "stdout",
     "output_type": "stream",
     "text": [
      "File 194 of 300 saved: cropped/ddostrace.to-victim.20070804_144436_193.pcap\n"
     ]
    },
    {
     "name": "stderr",
     "output_type": "stream",
     "text": [
      "Splitting ddostrace.to-victim.20070804_144436.pcap: 31017537 packets [4:08:16, 3508.53 packets/s]"
     ]
    },
    {
     "name": "stdout",
     "output_type": "stream",
     "text": [
      "File 195 of 300 saved: cropped/ddostrace.to-victim.20070804_144436_194.pcap\n"
     ]
    },
    {
     "name": "stderr",
     "output_type": "stream",
     "text": [
      "Splitting ddostrace.to-victim.20070804_144436.pcap: 31185779 packets [4:09:47, 3997.00 packets/s]"
     ]
    },
    {
     "name": "stdout",
     "output_type": "stream",
     "text": [
      "File 196 of 300 saved: cropped/ddostrace.to-victim.20070804_144436_195.pcap\n"
     ]
    },
    {
     "name": "stderr",
     "output_type": "stream",
     "text": [
      "Splitting ddostrace.to-victim.20070804_144436.pcap: 31352858 packets [4:11:07, 3946.64 packets/s]"
     ]
    },
    {
     "name": "stdout",
     "output_type": "stream",
     "text": [
      "File 197 of 300 saved: cropped/ddostrace.to-victim.20070804_144436_196.pcap\n"
     ]
    },
    {
     "name": "stderr",
     "output_type": "stream",
     "text": [
      "Splitting ddostrace.to-victim.20070804_144436.pcap: 31498412 packets [4:12:28, 3729.75 packets/s]"
     ]
    },
    {
     "name": "stdout",
     "output_type": "stream",
     "text": [
      "File 198 of 300 saved: cropped/ddostrace.to-victim.20070804_144436_197.pcap\n"
     ]
    },
    {
     "name": "stderr",
     "output_type": "stream",
     "text": [
      "Splitting ddostrace.to-victim.20070804_144436.pcap: 31661601 packets [4:13:59, 4054.80 packets/s]"
     ]
    },
    {
     "name": "stdout",
     "output_type": "stream",
     "text": [
      "File 199 of 300 saved: cropped/ddostrace.to-victim.20070804_144436_198.pcap\n"
     ]
    },
    {
     "name": "stderr",
     "output_type": "stream",
     "text": [
      "Splitting ddostrace.to-victim.20070804_144436.pcap: 31829341 packets [4:15:19, 3359.78 packets/s]"
     ]
    },
    {
     "name": "stdout",
     "output_type": "stream",
     "text": [
      "File 200 of 300 saved: cropped/ddostrace.to-victim.20070804_144436_199.pcap\n"
     ]
    },
    {
     "name": "stderr",
     "output_type": "stream",
     "text": [
      "Splitting ddostrace.to-victim.20070804_144436.pcap: 31997576 packets [4:16:49, 2016.59 packets/s]"
     ]
    },
    {
     "name": "stdout",
     "output_type": "stream",
     "text": [
      "File 201 of 300 saved: cropped/ddostrace.to-victim.20070804_144436_200.pcap\n"
     ]
    },
    {
     "name": "stderr",
     "output_type": "stream",
     "text": [
      "Splitting ddostrace.to-victim.20070804_144436.pcap: 32167560 packets [4:18:21, 3434.13 packets/s]"
     ]
    },
    {
     "name": "stdout",
     "output_type": "stream",
     "text": [
      "File 202 of 300 saved: cropped/ddostrace.to-victim.20070804_144436_201.pcap\n"
     ]
    },
    {
     "name": "stderr",
     "output_type": "stream",
     "text": [
      "Splitting ddostrace.to-victim.20070804_144436.pcap: 32328665 packets [4:19:51, 4026.78 packets/s]"
     ]
    },
    {
     "name": "stdout",
     "output_type": "stream",
     "text": [
      "File 203 of 300 saved: cropped/ddostrace.to-victim.20070804_144436_202.pcap\n"
     ]
    },
    {
     "name": "stderr",
     "output_type": "stream",
     "text": [
      "Splitting ddostrace.to-victim.20070804_144436.pcap: 32492494 packets [4:21:21, 3007.00 packets/s]"
     ]
    },
    {
     "name": "stdout",
     "output_type": "stream",
     "text": [
      "File 204 of 300 saved: cropped/ddostrace.to-victim.20070804_144436_203.pcap\n"
     ]
    },
    {
     "name": "stderr",
     "output_type": "stream",
     "text": [
      "Splitting ddostrace.to-victim.20070804_144436.pcap: 32660550 packets [4:22:52, 2567.60 packets/s]"
     ]
    },
    {
     "name": "stdout",
     "output_type": "stream",
     "text": [
      "File 205 of 300 saved: cropped/ddostrace.to-victim.20070804_144436_204.pcap\n"
     ]
    },
    {
     "name": "stderr",
     "output_type": "stream",
     "text": [
      "Splitting ddostrace.to-victim.20070804_144436.pcap: 32827497 packets [4:24:22, 3445.79 packets/s]"
     ]
    },
    {
     "name": "stdout",
     "output_type": "stream",
     "text": [
      "File 206 of 300 saved: cropped/ddostrace.to-victim.20070804_144436_205.pcap\n"
     ]
    },
    {
     "name": "stderr",
     "output_type": "stream",
     "text": [
      "Splitting ddostrace.to-victim.20070804_144436.pcap: 32994721 packets [4:25:42, 3607.66 packets/s]"
     ]
    },
    {
     "name": "stdout",
     "output_type": "stream",
     "text": [
      "File 207 of 300 saved: cropped/ddostrace.to-victim.20070804_144436_206.pcap\n"
     ]
    },
    {
     "name": "stderr",
     "output_type": "stream",
     "text": [
      "Splitting ddostrace.to-victim.20070804_144436.pcap: 33157128 packets [4:27:13, 4166.65 packets/s]"
     ]
    },
    {
     "name": "stdout",
     "output_type": "stream",
     "text": [
      "File 208 of 300 saved: cropped/ddostrace.to-victim.20070804_144436_207.pcap\n"
     ]
    },
    {
     "name": "stderr",
     "output_type": "stream",
     "text": [
      "Splitting ddostrace.to-victim.20070804_144436.pcap: 33323026 packets [4:28:33, 3743.17 packets/s]"
     ]
    },
    {
     "name": "stdout",
     "output_type": "stream",
     "text": [
      "File 209 of 300 saved: cropped/ddostrace.to-victim.20070804_144436_208.pcap\n"
     ]
    },
    {
     "name": "stderr",
     "output_type": "stream",
     "text": [
      "Splitting ddostrace.to-victim.20070804_144436.pcap: 33490702 packets [4:29:53, 3817.49 packets/s]"
     ]
    },
    {
     "name": "stdout",
     "output_type": "stream",
     "text": [
      "File 210 of 300 saved: cropped/ddostrace.to-victim.20070804_144436_209.pcap\n"
     ]
    },
    {
     "name": "stderr",
     "output_type": "stream",
     "text": [
      "Splitting ddostrace.to-victim.20070804_144436.pcap: 33658574 packets [4:31:24, 3819.48 packets/s]"
     ]
    },
    {
     "name": "stdout",
     "output_type": "stream",
     "text": [
      "File 211 of 300 saved: cropped/ddostrace.to-victim.20070804_144436_210.pcap\n"
     ]
    },
    {
     "name": "stderr",
     "output_type": "stream",
     "text": [
      "Splitting ddostrace.to-victim.20070804_144436.pcap: 33827558 packets [4:32:44, 4204.93 packets/s]"
     ]
    },
    {
     "name": "stdout",
     "output_type": "stream",
     "text": [
      "File 212 of 300 saved: cropped/ddostrace.to-victim.20070804_144436_211.pcap\n"
     ]
    },
    {
     "name": "stderr",
     "output_type": "stream",
     "text": [
      "Splitting ddostrace.to-victim.20070804_144436.pcap: 33991799 packets [4:34:14, 3995.58 packets/s]"
     ]
    },
    {
     "name": "stdout",
     "output_type": "stream",
     "text": [
      "File 213 of 300 saved: cropped/ddostrace.to-victim.20070804_144436_212.pcap\n"
     ]
    },
    {
     "name": "stderr",
     "output_type": "stream",
     "text": [
      "Splitting ddostrace.to-victim.20070804_144436.pcap: 34158949 packets [4:35:55, 4245.24 packets/s]"
     ]
    },
    {
     "name": "stdout",
     "output_type": "stream",
     "text": [
      "File 214 of 300 saved: cropped/ddostrace.to-victim.20070804_144436_213.pcap\n"
     ]
    },
    {
     "name": "stderr",
     "output_type": "stream",
     "text": [
      "Splitting ddostrace.to-victim.20070804_144436.pcap: 34327229 packets [4:37:16, 4230.98 packets/s]"
     ]
    },
    {
     "name": "stdout",
     "output_type": "stream",
     "text": [
      "File 215 of 300 saved: cropped/ddostrace.to-victim.20070804_144436_214.pcap\n"
     ]
    },
    {
     "name": "stderr",
     "output_type": "stream",
     "text": [
      "Splitting ddostrace.to-victim.20070804_144436.pcap: 34496382 packets [4:38:26, 4181.96 packets/s]"
     ]
    },
    {
     "name": "stdout",
     "output_type": "stream",
     "text": [
      "File 216 of 300 saved: cropped/ddostrace.to-victim.20070804_144436_215.pcap\n"
     ]
    },
    {
     "name": "stderr",
     "output_type": "stream",
     "text": [
      "Splitting ddostrace.to-victim.20070804_144436.pcap: 34663963 packets [4:39:47, 4298.39 packets/s]"
     ]
    },
    {
     "name": "stdout",
     "output_type": "stream",
     "text": [
      "File 217 of 300 saved: cropped/ddostrace.to-victim.20070804_144436_216.pcap\n"
     ]
    },
    {
     "name": "stderr",
     "output_type": "stream",
     "text": [
      "Splitting ddostrace.to-victim.20070804_144436.pcap: 34825206 packets [4:41:17, 3815.59 packets/s]"
     ]
    },
    {
     "name": "stdout",
     "output_type": "stream",
     "text": [
      "File 218 of 300 saved: cropped/ddostrace.to-victim.20070804_144436_217.pcap\n"
     ]
    },
    {
     "name": "stderr",
     "output_type": "stream",
     "text": [
      "Splitting ddostrace.to-victim.20070804_144436.pcap: 34989795 packets [4:42:48, 3230.89 packets/s]"
     ]
    },
    {
     "name": "stdout",
     "output_type": "stream",
     "text": [
      "File 219 of 300 saved: cropped/ddostrace.to-victim.20070804_144436_218.pcap\n"
     ]
    },
    {
     "name": "stderr",
     "output_type": "stream",
     "text": [
      "Splitting ddostrace.to-victim.20070804_144436.pcap: 35161054 packets [4:44:08, 4228.14 packets/s]"
     ]
    },
    {
     "name": "stdout",
     "output_type": "stream",
     "text": [
      "File 220 of 300 saved: cropped/ddostrace.to-victim.20070804_144436_219.pcap\n"
     ]
    },
    {
     "name": "stderr",
     "output_type": "stream",
     "text": [
      "Splitting ddostrace.to-victim.20070804_144436.pcap: 35332417 packets [4:45:38, 3579.27 packets/s]"
     ]
    },
    {
     "name": "stdout",
     "output_type": "stream",
     "text": [
      "File 221 of 300 saved: cropped/ddostrace.to-victim.20070804_144436_220.pcap\n"
     ]
    },
    {
     "name": "stderr",
     "output_type": "stream",
     "text": [
      "Splitting ddostrace.to-victim.20070804_144436.pcap: 35503448 packets [4:46:59, 2029.94 packets/s]"
     ]
    },
    {
     "name": "stdout",
     "output_type": "stream",
     "text": [
      "File 222 of 300 saved: cropped/ddostrace.to-victim.20070804_144436_221.pcap\n"
     ]
    },
    {
     "name": "stderr",
     "output_type": "stream",
     "text": [
      "Splitting ddostrace.to-victim.20070804_144436.pcap: 35665410 packets [4:48:20, 4152.30 packets/s]"
     ]
    },
    {
     "name": "stdout",
     "output_type": "stream",
     "text": [
      "File 223 of 300 saved: cropped/ddostrace.to-victim.20070804_144436_222.pcap\n"
     ]
    },
    {
     "name": "stderr",
     "output_type": "stream",
     "text": [
      "Splitting ddostrace.to-victim.20070804_144436.pcap: 35803268 packets [4:49:30, 4026.65 packets/s]"
     ]
    },
    {
     "name": "stdout",
     "output_type": "stream",
     "text": [
      "File 224 of 300 saved: cropped/ddostrace.to-victim.20070804_144436_223.pcap\n"
     ]
    },
    {
     "name": "stderr",
     "output_type": "stream",
     "text": [
      "Splitting ddostrace.to-victim.20070804_144436.pcap: 35971072 packets [4:50:50, 4225.23 packets/s]"
     ]
    },
    {
     "name": "stdout",
     "output_type": "stream",
     "text": [
      "File 225 of 300 saved: cropped/ddostrace.to-victim.20070804_144436_224.pcap\n"
     ]
    },
    {
     "name": "stderr",
     "output_type": "stream",
     "text": [
      "Splitting ddostrace.to-victim.20070804_144436.pcap: 36139888 packets [4:52:20, 3404.04 packets/s]"
     ]
    },
    {
     "name": "stdout",
     "output_type": "stream",
     "text": [
      "File 226 of 300 saved: cropped/ddostrace.to-victim.20070804_144436_225.pcap\n"
     ]
    },
    {
     "name": "stderr",
     "output_type": "stream",
     "text": [
      "Splitting ddostrace.to-victim.20070804_144436.pcap: 36307962 packets [4:53:51, 3384.12 packets/s]"
     ]
    },
    {
     "name": "stdout",
     "output_type": "stream",
     "text": [
      "File 227 of 300 saved: cropped/ddostrace.to-victim.20070804_144436_226.pcap\n"
     ]
    },
    {
     "name": "stderr",
     "output_type": "stream",
     "text": [
      "Splitting ddostrace.to-victim.20070804_144436.pcap: 36473643 packets [4:55:22, 4117.04 packets/s]"
     ]
    },
    {
     "name": "stdout",
     "output_type": "stream",
     "text": [
      "File 228 of 300 saved: cropped/ddostrace.to-victim.20070804_144436_227.pcap\n"
     ]
    },
    {
     "name": "stderr",
     "output_type": "stream",
     "text": [
      "Splitting ddostrace.to-victim.20070804_144436.pcap: 36643862 packets [4:56:53, 3664.12 packets/s]"
     ]
    },
    {
     "name": "stdout",
     "output_type": "stream",
     "text": [
      "File 229 of 300 saved: cropped/ddostrace.to-victim.20070804_144436_228.pcap\n"
     ]
    },
    {
     "name": "stderr",
     "output_type": "stream",
     "text": [
      "Splitting ddostrace.to-victim.20070804_144436.pcap: 36813897 packets [4:58:14, 4055.75 packets/s]"
     ]
    },
    {
     "name": "stdout",
     "output_type": "stream",
     "text": [
      "File 230 of 300 saved: cropped/ddostrace.to-victim.20070804_144436_229.pcap\n"
     ]
    },
    {
     "name": "stderr",
     "output_type": "stream",
     "text": [
      "Splitting ddostrace.to-victim.20070804_144436.pcap: 36981894 packets [4:59:44, 4276.29 packets/s]"
     ]
    },
    {
     "name": "stdout",
     "output_type": "stream",
     "text": [
      "File 231 of 300 saved: cropped/ddostrace.to-victim.20070804_144436_230.pcap\n"
     ]
    },
    {
     "name": "stderr",
     "output_type": "stream",
     "text": [
      "Splitting ddostrace.to-victim.20070804_144436.pcap: 37152068 packets [5:01:14, 1930.29 packets/s]"
     ]
    },
    {
     "name": "stdout",
     "output_type": "stream",
     "text": [
      "File 232 of 300 saved: cropped/ddostrace.to-victim.20070804_144436_231.pcap\n"
     ]
    },
    {
     "name": "stderr",
     "output_type": "stream",
     "text": [
      "Splitting ddostrace.to-victim.20070804_144436.pcap: 37315315 packets [5:02:34, 3737.58 packets/s]"
     ]
    },
    {
     "name": "stdout",
     "output_type": "stream",
     "text": [
      "File 233 of 300 saved: cropped/ddostrace.to-victim.20070804_144436_232.pcap\n"
     ]
    },
    {
     "name": "stderr",
     "output_type": "stream",
     "text": [
      "Splitting ddostrace.to-victim.20070804_144436.pcap: 37483212 packets [5:03:55, 3970.33 packets/s]"
     ]
    },
    {
     "name": "stdout",
     "output_type": "stream",
     "text": [
      "File 234 of 300 saved: cropped/ddostrace.to-victim.20070804_144436_233.pcap\n"
     ]
    },
    {
     "name": "stderr",
     "output_type": "stream",
     "text": [
      "Splitting ddostrace.to-victim.20070804_144436.pcap: 37652308 packets [5:05:15, 2011.14 packets/s]"
     ]
    },
    {
     "name": "stdout",
     "output_type": "stream",
     "text": [
      "File 235 of 300 saved: cropped/ddostrace.to-victim.20070804_144436_234.pcap\n"
     ]
    },
    {
     "name": "stderr",
     "output_type": "stream",
     "text": [
      "Splitting ddostrace.to-victim.20070804_144436.pcap: 37821473 packets [5:06:45, 4021.11 packets/s]"
     ]
    },
    {
     "name": "stdout",
     "output_type": "stream",
     "text": [
      "File 236 of 300 saved: cropped/ddostrace.to-victim.20070804_144436_235.pcap\n"
     ]
    },
    {
     "name": "stderr",
     "output_type": "stream",
     "text": [
      "Splitting ddostrace.to-victim.20070804_144436.pcap: 37990163 packets [5:08:06, 4032.82 packets/s]"
     ]
    },
    {
     "name": "stdout",
     "output_type": "stream",
     "text": [
      "File 237 of 300 saved: cropped/ddostrace.to-victim.20070804_144436_236.pcap\n"
     ]
    },
    {
     "name": "stderr",
     "output_type": "stream",
     "text": [
      "Splitting ddostrace.to-victim.20070804_144436.pcap: 38153588 packets [5:09:26, 4032.53 packets/s]"
     ]
    },
    {
     "name": "stdout",
     "output_type": "stream",
     "text": [
      "File 238 of 300 saved: cropped/ddostrace.to-victim.20070804_144436_237.pcap\n"
     ]
    },
    {
     "name": "stderr",
     "output_type": "stream",
     "text": [
      "Splitting ddostrace.to-victim.20070804_144436.pcap: 38317913 packets [5:10:46, 2122.53 packets/s]"
     ]
    },
    {
     "name": "stdout",
     "output_type": "stream",
     "text": [
      "File 239 of 300 saved: cropped/ddostrace.to-victim.20070804_144436_238.pcap\n"
     ]
    },
    {
     "name": "stderr",
     "output_type": "stream",
     "text": [
      "Splitting ddostrace.to-victim.20070804_144436.pcap: 38489230 packets [5:12:16, 4282.78 packets/s]"
     ]
    },
    {
     "name": "stdout",
     "output_type": "stream",
     "text": [
      "File 240 of 300 saved: cropped/ddostrace.to-victim.20070804_144436_239.pcap\n"
     ]
    },
    {
     "name": "stderr",
     "output_type": "stream",
     "text": [
      "Splitting ddostrace.to-victim.20070804_144436.pcap: 38659788 packets [5:13:37, 3842.03 packets/s]"
     ]
    },
    {
     "name": "stdout",
     "output_type": "stream",
     "text": [
      "File 241 of 300 saved: cropped/ddostrace.to-victim.20070804_144436_240.pcap\n"
     ]
    },
    {
     "name": "stderr",
     "output_type": "stream",
     "text": [
      "Splitting ddostrace.to-victim.20070804_144436.pcap: 38828963 packets [5:14:57, 4024.01 packets/s]"
     ]
    },
    {
     "name": "stdout",
     "output_type": "stream",
     "text": [
      "File 242 of 300 saved: cropped/ddostrace.to-victim.20070804_144436_241.pcap\n"
     ]
    },
    {
     "name": "stderr",
     "output_type": "stream",
     "text": [
      "Splitting ddostrace.to-victim.20070804_144436.pcap: 38990453 packets [5:16:27, 4053.88 packets/s]"
     ]
    },
    {
     "name": "stdout",
     "output_type": "stream",
     "text": [
      "File 243 of 300 saved: cropped/ddostrace.to-victim.20070804_144436_242.pcap\n"
     ]
    },
    {
     "name": "stderr",
     "output_type": "stream",
     "text": [
      "Splitting ddostrace.to-victim.20070804_144436.pcap: 39155474 packets [5:17:47, 4204.15 packets/s]"
     ]
    },
    {
     "name": "stdout",
     "output_type": "stream",
     "text": [
      "File 244 of 300 saved: cropped/ddostrace.to-victim.20070804_144436_243.pcap\n"
     ]
    },
    {
     "name": "stderr",
     "output_type": "stream",
     "text": [
      "Splitting ddostrace.to-victim.20070804_144436.pcap: 39326575 packets [5:19:08, 2327.64 packets/s]"
     ]
    },
    {
     "name": "stdout",
     "output_type": "stream",
     "text": [
      "File 245 of 300 saved: cropped/ddostrace.to-victim.20070804_144436_244.pcap\n"
     ]
    },
    {
     "name": "stderr",
     "output_type": "stream",
     "text": [
      "Splitting ddostrace.to-victim.20070804_144436.pcap: 39495613 packets [5:20:29, 4149.21 packets/s]"
     ]
    },
    {
     "name": "stdout",
     "output_type": "stream",
     "text": [
      "File 246 of 300 saved: cropped/ddostrace.to-victim.20070804_144436_245.pcap\n"
     ]
    },
    {
     "name": "stderr",
     "output_type": "stream",
     "text": [
      "Splitting ddostrace.to-victim.20070804_144436.pcap: 39663793 packets [5:21:59, 4054.46 packets/s]"
     ]
    },
    {
     "name": "stdout",
     "output_type": "stream",
     "text": [
      "File 247 of 300 saved: cropped/ddostrace.to-victim.20070804_144436_246.pcap\n"
     ]
    },
    {
     "name": "stderr",
     "output_type": "stream",
     "text": [
      "Splitting ddostrace.to-victim.20070804_144436.pcap: 39829471 packets [5:23:19, 3845.26 packets/s]"
     ]
    },
    {
     "name": "stdout",
     "output_type": "stream",
     "text": [
      "File 248 of 300 saved: cropped/ddostrace.to-victim.20070804_144436_247.pcap\n"
     ]
    },
    {
     "name": "stderr",
     "output_type": "stream",
     "text": [
      "Splitting ddostrace.to-victim.20070804_144436.pcap: 39996338 packets [5:24:39, 3535.31 packets/s]"
     ]
    },
    {
     "name": "stdout",
     "output_type": "stream",
     "text": [
      "File 249 of 300 saved: cropped/ddostrace.to-victim.20070804_144436_248.pcap\n"
     ]
    },
    {
     "name": "stderr",
     "output_type": "stream",
     "text": [
      "Splitting ddostrace.to-victim.20070804_144436.pcap: 40165786 packets [5:26:10, 4096.43 packets/s]"
     ]
    },
    {
     "name": "stdout",
     "output_type": "stream",
     "text": [
      "File 250 of 300 saved: cropped/ddostrace.to-victim.20070804_144436_249.pcap\n"
     ]
    },
    {
     "name": "stderr",
     "output_type": "stream",
     "text": [
      "Splitting ddostrace.to-victim.20070804_144436.pcap: 40334162 packets [5:27:31, 4141.04 packets/s]"
     ]
    },
    {
     "name": "stdout",
     "output_type": "stream",
     "text": [
      "File 251 of 300 saved: cropped/ddostrace.to-victim.20070804_144436_250.pcap\n"
     ]
    },
    {
     "name": "stderr",
     "output_type": "stream",
     "text": [
      "Splitting ddostrace.to-victim.20070804_144436.pcap: 40503564 packets [5:28:51, 4044.79 packets/s]"
     ]
    },
    {
     "name": "stdout",
     "output_type": "stream",
     "text": [
      "File 252 of 300 saved: cropped/ddostrace.to-victim.20070804_144436_251.pcap\n"
     ]
    },
    {
     "name": "stderr",
     "output_type": "stream",
     "text": [
      "Splitting ddostrace.to-victim.20070804_144436.pcap: 40668720 packets [5:30:21, 4131.54 packets/s]"
     ]
    },
    {
     "name": "stdout",
     "output_type": "stream",
     "text": [
      "File 253 of 300 saved: cropped/ddostrace.to-victim.20070804_144436_252.pcap\n"
     ]
    },
    {
     "name": "stderr",
     "output_type": "stream",
     "text": [
      "Splitting ddostrace.to-victim.20070804_144436.pcap: 40840437 packets [5:31:41, 4159.68 packets/s]"
     ]
    },
    {
     "name": "stdout",
     "output_type": "stream",
     "text": [
      "File 254 of 300 saved: cropped/ddostrace.to-victim.20070804_144436_253.pcap\n"
     ]
    },
    {
     "name": "stderr",
     "output_type": "stream",
     "text": [
      "Splitting ddostrace.to-victim.20070804_144436.pcap: 41012727 packets [5:33:02, 3653.96 packets/s]"
     ]
    },
    {
     "name": "stdout",
     "output_type": "stream",
     "text": [
      "File 255 of 300 saved: cropped/ddostrace.to-victim.20070804_144436_254.pcap\n"
     ]
    },
    {
     "name": "stderr",
     "output_type": "stream",
     "text": [
      "Splitting ddostrace.to-victim.20070804_144436.pcap: 41185501 packets [5:34:33, 4129.48 packets/s]"
     ]
    },
    {
     "name": "stdout",
     "output_type": "stream",
     "text": [
      "File 256 of 300 saved: cropped/ddostrace.to-victim.20070804_144436_255.pcap\n"
     ]
    },
    {
     "name": "stderr",
     "output_type": "stream",
     "text": [
      "Splitting ddostrace.to-victim.20070804_144436.pcap: 41296418 packets [5:35:43, 3249.28 packets/s]"
     ]
    },
    {
     "name": "stdout",
     "output_type": "stream",
     "text": [
      "File 257 of 300 saved: cropped/ddostrace.to-victim.20070804_144436_256.pcap\n"
     ]
    },
    {
     "name": "stderr",
     "output_type": "stream",
     "text": [
      "Splitting ddostrace.to-victim.20070804_144436.pcap: 41370627 packets [5:36:23, 4192.45 packets/s]"
     ]
    },
    {
     "name": "stdout",
     "output_type": "stream",
     "text": [
      "File 258 of 300 saved: cropped/ddostrace.to-victim.20070804_144436_257.pcap\n"
     ]
    },
    {
     "name": "stderr",
     "output_type": "stream",
     "text": [
      "Splitting ddostrace.to-victim.20070804_144436.pcap: 41520046 packets [5:37:24, 4180.84 packets/s]"
     ]
    },
    {
     "name": "stdout",
     "output_type": "stream",
     "text": [
      "File 259 of 300 saved: cropped/ddostrace.to-victim.20070804_144436_258.pcap\n"
     ]
    },
    {
     "name": "stderr",
     "output_type": "stream",
     "text": [
      "Splitting ddostrace.to-victim.20070804_144436.pcap: 41690832 packets [5:38:44, 4212.66 packets/s]"
     ]
    },
    {
     "name": "stdout",
     "output_type": "stream",
     "text": [
      "File 260 of 300 saved: cropped/ddostrace.to-victim.20070804_144436_259.pcap\n"
     ]
    },
    {
     "name": "stderr",
     "output_type": "stream",
     "text": [
      "Splitting ddostrace.to-victim.20070804_144436.pcap: 41860962 packets [5:40:05, 3124.23 packets/s]"
     ]
    },
    {
     "name": "stdout",
     "output_type": "stream",
     "text": [
      "File 261 of 300 saved: cropped/ddostrace.to-victim.20070804_144436_260.pcap\n"
     ]
    },
    {
     "name": "stderr",
     "output_type": "stream",
     "text": [
      "Splitting ddostrace.to-victim.20070804_144436.pcap: 42032926 packets [5:41:35, 3037.03 packets/s]"
     ]
    },
    {
     "name": "stdout",
     "output_type": "stream",
     "text": [
      "File 262 of 300 saved: cropped/ddostrace.to-victim.20070804_144436_261.pcap\n"
     ]
    },
    {
     "name": "stderr",
     "output_type": "stream",
     "text": [
      "Splitting ddostrace.to-victim.20070804_144436.pcap: 42146158 packets [5:42:55, 2812.49 packets/s]"
     ]
    },
    {
     "name": "stdout",
     "output_type": "stream",
     "text": [
      "File 263 of 300 saved: cropped/ddostrace.to-victim.20070804_144436_262.pcap\n"
     ]
    },
    {
     "name": "stderr",
     "output_type": "stream",
     "text": [
      "Splitting ddostrace.to-victim.20070804_144436.pcap: 42162685 packets [5:43:16, 2671.72 packets/s]"
     ]
    },
    {
     "name": "stdout",
     "output_type": "stream",
     "text": [
      "File 264 of 300 saved: cropped/ddostrace.to-victim.20070804_144436_263.pcap\n"
     ]
    },
    {
     "name": "stderr",
     "output_type": "stream",
     "text": [
      "Splitting ddostrace.to-victim.20070804_144436.pcap: 42314590 packets [5:44:46, 2636.94 packets/s]"
     ]
    },
    {
     "name": "stdout",
     "output_type": "stream",
     "text": [
      "File 265 of 300 saved: cropped/ddostrace.to-victim.20070804_144436_264.pcap\n"
     ]
    },
    {
     "name": "stderr",
     "output_type": "stream",
     "text": [
      "Splitting ddostrace.to-victim.20070804_144436.pcap: 42483835 packets [5:46:56, 2002.16 packets/s]"
     ]
    },
    {
     "name": "stdout",
     "output_type": "stream",
     "text": [
      "File 266 of 300 saved: cropped/ddostrace.to-victim.20070804_144436_265.pcap\n"
     ]
    },
    {
     "name": "stderr",
     "output_type": "stream",
     "text": [
      "Splitting ddostrace.to-victim.20070804_144436.pcap: 42652968 packets [5:48:47, 4109.68 packets/s]"
     ]
    },
    {
     "name": "stdout",
     "output_type": "stream",
     "text": [
      "File 267 of 300 saved: cropped/ddostrace.to-victim.20070804_144436_266.pcap\n"
     ]
    },
    {
     "name": "stderr",
     "output_type": "stream",
     "text": [
      "Splitting ddostrace.to-victim.20070804_144436.pcap: 42817822 packets [5:50:38, 2994.53 packets/s]"
     ]
    },
    {
     "name": "stdout",
     "output_type": "stream",
     "text": [
      "File 268 of 300 saved: cropped/ddostrace.to-victim.20070804_144436_267.pcap\n"
     ]
    },
    {
     "name": "stderr",
     "output_type": "stream",
     "text": [
      "Splitting ddostrace.to-victim.20070804_144436.pcap: 42949605 packets [5:52:58, 2782.34 packets/s]"
     ]
    },
    {
     "name": "stdout",
     "output_type": "stream",
     "text": [
      "File 269 of 300 saved: cropped/ddostrace.to-victim.20070804_144436_268.pcap\n"
     ]
    },
    {
     "name": "stderr",
     "output_type": "stream",
     "text": [
      "Splitting ddostrace.to-victim.20070804_144436.pcap: 43118657 packets [5:54:18, 3739.80 packets/s]"
     ]
    },
    {
     "name": "stdout",
     "output_type": "stream",
     "text": [
      "File 270 of 300 saved: cropped/ddostrace.to-victim.20070804_144436_269.pcap\n"
     ]
    },
    {
     "name": "stderr",
     "output_type": "stream",
     "text": [
      "Splitting ddostrace.to-victim.20070804_144436.pcap: 43288238 packets [5:55:39, 3994.30 packets/s]"
     ]
    },
    {
     "name": "stdout",
     "output_type": "stream",
     "text": [
      "File 271 of 300 saved: cropped/ddostrace.to-victim.20070804_144436_270.pcap\n"
     ]
    },
    {
     "name": "stderr",
     "output_type": "stream",
     "text": [
      "Splitting ddostrace.to-victim.20070804_144436.pcap: 43457744 packets [5:57:09, 3425.12 packets/s]"
     ]
    },
    {
     "name": "stdout",
     "output_type": "stream",
     "text": [
      "File 272 of 300 saved: cropped/ddostrace.to-victim.20070804_144436_271.pcap\n"
     ]
    },
    {
     "name": "stderr",
     "output_type": "stream",
     "text": [
      "Splitting ddostrace.to-victim.20070804_144436.pcap: 43572191 packets [5:58:19, 3038.56 packets/s]"
     ]
    },
    {
     "name": "stdout",
     "output_type": "stream",
     "text": [
      "File 273 of 300 saved: cropped/ddostrace.to-victim.20070804_144436_272.pcap\n"
     ]
    },
    {
     "name": "stderr",
     "output_type": "stream",
     "text": [
      "Splitting ddostrace.to-victim.20070804_144436.pcap: 43694009 packets [5:59:30, 3132.47 packets/s]"
     ]
    },
    {
     "name": "stdout",
     "output_type": "stream",
     "text": [
      "File 274 of 300 saved: cropped/ddostrace.to-victim.20070804_144436_273.pcap\n"
     ]
    },
    {
     "name": "stderr",
     "output_type": "stream",
     "text": [
      "Splitting ddostrace.to-victim.20070804_144436.pcap: 43862919 packets [6:00:50, 2914.14 packets/s]"
     ]
    },
    {
     "name": "stdout",
     "output_type": "stream",
     "text": [
      "File 275 of 300 saved: cropped/ddostrace.to-victim.20070804_144436_274.pcap\n"
     ]
    },
    {
     "name": "stderr",
     "output_type": "stream",
     "text": [
      "Splitting ddostrace.to-victim.20070804_144436.pcap: 44031507 packets [6:03:31, 2611.98 packets/s]"
     ]
    },
    {
     "name": "stdout",
     "output_type": "stream",
     "text": [
      "File 276 of 300 saved: cropped/ddostrace.to-victim.20070804_144436_275.pcap\n"
     ]
    },
    {
     "name": "stderr",
     "output_type": "stream",
     "text": [
      "Splitting ddostrace.to-victim.20070804_144436.pcap: 44199915 packets [6:06:01, 2149.90 packets/s]"
     ]
    },
    {
     "name": "stdout",
     "output_type": "stream",
     "text": [
      "File 277 of 300 saved: cropped/ddostrace.to-victim.20070804_144436_276.pcap\n"
     ]
    },
    {
     "name": "stderr",
     "output_type": "stream",
     "text": [
      "Splitting ddostrace.to-victim.20070804_144436.pcap: 44361214 packets [6:08:12, 2327.07 packets/s]"
     ]
    },
    {
     "name": "stdout",
     "output_type": "stream",
     "text": [
      "File 278 of 300 saved: cropped/ddostrace.to-victim.20070804_144436_277.pcap\n"
     ]
    },
    {
     "name": "stderr",
     "output_type": "stream",
     "text": [
      "Splitting ddostrace.to-victim.20070804_144436.pcap: 44525179 packets [6:10:22, 1956.03 packets/s]"
     ]
    },
    {
     "name": "stdout",
     "output_type": "stream",
     "text": [
      "File 279 of 300 saved: cropped/ddostrace.to-victim.20070804_144436_278.pcap\n"
     ]
    },
    {
     "name": "stderr",
     "output_type": "stream",
     "text": [
      "Splitting ddostrace.to-victim.20070804_144436.pcap: 44695570 packets [6:12:34, 2281.96 packets/s]"
     ]
    },
    {
     "name": "stdout",
     "output_type": "stream",
     "text": [
      "File 280 of 300 saved: cropped/ddostrace.to-victim.20070804_144436_279.pcap\n"
     ]
    },
    {
     "name": "stderr",
     "output_type": "stream",
     "text": [
      "Splitting ddostrace.to-victim.20070804_144436.pcap: 44865724 packets [6:14:54, 2041.54 packets/s]"
     ]
    },
    {
     "name": "stdout",
     "output_type": "stream",
     "text": [
      "File 281 of 300 saved: cropped/ddostrace.to-victim.20070804_144436_280.pcap\n"
     ]
    },
    {
     "name": "stderr",
     "output_type": "stream",
     "text": [
      "Splitting ddostrace.to-victim.20070804_144436.pcap: 45035274 packets [6:17:15, 2266.71 packets/s]"
     ]
    },
    {
     "name": "stdout",
     "output_type": "stream",
     "text": [
      "File 282 of 300 saved: cropped/ddostrace.to-victim.20070804_144436_281.pcap\n"
     ]
    },
    {
     "name": "stderr",
     "output_type": "stream",
     "text": [
      "Splitting ddostrace.to-victim.20070804_144436.pcap: 45199289 packets [6:19:16, 3135.37 packets/s]"
     ]
    },
    {
     "name": "stdout",
     "output_type": "stream",
     "text": [
      "File 283 of 300 saved: cropped/ddostrace.to-victim.20070804_144436_282.pcap\n"
     ]
    },
    {
     "name": "stderr",
     "output_type": "stream",
     "text": [
      "Splitting ddostrace.to-victim.20070804_144436.pcap: 45365244 packets [6:21:17, 2289.36 packets/s]"
     ]
    },
    {
     "name": "stdout",
     "output_type": "stream",
     "text": [
      "File 284 of 300 saved: cropped/ddostrace.to-victim.20070804_144436_283.pcap\n"
     ]
    },
    {
     "name": "stderr",
     "output_type": "stream",
     "text": [
      "Splitting ddostrace.to-victim.20070804_144436.pcap: 45534294 packets [6:23:17, 2953.46 packets/s]"
     ]
    },
    {
     "name": "stdout",
     "output_type": "stream",
     "text": [
      "File 285 of 300 saved: cropped/ddostrace.to-victim.20070804_144436_284.pcap\n"
     ]
    },
    {
     "name": "stderr",
     "output_type": "stream",
     "text": [
      "Splitting ddostrace.to-victim.20070804_144436.pcap: 45701753 packets [6:25:18, 3096.00 packets/s]"
     ]
    },
    {
     "name": "stdout",
     "output_type": "stream",
     "text": [
      "File 286 of 300 saved: cropped/ddostrace.to-victim.20070804_144436_285.pcap\n"
     ]
    },
    {
     "name": "stderr",
     "output_type": "stream",
     "text": [
      "Splitting ddostrace.to-victim.20070804_144436.pcap: 45870520 packets [6:27:19, 2930.84 packets/s]"
     ]
    },
    {
     "name": "stdout",
     "output_type": "stream",
     "text": [
      "File 287 of 300 saved: cropped/ddostrace.to-victim.20070804_144436_286.pcap\n"
     ]
    },
    {
     "name": "stderr",
     "output_type": "stream",
     "text": [
      "Splitting ddostrace.to-victim.20070804_144436.pcap: 46034440 packets [6:29:29, 3185.98 packets/s]"
     ]
    },
    {
     "name": "stdout",
     "output_type": "stream",
     "text": [
      "File 288 of 300 saved: cropped/ddostrace.to-victim.20070804_144436_287.pcap\n"
     ]
    },
    {
     "name": "stderr",
     "output_type": "stream",
     "text": [
      "Splitting ddostrace.to-victim.20070804_144436.pcap: 46206345 packets [6:30:59, 3206.17 packets/s]"
     ]
    },
    {
     "name": "stdout",
     "output_type": "stream",
     "text": [
      "File 289 of 300 saved: cropped/ddostrace.to-victim.20070804_144436_288.pcap\n"
     ]
    },
    {
     "name": "stderr",
     "output_type": "stream",
     "text": [
      "Splitting ddostrace.to-victim.20070804_144436.pcap: 46377545 packets [6:32:30, 3998.59 packets/s]"
     ]
    },
    {
     "name": "stdout",
     "output_type": "stream",
     "text": [
      "File 290 of 300 saved: cropped/ddostrace.to-victim.20070804_144436_289.pcap\n"
     ]
    },
    {
     "name": "stderr",
     "output_type": "stream",
     "text": [
      "Splitting ddostrace.to-victim.20070804_144436.pcap: 46546611 packets [6:33:50, 4267.07 packets/s]"
     ]
    },
    {
     "name": "stdout",
     "output_type": "stream",
     "text": [
      "File 291 of 300 saved: cropped/ddostrace.to-victim.20070804_144436_290.pcap\n"
     ]
    },
    {
     "name": "stderr",
     "output_type": "stream",
     "text": [
      "Splitting ddostrace.to-victim.20070804_144436.pcap: 46717550 packets [6:35:20, 3695.14 packets/s]"
     ]
    },
    {
     "name": "stdout",
     "output_type": "stream",
     "text": [
      "File 292 of 300 saved: cropped/ddostrace.to-victim.20070804_144436_291.pcap\n"
     ]
    },
    {
     "name": "stderr",
     "output_type": "stream",
     "text": [
      "Splitting ddostrace.to-victim.20070804_144436.pcap: 46883248 packets [6:36:51, 3314.38 packets/s]"
     ]
    },
    {
     "name": "stdout",
     "output_type": "stream",
     "text": [
      "File 293 of 300 saved: cropped/ddostrace.to-victim.20070804_144436_292.pcap\n"
     ]
    },
    {
     "name": "stderr",
     "output_type": "stream",
     "text": [
      "Splitting ddostrace.to-victim.20070804_144436.pcap: 47054343 packets [6:38:11, 3774.36 packets/s]"
     ]
    },
    {
     "name": "stdout",
     "output_type": "stream",
     "text": [
      "File 294 of 300 saved: cropped/ddostrace.to-victim.20070804_144436_293.pcap\n"
     ]
    },
    {
     "name": "stderr",
     "output_type": "stream",
     "text": [
      "Splitting ddostrace.to-victim.20070804_144436.pcap: 47221065 packets [6:39:42, 3877.88 packets/s]"
     ]
    },
    {
     "name": "stdout",
     "output_type": "stream",
     "text": [
      "File 295 of 300 saved: cropped/ddostrace.to-victim.20070804_144436_294.pcap\n"
     ]
    },
    {
     "name": "stderr",
     "output_type": "stream",
     "text": [
      "Splitting ddostrace.to-victim.20070804_144436.pcap: 47392293 packets [6:41:02, 3274.61 packets/s]"
     ]
    },
    {
     "name": "stdout",
     "output_type": "stream",
     "text": [
      "File 296 of 300 saved: cropped/ddostrace.to-victim.20070804_144436_295.pcap\n"
     ]
    },
    {
     "name": "stderr",
     "output_type": "stream",
     "text": [
      "Splitting ddostrace.to-victim.20070804_144436.pcap: 47563055 packets [6:42:32, 4052.62 packets/s]"
     ]
    },
    {
     "name": "stdout",
     "output_type": "stream",
     "text": [
      "File 297 of 300 saved: cropped/ddostrace.to-victim.20070804_144436_296.pcap\n"
     ]
    },
    {
     "name": "stderr",
     "output_type": "stream",
     "text": [
      "Splitting ddostrace.to-victim.20070804_144436.pcap: 47727251 packets [6:44:02, 3423.07 packets/s]"
     ]
    },
    {
     "name": "stdout",
     "output_type": "stream",
     "text": [
      "File 298 of 300 saved: cropped/ddostrace.to-victim.20070804_144436_297.pcap\n"
     ]
    },
    {
     "name": "stderr",
     "output_type": "stream",
     "text": [
      "Splitting ddostrace.to-victim.20070804_144436.pcap: 47891728 packets [6:45:33, 4111.93 packets/s]"
     ]
    },
    {
     "name": "stdout",
     "output_type": "stream",
     "text": [
      "File 299 of 300 saved: cropped/ddostrace.to-victim.20070804_144436_298.pcap\n"
     ]
    },
    {
     "name": "stderr",
     "output_type": "stream",
     "text": [
      "Splitting ddostrace.to-victim.20070804_144436.pcap: 48048618 packets [6:46:51, 1968.25 packets/s]\n"
     ]
    },
    {
     "name": "stdout",
     "output_type": "stream",
     "text": [
      "Split ddostrace.to-victim.20070804_144436.pcap into 299 parts successfully.\n"
     ]
    },
    {
     "name": "stderr",
     "output_type": "stream",
     "text": [
      "Splitting ddostrace.to-victim.20070804_144936.pcap: 168593 packets [01:01, 4031.06 packets/s]"
     ]
    },
    {
     "name": "stdout",
     "output_type": "stream",
     "text": [
      "File 1 of 300 saved: cropped/ddostrace.to-victim.20070804_144936_0.pcap\n"
     ]
    },
    {
     "name": "stderr",
     "output_type": "stream",
     "text": [
      "Splitting ddostrace.to-victim.20070804_144936.pcap: 339799 packets [02:32, 3131.81 packets/s]"
     ]
    },
    {
     "name": "stdout",
     "output_type": "stream",
     "text": [
      "File 2 of 300 saved: cropped/ddostrace.to-victim.20070804_144936_1.pcap\n"
     ]
    },
    {
     "name": "stderr",
     "output_type": "stream",
     "text": [
      "Splitting ddostrace.to-victim.20070804_144936.pcap: 503419 packets [03:52, 1954.44 packets/s]"
     ]
    },
    {
     "name": "stdout",
     "output_type": "stream",
     "text": [
      "File 3 of 300 saved: cropped/ddostrace.to-victim.20070804_144936_2.pcap\n"
     ]
    },
    {
     "name": "stderr",
     "output_type": "stream",
     "text": [
      "Splitting ddostrace.to-victim.20070804_144936.pcap: 667744 packets [05:23, 2722.13 packets/s]"
     ]
    },
    {
     "name": "stdout",
     "output_type": "stream",
     "text": [
      "File 4 of 300 saved: cropped/ddostrace.to-victim.20070804_144936_3.pcap\n"
     ]
    },
    {
     "name": "stderr",
     "output_type": "stream",
     "text": [
      "Splitting ddostrace.to-victim.20070804_144936.pcap: 836386 packets [06:53, 3736.79 packets/s]"
     ]
    },
    {
     "name": "stdout",
     "output_type": "stream",
     "text": [
      "File 5 of 300 saved: cropped/ddostrace.to-victim.20070804_144936_4.pcap\n"
     ]
    },
    {
     "name": "stderr",
     "output_type": "stream",
     "text": [
      "Splitting ddostrace.to-victim.20070804_144936.pcap: 1005122 packets [08:24, 3219.07 packets/s]"
     ]
    },
    {
     "name": "stdout",
     "output_type": "stream",
     "text": [
      "File 6 of 300 saved: cropped/ddostrace.to-victim.20070804_144936_5.pcap\n"
     ]
    },
    {
     "name": "stderr",
     "output_type": "stream",
     "text": [
      "Splitting ddostrace.to-victim.20070804_144936.pcap: 1176048 packets [09:44, 4033.98 packets/s]"
     ]
    },
    {
     "name": "stdout",
     "output_type": "stream",
     "text": [
      "File 7 of 300 saved: cropped/ddostrace.to-victim.20070804_144936_6.pcap\n"
     ]
    },
    {
     "name": "stderr",
     "output_type": "stream",
     "text": [
      "Splitting ddostrace.to-victim.20070804_144936.pcap: 1341243 packets [11:14, 3649.73 packets/s]"
     ]
    },
    {
     "name": "stdout",
     "output_type": "stream",
     "text": [
      "File 8 of 300 saved: cropped/ddostrace.to-victim.20070804_144936_7.pcap\n"
     ]
    },
    {
     "name": "stderr",
     "output_type": "stream",
     "text": [
      "Splitting ddostrace.to-victim.20070804_144936.pcap: 1510384 packets [12:45, 4043.39 packets/s]"
     ]
    },
    {
     "name": "stdout",
     "output_type": "stream",
     "text": [
      "File 9 of 300 saved: cropped/ddostrace.to-victim.20070804_144936_8.pcap\n"
     ]
    },
    {
     "name": "stderr",
     "output_type": "stream",
     "text": [
      "Splitting ddostrace.to-victim.20070804_144936.pcap: 1680150 packets [14:06, 2292.49 packets/s]"
     ]
    },
    {
     "name": "stdout",
     "output_type": "stream",
     "text": [
      "File 10 of 300 saved: cropped/ddostrace.to-victim.20070804_144936_9.pcap\n"
     ]
    },
    {
     "name": "stderr",
     "output_type": "stream",
     "text": [
      "Splitting ddostrace.to-victim.20070804_144936.pcap: 1850363 packets [15:36, 4048.66 packets/s]"
     ]
    },
    {
     "name": "stdout",
     "output_type": "stream",
     "text": [
      "File 11 of 300 saved: cropped/ddostrace.to-victim.20070804_144936_10.pcap\n"
     ]
    },
    {
     "name": "stderr",
     "output_type": "stream",
     "text": [
      "Splitting ddostrace.to-victim.20070804_144936.pcap: 2019959 packets [16:56, 3952.91 packets/s]"
     ]
    },
    {
     "name": "stdout",
     "output_type": "stream",
     "text": [
      "File 12 of 300 saved: cropped/ddostrace.to-victim.20070804_144936_11.pcap\n"
     ]
    },
    {
     "name": "stderr",
     "output_type": "stream",
     "text": [
      "Splitting ddostrace.to-victim.20070804_144936.pcap: 2182755 packets [18:27, 4115.40 packets/s]"
     ]
    },
    {
     "name": "stdout",
     "output_type": "stream",
     "text": [
      "File 13 of 300 saved: cropped/ddostrace.to-victim.20070804_144936_12.pcap\n"
     ]
    },
    {
     "name": "stderr",
     "output_type": "stream",
     "text": [
      "Splitting ddostrace.to-victim.20070804_144936.pcap: 2352459 packets [19:47, 4133.20 packets/s]"
     ]
    },
    {
     "name": "stdout",
     "output_type": "stream",
     "text": [
      "File 14 of 300 saved: cropped/ddostrace.to-victim.20070804_144936_13.pcap\n"
     ]
    },
    {
     "name": "stderr",
     "output_type": "stream",
     "text": [
      "Splitting ddostrace.to-victim.20070804_144936.pcap: 2523067 packets [21:27, 4021.16 packets/s]"
     ]
    },
    {
     "name": "stdout",
     "output_type": "stream",
     "text": [
      "File 15 of 300 saved: cropped/ddostrace.to-victim.20070804_144936_14.pcap\n"
     ]
    },
    {
     "name": "stderr",
     "output_type": "stream",
     "text": [
      "Splitting ddostrace.to-victim.20070804_144936.pcap: 2694843 packets [22:58, 3877.80 packets/s]"
     ]
    },
    {
     "name": "stdout",
     "output_type": "stream",
     "text": [
      "File 16 of 300 saved: cropped/ddostrace.to-victim.20070804_144936_15.pcap\n"
     ]
    },
    {
     "name": "stderr",
     "output_type": "stream",
     "text": [
      "Splitting ddostrace.to-victim.20070804_144936.pcap: 2864585 packets [24:28, 2815.54 packets/s]"
     ]
    },
    {
     "name": "stdout",
     "output_type": "stream",
     "text": [
      "File 17 of 300 saved: cropped/ddostrace.to-victim.20070804_144936_16.pcap\n"
     ]
    },
    {
     "name": "stderr",
     "output_type": "stream",
     "text": [
      "Splitting ddostrace.to-victim.20070804_144936.pcap: 3029443 packets [25:48, 3899.94 packets/s]"
     ]
    },
    {
     "name": "stdout",
     "output_type": "stream",
     "text": [
      "File 18 of 300 saved: cropped/ddostrace.to-victim.20070804_144936_17.pcap\n"
     ]
    },
    {
     "name": "stderr",
     "output_type": "stream",
     "text": [
      "Splitting ddostrace.to-victim.20070804_144936.pcap: 3195523 packets [27:18, 3671.55 packets/s]"
     ]
    },
    {
     "name": "stdout",
     "output_type": "stream",
     "text": [
      "File 19 of 300 saved: cropped/ddostrace.to-victim.20070804_144936_18.pcap\n"
     ]
    },
    {
     "name": "stderr",
     "output_type": "stream",
     "text": [
      "Splitting ddostrace.to-victim.20070804_144936.pcap: 3367250 packets [28:49, 3801.82 packets/s]"
     ]
    },
    {
     "name": "stdout",
     "output_type": "stream",
     "text": [
      "File 20 of 300 saved: cropped/ddostrace.to-victim.20070804_144936_19.pcap\n"
     ]
    },
    {
     "name": "stderr",
     "output_type": "stream",
     "text": [
      "Splitting ddostrace.to-victim.20070804_144936.pcap: 3537651 packets [30:10, 1922.27 packets/s]"
     ]
    },
    {
     "name": "stdout",
     "output_type": "stream",
     "text": [
      "File 21 of 300 saved: cropped/ddostrace.to-victim.20070804_144936_20.pcap\n"
     ]
    },
    {
     "name": "stderr",
     "output_type": "stream",
     "text": [
      "Splitting ddostrace.to-victim.20070804_144936.pcap: 3708173 packets [31:40, 2808.18 packets/s]"
     ]
    },
    {
     "name": "stdout",
     "output_type": "stream",
     "text": [
      "File 22 of 300 saved: cropped/ddostrace.to-victim.20070804_144936_21.pcap\n"
     ]
    },
    {
     "name": "stderr",
     "output_type": "stream",
     "text": [
      "Splitting ddostrace.to-victim.20070804_144936.pcap: 3870736 packets [33:21, 3149.41 packets/s]"
     ]
    },
    {
     "name": "stdout",
     "output_type": "stream",
     "text": [
      "File 23 of 300 saved: cropped/ddostrace.to-victim.20070804_144936_22.pcap\n"
     ]
    },
    {
     "name": "stderr",
     "output_type": "stream",
     "text": [
      "Splitting ddostrace.to-victim.20070804_144936.pcap: 4035316 packets [34:41, 3985.44 packets/s]"
     ]
    },
    {
     "name": "stdout",
     "output_type": "stream",
     "text": [
      "File 24 of 300 saved: cropped/ddostrace.to-victim.20070804_144936_23.pcap\n"
     ]
    },
    {
     "name": "stderr",
     "output_type": "stream",
     "text": [
      "Splitting ddostrace.to-victim.20070804_144936.pcap: 4203007 packets [36:11, 3994.86 packets/s]"
     ]
    },
    {
     "name": "stdout",
     "output_type": "stream",
     "text": [
      "File 25 of 300 saved: cropped/ddostrace.to-victim.20070804_144936_24.pcap\n"
     ]
    },
    {
     "name": "stderr",
     "output_type": "stream",
     "text": [
      "Splitting ddostrace.to-victim.20070804_144936.pcap: 4370774 packets [37:41, 3877.78 packets/s]"
     ]
    },
    {
     "name": "stdout",
     "output_type": "stream",
     "text": [
      "File 26 of 300 saved: cropped/ddostrace.to-victim.20070804_144936_25.pcap\n"
     ]
    },
    {
     "name": "stderr",
     "output_type": "stream",
     "text": [
      "Splitting ddostrace.to-victim.20070804_144936.pcap: 4541662 packets [39:12, 3828.46 packets/s]"
     ]
    },
    {
     "name": "stdout",
     "output_type": "stream",
     "text": [
      "File 27 of 300 saved: cropped/ddostrace.to-victim.20070804_144936_26.pcap\n"
     ]
    },
    {
     "name": "stderr",
     "output_type": "stream",
     "text": [
      "Splitting ddostrace.to-victim.20070804_144936.pcap: 4706374 packets [40:42, 3224.20 packets/s]"
     ]
    },
    {
     "name": "stdout",
     "output_type": "stream",
     "text": [
      "File 28 of 300 saved: cropped/ddostrace.to-victim.20070804_144936_27.pcap\n"
     ]
    },
    {
     "name": "stderr",
     "output_type": "stream",
     "text": [
      "Splitting ddostrace.to-victim.20070804_144936.pcap: 4877636 packets [42:04, 3638.72 packets/s]"
     ]
    },
    {
     "name": "stdout",
     "output_type": "stream",
     "text": [
      "File 29 of 300 saved: cropped/ddostrace.to-victim.20070804_144936_28.pcap\n"
     ]
    },
    {
     "name": "stderr",
     "output_type": "stream",
     "text": [
      "Splitting ddostrace.to-victim.20070804_144936.pcap: 5047815 packets [43:34, 3756.97 packets/s]"
     ]
    },
    {
     "name": "stdout",
     "output_type": "stream",
     "text": [
      "File 30 of 300 saved: cropped/ddostrace.to-victim.20070804_144936_29.pcap\n"
     ]
    },
    {
     "name": "stderr",
     "output_type": "stream",
     "text": [
      "Splitting ddostrace.to-victim.20070804_144936.pcap: 5216435 packets [45:04, 4140.19 packets/s]"
     ]
    },
    {
     "name": "stdout",
     "output_type": "stream",
     "text": [
      "File 31 of 300 saved: cropped/ddostrace.to-victim.20070804_144936_30.pcap\n"
     ]
    },
    {
     "name": "stderr",
     "output_type": "stream",
     "text": [
      "Splitting ddostrace.to-victim.20070804_144936.pcap: 5388410 packets [46:34, 4087.60 packets/s]"
     ]
    },
    {
     "name": "stdout",
     "output_type": "stream",
     "text": [
      "File 32 of 300 saved: cropped/ddostrace.to-victim.20070804_144936_31.pcap\n"
     ]
    },
    {
     "name": "stderr",
     "output_type": "stream",
     "text": [
      "Splitting ddostrace.to-victim.20070804_144936.pcap: 5554057 packets [47:55, 3659.27 packets/s]"
     ]
    },
    {
     "name": "stdout",
     "output_type": "stream",
     "text": [
      "File 33 of 300 saved: cropped/ddostrace.to-victim.20070804_144936_32.pcap\n"
     ]
    },
    {
     "name": "stderr",
     "output_type": "stream",
     "text": [
      "Splitting ddostrace.to-victim.20070804_144936.pcap: 5723312 packets [49:25, 3957.17 packets/s]"
     ]
    },
    {
     "name": "stdout",
     "output_type": "stream",
     "text": [
      "File 34 of 300 saved: cropped/ddostrace.to-victim.20070804_144936_33.pcap\n"
     ]
    },
    {
     "name": "stderr",
     "output_type": "stream",
     "text": [
      "Splitting ddostrace.to-victim.20070804_144936.pcap: 5894637 packets [50:55, 4123.83 packets/s]"
     ]
    },
    {
     "name": "stdout",
     "output_type": "stream",
     "text": [
      "File 35 of 300 saved: cropped/ddostrace.to-victim.20070804_144936_34.pcap\n"
     ]
    },
    {
     "name": "stderr",
     "output_type": "stream",
     "text": [
      "Splitting ddostrace.to-victim.20070804_144936.pcap: 6065935 packets [52:16, 1329.30 packets/s]"
     ]
    },
    {
     "name": "stdout",
     "output_type": "stream",
     "text": [
      "File 36 of 300 saved: cropped/ddostrace.to-victim.20070804_144936_35.pcap\n"
     ]
    },
    {
     "name": "stderr",
     "output_type": "stream",
     "text": [
      "Splitting ddostrace.to-victim.20070804_144936.pcap: 6234656 packets [53:46, 4044.77 packets/s]"
     ]
    },
    {
     "name": "stdout",
     "output_type": "stream",
     "text": [
      "File 37 of 300 saved: cropped/ddostrace.to-victim.20070804_144936_36.pcap\n"
     ]
    },
    {
     "name": "stderr",
     "output_type": "stream",
     "text": [
      "Splitting ddostrace.to-victim.20070804_144936.pcap: 6396656 packets [55:06, 3831.12 packets/s]"
     ]
    },
    {
     "name": "stdout",
     "output_type": "stream",
     "text": [
      "File 38 of 300 saved: cropped/ddostrace.to-victim.20070804_144936_37.pcap\n"
     ]
    },
    {
     "name": "stderr",
     "output_type": "stream",
     "text": [
      "Splitting ddostrace.to-victim.20070804_144936.pcap: 6560527 packets [56:37, 3179.01 packets/s]"
     ]
    },
    {
     "name": "stdout",
     "output_type": "stream",
     "text": [
      "File 39 of 300 saved: cropped/ddostrace.to-victim.20070804_144936_38.pcap\n"
     ]
    },
    {
     "name": "stderr",
     "output_type": "stream",
     "text": [
      "Splitting ddostrace.to-victim.20070804_144936.pcap: 6732128 packets [58:07, 3819.67 packets/s]"
     ]
    },
    {
     "name": "stdout",
     "output_type": "stream",
     "text": [
      "File 40 of 300 saved: cropped/ddostrace.to-victim.20070804_144936_39.pcap\n"
     ]
    },
    {
     "name": "stderr",
     "output_type": "stream",
     "text": [
      "Splitting ddostrace.to-victim.20070804_144936.pcap: 6900892 packets [59:37, 3947.10 packets/s]"
     ]
    },
    {
     "name": "stdout",
     "output_type": "stream",
     "text": [
      "File 41 of 300 saved: cropped/ddostrace.to-victim.20070804_144936_40.pcap\n"
     ]
    },
    {
     "name": "stderr",
     "output_type": "stream",
     "text": [
      "Splitting ddostrace.to-victim.20070804_144936.pcap: 7073011 packets [1:01:08, 2935.17 packets/s]"
     ]
    },
    {
     "name": "stdout",
     "output_type": "stream",
     "text": [
      "File 42 of 300 saved: cropped/ddostrace.to-victim.20070804_144936_41.pcap\n"
     ]
    },
    {
     "name": "stderr",
     "output_type": "stream",
     "text": [
      "Splitting ddostrace.to-victim.20070804_144936.pcap: 7237534 packets [1:02:38, 3471.71 packets/s]"
     ]
    },
    {
     "name": "stdout",
     "output_type": "stream",
     "text": [
      "File 43 of 300 saved: cropped/ddostrace.to-victim.20070804_144936_42.pcap\n"
     ]
    },
    {
     "name": "stderr",
     "output_type": "stream",
     "text": [
      "Splitting ddostrace.to-victim.20070804_144936.pcap: 7402634 packets [1:03:59, 3146.60 packets/s]"
     ]
    },
    {
     "name": "stdout",
     "output_type": "stream",
     "text": [
      "File 44 of 300 saved: cropped/ddostrace.to-victim.20070804_144936_43.pcap\n"
     ]
    },
    {
     "name": "stderr",
     "output_type": "stream",
     "text": [
      "Splitting ddostrace.to-victim.20070804_144936.pcap: 7572953 packets [1:05:39, 3958.70 packets/s]"
     ]
    },
    {
     "name": "stdout",
     "output_type": "stream",
     "text": [
      "File 45 of 300 saved: cropped/ddostrace.to-victim.20070804_144936_44.pcap\n"
     ]
    },
    {
     "name": "stderr",
     "output_type": "stream",
     "text": [
      "Splitting ddostrace.to-victim.20070804_144936.pcap: 7741725 packets [1:07:09, 3793.59 packets/s]"
     ]
    },
    {
     "name": "stdout",
     "output_type": "stream",
     "text": [
      "File 46 of 300 saved: cropped/ddostrace.to-victim.20070804_144936_45.pcap\n"
     ]
    },
    {
     "name": "stderr",
     "output_type": "stream",
     "text": [
      "Splitting ddostrace.to-victim.20070804_144936.pcap: 7912460 packets [1:08:40, 3235.81 packets/s]"
     ]
    },
    {
     "name": "stdout",
     "output_type": "stream",
     "text": [
      "File 47 of 300 saved: cropped/ddostrace.to-victim.20070804_144936_46.pcap\n"
     ]
    },
    {
     "name": "stderr",
     "output_type": "stream",
     "text": [
      "Splitting ddostrace.to-victim.20070804_144936.pcap: 8078008 packets [1:10:00, 3978.23 packets/s]"
     ]
    },
    {
     "name": "stdout",
     "output_type": "stream",
     "text": [
      "File 48 of 300 saved: cropped/ddostrace.to-victim.20070804_144936_47.pcap\n"
     ]
    },
    {
     "name": "stderr",
     "output_type": "stream",
     "text": [
      "Splitting ddostrace.to-victim.20070804_144936.pcap: 8247732 packets [1:11:30, 3373.89 packets/s]"
     ]
    },
    {
     "name": "stdout",
     "output_type": "stream",
     "text": [
      "File 49 of 300 saved: cropped/ddostrace.to-victim.20070804_144936_48.pcap\n"
     ]
    },
    {
     "name": "stderr",
     "output_type": "stream",
     "text": [
      "Splitting ddostrace.to-victim.20070804_144936.pcap: 8416580 packets [1:13:01, 4071.24 packets/s]"
     ]
    },
    {
     "name": "stdout",
     "output_type": "stream",
     "text": [
      "File 50 of 300 saved: cropped/ddostrace.to-victim.20070804_144936_49.pcap\n"
     ]
    },
    {
     "name": "stderr",
     "output_type": "stream",
     "text": [
      "Splitting ddostrace.to-victim.20070804_144936.pcap: 8585612 packets [1:14:22, 3817.82 packets/s]"
     ]
    },
    {
     "name": "stdout",
     "output_type": "stream",
     "text": [
      "File 51 of 300 saved: cropped/ddostrace.to-victim.20070804_144936_50.pcap\n"
     ]
    },
    {
     "name": "stderr",
     "output_type": "stream",
     "text": [
      "Splitting ddostrace.to-victim.20070804_144936.pcap: 8757025 packets [1:15:52, 3550.13 packets/s]"
     ]
    },
    {
     "name": "stdout",
     "output_type": "stream",
     "text": [
      "File 52 of 300 saved: cropped/ddostrace.to-victim.20070804_144936_51.pcap\n"
     ]
    },
    {
     "name": "stderr",
     "output_type": "stream",
     "text": [
      "Splitting ddostrace.to-victim.20070804_144936.pcap: 8921297 packets [1:17:23, 2394.73 packets/s]"
     ]
    },
    {
     "name": "stdout",
     "output_type": "stream",
     "text": [
      "File 53 of 300 saved: cropped/ddostrace.to-victim.20070804_144936_52.pcap\n"
     ]
    },
    {
     "name": "stderr",
     "output_type": "stream",
     "text": [
      "Splitting ddostrace.to-victim.20070804_144936.pcap: 9076996 packets [1:18:43, 3174.23 packets/s]"
     ]
    },
    {
     "name": "stdout",
     "output_type": "stream",
     "text": [
      "File 54 of 300 saved: cropped/ddostrace.to-victim.20070804_144936_53.pcap\n"
     ]
    },
    {
     "name": "stderr",
     "output_type": "stream",
     "text": [
      "Splitting ddostrace.to-victim.20070804_144936.pcap: 9249523 packets [1:20:03, 4036.73 packets/s]"
     ]
    },
    {
     "name": "stdout",
     "output_type": "stream",
     "text": [
      "File 55 of 300 saved: cropped/ddostrace.to-victim.20070804_144936_54.pcap\n"
     ]
    },
    {
     "name": "stderr",
     "output_type": "stream",
     "text": [
      "Splitting ddostrace.to-victim.20070804_144936.pcap: 9420055 packets [1:21:44, 4037.98 packets/s]"
     ]
    },
    {
     "name": "stdout",
     "output_type": "stream",
     "text": [
      "File 56 of 300 saved: cropped/ddostrace.to-victim.20070804_144936_55.pcap\n"
     ]
    },
    {
     "name": "stderr",
     "output_type": "stream",
     "text": [
      "Splitting ddostrace.to-victim.20070804_144936.pcap: 9589054 packets [1:23:14, 4008.71 packets/s]"
     ]
    },
    {
     "name": "stdout",
     "output_type": "stream",
     "text": [
      "File 57 of 300 saved: cropped/ddostrace.to-victim.20070804_144936_56.pcap\n"
     ]
    },
    {
     "name": "stderr",
     "output_type": "stream",
     "text": [
      "Splitting ddostrace.to-victim.20070804_144936.pcap: 9754537 packets [1:24:34, 2660.76 packets/s]"
     ]
    },
    {
     "name": "stdout",
     "output_type": "stream",
     "text": [
      "File 58 of 300 saved: cropped/ddostrace.to-victim.20070804_144936_57.pcap\n"
     ]
    },
    {
     "name": "stderr",
     "output_type": "stream",
     "text": [
      "Splitting ddostrace.to-victim.20070804_144936.pcap: 9920222 packets [1:26:05, 3296.56 packets/s]"
     ]
    },
    {
     "name": "stdout",
     "output_type": "stream",
     "text": [
      "File 59 of 300 saved: cropped/ddostrace.to-victim.20070804_144936_58.pcap\n"
     ]
    },
    {
     "name": "stderr",
     "output_type": "stream",
     "text": [
      "Splitting ddostrace.to-victim.20070804_144936.pcap: 10090589 packets [1:27:35, 3656.74 packets/s]"
     ]
    },
    {
     "name": "stdout",
     "output_type": "stream",
     "text": [
      "File 60 of 300 saved: cropped/ddostrace.to-victim.20070804_144936_59.pcap\n"
     ]
    },
    {
     "name": "stderr",
     "output_type": "stream",
     "text": [
      "Splitting ddostrace.to-victim.20070804_144936.pcap: 10263454 packets [1:29:05, 3146.72 packets/s]"
     ]
    },
    {
     "name": "stdout",
     "output_type": "stream",
     "text": [
      "File 61 of 300 saved: cropped/ddostrace.to-victim.20070804_144936_60.pcap\n"
     ]
    },
    {
     "name": "stderr",
     "output_type": "stream",
     "text": [
      "Splitting ddostrace.to-victim.20070804_144936.pcap: 10434716 packets [1:30:26, 4095.44 packets/s]"
     ]
    },
    {
     "name": "stdout",
     "output_type": "stream",
     "text": [
      "File 62 of 300 saved: cropped/ddostrace.to-victim.20070804_144936_61.pcap\n"
     ]
    },
    {
     "name": "stderr",
     "output_type": "stream",
     "text": [
      "Splitting ddostrace.to-victim.20070804_144936.pcap: 10600602 packets [1:31:56, 3910.54 packets/s]"
     ]
    },
    {
     "name": "stdout",
     "output_type": "stream",
     "text": [
      "File 63 of 300 saved: cropped/ddostrace.to-victim.20070804_144936_62.pcap\n"
     ]
    },
    {
     "name": "stderr",
     "output_type": "stream",
     "text": [
      "Splitting ddostrace.to-victim.20070804_144936.pcap: 10766616 packets [1:33:27, 3818.06 packets/s]"
     ]
    },
    {
     "name": "stdout",
     "output_type": "stream",
     "text": [
      "File 64 of 300 saved: cropped/ddostrace.to-victim.20070804_144936_63.pcap\n"
     ]
    },
    {
     "name": "stderr",
     "output_type": "stream",
     "text": [
      "Splitting ddostrace.to-victim.20070804_144936.pcap: 10935433 packets [1:34:57, 2590.42 packets/s]"
     ]
    },
    {
     "name": "stdout",
     "output_type": "stream",
     "text": [
      "File 65 of 300 saved: cropped/ddostrace.to-victim.20070804_144936_64.pcap\n"
     ]
    },
    {
     "name": "stderr",
     "output_type": "stream",
     "text": [
      "Splitting ddostrace.to-victim.20070804_144936.pcap: 11104131 packets [1:36:18, 4040.71 packets/s]"
     ]
    },
    {
     "name": "stdout",
     "output_type": "stream",
     "text": [
      "File 66 of 300 saved: cropped/ddostrace.to-victim.20070804_144936_65.pcap\n"
     ]
    },
    {
     "name": "stderr",
     "output_type": "stream",
     "text": [
      "Splitting ddostrace.to-victim.20070804_144936.pcap: 11272752 packets [1:37:48, 4043.12 packets/s]"
     ]
    },
    {
     "name": "stdout",
     "output_type": "stream",
     "text": [
      "File 67 of 300 saved: cropped/ddostrace.to-victim.20070804_144936_66.pcap\n"
     ]
    },
    {
     "name": "stderr",
     "output_type": "stream",
     "text": [
      "Splitting ddostrace.to-victim.20070804_144936.pcap: 11438302 packets [1:39:28, 3800.80 packets/s]"
     ]
    },
    {
     "name": "stdout",
     "output_type": "stream",
     "text": [
      "File 68 of 300 saved: cropped/ddostrace.to-victim.20070804_144936_67.pcap\n"
     ]
    },
    {
     "name": "stderr",
     "output_type": "stream",
     "text": [
      "Splitting ddostrace.to-victim.20070804_144936.pcap: 11611477 packets [1:40:59, 2932.91 packets/s]"
     ]
    },
    {
     "name": "stdout",
     "output_type": "stream",
     "text": [
      "File 69 of 300 saved: cropped/ddostrace.to-victim.20070804_144936_68.pcap\n"
     ]
    },
    {
     "name": "stderr",
     "output_type": "stream",
     "text": [
      "Splitting ddostrace.to-victim.20070804_144936.pcap: 11781632 packets [1:42:19, 2618.22 packets/s]"
     ]
    },
    {
     "name": "stdout",
     "output_type": "stream",
     "text": [
      "File 70 of 300 saved: cropped/ddostrace.to-victim.20070804_144936_69.pcap\n"
     ]
    },
    {
     "name": "stderr",
     "output_type": "stream",
     "text": [
      "Splitting ddostrace.to-victim.20070804_144936.pcap: 11951429 packets [1:43:49, 3922.05 packets/s]"
     ]
    },
    {
     "name": "stdout",
     "output_type": "stream",
     "text": [
      "File 71 of 300 saved: cropped/ddostrace.to-victim.20070804_144936_70.pcap\n"
     ]
    },
    {
     "name": "stderr",
     "output_type": "stream",
     "text": [
      "Splitting ddostrace.to-victim.20070804_144936.pcap: 12120339 packets [1:45:30, 3210.77 packets/s]"
     ]
    },
    {
     "name": "stdout",
     "output_type": "stream",
     "text": [
      "File 72 of 300 saved: cropped/ddostrace.to-victim.20070804_144936_71.pcap\n"
     ]
    },
    {
     "name": "stderr",
     "output_type": "stream",
     "text": [
      "Splitting ddostrace.to-victim.20070804_144936.pcap: 12283716 packets [1:47:00, 3239.52 packets/s]"
     ]
    },
    {
     "name": "stdout",
     "output_type": "stream",
     "text": [
      "File 73 of 300 saved: cropped/ddostrace.to-victim.20070804_144936_72.pcap\n"
     ]
    },
    {
     "name": "stderr",
     "output_type": "stream",
     "text": [
      "Splitting ddostrace.to-victim.20070804_144936.pcap: 12455440 packets [1:48:20, 4038.18 packets/s]"
     ]
    },
    {
     "name": "stdout",
     "output_type": "stream",
     "text": [
      "File 74 of 300 saved: cropped/ddostrace.to-victim.20070804_144936_73.pcap\n"
     ]
    },
    {
     "name": "stderr",
     "output_type": "stream",
     "text": [
      "Splitting ddostrace.to-victim.20070804_144936.pcap: 12625319 packets [1:49:51, 4029.51 packets/s]"
     ]
    },
    {
     "name": "stdout",
     "output_type": "stream",
     "text": [
      "File 75 of 300 saved: cropped/ddostrace.to-victim.20070804_144936_74.pcap\n"
     ]
    },
    {
     "name": "stderr",
     "output_type": "stream",
     "text": [
      "Splitting ddostrace.to-victim.20070804_144936.pcap: 12795653 packets [1:51:21, 4010.61 packets/s]"
     ]
    },
    {
     "name": "stdout",
     "output_type": "stream",
     "text": [
      "File 76 of 300 saved: cropped/ddostrace.to-victim.20070804_144936_75.pcap\n"
     ]
    },
    {
     "name": "stderr",
     "output_type": "stream",
     "text": [
      "Splitting ddostrace.to-victim.20070804_144936.pcap: 12966462 packets [1:52:51, 2651.25 packets/s]"
     ]
    },
    {
     "name": "stdout",
     "output_type": "stream",
     "text": [
      "File 77 of 300 saved: cropped/ddostrace.to-victim.20070804_144936_76.pcap\n"
     ]
    },
    {
     "name": "stderr",
     "output_type": "stream",
     "text": [
      "Splitting ddostrace.to-victim.20070804_144936.pcap: 13131330 packets [1:54:22, 3827.63 packets/s]"
     ]
    },
    {
     "name": "stdout",
     "output_type": "stream",
     "text": [
      "File 78 of 300 saved: cropped/ddostrace.to-victim.20070804_144936_77.pcap\n"
     ]
    },
    {
     "name": "stderr",
     "output_type": "stream",
     "text": [
      "Splitting ddostrace.to-victim.20070804_144936.pcap: 13289493 packets [1:55:52, 4013.32 packets/s]"
     ]
    },
    {
     "name": "stdout",
     "output_type": "stream",
     "text": [
      "File 79 of 300 saved: cropped/ddostrace.to-victim.20070804_144936_78.pcap\n"
     ]
    },
    {
     "name": "stderr",
     "output_type": "stream",
     "text": [
      "Splitting ddostrace.to-victim.20070804_144936.pcap: 13461785 packets [1:57:23, 4012.97 packets/s]"
     ]
    },
    {
     "name": "stdout",
     "output_type": "stream",
     "text": [
      "File 80 of 300 saved: cropped/ddostrace.to-victim.20070804_144936_79.pcap\n"
     ]
    },
    {
     "name": "stderr",
     "output_type": "stream",
     "text": [
      "Splitting ddostrace.to-victim.20070804_144936.pcap: 13634110 packets [1:58:53, 3342.08 packets/s]"
     ]
    },
    {
     "name": "stdout",
     "output_type": "stream",
     "text": [
      "File 81 of 300 saved: cropped/ddostrace.to-victim.20070804_144936_80.pcap\n"
     ]
    },
    {
     "name": "stderr",
     "output_type": "stream",
     "text": [
      "Splitting ddostrace.to-victim.20070804_144936.pcap: 13806583 packets [2:00:24, 4042.50 packets/s]"
     ]
    },
    {
     "name": "stdout",
     "output_type": "stream",
     "text": [
      "File 82 of 300 saved: cropped/ddostrace.to-victim.20070804_144936_81.pcap\n"
     ]
    },
    {
     "name": "stderr",
     "output_type": "stream",
     "text": [
      "Splitting ddostrace.to-victim.20070804_144936.pcap: 13973523 packets [2:01:54, 3192.17 packets/s]"
     ]
    },
    {
     "name": "stdout",
     "output_type": "stream",
     "text": [
      "File 83 of 300 saved: cropped/ddostrace.to-victim.20070804_144936_82.pcap\n"
     ]
    },
    {
     "name": "stderr",
     "output_type": "stream",
     "text": [
      "Splitting ddostrace.to-victim.20070804_144936.pcap: 14138563 packets [2:03:24, 3749.64 packets/s]"
     ]
    },
    {
     "name": "stdout",
     "output_type": "stream",
     "text": [
      "File 84 of 300 saved: cropped/ddostrace.to-victim.20070804_144936_83.pcap\n"
     ]
    },
    {
     "name": "stderr",
     "output_type": "stream",
     "text": [
      "Splitting ddostrace.to-victim.20070804_144936.pcap: 14306887 packets [2:04:45, 2188.90 packets/s]"
     ]
    },
    {
     "name": "stdout",
     "output_type": "stream",
     "text": [
      "File 85 of 300 saved: cropped/ddostrace.to-victim.20070804_144936_84.pcap\n"
     ]
    },
    {
     "name": "stderr",
     "output_type": "stream",
     "text": [
      "Splitting ddostrace.to-victim.20070804_144936.pcap: 14477974 packets [2:06:25, 4096.51 packets/s]"
     ]
    },
    {
     "name": "stdout",
     "output_type": "stream",
     "text": [
      "File 86 of 300 saved: cropped/ddostrace.to-victim.20070804_144936_85.pcap\n"
     ]
    },
    {
     "name": "stderr",
     "output_type": "stream",
     "text": [
      "Splitting ddostrace.to-victim.20070804_144936.pcap: 14650064 packets [2:07:55, 3824.29 packets/s]"
     ]
    },
    {
     "name": "stdout",
     "output_type": "stream",
     "text": [
      "File 87 of 300 saved: cropped/ddostrace.to-victim.20070804_144936_86.pcap\n"
     ]
    },
    {
     "name": "stderr",
     "output_type": "stream",
     "text": [
      "Splitting ddostrace.to-victim.20070804_144936.pcap: 14815386 packets [2:09:26, 2831.34 packets/s]"
     ]
    },
    {
     "name": "stdout",
     "output_type": "stream",
     "text": [
      "File 88 of 300 saved: cropped/ddostrace.to-victim.20070804_144936_87.pcap\n"
     ]
    },
    {
     "name": "stderr",
     "output_type": "stream",
     "text": [
      "Splitting ddostrace.to-victim.20070804_144936.pcap: 14986751 packets [2:11:27, 3973.01 packets/s]"
     ]
    },
    {
     "name": "stdout",
     "output_type": "stream",
     "text": [
      "File 89 of 300 saved: cropped/ddostrace.to-victim.20070804_144936_88.pcap\n"
     ]
    },
    {
     "name": "stderr",
     "output_type": "stream",
     "text": [
      "Splitting ddostrace.to-victim.20070804_144936.pcap: 15156383 packets [2:13:17, 2785.97 packets/s]"
     ]
    },
    {
     "name": "stdout",
     "output_type": "stream",
     "text": [
      "File 90 of 300 saved: cropped/ddostrace.to-victim.20070804_144936_89.pcap\n"
     ]
    },
    {
     "name": "stderr",
     "output_type": "stream",
     "text": [
      "Splitting ddostrace.to-victim.20070804_144936.pcap: 15326500 packets [2:14:48, 4032.12 packets/s]"
     ]
    },
    {
     "name": "stdout",
     "output_type": "stream",
     "text": [
      "File 91 of 300 saved: cropped/ddostrace.to-victim.20070804_144936_90.pcap\n"
     ]
    },
    {
     "name": "stderr",
     "output_type": "stream",
     "text": [
      "Splitting ddostrace.to-victim.20070804_144936.pcap: 15498219 packets [2:16:18, 2797.20 packets/s]"
     ]
    },
    {
     "name": "stdout",
     "output_type": "stream",
     "text": [
      "File 92 of 300 saved: cropped/ddostrace.to-victim.20070804_144936_91.pcap\n"
     ]
    },
    {
     "name": "stderr",
     "output_type": "stream",
     "text": [
      "Splitting ddostrace.to-victim.20070804_144936.pcap: 15665803 packets [2:17:39, 4069.83 packets/s]"
     ]
    },
    {
     "name": "stdout",
     "output_type": "stream",
     "text": [
      "File 93 of 300 saved: cropped/ddostrace.to-victim.20070804_144936_92.pcap\n"
     ]
    },
    {
     "name": "stderr",
     "output_type": "stream",
     "text": [
      "Splitting ddostrace.to-victim.20070804_144936.pcap: 15834428 packets [2:19:11, 3431.82 packets/s]"
     ]
    },
    {
     "name": "stdout",
     "output_type": "stream",
     "text": [
      "File 94 of 300 saved: cropped/ddostrace.to-victim.20070804_144936_93.pcap\n"
     ]
    },
    {
     "name": "stderr",
     "output_type": "stream",
     "text": [
      "Splitting ddostrace.to-victim.20070804_144936.pcap: 16003698 packets [2:20:41, 2124.32 packets/s]"
     ]
    },
    {
     "name": "stdout",
     "output_type": "stream",
     "text": [
      "File 95 of 300 saved: cropped/ddostrace.to-victim.20070804_144936_94.pcap\n"
     ]
    },
    {
     "name": "stderr",
     "output_type": "stream",
     "text": [
      "Splitting ddostrace.to-victim.20070804_144936.pcap: 16171412 packets [2:22:02, 4074.63 packets/s]"
     ]
    },
    {
     "name": "stdout",
     "output_type": "stream",
     "text": [
      "File 96 of 300 saved: cropped/ddostrace.to-victim.20070804_144936_95.pcap\n"
     ]
    },
    {
     "name": "stderr",
     "output_type": "stream",
     "text": [
      "Splitting ddostrace.to-victim.20070804_144936.pcap: 16341646 packets [2:23:32, 2993.98 packets/s]"
     ]
    },
    {
     "name": "stdout",
     "output_type": "stream",
     "text": [
      "File 97 of 300 saved: cropped/ddostrace.to-victim.20070804_144936_96.pcap\n"
     ]
    },
    {
     "name": "stderr",
     "output_type": "stream",
     "text": [
      "Splitting ddostrace.to-victim.20070804_144936.pcap: 16512407 packets [2:25:02, 2502.47 packets/s]"
     ]
    },
    {
     "name": "stdout",
     "output_type": "stream",
     "text": [
      "File 98 of 300 saved: cropped/ddostrace.to-victim.20070804_144936_97.pcap\n"
     ]
    },
    {
     "name": "stderr",
     "output_type": "stream",
     "text": [
      "Splitting ddostrace.to-victim.20070804_144936.pcap: 16674287 packets [2:26:23, 3963.01 packets/s]"
     ]
    },
    {
     "name": "stdout",
     "output_type": "stream",
     "text": [
      "File 99 of 300 saved: cropped/ddostrace.to-victim.20070804_144936_98.pcap\n"
     ]
    },
    {
     "name": "stderr",
     "output_type": "stream",
     "text": [
      "Splitting ddostrace.to-victim.20070804_144936.pcap: 16842310 packets [2:27:54, 3730.48 packets/s]"
     ]
    },
    {
     "name": "stdout",
     "output_type": "stream",
     "text": [
      "File 100 of 300 saved: cropped/ddostrace.to-victim.20070804_144936_99.pcap\n"
     ]
    },
    {
     "name": "stderr",
     "output_type": "stream",
     "text": [
      "Splitting ddostrace.to-victim.20070804_144936.pcap: 17012427 packets [2:29:14, 3363.79 packets/s]"
     ]
    },
    {
     "name": "stdout",
     "output_type": "stream",
     "text": [
      "File 101 of 300 saved: cropped/ddostrace.to-victim.20070804_144936_100.pcap\n"
     ]
    },
    {
     "name": "stderr",
     "output_type": "stream",
     "text": [
      "Splitting ddostrace.to-victim.20070804_144936.pcap: 17180736 packets [2:30:44, 4080.33 packets/s]"
     ]
    },
    {
     "name": "stdout",
     "output_type": "stream",
     "text": [
      "File 102 of 300 saved: cropped/ddostrace.to-victim.20070804_144936_101.pcap\n"
     ]
    },
    {
     "name": "stderr",
     "output_type": "stream",
     "text": [
      "Splitting ddostrace.to-victim.20070804_144936.pcap: 17350658 packets [2:32:04, 3955.44 packets/s]"
     ]
    },
    {
     "name": "stdout",
     "output_type": "stream",
     "text": [
      "File 103 of 300 saved: cropped/ddostrace.to-victim.20070804_144936_102.pcap\n"
     ]
    },
    {
     "name": "stderr",
     "output_type": "stream",
     "text": [
      "Splitting ddostrace.to-victim.20070804_144936.pcap: 17498722 packets [2:33:35, 3772.58 packets/s]"
     ]
    },
    {
     "name": "stdout",
     "output_type": "stream",
     "text": [
      "File 104 of 300 saved: cropped/ddostrace.to-victim.20070804_144936_103.pcap\n"
     ]
    },
    {
     "name": "stderr",
     "output_type": "stream",
     "text": [
      "Splitting ddostrace.to-victim.20070804_144936.pcap: 17514522 packets [2:34:00, 3928.77 packets/s]"
     ]
    },
    {
     "name": "stdout",
     "output_type": "stream",
     "text": [
      "File 105 of 300 saved: cropped/ddostrace.to-victim.20070804_144936_104.pcap\n"
     ]
    },
    {
     "name": "stderr",
     "output_type": "stream",
     "text": [
      "Splitting ddostrace.to-victim.20070804_144936.pcap: 17528998 packets [2:34:09, 3317.84 packets/s]"
     ]
    },
    {
     "name": "stdout",
     "output_type": "stream",
     "text": [
      "File 106 of 300 saved: cropped/ddostrace.to-victim.20070804_144936_105.pcap\n"
     ]
    },
    {
     "name": "stderr",
     "output_type": "stream",
     "text": [
      "Splitting ddostrace.to-victim.20070804_144936.pcap: 17586049 packets [2:34:27, 3362.41 packets/s]"
     ]
    },
    {
     "name": "stdout",
     "output_type": "stream",
     "text": [
      "File 107 of 300 saved: cropped/ddostrace.to-victim.20070804_144936_106.pcap\n"
     ]
    },
    {
     "name": "stderr",
     "output_type": "stream",
     "text": [
      "Splitting ddostrace.to-victim.20070804_144936.pcap: 17752316 packets [2:35:55, 3864.71 packets/s]"
     ]
    },
    {
     "name": "stdout",
     "output_type": "stream",
     "text": [
      "File 108 of 300 saved: cropped/ddostrace.to-victim.20070804_144936_107.pcap\n"
     ]
    },
    {
     "name": "stderr",
     "output_type": "stream",
     "text": [
      "Splitting ddostrace.to-victim.20070804_144936.pcap: 17921480 packets [2:37:26, 4083.24 packets/s]"
     ]
    },
    {
     "name": "stdout",
     "output_type": "stream",
     "text": [
      "File 109 of 300 saved: cropped/ddostrace.to-victim.20070804_144936_108.pcap\n"
     ]
    },
    {
     "name": "stderr",
     "output_type": "stream",
     "text": [
      "Splitting ddostrace.to-victim.20070804_144936.pcap: 18089462 packets [2:38:46, 3059.61 packets/s]"
     ]
    },
    {
     "name": "stdout",
     "output_type": "stream",
     "text": [
      "File 110 of 300 saved: cropped/ddostrace.to-victim.20070804_144936_109.pcap\n"
     ]
    },
    {
     "name": "stderr",
     "output_type": "stream",
     "text": [
      "Splitting ddostrace.to-victim.20070804_144936.pcap: 18258327 packets [2:40:17, 4009.44 packets/s]"
     ]
    },
    {
     "name": "stdout",
     "output_type": "stream",
     "text": [
      "File 111 of 300 saved: cropped/ddostrace.to-victim.20070804_144936_110.pcap\n"
     ]
    },
    {
     "name": "stderr",
     "output_type": "stream",
     "text": [
      "Splitting ddostrace.to-victim.20070804_144936.pcap: 18424675 packets [2:41:48, 3902.72 packets/s]"
     ]
    },
    {
     "name": "stdout",
     "output_type": "stream",
     "text": [
      "File 112 of 300 saved: cropped/ddostrace.to-victim.20070804_144936_111.pcap\n"
     ]
    },
    {
     "name": "stderr",
     "output_type": "stream",
     "text": [
      "Splitting ddostrace.to-victim.20070804_144936.pcap: 18587768 packets [2:43:18, 3157.70 packets/s]"
     ]
    },
    {
     "name": "stdout",
     "output_type": "stream",
     "text": [
      "File 113 of 300 saved: cropped/ddostrace.to-victim.20070804_144936_112.pcap\n"
     ]
    },
    {
     "name": "stderr",
     "output_type": "stream",
     "text": [
      "Splitting ddostrace.to-victim.20070804_144936.pcap: 18757832 packets [2:44:48, 3960.27 packets/s]"
     ]
    },
    {
     "name": "stdout",
     "output_type": "stream",
     "text": [
      "File 114 of 300 saved: cropped/ddostrace.to-victim.20070804_144936_113.pcap\n"
     ]
    },
    {
     "name": "stderr",
     "output_type": "stream",
     "text": [
      "Splitting ddostrace.to-victim.20070804_144936.pcap: 18925190 packets [2:46:09, 3853.41 packets/s]"
     ]
    },
    {
     "name": "stdout",
     "output_type": "stream",
     "text": [
      "File 115 of 300 saved: cropped/ddostrace.to-victim.20070804_144936_114.pcap\n"
     ]
    },
    {
     "name": "stderr",
     "output_type": "stream",
     "text": [
      "Splitting ddostrace.to-victim.20070804_144936.pcap: 19094820 packets [2:47:39, 4098.44 packets/s]"
     ]
    },
    {
     "name": "stdout",
     "output_type": "stream",
     "text": [
      "File 116 of 300 saved: cropped/ddostrace.to-victim.20070804_144936_115.pcap\n"
     ]
    },
    {
     "name": "stderr",
     "output_type": "stream",
     "text": [
      "Splitting ddostrace.to-victim.20070804_144936.pcap: 19263840 packets [2:49:09, 1987.54 packets/s]"
     ]
    },
    {
     "name": "stdout",
     "output_type": "stream",
     "text": [
      "File 117 of 300 saved: cropped/ddostrace.to-victim.20070804_144936_116.pcap\n"
     ]
    },
    {
     "name": "stderr",
     "output_type": "stream",
     "text": [
      "Splitting ddostrace.to-victim.20070804_144936.pcap: 19425991 packets [2:50:30, 4112.42 packets/s]"
     ]
    },
    {
     "name": "stdout",
     "output_type": "stream",
     "text": [
      "File 118 of 300 saved: cropped/ddostrace.to-victim.20070804_144936_117.pcap\n"
     ]
    },
    {
     "name": "stderr",
     "output_type": "stream",
     "text": [
      "Splitting ddostrace.to-victim.20070804_144936.pcap: 19589565 packets [2:52:00, 4078.63 packets/s]"
     ]
    },
    {
     "name": "stdout",
     "output_type": "stream",
     "text": [
      "File 119 of 300 saved: cropped/ddostrace.to-victim.20070804_144936_118.pcap\n"
     ]
    },
    {
     "name": "stderr",
     "output_type": "stream",
     "text": [
      "Splitting ddostrace.to-victim.20070804_144936.pcap: 19758137 packets [2:53:31, 3291.06 packets/s]"
     ]
    },
    {
     "name": "stdout",
     "output_type": "stream",
     "text": [
      "File 120 of 300 saved: cropped/ddostrace.to-victim.20070804_144936_119.pcap\n"
     ]
    },
    {
     "name": "stderr",
     "output_type": "stream",
     "text": [
      "Splitting ddostrace.to-victim.20070804_144936.pcap: 19927079 packets [2:54:52, 4131.74 packets/s]"
     ]
    },
    {
     "name": "stdout",
     "output_type": "stream",
     "text": [
      "File 121 of 300 saved: cropped/ddostrace.to-victim.20070804_144936_120.pcap\n"
     ]
    },
    {
     "name": "stderr",
     "output_type": "stream",
     "text": [
      "Splitting ddostrace.to-victim.20070804_144936.pcap: 20097412 packets [2:56:22, 3821.93 packets/s]"
     ]
    },
    {
     "name": "stdout",
     "output_type": "stream",
     "text": [
      "File 122 of 300 saved: cropped/ddostrace.to-victim.20070804_144936_121.pcap\n"
     ]
    },
    {
     "name": "stderr",
     "output_type": "stream",
     "text": [
      "Splitting ddostrace.to-victim.20070804_144936.pcap: 20261253 packets [2:57:52, 3876.03 packets/s]"
     ]
    },
    {
     "name": "stdout",
     "output_type": "stream",
     "text": [
      "File 123 of 300 saved: cropped/ddostrace.to-victim.20070804_144936_122.pcap\n"
     ]
    },
    {
     "name": "stderr",
     "output_type": "stream",
     "text": [
      "Splitting ddostrace.to-victim.20070804_144936.pcap: 20376475 packets [2:59:03, 4048.27 packets/s]"
     ]
    },
    {
     "name": "stdout",
     "output_type": "stream",
     "text": [
      "File 124 of 300 saved: cropped/ddostrace.to-victim.20070804_144936_123.pcap\n"
     ]
    },
    {
     "name": "stderr",
     "output_type": "stream",
     "text": [
      "Splitting ddostrace.to-victim.20070804_144936.pcap: 20544805 packets [3:00:23, 3209.03 packets/s]"
     ]
    },
    {
     "name": "stdout",
     "output_type": "stream",
     "text": [
      "File 125 of 300 saved: cropped/ddostrace.to-victim.20070804_144936_124.pcap\n"
     ]
    },
    {
     "name": "stderr",
     "output_type": "stream",
     "text": [
      "Splitting ddostrace.to-victim.20070804_144936.pcap: 20714034 packets [3:01:53, 3015.35 packets/s]"
     ]
    },
    {
     "name": "stdout",
     "output_type": "stream",
     "text": [
      "File 126 of 300 saved: cropped/ddostrace.to-victim.20070804_144936_125.pcap\n"
     ]
    },
    {
     "name": "stderr",
     "output_type": "stream",
     "text": [
      "Splitting ddostrace.to-victim.20070804_144936.pcap: 20882639 packets [3:03:24, 3261.60 packets/s]"
     ]
    },
    {
     "name": "stdout",
     "output_type": "stream",
     "text": [
      "File 127 of 300 saved: cropped/ddostrace.to-victim.20070804_144936_126.pcap\n"
     ]
    },
    {
     "name": "stderr",
     "output_type": "stream",
     "text": [
      "Splitting ddostrace.to-victim.20070804_144936.pcap: 21044977 packets [3:04:54, 3483.36 packets/s]"
     ]
    },
    {
     "name": "stdout",
     "output_type": "stream",
     "text": [
      "File 128 of 300 saved: cropped/ddostrace.to-victim.20070804_144936_127.pcap\n"
     ]
    },
    {
     "name": "stderr",
     "output_type": "stream",
     "text": [
      "Splitting ddostrace.to-victim.20070804_144936.pcap: 21213631 packets [3:06:26, 3919.26 packets/s]"
     ]
    },
    {
     "name": "stdout",
     "output_type": "stream",
     "text": [
      "File 129 of 300 saved: cropped/ddostrace.to-victim.20070804_144936_128.pcap\n"
     ]
    },
    {
     "name": "stderr",
     "output_type": "stream",
     "text": [
      "Splitting ddostrace.to-victim.20070804_144936.pcap: 21383185 packets [3:08:06, 3829.36 packets/s]"
     ]
    },
    {
     "name": "stdout",
     "output_type": "stream",
     "text": [
      "File 130 of 300 saved: cropped/ddostrace.to-victim.20070804_144936_129.pcap\n"
     ]
    },
    {
     "name": "stderr",
     "output_type": "stream",
     "text": [
      "Splitting ddostrace.to-victim.20070804_144936.pcap: 21551748 packets [3:09:37, 3000.85 packets/s]"
     ]
    },
    {
     "name": "stdout",
     "output_type": "stream",
     "text": [
      "File 131 of 300 saved: cropped/ddostrace.to-victim.20070804_144936_130.pcap\n"
     ]
    },
    {
     "name": "stderr",
     "output_type": "stream",
     "text": [
      "Splitting ddostrace.to-victim.20070804_144936.pcap: 21719107 packets [3:10:57, 3016.58 packets/s]"
     ]
    },
    {
     "name": "stdout",
     "output_type": "stream",
     "text": [
      "File 132 of 300 saved: cropped/ddostrace.to-victim.20070804_144936_131.pcap\n"
     ]
    },
    {
     "name": "stderr",
     "output_type": "stream",
     "text": [
      "Splitting ddostrace.to-victim.20070804_144936.pcap: 21880277 packets [3:12:17, 4021.80 packets/s]"
     ]
    },
    {
     "name": "stdout",
     "output_type": "stream",
     "text": [
      "File 133 of 300 saved: cropped/ddostrace.to-victim.20070804_144936_132.pcap\n"
     ]
    },
    {
     "name": "stderr",
     "output_type": "stream",
     "text": [
      "Splitting ddostrace.to-victim.20070804_144936.pcap: 22050798 packets [3:13:58, 2862.39 packets/s]"
     ]
    },
    {
     "name": "stdout",
     "output_type": "stream",
     "text": [
      "File 134 of 300 saved: cropped/ddostrace.to-victim.20070804_144936_133.pcap\n"
     ]
    },
    {
     "name": "stderr",
     "output_type": "stream",
     "text": [
      "Splitting ddostrace.to-victim.20070804_144936.pcap: 22219503 packets [3:15:28, 2411.53 packets/s]"
     ]
    },
    {
     "name": "stdout",
     "output_type": "stream",
     "text": [
      "File 135 of 300 saved: cropped/ddostrace.to-victim.20070804_144936_134.pcap\n"
     ]
    },
    {
     "name": "stderr",
     "output_type": "stream",
     "text": [
      "Splitting ddostrace.to-victim.20070804_144936.pcap: 22389579 packets [3:16:58, 4026.85 packets/s]"
     ]
    },
    {
     "name": "stdout",
     "output_type": "stream",
     "text": [
      "File 136 of 300 saved: cropped/ddostrace.to-victim.20070804_144936_135.pcap\n"
     ]
    },
    {
     "name": "stderr",
     "output_type": "stream",
     "text": [
      "Splitting ddostrace.to-victim.20070804_144936.pcap: 22559874 packets [3:18:29, 3534.48 packets/s]"
     ]
    },
    {
     "name": "stdout",
     "output_type": "stream",
     "text": [
      "File 137 of 300 saved: cropped/ddostrace.to-victim.20070804_144936_136.pcap\n"
     ]
    },
    {
     "name": "stderr",
     "output_type": "stream",
     "text": [
      "Splitting ddostrace.to-victim.20070804_144936.pcap: 22723349 packets [3:20:09, 3609.37 packets/s]"
     ]
    },
    {
     "name": "stdout",
     "output_type": "stream",
     "text": [
      "File 138 of 300 saved: cropped/ddostrace.to-victim.20070804_144936_137.pcap\n"
     ]
    },
    {
     "name": "stderr",
     "output_type": "stream",
     "text": [
      "Splitting ddostrace.to-victim.20070804_144936.pcap: 22887232 packets [3:21:40, 3217.49 packets/s]"
     ]
    },
    {
     "name": "stdout",
     "output_type": "stream",
     "text": [
      "File 139 of 300 saved: cropped/ddostrace.to-victim.20070804_144936_138.pcap\n"
     ]
    },
    {
     "name": "stderr",
     "output_type": "stream",
     "text": [
      "Splitting ddostrace.to-victim.20070804_144936.pcap: 23055409 packets [3:23:21, 1908.20 packets/s]"
     ]
    },
    {
     "name": "stdout",
     "output_type": "stream",
     "text": [
      "File 140 of 300 saved: cropped/ddostrace.to-victim.20070804_144936_139.pcap\n"
     ]
    },
    {
     "name": "stderr",
     "output_type": "stream",
     "text": [
      "Splitting ddostrace.to-victim.20070804_144936.pcap: 23222746 packets [3:25:01, 3197.16 packets/s]"
     ]
    },
    {
     "name": "stdout",
     "output_type": "stream",
     "text": [
      "File 141 of 300 saved: cropped/ddostrace.to-victim.20070804_144936_140.pcap\n"
     ]
    },
    {
     "name": "stderr",
     "output_type": "stream",
     "text": [
      "Splitting ddostrace.to-victim.20070804_144936.pcap: 23393165 packets [3:26:42, 3757.32 packets/s]"
     ]
    },
    {
     "name": "stdout",
     "output_type": "stream",
     "text": [
      "File 142 of 300 saved: cropped/ddostrace.to-victim.20070804_144936_141.pcap\n"
     ]
    },
    {
     "name": "stderr",
     "output_type": "stream",
     "text": [
      "Splitting ddostrace.to-victim.20070804_144936.pcap: 23556730 packets [3:28:12, 1455.10 packets/s]"
     ]
    },
    {
     "name": "stdout",
     "output_type": "stream",
     "text": [
      "File 143 of 300 saved: cropped/ddostrace.to-victim.20070804_144936_142.pcap\n"
     ]
    },
    {
     "name": "stderr",
     "output_type": "stream",
     "text": [
      "Splitting ddostrace.to-victim.20070804_144936.pcap: 23722676 packets [3:29:33, 3321.71 packets/s]"
     ]
    },
    {
     "name": "stdout",
     "output_type": "stream",
     "text": [
      "File 144 of 300 saved: cropped/ddostrace.to-victim.20070804_144936_143.pcap\n"
     ]
    },
    {
     "name": "stderr",
     "output_type": "stream",
     "text": [
      "Splitting ddostrace.to-victim.20070804_144936.pcap: 23893232 packets [3:30:53, 3990.99 packets/s]"
     ]
    },
    {
     "name": "stdout",
     "output_type": "stream",
     "text": [
      "File 145 of 300 saved: cropped/ddostrace.to-victim.20070804_144936_144.pcap\n"
     ]
    },
    {
     "name": "stderr",
     "output_type": "stream",
     "text": [
      "Splitting ddostrace.to-victim.20070804_144936.pcap: 24066314 packets [3:32:33, 4054.87 packets/s]"
     ]
    },
    {
     "name": "stdout",
     "output_type": "stream",
     "text": [
      "File 146 of 300 saved: cropped/ddostrace.to-victim.20070804_144936_145.pcap\n"
     ]
    },
    {
     "name": "stderr",
     "output_type": "stream",
     "text": [
      "Splitting ddostrace.to-victim.20070804_144936.pcap: 24239812 packets [3:34:04, 3303.11 packets/s]"
     ]
    },
    {
     "name": "stdout",
     "output_type": "stream",
     "text": [
      "File 147 of 300 saved: cropped/ddostrace.to-victim.20070804_144936_146.pcap\n"
     ]
    },
    {
     "name": "stderr",
     "output_type": "stream",
     "text": [
      "Splitting ddostrace.to-victim.20070804_144936.pcap: 24405892 packets [3:35:24, 4171.39 packets/s]"
     ]
    },
    {
     "name": "stdout",
     "output_type": "stream",
     "text": [
      "File 148 of 300 saved: cropped/ddostrace.to-victim.20070804_144936_147.pcap\n"
     ]
    },
    {
     "name": "stderr",
     "output_type": "stream",
     "text": [
      "Splitting ddostrace.to-victim.20070804_144936.pcap: 24577177 packets [3:36:44, 3522.69 packets/s]"
     ]
    },
    {
     "name": "stdout",
     "output_type": "stream",
     "text": [
      "File 149 of 300 saved: cropped/ddostrace.to-victim.20070804_144936_148.pcap\n"
     ]
    },
    {
     "name": "stderr",
     "output_type": "stream",
     "text": [
      "Splitting ddostrace.to-victim.20070804_144936.pcap: 24613990 packets [3:37:23, 3961.58 packets/s]"
     ]
    },
    {
     "name": "stdout",
     "output_type": "stream",
     "text": [
      "File 150 of 300 saved: cropped/ddostrace.to-victim.20070804_144936_149.pcap\n"
     ]
    },
    {
     "name": "stderr",
     "output_type": "stream",
     "text": [
      "Splitting ddostrace.to-victim.20070804_144936.pcap: 24624054 packets [3:37:33, 3876.01 packets/s]"
     ]
    },
    {
     "name": "stdout",
     "output_type": "stream",
     "text": [
      "File 151 of 300 saved: cropped/ddostrace.to-victim.20070804_144936_150.pcap\n"
     ]
    },
    {
     "name": "stderr",
     "output_type": "stream",
     "text": [
      "Splitting ddostrace.to-victim.20070804_144936.pcap: 24632251 packets [3:37:37, 4093.07 packets/s]"
     ]
    },
    {
     "name": "stdout",
     "output_type": "stream",
     "text": [
      "File 152 of 300 saved: cropped/ddostrace.to-victim.20070804_144936_151.pcap\n"
     ]
    },
    {
     "name": "stderr",
     "output_type": "stream",
     "text": [
      "Splitting ddostrace.to-victim.20070804_144936.pcap: 24640376 packets [3:37:41, 3786.97 packets/s]"
     ]
    },
    {
     "name": "stdout",
     "output_type": "stream",
     "text": [
      "File 153 of 300 saved: cropped/ddostrace.to-victim.20070804_144936_152.pcap\n"
     ]
    },
    {
     "name": "stderr",
     "output_type": "stream",
     "text": [
      "Splitting ddostrace.to-victim.20070804_144936.pcap: 24781981 packets [3:38:44, 4081.22 packets/s]"
     ]
    },
    {
     "name": "stdout",
     "output_type": "stream",
     "text": [
      "File 154 of 300 saved: cropped/ddostrace.to-victim.20070804_144936_153.pcap\n"
     ]
    },
    {
     "name": "stderr",
     "output_type": "stream",
     "text": [
      "Splitting ddostrace.to-victim.20070804_144936.pcap: 24955090 packets [3:40:05, 3148.55 packets/s]"
     ]
    },
    {
     "name": "stdout",
     "output_type": "stream",
     "text": [
      "File 155 of 300 saved: cropped/ddostrace.to-victim.20070804_144936_154.pcap\n"
     ]
    },
    {
     "name": "stderr",
     "output_type": "stream",
     "text": [
      "Splitting ddostrace.to-victim.20070804_144936.pcap: 25126812 packets [3:41:35, 2866.64 packets/s]"
     ]
    },
    {
     "name": "stdout",
     "output_type": "stream",
     "text": [
      "File 156 of 300 saved: cropped/ddostrace.to-victim.20070804_144936_155.pcap\n"
     ]
    },
    {
     "name": "stderr",
     "output_type": "stream",
     "text": [
      "Splitting ddostrace.to-victim.20070804_144936.pcap: 25298499 packets [3:42:55, 3257.77 packets/s]"
     ]
    },
    {
     "name": "stdout",
     "output_type": "stream",
     "text": [
      "File 157 of 300 saved: cropped/ddostrace.to-victim.20070804_144936_156.pcap\n"
     ]
    },
    {
     "name": "stderr",
     "output_type": "stream",
     "text": [
      "Splitting ddostrace.to-victim.20070804_144936.pcap: 25466954 packets [3:44:36, 4079.22 packets/s]"
     ]
    },
    {
     "name": "stdout",
     "output_type": "stream",
     "text": [
      "File 158 of 300 saved: cropped/ddostrace.to-victim.20070804_144936_157.pcap\n"
     ]
    },
    {
     "name": "stderr",
     "output_type": "stream",
     "text": [
      "Splitting ddostrace.to-victim.20070804_144936.pcap: 25634342 packets [3:46:06, 3351.16 packets/s]"
     ]
    },
    {
     "name": "stdout",
     "output_type": "stream",
     "text": [
      "File 159 of 300 saved: cropped/ddostrace.to-victim.20070804_144936_158.pcap\n"
     ]
    },
    {
     "name": "stderr",
     "output_type": "stream",
     "text": [
      "Splitting ddostrace.to-victim.20070804_144936.pcap: 25805688 packets [3:47:26, 4159.38 packets/s]"
     ]
    },
    {
     "name": "stdout",
     "output_type": "stream",
     "text": [
      "File 160 of 300 saved: cropped/ddostrace.to-victim.20070804_144936_159.pcap\n"
     ]
    },
    {
     "name": "stderr",
     "output_type": "stream",
     "text": [
      "Splitting ddostrace.to-victim.20070804_144936.pcap: 25980054 packets [3:48:57, 3842.39 packets/s]"
     ]
    },
    {
     "name": "stdout",
     "output_type": "stream",
     "text": [
      "File 161 of 300 saved: cropped/ddostrace.to-victim.20070804_144936_160.pcap\n"
     ]
    },
    {
     "name": "stderr",
     "output_type": "stream",
     "text": [
      "Splitting ddostrace.to-victim.20070804_144936.pcap: 26149638 packets [3:50:27, 4001.06 packets/s]"
     ]
    },
    {
     "name": "stdout",
     "output_type": "stream",
     "text": [
      "File 162 of 300 saved: cropped/ddostrace.to-victim.20070804_144936_161.pcap\n"
     ]
    },
    {
     "name": "stderr",
     "output_type": "stream",
     "text": [
      "Splitting ddostrace.to-victim.20070804_144936.pcap: 26317774 packets [3:51:57, 2447.48 packets/s]"
     ]
    },
    {
     "name": "stdout",
     "output_type": "stream",
     "text": [
      "File 163 of 300 saved: cropped/ddostrace.to-victim.20070804_144936_162.pcap\n"
     ]
    },
    {
     "name": "stderr",
     "output_type": "stream",
     "text": [
      "Splitting ddostrace.to-victim.20070804_144936.pcap: 26481657 packets [3:53:18, 3960.66 packets/s]"
     ]
    },
    {
     "name": "stdout",
     "output_type": "stream",
     "text": [
      "File 164 of 300 saved: cropped/ddostrace.to-victim.20070804_144936_163.pcap\n"
     ]
    },
    {
     "name": "stderr",
     "output_type": "stream",
     "text": [
      "Splitting ddostrace.to-victim.20070804_144936.pcap: 26651929 packets [3:54:38, 3057.71 packets/s]"
     ]
    },
    {
     "name": "stdout",
     "output_type": "stream",
     "text": [
      "File 165 of 300 saved: cropped/ddostrace.to-victim.20070804_144936_164.pcap\n"
     ]
    },
    {
     "name": "stderr",
     "output_type": "stream",
     "text": [
      "Splitting ddostrace.to-victim.20070804_144936.pcap: 26824802 packets [3:56:19, 4192.89 packets/s]"
     ]
    },
    {
     "name": "stdout",
     "output_type": "stream",
     "text": [
      "File 166 of 300 saved: cropped/ddostrace.to-victim.20070804_144936_165.pcap\n"
     ]
    },
    {
     "name": "stderr",
     "output_type": "stream",
     "text": [
      "Splitting ddostrace.to-victim.20070804_144936.pcap: 26997161 packets [3:57:39, 3184.01 packets/s]"
     ]
    },
    {
     "name": "stdout",
     "output_type": "stream",
     "text": [
      "File 167 of 300 saved: cropped/ddostrace.to-victim.20070804_144936_166.pcap\n"
     ]
    },
    {
     "name": "stderr",
     "output_type": "stream",
     "text": [
      "Splitting ddostrace.to-victim.20070804_144936.pcap: 27165398 packets [3:58:59, 3785.93 packets/s]"
     ]
    },
    {
     "name": "stdout",
     "output_type": "stream",
     "text": [
      "File 168 of 300 saved: cropped/ddostrace.to-victim.20070804_144936_167.pcap\n"
     ]
    },
    {
     "name": "stderr",
     "output_type": "stream",
     "text": [
      "Splitting ddostrace.to-victim.20070804_144936.pcap: 27338262 packets [4:00:30, 3549.42 packets/s]"
     ]
    },
    {
     "name": "stdout",
     "output_type": "stream",
     "text": [
      "File 169 of 300 saved: cropped/ddostrace.to-victim.20070804_144936_168.pcap\n"
     ]
    },
    {
     "name": "stderr",
     "output_type": "stream",
     "text": [
      "Splitting ddostrace.to-victim.20070804_144936.pcap: 27506016 packets [4:02:10, 4053.53 packets/s]"
     ]
    },
    {
     "name": "stdout",
     "output_type": "stream",
     "text": [
      "File 170 of 300 saved: cropped/ddostrace.to-victim.20070804_144936_169.pcap\n"
     ]
    },
    {
     "name": "stderr",
     "output_type": "stream",
     "text": [
      "Splitting ddostrace.to-victim.20070804_144936.pcap: 27676748 packets [4:03:20, 4030.42 packets/s]"
     ]
    },
    {
     "name": "stdout",
     "output_type": "stream",
     "text": [
      "File 171 of 300 saved: cropped/ddostrace.to-victim.20070804_144936_170.pcap\n"
     ]
    },
    {
     "name": "stderr",
     "output_type": "stream",
     "text": [
      "Splitting ddostrace.to-victim.20070804_144936.pcap: 27848673 packets [4:05:11, 3964.23 packets/s]"
     ]
    },
    {
     "name": "stdout",
     "output_type": "stream",
     "text": [
      "File 172 of 300 saved: cropped/ddostrace.to-victim.20070804_144936_171.pcap\n"
     ]
    },
    {
     "name": "stderr",
     "output_type": "stream",
     "text": [
      "Splitting ddostrace.to-victim.20070804_144936.pcap: 28019273 packets [4:06:42, 3339.59 packets/s]"
     ]
    },
    {
     "name": "stdout",
     "output_type": "stream",
     "text": [
      "File 173 of 300 saved: cropped/ddostrace.to-victim.20070804_144936_172.pcap\n"
     ]
    },
    {
     "name": "stderr",
     "output_type": "stream",
     "text": [
      "Splitting ddostrace.to-victim.20070804_144936.pcap: 28188454 packets [4:08:12, 3123.94 packets/s]"
     ]
    },
    {
     "name": "stdout",
     "output_type": "stream",
     "text": [
      "File 174 of 300 saved: cropped/ddostrace.to-victim.20070804_144936_173.pcap\n"
     ]
    },
    {
     "name": "stderr",
     "output_type": "stream",
     "text": [
      "Splitting ddostrace.to-victim.20070804_144936.pcap: 28360996 packets [4:09:32, 3291.91 packets/s]"
     ]
    },
    {
     "name": "stdout",
     "output_type": "stream",
     "text": [
      "File 175 of 300 saved: cropped/ddostrace.to-victim.20070804_144936_174.pcap\n"
     ]
    },
    {
     "name": "stderr",
     "output_type": "stream",
     "text": [
      "Splitting ddostrace.to-victim.20070804_144936.pcap: 28533276 packets [4:11:02, 3463.77 packets/s]"
     ]
    },
    {
     "name": "stdout",
     "output_type": "stream",
     "text": [
      "File 176 of 300 saved: cropped/ddostrace.to-victim.20070804_144936_175.pcap\n"
     ]
    },
    {
     "name": "stderr",
     "output_type": "stream",
     "text": [
      "Splitting ddostrace.to-victim.20070804_144936.pcap: 28707790 packets [4:12:43, 3847.88 packets/s]"
     ]
    },
    {
     "name": "stdout",
     "output_type": "stream",
     "text": [
      "File 177 of 300 saved: cropped/ddostrace.to-victim.20070804_144936_176.pcap\n"
     ]
    },
    {
     "name": "stderr",
     "output_type": "stream",
     "text": [
      "Splitting ddostrace.to-victim.20070804_144936.pcap: 28881900 packets [4:14:04, 3221.91 packets/s]"
     ]
    },
    {
     "name": "stdout",
     "output_type": "stream",
     "text": [
      "File 178 of 300 saved: cropped/ddostrace.to-victim.20070804_144936_177.pcap\n"
     ]
    },
    {
     "name": "stderr",
     "output_type": "stream",
     "text": [
      "Splitting ddostrace.to-victim.20070804_144936.pcap: 29027139 packets [4:15:24, 3706.40 packets/s]"
     ]
    },
    {
     "name": "stdout",
     "output_type": "stream",
     "text": [
      "File 179 of 300 saved: cropped/ddostrace.to-victim.20070804_144936_178.pcap\n"
     ]
    },
    {
     "name": "stderr",
     "output_type": "stream",
     "text": [
      "Splitting ddostrace.to-victim.20070804_144936.pcap: 29198461 packets [4:16:44, 3207.31 packets/s]"
     ]
    },
    {
     "name": "stdout",
     "output_type": "stream",
     "text": [
      "File 180 of 300 saved: cropped/ddostrace.to-victim.20070804_144936_179.pcap\n"
     ]
    },
    {
     "name": "stderr",
     "output_type": "stream",
     "text": [
      "Splitting ddostrace.to-victim.20070804_144936.pcap: 29370946 packets [4:18:15, 4070.04 packets/s]"
     ]
    },
    {
     "name": "stdout",
     "output_type": "stream",
     "text": [
      "File 181 of 300 saved: cropped/ddostrace.to-victim.20070804_144936_180.pcap\n"
     ]
    },
    {
     "name": "stderr",
     "output_type": "stream",
     "text": [
      "Splitting ddostrace.to-victim.20070804_144936.pcap: 29543707 packets [4:19:45, 2441.84 packets/s]"
     ]
    },
    {
     "name": "stdout",
     "output_type": "stream",
     "text": [
      "File 182 of 300 saved: cropped/ddostrace.to-victim.20070804_144936_181.pcap\n"
     ]
    },
    {
     "name": "stderr",
     "output_type": "stream",
     "text": [
      "Splitting ddostrace.to-victim.20070804_144936.pcap: 29717263 packets [4:21:16, 4119.28 packets/s]"
     ]
    },
    {
     "name": "stdout",
     "output_type": "stream",
     "text": [
      "File 183 of 300 saved: cropped/ddostrace.to-victim.20070804_144936_182.pcap\n"
     ]
    },
    {
     "name": "stderr",
     "output_type": "stream",
     "text": [
      "Splitting ddostrace.to-victim.20070804_144936.pcap: 29738586 packets [4:21:45, 2509.95 packets/s]"
     ]
    },
    {
     "name": "stdout",
     "output_type": "stream",
     "text": [
      "File 184 of 300 saved: cropped/ddostrace.to-victim.20070804_144936_183.pcap\n"
     ]
    },
    {
     "name": "stderr",
     "output_type": "stream",
     "text": [
      "Splitting ddostrace.to-victim.20070804_144936.pcap: 29896200 packets [4:22:56, 4025.98 packets/s]"
     ]
    },
    {
     "name": "stdout",
     "output_type": "stream",
     "text": [
      "File 185 of 300 saved: cropped/ddostrace.to-victim.20070804_144936_184.pcap\n"
     ]
    },
    {
     "name": "stderr",
     "output_type": "stream",
     "text": [
      "Splitting ddostrace.to-victim.20070804_144936.pcap: 30067247 packets [4:24:27, 3139.19 packets/s]"
     ]
    },
    {
     "name": "stdout",
     "output_type": "stream",
     "text": [
      "File 186 of 300 saved: cropped/ddostrace.to-victim.20070804_144936_185.pcap\n"
     ]
    },
    {
     "name": "stderr",
     "output_type": "stream",
     "text": [
      "Splitting ddostrace.to-victim.20070804_144936.pcap: 30237297 packets [4:25:47, 2186.45 packets/s]"
     ]
    },
    {
     "name": "stdout",
     "output_type": "stream",
     "text": [
      "File 187 of 300 saved: cropped/ddostrace.to-victim.20070804_144936_186.pcap\n"
     ]
    },
    {
     "name": "stderr",
     "output_type": "stream",
     "text": [
      "Splitting ddostrace.to-victim.20070804_144936.pcap: 30405308 packets [4:27:18, 4037.60 packets/s]"
     ]
    },
    {
     "name": "stdout",
     "output_type": "stream",
     "text": [
      "File 188 of 300 saved: cropped/ddostrace.to-victim.20070804_144936_187.pcap\n"
     ]
    },
    {
     "name": "stderr",
     "output_type": "stream",
     "text": [
      "Splitting ddostrace.to-victim.20070804_144936.pcap: 30477661 packets [4:28:18, 3688.80 packets/s]"
     ]
    },
    {
     "name": "stdout",
     "output_type": "stream",
     "text": [
      "File 189 of 300 saved: cropped/ddostrace.to-victim.20070804_144936_188.pcap\n"
     ]
    },
    {
     "name": "stderr",
     "output_type": "stream",
     "text": [
      "Splitting ddostrace.to-victim.20070804_144936.pcap: 30647441 packets [4:29:28, 2142.32 packets/s]"
     ]
    },
    {
     "name": "stdout",
     "output_type": "stream",
     "text": [
      "File 190 of 300 saved: cropped/ddostrace.to-victim.20070804_144936_189.pcap\n"
     ]
    },
    {
     "name": "stderr",
     "output_type": "stream",
     "text": [
      "Splitting ddostrace.to-victim.20070804_144936.pcap: 30817868 packets [4:30:48, 3997.58 packets/s]"
     ]
    },
    {
     "name": "stdout",
     "output_type": "stream",
     "text": [
      "File 191 of 300 saved: cropped/ddostrace.to-victim.20070804_144936_190.pcap\n"
     ]
    },
    {
     "name": "stderr",
     "output_type": "stream",
     "text": [
      "Splitting ddostrace.to-victim.20070804_144936.pcap: 30987594 packets [4:32:19, 4026.75 packets/s]"
     ]
    },
    {
     "name": "stdout",
     "output_type": "stream",
     "text": [
      "File 192 of 300 saved: cropped/ddostrace.to-victim.20070804_144936_191.pcap\n"
     ]
    },
    {
     "name": "stderr",
     "output_type": "stream",
     "text": [
      "Splitting ddostrace.to-victim.20070804_144936.pcap: 31157217 packets [4:33:50, 2098.26 packets/s]"
     ]
    },
    {
     "name": "stdout",
     "output_type": "stream",
     "text": [
      "File 193 of 300 saved: cropped/ddostrace.to-victim.20070804_144936_192.pcap\n"
     ]
    },
    {
     "name": "stderr",
     "output_type": "stream",
     "text": [
      "Splitting ddostrace.to-victim.20070804_144936.pcap: 31176992 packets [4:34:17, 2605.31 packets/s]"
     ]
    },
    {
     "name": "stdout",
     "output_type": "stream",
     "text": [
      "File 194 of 300 saved: cropped/ddostrace.to-victim.20070804_144936_193.pcap\n"
     ]
    },
    {
     "name": "stderr",
     "output_type": "stream",
     "text": [
      "Splitting ddostrace.to-victim.20070804_144936.pcap: 31191456 packets [4:34:26, 3881.53 packets/s]"
     ]
    },
    {
     "name": "stdout",
     "output_type": "stream",
     "text": [
      "File 195 of 300 saved: cropped/ddostrace.to-victim.20070804_144936_194.pcap\n"
     ]
    },
    {
     "name": "stderr",
     "output_type": "stream",
     "text": [
      "Splitting ddostrace.to-victim.20070804_144936.pcap: 31270306 packets [4:34:51, 2622.57 packets/s]"
     ]
    },
    {
     "name": "stdout",
     "output_type": "stream",
     "text": [
      "File 196 of 300 saved: cropped/ddostrace.to-victim.20070804_144936_195.pcap\n"
     ]
    },
    {
     "name": "stderr",
     "output_type": "stream",
     "text": [
      "Splitting ddostrace.to-victim.20070804_144936.pcap: 31442115 packets [4:36:21, 3136.60 packets/s]"
     ]
    },
    {
     "name": "stdout",
     "output_type": "stream",
     "text": [
      "File 197 of 300 saved: cropped/ddostrace.to-victim.20070804_144936_196.pcap\n"
     ]
    },
    {
     "name": "stderr",
     "output_type": "stream",
     "text": [
      "Splitting ddostrace.to-victim.20070804_144936.pcap: 31614778 packets [4:37:51, 4150.29 packets/s]"
     ]
    },
    {
     "name": "stdout",
     "output_type": "stream",
     "text": [
      "File 198 of 300 saved: cropped/ddostrace.to-victim.20070804_144936_197.pcap\n"
     ]
    },
    {
     "name": "stderr",
     "output_type": "stream",
     "text": [
      "Splitting ddostrace.to-victim.20070804_144936.pcap: 31638266 packets [4:38:17, 3929.87 packets/s]"
     ]
    },
    {
     "name": "stdout",
     "output_type": "stream",
     "text": [
      "File 199 of 300 saved: cropped/ddostrace.to-victim.20070804_144936_198.pcap\n"
     ]
    },
    {
     "name": "stderr",
     "output_type": "stream",
     "text": [
      "Splitting ddostrace.to-victim.20070804_144936.pcap: 31654644 packets [4:38:27, 3871.42 packets/s]"
     ]
    },
    {
     "name": "stdout",
     "output_type": "stream",
     "text": [
      "File 200 of 300 saved: cropped/ddostrace.to-victim.20070804_144936_199.pcap\n"
     ]
    },
    {
     "name": "stderr",
     "output_type": "stream",
     "text": [
      "Splitting ddostrace.to-victim.20070804_144936.pcap: 31766242 packets [4:39:12, 3282.38 packets/s]"
     ]
    },
    {
     "name": "stdout",
     "output_type": "stream",
     "text": [
      "File 201 of 300 saved: cropped/ddostrace.to-victim.20070804_144936_200.pcap\n"
     ]
    },
    {
     "name": "stderr",
     "output_type": "stream",
     "text": [
      "Splitting ddostrace.to-victim.20070804_144936.pcap: 31937405 packets [4:40:32, 3221.03 packets/s]"
     ]
    },
    {
     "name": "stdout",
     "output_type": "stream",
     "text": [
      "File 202 of 300 saved: cropped/ddostrace.to-victim.20070804_144936_201.pcap\n"
     ]
    },
    {
     "name": "stderr",
     "output_type": "stream",
     "text": [
      "Splitting ddostrace.to-victim.20070804_144936.pcap: 32109734 packets [4:42:03, 2877.43 packets/s]"
     ]
    },
    {
     "name": "stdout",
     "output_type": "stream",
     "text": [
      "File 203 of 300 saved: cropped/ddostrace.to-victim.20070804_144936_202.pcap\n"
     ]
    },
    {
     "name": "stderr",
     "output_type": "stream",
     "text": [
      "Splitting ddostrace.to-victim.20070804_144936.pcap: 32274087 packets [4:43:23, 4185.83 packets/s]"
     ]
    },
    {
     "name": "stdout",
     "output_type": "stream",
     "text": [
      "File 204 of 300 saved: cropped/ddostrace.to-victim.20070804_144936_203.pcap\n"
     ]
    },
    {
     "name": "stderr",
     "output_type": "stream",
     "text": [
      "Splitting ddostrace.to-victim.20070804_144936.pcap: 32411951 packets [4:44:44, 3088.58 packets/s]"
     ]
    },
    {
     "name": "stdout",
     "output_type": "stream",
     "text": [
      "File 205 of 300 saved: cropped/ddostrace.to-victim.20070804_144936_204.pcap\n"
     ]
    },
    {
     "name": "stderr",
     "output_type": "stream",
     "text": [
      "Splitting ddostrace.to-victim.20070804_144936.pcap: 32579730 packets [4:46:04, 3239.69 packets/s]"
     ]
    },
    {
     "name": "stdout",
     "output_type": "stream",
     "text": [
      "File 206 of 300 saved: cropped/ddostrace.to-victim.20070804_144936_205.pcap\n"
     ]
    },
    {
     "name": "stderr",
     "output_type": "stream",
     "text": [
      "Splitting ddostrace.to-victim.20070804_144936.pcap: 32749020 packets [4:47:24, 3223.90 packets/s]"
     ]
    },
    {
     "name": "stdout",
     "output_type": "stream",
     "text": [
      "File 207 of 300 saved: cropped/ddostrace.to-victim.20070804_144936_206.pcap\n"
     ]
    },
    {
     "name": "stderr",
     "output_type": "stream",
     "text": [
      "Splitting ddostrace.to-victim.20070804_144936.pcap: 32919652 packets [4:48:54, 4067.85 packets/s]"
     ]
    },
    {
     "name": "stdout",
     "output_type": "stream",
     "text": [
      "File 208 of 300 saved: cropped/ddostrace.to-victim.20070804_144936_207.pcap\n"
     ]
    },
    {
     "name": "stderr",
     "output_type": "stream",
     "text": [
      "Splitting ddostrace.to-victim.20070804_144936.pcap: 32937965 packets [4:49:21, 2715.68 packets/s]"
     ]
    },
    {
     "name": "stdout",
     "output_type": "stream",
     "text": [
      "File 209 of 300 saved: cropped/ddostrace.to-victim.20070804_144936_208.pcap\n"
     ]
    },
    {
     "name": "stderr",
     "output_type": "stream",
     "text": [
      "Splitting ddostrace.to-victim.20070804_144936.pcap: 32948546 packets [4:49:28, 4144.19 packets/s]"
     ]
    },
    {
     "name": "stdout",
     "output_type": "stream",
     "text": [
      "File 210 of 300 saved: cropped/ddostrace.to-victim.20070804_144936_209.pcap\n"
     ]
    },
    {
     "name": "stderr",
     "output_type": "stream",
     "text": [
      "Splitting ddostrace.to-victim.20070804_144936.pcap: 33098954 packets [4:50:35, 3962.73 packets/s]"
     ]
    },
    {
     "name": "stdout",
     "output_type": "stream",
     "text": [
      "File 211 of 300 saved: cropped/ddostrace.to-victim.20070804_144936_210.pcap\n"
     ]
    },
    {
     "name": "stderr",
     "output_type": "stream",
     "text": [
      "Splitting ddostrace.to-victim.20070804_144936.pcap: 33267431 packets [4:52:05, 2504.59 packets/s]"
     ]
    },
    {
     "name": "stdout",
     "output_type": "stream",
     "text": [
      "File 212 of 300 saved: cropped/ddostrace.to-victim.20070804_144936_211.pcap\n"
     ]
    },
    {
     "name": "stderr",
     "output_type": "stream",
     "text": [
      "Splitting ddostrace.to-victim.20070804_144936.pcap: 33437601 packets [4:53:25, 4220.61 packets/s]"
     ]
    },
    {
     "name": "stdout",
     "output_type": "stream",
     "text": [
      "File 213 of 300 saved: cropped/ddostrace.to-victim.20070804_144936_212.pcap\n"
     ]
    },
    {
     "name": "stderr",
     "output_type": "stream",
     "text": [
      "Splitting ddostrace.to-victim.20070804_144936.pcap: 33606189 packets [4:54:56, 4116.71 packets/s]"
     ]
    },
    {
     "name": "stdout",
     "output_type": "stream",
     "text": [
      "File 214 of 300 saved: cropped/ddostrace.to-victim.20070804_144936_213.pcap\n"
     ]
    },
    {
     "name": "stderr",
     "output_type": "stream",
     "text": [
      "Splitting ddostrace.to-victim.20070804_144936.pcap: 33776077 packets [4:56:36, 1090.50 packets/s]"
     ]
    },
    {
     "name": "stdout",
     "output_type": "stream",
     "text": [
      "File 215 of 300 saved: cropped/ddostrace.to-victim.20070804_144936_214.pcap\n"
     ]
    },
    {
     "name": "stderr",
     "output_type": "stream",
     "text": [
      "Splitting ddostrace.to-victim.20070804_144936.pcap: 33946581 packets [4:57:57, 3063.29 packets/s]"
     ]
    },
    {
     "name": "stdout",
     "output_type": "stream",
     "text": [
      "File 216 of 300 saved: cropped/ddostrace.to-victim.20070804_144936_215.pcap\n"
     ]
    },
    {
     "name": "stderr",
     "output_type": "stream",
     "text": [
      "Splitting ddostrace.to-victim.20070804_144936.pcap: 34115956 packets [4:59:17, 4267.20 packets/s]"
     ]
    },
    {
     "name": "stdout",
     "output_type": "stream",
     "text": [
      "File 217 of 300 saved: cropped/ddostrace.to-victim.20070804_144936_216.pcap\n"
     ]
    },
    {
     "name": "stderr",
     "output_type": "stream",
     "text": [
      "Splitting ddostrace.to-victim.20070804_144936.pcap: 34287798 packets [5:00:59, 4161.19 packets/s]"
     ]
    },
    {
     "name": "stdout",
     "output_type": "stream",
     "text": [
      "File 218 of 300 saved: cropped/ddostrace.to-victim.20070804_144936_217.pcap\n"
     ]
    },
    {
     "name": "stderr",
     "output_type": "stream",
     "text": [
      "Splitting ddostrace.to-victim.20070804_144936.pcap: 34448759 packets [5:02:19, 3244.29 packets/s]"
     ]
    },
    {
     "name": "stdout",
     "output_type": "stream",
     "text": [
      "File 219 of 300 saved: cropped/ddostrace.to-victim.20070804_144936_218.pcap\n"
     ]
    },
    {
     "name": "stderr",
     "output_type": "stream",
     "text": [
      "Splitting ddostrace.to-victim.20070804_144936.pcap: 34617611 packets [5:03:39, 3907.41 packets/s]"
     ]
    },
    {
     "name": "stdout",
     "output_type": "stream",
     "text": [
      "File 220 of 300 saved: cropped/ddostrace.to-victim.20070804_144936_219.pcap\n"
     ]
    },
    {
     "name": "stderr",
     "output_type": "stream",
     "text": [
      "Splitting ddostrace.to-victim.20070804_144936.pcap: 34788928 packets [5:05:10, 4168.96 packets/s]"
     ]
    },
    {
     "name": "stdout",
     "output_type": "stream",
     "text": [
      "File 221 of 300 saved: cropped/ddostrace.to-victim.20070804_144936_220.pcap\n"
     ]
    },
    {
     "name": "stderr",
     "output_type": "stream",
     "text": [
      "Splitting ddostrace.to-victim.20070804_144936.pcap: 34959679 packets [5:06:50, 3610.27 packets/s]"
     ]
    },
    {
     "name": "stdout",
     "output_type": "stream",
     "text": [
      "File 222 of 300 saved: cropped/ddostrace.to-victim.20070804_144936_221.pcap\n"
     ]
    },
    {
     "name": "stderr",
     "output_type": "stream",
     "text": [
      "Splitting ddostrace.to-victim.20070804_144936.pcap: 35131161 packets [5:08:21, 3233.53 packets/s]"
     ]
    },
    {
     "name": "stdout",
     "output_type": "stream",
     "text": [
      "File 223 of 300 saved: cropped/ddostrace.to-victim.20070804_144936_222.pcap\n"
     ]
    },
    {
     "name": "stderr",
     "output_type": "stream",
     "text": [
      "Splitting ddostrace.to-victim.20070804_144936.pcap: 35291508 packets [5:09:41, 4163.25 packets/s]"
     ]
    },
    {
     "name": "stdout",
     "output_type": "stream",
     "text": [
      "File 224 of 300 saved: cropped/ddostrace.to-victim.20070804_144936_223.pcap\n"
     ]
    },
    {
     "name": "stderr",
     "output_type": "stream",
     "text": [
      "Splitting ddostrace.to-victim.20070804_144936.pcap: 35459477 packets [5:11:11, 2577.49 packets/s]"
     ]
    },
    {
     "name": "stdout",
     "output_type": "stream",
     "text": [
      "File 225 of 300 saved: cropped/ddostrace.to-victim.20070804_144936_224.pcap\n"
     ]
    },
    {
     "name": "stderr",
     "output_type": "stream",
     "text": [
      "Splitting ddostrace.to-victim.20070804_144936.pcap: 35628748 packets [5:12:32, 3423.12 packets/s]"
     ]
    },
    {
     "name": "stdout",
     "output_type": "stream",
     "text": [
      "File 226 of 300 saved: cropped/ddostrace.to-victim.20070804_144936_225.pcap\n"
     ]
    },
    {
     "name": "stderr",
     "output_type": "stream",
     "text": [
      "Splitting ddostrace.to-victim.20070804_144936.pcap: 35798971 packets [5:13:52, 3770.95 packets/s]"
     ]
    },
    {
     "name": "stdout",
     "output_type": "stream",
     "text": [
      "File 227 of 300 saved: cropped/ddostrace.to-victim.20070804_144936_226.pcap\n"
     ]
    },
    {
     "name": "stderr",
     "output_type": "stream",
     "text": [
      "Splitting ddostrace.to-victim.20070804_144936.pcap: 35970026 packets [5:15:23, 3967.30 packets/s]"
     ]
    },
    {
     "name": "stdout",
     "output_type": "stream",
     "text": [
      "File 228 of 300 saved: cropped/ddostrace.to-victim.20070804_144936_227.pcap\n"
     ]
    },
    {
     "name": "stderr",
     "output_type": "stream",
     "text": [
      "Splitting ddostrace.to-victim.20070804_144936.pcap: 36134825 packets [5:17:03, 2338.75 packets/s]"
     ]
    },
    {
     "name": "stdout",
     "output_type": "stream",
     "text": [
      "File 229 of 300 saved: cropped/ddostrace.to-victim.20070804_144936_228.pcap\n"
     ]
    },
    {
     "name": "stderr",
     "output_type": "stream",
     "text": [
      "Splitting ddostrace.to-victim.20070804_144936.pcap: 36304436 packets [5:18:34, 3285.67 packets/s]"
     ]
    },
    {
     "name": "stdout",
     "output_type": "stream",
     "text": [
      "File 230 of 300 saved: cropped/ddostrace.to-victim.20070804_144936_229.pcap\n"
     ]
    },
    {
     "name": "stderr",
     "output_type": "stream",
     "text": [
      "Splitting ddostrace.to-victim.20070804_144936.pcap: 36474457 packets [5:19:54, 3201.92 packets/s]"
     ]
    },
    {
     "name": "stdout",
     "output_type": "stream",
     "text": [
      "File 231 of 300 saved: cropped/ddostrace.to-victim.20070804_144936_230.pcap\n"
     ]
    },
    {
     "name": "stderr",
     "output_type": "stream",
     "text": [
      "Splitting ddostrace.to-victim.20070804_144936.pcap: 36645471 packets [5:21:24, 3902.22 packets/s]"
     ]
    },
    {
     "name": "stdout",
     "output_type": "stream",
     "text": [
      "File 232 of 300 saved: cropped/ddostrace.to-victim.20070804_144936_231.pcap\n"
     ]
    },
    {
     "name": "stderr",
     "output_type": "stream",
     "text": [
      "Splitting ddostrace.to-victim.20070804_144936.pcap: 36815290 packets [5:22:55, 4034.14 packets/s]"
     ]
    },
    {
     "name": "stdout",
     "output_type": "stream",
     "text": [
      "File 233 of 300 saved: cropped/ddostrace.to-victim.20070804_144936_232.pcap\n"
     ]
    },
    {
     "name": "stderr",
     "output_type": "stream",
     "text": [
      "Splitting ddostrace.to-victim.20070804_144936.pcap: 36981149 packets [5:24:25, 1225.50 packets/s]"
     ]
    },
    {
     "name": "stdout",
     "output_type": "stream",
     "text": [
      "File 234 of 300 saved: cropped/ddostrace.to-victim.20070804_144936_233.pcap\n"
     ]
    },
    {
     "name": "stderr",
     "output_type": "stream",
     "text": [
      "Splitting ddostrace.to-victim.20070804_144936.pcap: 37150294 packets [5:25:45, 2371.35 packets/s]"
     ]
    },
    {
     "name": "stdout",
     "output_type": "stream",
     "text": [
      "File 235 of 300 saved: cropped/ddostrace.to-victim.20070804_144936_234.pcap\n"
     ]
    },
    {
     "name": "stderr",
     "output_type": "stream",
     "text": [
      "Splitting ddostrace.to-victim.20070804_144936.pcap: 37321384 packets [5:27:16, 3698.16 packets/s]"
     ]
    },
    {
     "name": "stdout",
     "output_type": "stream",
     "text": [
      "File 236 of 300 saved: cropped/ddostrace.to-victim.20070804_144936_235.pcap\n"
     ]
    },
    {
     "name": "stderr",
     "output_type": "stream",
     "text": [
      "Splitting ddostrace.to-victim.20070804_144936.pcap: 37489403 packets [5:28:46, 4008.40 packets/s]"
     ]
    },
    {
     "name": "stdout",
     "output_type": "stream",
     "text": [
      "File 237 of 300 saved: cropped/ddostrace.to-victim.20070804_144936_236.pcap\n"
     ]
    },
    {
     "name": "stderr",
     "output_type": "stream",
     "text": [
      "Splitting ddostrace.to-victim.20070804_144936.pcap: 37661725 packets [5:30:47, 2169.19 packets/s]"
     ]
    },
    {
     "name": "stdout",
     "output_type": "stream",
     "text": [
      "File 238 of 300 saved: cropped/ddostrace.to-victim.20070804_144936_237.pcap\n"
     ]
    },
    {
     "name": "stderr",
     "output_type": "stream",
     "text": [
      "Splitting ddostrace.to-victim.20070804_144936.pcap: 37822501 packets [5:32:47, 3982.43 packets/s]"
     ]
    },
    {
     "name": "stdout",
     "output_type": "stream",
     "text": [
      "File 239 of 300 saved: cropped/ddostrace.to-victim.20070804_144936_238.pcap\n"
     ]
    },
    {
     "name": "stderr",
     "output_type": "stream",
     "text": [
      "Splitting ddostrace.to-victim.20070804_144936.pcap: 37992443 packets [5:34:08, 4151.61 packets/s]"
     ]
    },
    {
     "name": "stdout",
     "output_type": "stream",
     "text": [
      "File 240 of 300 saved: cropped/ddostrace.to-victim.20070804_144936_239.pcap\n"
     ]
    },
    {
     "name": "stderr",
     "output_type": "stream",
     "text": [
      "Splitting ddostrace.to-victim.20070804_144936.pcap: 38167472 packets [5:35:28, 2939.05 packets/s]"
     ]
    },
    {
     "name": "stdout",
     "output_type": "stream",
     "text": [
      "File 241 of 300 saved: cropped/ddostrace.to-victim.20070804_144936_240.pcap\n"
     ]
    },
    {
     "name": "stderr",
     "output_type": "stream",
     "text": [
      "Splitting ddostrace.to-victim.20070804_144936.pcap: 38339451 packets [5:36:48, 4084.39 packets/s]"
     ]
    },
    {
     "name": "stdout",
     "output_type": "stream",
     "text": [
      "File 242 of 300 saved: cropped/ddostrace.to-victim.20070804_144936_241.pcap\n"
     ]
    },
    {
     "name": "stderr",
     "output_type": "stream",
     "text": [
      "Splitting ddostrace.to-victim.20070804_144936.pcap: 38510399 packets [5:38:19, 3588.90 packets/s]"
     ]
    },
    {
     "name": "stdout",
     "output_type": "stream",
     "text": [
      "File 243 of 300 saved: cropped/ddostrace.to-victim.20070804_144936_242.pcap\n"
     ]
    },
    {
     "name": "stderr",
     "output_type": "stream",
     "text": [
      "Splitting ddostrace.to-victim.20070804_144936.pcap: 38671114 packets [5:39:39, 4147.98 packets/s]"
     ]
    },
    {
     "name": "stdout",
     "output_type": "stream",
     "text": [
      "File 244 of 300 saved: cropped/ddostrace.to-victim.20070804_144936_243.pcap\n"
     ]
    },
    {
     "name": "stderr",
     "output_type": "stream",
     "text": [
      "Splitting ddostrace.to-victim.20070804_144936.pcap: 38839845 packets [5:41:09, 3862.83 packets/s]"
     ]
    },
    {
     "name": "stdout",
     "output_type": "stream",
     "text": [
      "File 245 of 300 saved: cropped/ddostrace.to-victim.20070804_144936_244.pcap\n"
     ]
    },
    {
     "name": "stderr",
     "output_type": "stream",
     "text": [
      "Splitting ddostrace.to-victim.20070804_144936.pcap: 39012202 packets [5:42:40, 3147.22 packets/s]"
     ]
    },
    {
     "name": "stdout",
     "output_type": "stream",
     "text": [
      "File 246 of 300 saved: cropped/ddostrace.to-victim.20070804_144936_245.pcap\n"
     ]
    },
    {
     "name": "stderr",
     "output_type": "stream",
     "text": [
      "Splitting ddostrace.to-victim.20070804_144936.pcap: 39186918 packets [5:44:00, 2628.09 packets/s]"
     ]
    },
    {
     "name": "stdout",
     "output_type": "stream",
     "text": [
      "File 247 of 300 saved: cropped/ddostrace.to-victim.20070804_144936_246.pcap\n"
     ]
    },
    {
     "name": "stderr",
     "output_type": "stream",
     "text": [
      "Splitting ddostrace.to-victim.20070804_144936.pcap: 39358874 packets [5:45:31, 3390.29 packets/s]"
     ]
    },
    {
     "name": "stdout",
     "output_type": "stream",
     "text": [
      "File 248 of 300 saved: cropped/ddostrace.to-victim.20070804_144936_247.pcap\n"
     ]
    },
    {
     "name": "stderr",
     "output_type": "stream",
     "text": [
      "Splitting ddostrace.to-victim.20070804_144936.pcap: 39524545 packets [5:46:51, 4011.34 packets/s]"
     ]
    },
    {
     "name": "stdout",
     "output_type": "stream",
     "text": [
      "File 249 of 300 saved: cropped/ddostrace.to-victim.20070804_144936_248.pcap\n"
     ]
    },
    {
     "name": "stderr",
     "output_type": "stream",
     "text": [
      "Splitting ddostrace.to-victim.20070804_144936.pcap: 39694150 packets [5:48:21, 4016.76 packets/s]"
     ]
    },
    {
     "name": "stdout",
     "output_type": "stream",
     "text": [
      "File 250 of 300 saved: cropped/ddostrace.to-victim.20070804_144936_249.pcap\n"
     ]
    },
    {
     "name": "stderr",
     "output_type": "stream",
     "text": [
      "Splitting ddostrace.to-victim.20070804_144936.pcap: 39863851 packets [5:49:42, 2860.67 packets/s]"
     ]
    },
    {
     "name": "stdout",
     "output_type": "stream",
     "text": [
      "File 251 of 300 saved: cropped/ddostrace.to-victim.20070804_144936_250.pcap\n"
     ]
    },
    {
     "name": "stderr",
     "output_type": "stream",
     "text": [
      "Splitting ddostrace.to-victim.20070804_144936.pcap: 40035413 packets [5:51:12, 3872.41 packets/s]"
     ]
    },
    {
     "name": "stdout",
     "output_type": "stream",
     "text": [
      "File 252 of 300 saved: cropped/ddostrace.to-victim.20070804_144936_251.pcap\n"
     ]
    },
    {
     "name": "stderr",
     "output_type": "stream",
     "text": [
      "Splitting ddostrace.to-victim.20070804_144936.pcap: 40205257 packets [5:52:42, 3296.64 packets/s]"
     ]
    },
    {
     "name": "stdout",
     "output_type": "stream",
     "text": [
      "File 253 of 300 saved: cropped/ddostrace.to-victim.20070804_144936_252.pcap\n"
     ]
    },
    {
     "name": "stderr",
     "output_type": "stream",
     "text": [
      "Splitting ddostrace.to-victim.20070804_144936.pcap: 40372752 packets [5:54:13, 2411.85 packets/s]"
     ]
    },
    {
     "name": "stdout",
     "output_type": "stream",
     "text": [
      "File 254 of 300 saved: cropped/ddostrace.to-victim.20070804_144936_253.pcap\n"
     ]
    },
    {
     "name": "stderr",
     "output_type": "stream",
     "text": [
      "Splitting ddostrace.to-victim.20070804_144936.pcap: 40544636 packets [5:55:33, 3201.21 packets/s]"
     ]
    },
    {
     "name": "stdout",
     "output_type": "stream",
     "text": [
      "File 255 of 300 saved: cropped/ddostrace.to-victim.20070804_144936_254.pcap\n"
     ]
    },
    {
     "name": "stderr",
     "output_type": "stream",
     "text": [
      "Splitting ddostrace.to-victim.20070804_144936.pcap: 40717252 packets [5:57:03, 3760.10 packets/s]"
     ]
    },
    {
     "name": "stdout",
     "output_type": "stream",
     "text": [
      "File 256 of 300 saved: cropped/ddostrace.to-victim.20070804_144936_255.pcap\n"
     ]
    },
    {
     "name": "stderr",
     "output_type": "stream",
     "text": [
      "Splitting ddostrace.to-victim.20070804_144936.pcap: 40891171 packets [5:58:44, 3184.60 packets/s]"
     ]
    },
    {
     "name": "stdout",
     "output_type": "stream",
     "text": [
      "File 257 of 300 saved: cropped/ddostrace.to-victim.20070804_144936_256.pcap\n"
     ]
    },
    {
     "name": "stderr",
     "output_type": "stream",
     "text": [
      "Splitting ddostrace.to-victim.20070804_144936.pcap: 41060486 packets [6:00:14, 3116.77 packets/s]"
     ]
    },
    {
     "name": "stdout",
     "output_type": "stream",
     "text": [
      "File 258 of 300 saved: cropped/ddostrace.to-victim.20070804_144936_257.pcap\n"
     ]
    },
    {
     "name": "stderr",
     "output_type": "stream",
     "text": [
      "Splitting ddostrace.to-victim.20070804_144936.pcap: 41222600 packets [6:01:34, 2954.95 packets/s]"
     ]
    },
    {
     "name": "stdout",
     "output_type": "stream",
     "text": [
      "File 259 of 300 saved: cropped/ddostrace.to-victim.20070804_144936_258.pcap\n"
     ]
    },
    {
     "name": "stderr",
     "output_type": "stream",
     "text": [
      "Splitting ddostrace.to-victim.20070804_144936.pcap: 41392864 packets [6:03:05, 3985.72 packets/s]"
     ]
    },
    {
     "name": "stdout",
     "output_type": "stream",
     "text": [
      "File 260 of 300 saved: cropped/ddostrace.to-victim.20070804_144936_259.pcap\n"
     ]
    },
    {
     "name": "stderr",
     "output_type": "stream",
     "text": [
      "Splitting ddostrace.to-victim.20070804_144936.pcap: 41566412 packets [6:04:35, 3832.44 packets/s]"
     ]
    },
    {
     "name": "stdout",
     "output_type": "stream",
     "text": [
      "File 261 of 300 saved: cropped/ddostrace.to-victim.20070804_144936_260.pcap\n"
     ]
    },
    {
     "name": "stderr",
     "output_type": "stream",
     "text": [
      "Splitting ddostrace.to-victim.20070804_144936.pcap: 41738985 packets [6:06:06, 3958.68 packets/s]"
     ]
    },
    {
     "name": "stdout",
     "output_type": "stream",
     "text": [
      "File 262 of 300 saved: cropped/ddostrace.to-victim.20070804_144936_261.pcap\n"
     ]
    },
    {
     "name": "stderr",
     "output_type": "stream",
     "text": [
      "Splitting ddostrace.to-victim.20070804_144936.pcap: 41913037 packets [6:07:36, 4074.16 packets/s]"
     ]
    },
    {
     "name": "stdout",
     "output_type": "stream",
     "text": [
      "File 263 of 300 saved: cropped/ddostrace.to-victim.20070804_144936_262.pcap\n"
     ]
    },
    {
     "name": "stderr",
     "output_type": "stream",
     "text": [
      "Splitting ddostrace.to-victim.20070804_144936.pcap: 42075352 packets [6:08:57, 4020.20 packets/s]"
     ]
    },
    {
     "name": "stdout",
     "output_type": "stream",
     "text": [
      "File 264 of 300 saved: cropped/ddostrace.to-victim.20070804_144936_263.pcap\n"
     ]
    },
    {
     "name": "stderr",
     "output_type": "stream",
     "text": [
      "Splitting ddostrace.to-victim.20070804_144936.pcap: 42243739 packets [6:10:27, 2249.10 packets/s]"
     ]
    },
    {
     "name": "stdout",
     "output_type": "stream",
     "text": [
      "File 265 of 300 saved: cropped/ddostrace.to-victim.20070804_144936_264.pcap\n"
     ]
    },
    {
     "name": "stderr",
     "output_type": "stream",
     "text": [
      "Splitting ddostrace.to-victim.20070804_144936.pcap: 42414577 packets [6:11:47, 3942.01 packets/s]"
     ]
    },
    {
     "name": "stdout",
     "output_type": "stream",
     "text": [
      "File 266 of 300 saved: cropped/ddostrace.to-victim.20070804_144936_265.pcap\n"
     ]
    },
    {
     "name": "stderr",
     "output_type": "stream",
     "text": [
      "Splitting ddostrace.to-victim.20070804_144936.pcap: 42584699 packets [6:13:18, 3270.46 packets/s]"
     ]
    },
    {
     "name": "stdout",
     "output_type": "stream",
     "text": [
      "File 267 of 300 saved: cropped/ddostrace.to-victim.20070804_144936_266.pcap\n"
     ]
    },
    {
     "name": "stderr",
     "output_type": "stream",
     "text": [
      "Splitting ddostrace.to-victim.20070804_144936.pcap: 42756337 packets [6:14:58, 3812.06 packets/s]"
     ]
    },
    {
     "name": "stdout",
     "output_type": "stream",
     "text": [
      "File 268 of 300 saved: cropped/ddostrace.to-victim.20070804_144936_267.pcap\n"
     ]
    },
    {
     "name": "stderr",
     "output_type": "stream",
     "text": [
      "Splitting ddostrace.to-victim.20070804_144936.pcap: 42924535 packets [6:16:18, 2946.21 packets/s]"
     ]
    },
    {
     "name": "stdout",
     "output_type": "stream",
     "text": [
      "File 269 of 300 saved: cropped/ddostrace.to-victim.20070804_144936_268.pcap\n"
     ]
    },
    {
     "name": "stderr",
     "output_type": "stream",
     "text": [
      "Splitting ddostrace.to-victim.20070804_144936.pcap: 43082356 packets [6:17:39, 3842.16 packets/s]"
     ]
    },
    {
     "name": "stdout",
     "output_type": "stream",
     "text": [
      "File 270 of 300 saved: cropped/ddostrace.to-victim.20070804_144936_269.pcap\n"
     ]
    },
    {
     "name": "stderr",
     "output_type": "stream",
     "text": [
      "Splitting ddostrace.to-victim.20070804_144936.pcap: 43254330 packets [6:19:10, 3938.35 packets/s]"
     ]
    },
    {
     "name": "stdout",
     "output_type": "stream",
     "text": [
      "File 271 of 300 saved: cropped/ddostrace.to-victim.20070804_144936_270.pcap\n"
     ]
    },
    {
     "name": "stderr",
     "output_type": "stream",
     "text": [
      "Splitting ddostrace.to-victim.20070804_144936.pcap: 43426684 packets [6:20:41, 3145.32 packets/s]"
     ]
    },
    {
     "name": "stdout",
     "output_type": "stream",
     "text": [
      "File 272 of 300 saved: cropped/ddostrace.to-victim.20070804_144936_271.pcap\n"
     ]
    },
    {
     "name": "stderr",
     "output_type": "stream",
     "text": [
      "Splitting ddostrace.to-victim.20070804_144936.pcap: 43598907 packets [6:22:02, 3972.56 packets/s]"
     ]
    },
    {
     "name": "stdout",
     "output_type": "stream",
     "text": [
      "File 273 of 300 saved: cropped/ddostrace.to-victim.20070804_144936_272.pcap\n"
     ]
    },
    {
     "name": "stderr",
     "output_type": "stream",
     "text": [
      "Splitting ddostrace.to-victim.20070804_144936.pcap: 43766000 packets [6:23:32, 4136.64 packets/s]"
     ]
    },
    {
     "name": "stdout",
     "output_type": "stream",
     "text": [
      "File 274 of 300 saved: cropped/ddostrace.to-victim.20070804_144936_273.pcap\n"
     ]
    },
    {
     "name": "stderr",
     "output_type": "stream",
     "text": [
      "Splitting ddostrace.to-victim.20070804_144936.pcap: 43935479 packets [6:25:03, 3154.03 packets/s]"
     ]
    },
    {
     "name": "stdout",
     "output_type": "stream",
     "text": [
      "File 275 of 300 saved: cropped/ddostrace.to-victim.20070804_144936_274.pcap\n"
     ]
    },
    {
     "name": "stderr",
     "output_type": "stream",
     "text": [
      "Splitting ddostrace.to-victim.20070804_144936.pcap: 44109386 packets [6:26:33, 2253.76 packets/s]"
     ]
    },
    {
     "name": "stdout",
     "output_type": "stream",
     "text": [
      "File 276 of 300 saved: cropped/ddostrace.to-victim.20070804_144936_275.pcap\n"
     ]
    },
    {
     "name": "stderr",
     "output_type": "stream",
     "text": [
      "Splitting ddostrace.to-victim.20070804_144936.pcap: 44282996 packets [6:27:54, 3790.69 packets/s]"
     ]
    },
    {
     "name": "stdout",
     "output_type": "stream",
     "text": [
      "File 277 of 300 saved: cropped/ddostrace.to-victim.20070804_144936_276.pcap\n"
     ]
    },
    {
     "name": "stderr",
     "output_type": "stream",
     "text": [
      "Splitting ddostrace.to-victim.20070804_144936.pcap: 44458612 packets [6:29:24, 3983.93 packets/s]"
     ]
    },
    {
     "name": "stdout",
     "output_type": "stream",
     "text": [
      "File 278 of 300 saved: cropped/ddostrace.to-victim.20070804_144936_277.pcap\n"
     ]
    },
    {
     "name": "stderr",
     "output_type": "stream",
     "text": [
      "Splitting ddostrace.to-victim.20070804_144936.pcap: 44619119 packets [6:30:54, 3844.61 packets/s]"
     ]
    },
    {
     "name": "stdout",
     "output_type": "stream",
     "text": [
      "File 279 of 300 saved: cropped/ddostrace.to-victim.20070804_144936_278.pcap\n"
     ]
    },
    {
     "name": "stderr",
     "output_type": "stream",
     "text": [
      "Splitting ddostrace.to-victim.20070804_144936.pcap: 44787996 packets [6:32:15, 3732.55 packets/s]"
     ]
    },
    {
     "name": "stdout",
     "output_type": "stream",
     "text": [
      "File 280 of 300 saved: cropped/ddostrace.to-victim.20070804_144936_279.pcap\n"
     ]
    },
    {
     "name": "stderr",
     "output_type": "stream",
     "text": [
      "Splitting ddostrace.to-victim.20070804_144936.pcap: 44962048 packets [6:33:45, 3461.12 packets/s]"
     ]
    },
    {
     "name": "stdout",
     "output_type": "stream",
     "text": [
      "File 281 of 300 saved: cropped/ddostrace.to-victim.20070804_144936_280.pcap\n"
     ]
    },
    {
     "name": "stderr",
     "output_type": "stream",
     "text": [
      "Splitting ddostrace.to-victim.20070804_144936.pcap: 45132665 packets [6:35:25, 3078.65 packets/s]"
     ]
    },
    {
     "name": "stdout",
     "output_type": "stream",
     "text": [
      "File 282 of 300 saved: cropped/ddostrace.to-victim.20070804_144936_281.pcap\n"
     ]
    },
    {
     "name": "stderr",
     "output_type": "stream",
     "text": [
      "Splitting ddostrace.to-victim.20070804_144936.pcap: 45304148 packets [6:36:56, 3151.08 packets/s]"
     ]
    },
    {
     "name": "stdout",
     "output_type": "stream",
     "text": [
      "File 283 of 300 saved: cropped/ddostrace.to-victim.20070804_144936_282.pcap\n"
     ]
    },
    {
     "name": "stderr",
     "output_type": "stream",
     "text": [
      "Splitting ddostrace.to-victim.20070804_144936.pcap: 45466567 packets [6:38:16, 1586.18 packets/s]"
     ]
    },
    {
     "name": "stdout",
     "output_type": "stream",
     "text": [
      "File 284 of 300 saved: cropped/ddostrace.to-victim.20070804_144936_283.pcap\n"
     ]
    },
    {
     "name": "stderr",
     "output_type": "stream",
     "text": [
      "Splitting ddostrace.to-victim.20070804_144936.pcap: 45635431 packets [6:39:46, 3552.64 packets/s]"
     ]
    },
    {
     "name": "stdout",
     "output_type": "stream",
     "text": [
      "File 285 of 300 saved: cropped/ddostrace.to-victim.20070804_144936_284.pcap\n"
     ]
    },
    {
     "name": "stderr",
     "output_type": "stream",
     "text": [
      "Splitting ddostrace.to-victim.20070804_144936.pcap: 45807219 packets [6:41:17, 3249.42 packets/s]"
     ]
    },
    {
     "name": "stdout",
     "output_type": "stream",
     "text": [
      "File 286 of 300 saved: cropped/ddostrace.to-victim.20070804_144936_285.pcap\n"
     ]
    },
    {
     "name": "stderr",
     "output_type": "stream",
     "text": [
      "Splitting ddostrace.to-victim.20070804_144936.pcap: 45977016 packets [6:42:47, 3137.12 packets/s]"
     ]
    },
    {
     "name": "stdout",
     "output_type": "stream",
     "text": [
      "File 287 of 300 saved: cropped/ddostrace.to-victim.20070804_144936_286.pcap\n"
     ]
    },
    {
     "name": "stderr",
     "output_type": "stream",
     "text": [
      "Splitting ddostrace.to-victim.20070804_144936.pcap: 46147323 packets [6:44:08, 3796.15 packets/s]"
     ]
    },
    {
     "name": "stdout",
     "output_type": "stream",
     "text": [
      "File 288 of 300 saved: cropped/ddostrace.to-victim.20070804_144936_287.pcap\n"
     ]
    },
    {
     "name": "stderr",
     "output_type": "stream",
     "text": [
      "Splitting ddostrace.to-victim.20070804_144936.pcap: 46316288 packets [6:45:38, 1959.91 packets/s]"
     ]
    },
    {
     "name": "stdout",
     "output_type": "stream",
     "text": [
      "File 289 of 300 saved: cropped/ddostrace.to-victim.20070804_144936_288.pcap\n"
     ]
    },
    {
     "name": "stderr",
     "output_type": "stream",
     "text": [
      "Splitting ddostrace.to-victim.20070804_144936.pcap: 46488415 packets [6:47:18, 3683.36 packets/s]"
     ]
    },
    {
     "name": "stdout",
     "output_type": "stream",
     "text": [
      "File 290 of 300 saved: cropped/ddostrace.to-victim.20070804_144936_289.pcap\n"
     ]
    },
    {
     "name": "stderr",
     "output_type": "stream",
     "text": [
      "Splitting ddostrace.to-victim.20070804_144936.pcap: 46657622 packets [6:48:49, 3912.35 packets/s]"
     ]
    },
    {
     "name": "stdout",
     "output_type": "stream",
     "text": [
      "File 291 of 300 saved: cropped/ddostrace.to-victim.20070804_144936_290.pcap\n"
     ]
    },
    {
     "name": "stderr",
     "output_type": "stream",
     "text": [
      "Splitting ddostrace.to-victim.20070804_144936.pcap: 46828222 packets [6:50:09, 3422.25 packets/s]"
     ]
    },
    {
     "name": "stdout",
     "output_type": "stream",
     "text": [
      "File 292 of 300 saved: cropped/ddostrace.to-victim.20070804_144936_291.pcap\n"
     ]
    },
    {
     "name": "stderr",
     "output_type": "stream",
     "text": [
      "Splitting ddostrace.to-victim.20070804_144936.pcap: 46998999 packets [6:51:39, 3091.66 packets/s]"
     ]
    },
    {
     "name": "stdout",
     "output_type": "stream",
     "text": [
      "File 293 of 300 saved: cropped/ddostrace.to-victim.20070804_144936_292.pcap\n"
     ]
    },
    {
     "name": "stderr",
     "output_type": "stream",
     "text": [
      "Splitting ddostrace.to-victim.20070804_144936.pcap: 47165878 packets [6:53:10, 3667.94 packets/s]"
     ]
    },
    {
     "name": "stdout",
     "output_type": "stream",
     "text": [
      "File 294 of 300 saved: cropped/ddostrace.to-victim.20070804_144936_293.pcap\n"
     ]
    },
    {
     "name": "stderr",
     "output_type": "stream",
     "text": [
      "Splitting ddostrace.to-victim.20070804_144936.pcap: 47332857 packets [6:54:40, 1439.15 packets/s]"
     ]
    },
    {
     "name": "stdout",
     "output_type": "stream",
     "text": [
      "File 295 of 300 saved: cropped/ddostrace.to-victim.20070804_144936_294.pcap\n"
     ]
    },
    {
     "name": "stderr",
     "output_type": "stream",
     "text": [
      "Splitting ddostrace.to-victim.20070804_144936.pcap: 47504005 packets [6:56:02, 3774.76 packets/s]"
     ]
    },
    {
     "name": "stdout",
     "output_type": "stream",
     "text": [
      "File 296 of 300 saved: cropped/ddostrace.to-victim.20070804_144936_295.pcap\n"
     ]
    },
    {
     "name": "stderr",
     "output_type": "stream",
     "text": [
      "Splitting ddostrace.to-victim.20070804_144936.pcap: 47676460 packets [6:57:42, 3933.96 packets/s]"
     ]
    },
    {
     "name": "stdout",
     "output_type": "stream",
     "text": [
      "File 297 of 300 saved: cropped/ddostrace.to-victim.20070804_144936_296.pcap\n"
     ]
    },
    {
     "name": "stderr",
     "output_type": "stream",
     "text": [
      "Splitting ddostrace.to-victim.20070804_144936.pcap: 47847870 packets [6:59:12, 2907.72 packets/s]"
     ]
    },
    {
     "name": "stdout",
     "output_type": "stream",
     "text": [
      "File 298 of 300 saved: cropped/ddostrace.to-victim.20070804_144936_297.pcap\n"
     ]
    },
    {
     "name": "stderr",
     "output_type": "stream",
     "text": [
      "Splitting ddostrace.to-victim.20070804_144936.pcap: 48009474 packets [7:00:33, 3958.17 packets/s]"
     ]
    },
    {
     "name": "stdout",
     "output_type": "stream",
     "text": [
      "File 299 of 300 saved: cropped/ddostrace.to-victim.20070804_144936_298.pcap\n"
     ]
    },
    {
     "name": "stderr",
     "output_type": "stream",
     "text": [
      "Splitting ddostrace.to-victim.20070804_144936.pcap: 48120879 packets [7:01:29, 1902.81 packets/s]\n"
     ]
    },
    {
     "name": "stdout",
     "output_type": "stream",
     "text": [
      "Split ddostrace.to-victim.20070804_144936.pcap into 299 parts successfully.\n"
     ]
    },
    {
     "name": "stderr",
     "output_type": "stream",
     "text": [
      "Splitting ddostrace.to-victim.20070804_145436.pcap: 170458 packets [01:04, 4155.47 packets/s]"
     ]
    },
    {
     "name": "stdout",
     "output_type": "stream",
     "text": [
      "File 1 of 300 saved: cropped/ddostrace.to-victim.20070804_145436_0.pcap\n"
     ]
    },
    {
     "name": "stderr",
     "output_type": "stream",
     "text": [
      "Splitting ddostrace.to-victim.20070804_145436.pcap: 341545 packets [02:34, 3955.05 packets/s]"
     ]
    },
    {
     "name": "stdout",
     "output_type": "stream",
     "text": [
      "File 2 of 300 saved: cropped/ddostrace.to-victim.20070804_145436_1.pcap\n"
     ]
    },
    {
     "name": "stderr",
     "output_type": "stream",
     "text": [
      "Splitting ddostrace.to-victim.20070804_145436.pcap: 515635 packets [04:15, 3263.55 packets/s]"
     ]
    },
    {
     "name": "stdout",
     "output_type": "stream",
     "text": [
      "File 3 of 300 saved: cropped/ddostrace.to-victim.20070804_145436_2.pcap\n"
     ]
    },
    {
     "name": "stderr",
     "output_type": "stream",
     "text": [
      "Splitting ddostrace.to-victim.20070804_145436.pcap: 669956 packets [05:45, 4027.09 packets/s]"
     ]
    },
    {
     "name": "stdout",
     "output_type": "stream",
     "text": [
      "File 4 of 300 saved: cropped/ddostrace.to-victim.20070804_145436_3.pcap\n"
     ]
    },
    {
     "name": "stderr",
     "output_type": "stream",
     "text": [
      "Splitting ddostrace.to-victim.20070804_145436.pcap: 835085 packets [07:05, 3878.96 packets/s]"
     ]
    },
    {
     "name": "stdout",
     "output_type": "stream",
     "text": [
      "File 5 of 300 saved: cropped/ddostrace.to-victim.20070804_145436_4.pcap\n"
     ]
    },
    {
     "name": "stderr",
     "output_type": "stream",
     "text": [
      "Splitting ddostrace.to-victim.20070804_145436.pcap: 1005995 packets [08:36, 3349.96 packets/s]"
     ]
    },
    {
     "name": "stdout",
     "output_type": "stream",
     "text": [
      "File 6 of 300 saved: cropped/ddostrace.to-victim.20070804_145436_5.pcap\n"
     ]
    },
    {
     "name": "stderr",
     "output_type": "stream",
     "text": [
      "Splitting ddostrace.to-victim.20070804_145436.pcap: 1176226 packets [10:06, 3518.36 packets/s]"
     ]
    },
    {
     "name": "stdout",
     "output_type": "stream",
     "text": [
      "File 7 of 300 saved: cropped/ddostrace.to-victim.20070804_145436_6.pcap\n"
     ]
    },
    {
     "name": "stderr",
     "output_type": "stream",
     "text": [
      "Splitting ddostrace.to-victim.20070804_145436.pcap: 1346256 packets [11:37, 3186.73 packets/s]"
     ]
    },
    {
     "name": "stdout",
     "output_type": "stream",
     "text": [
      "File 8 of 300 saved: cropped/ddostrace.to-victim.20070804_145436_7.pcap\n"
     ]
    },
    {
     "name": "stderr",
     "output_type": "stream",
     "text": [
      "Splitting ddostrace.to-victim.20070804_145436.pcap: 1511618 packets [12:57, 3789.55 packets/s]"
     ]
    },
    {
     "name": "stdout",
     "output_type": "stream",
     "text": [
      "File 9 of 300 saved: cropped/ddostrace.to-victim.20070804_145436_8.pcap\n"
     ]
    },
    {
     "name": "stderr",
     "output_type": "stream",
     "text": [
      "Splitting ddostrace.to-victim.20070804_145436.pcap: 1681682 packets [14:27, 3893.09 packets/s]"
     ]
    },
    {
     "name": "stdout",
     "output_type": "stream",
     "text": [
      "File 10 of 300 saved: cropped/ddostrace.to-victim.20070804_145436_9.pcap\n"
     ]
    },
    {
     "name": "stderr",
     "output_type": "stream",
     "text": [
      "Splitting ddostrace.to-victim.20070804_145436.pcap: 1851057 packets [15:57, 3821.17 packets/s]"
     ]
    },
    {
     "name": "stdout",
     "output_type": "stream",
     "text": [
      "File 11 of 300 saved: cropped/ddostrace.to-victim.20070804_145436_10.pcap\n"
     ]
    },
    {
     "name": "stderr",
     "output_type": "stream",
     "text": [
      "Splitting ddostrace.to-victim.20070804_145436.pcap: 2021445 packets [17:18, 1037.42 packets/s]"
     ]
    },
    {
     "name": "stdout",
     "output_type": "stream",
     "text": [
      "File 12 of 300 saved: cropped/ddostrace.to-victim.20070804_145436_11.pcap\n"
     ]
    },
    {
     "name": "stderr",
     "output_type": "stream",
     "text": [
      "Splitting ddostrace.to-victim.20070804_145436.pcap: 2190001 packets [18:48, 3155.86 packets/s]"
     ]
    },
    {
     "name": "stdout",
     "output_type": "stream",
     "text": [
      "File 13 of 300 saved: cropped/ddostrace.to-victim.20070804_145436_12.pcap\n"
     ]
    },
    {
     "name": "stderr",
     "output_type": "stream",
     "text": [
      "Splitting ddostrace.to-victim.20070804_145436.pcap: 2354641 packets [20:18, 4001.22 packets/s]"
     ]
    },
    {
     "name": "stdout",
     "output_type": "stream",
     "text": [
      "File 14 of 300 saved: cropped/ddostrace.to-victim.20070804_145436_13.pcap\n"
     ]
    },
    {
     "name": "stderr",
     "output_type": "stream",
     "text": [
      "Splitting ddostrace.to-victim.20070804_145436.pcap: 2523830 packets [21:49, 3978.28 packets/s]"
     ]
    },
    {
     "name": "stdout",
     "output_type": "stream",
     "text": [
      "File 15 of 300 saved: cropped/ddostrace.to-victim.20070804_145436_14.pcap\n"
     ]
    },
    {
     "name": "stderr",
     "output_type": "stream",
     "text": [
      "Splitting ddostrace.to-victim.20070804_145436.pcap: 2694017 packets [23:10, 3154.98 packets/s]"
     ]
    },
    {
     "name": "stdout",
     "output_type": "stream",
     "text": [
      "File 16 of 300 saved: cropped/ddostrace.to-victim.20070804_145436_15.pcap\n"
     ]
    },
    {
     "name": "stderr",
     "output_type": "stream",
     "text": [
      "Splitting ddostrace.to-victim.20070804_145436.pcap: 2864912 packets [24:40, 3770.53 packets/s]"
     ]
    },
    {
     "name": "stdout",
     "output_type": "stream",
     "text": [
      "File 17 of 300 saved: cropped/ddostrace.to-victim.20070804_145436_16.pcap\n"
     ]
    },
    {
     "name": "stderr",
     "output_type": "stream",
     "text": [
      "Splitting ddostrace.to-victim.20070804_145436.pcap: 3035065 packets [26:13, 3870.59 packets/s]"
     ]
    },
    {
     "name": "stdout",
     "output_type": "stream",
     "text": [
      "File 18 of 300 saved: cropped/ddostrace.to-victim.20070804_145436_17.pcap\n"
     ]
    },
    {
     "name": "stderr",
     "output_type": "stream",
     "text": [
      "Splitting ddostrace.to-victim.20070804_145436.pcap: 3197673 packets [27:44, 3125.70 packets/s]"
     ]
    },
    {
     "name": "stdout",
     "output_type": "stream",
     "text": [
      "File 19 of 300 saved: cropped/ddostrace.to-victim.20070804_145436_18.pcap\n"
     ]
    },
    {
     "name": "stderr",
     "output_type": "stream",
     "text": [
      "Splitting ddostrace.to-victim.20070804_145436.pcap: 3361367 packets [29:04, 3857.82 packets/s]"
     ]
    },
    {
     "name": "stdout",
     "output_type": "stream",
     "text": [
      "File 20 of 300 saved: cropped/ddostrace.to-victim.20070804_145436_19.pcap\n"
     ]
    },
    {
     "name": "stderr",
     "output_type": "stream",
     "text": [
      "Splitting ddostrace.to-victim.20070804_145436.pcap: 3530773 packets [30:34, 3969.97 packets/s]"
     ]
    },
    {
     "name": "stdout",
     "output_type": "stream",
     "text": [
      "File 21 of 300 saved: cropped/ddostrace.to-victim.20070804_145436_20.pcap\n"
     ]
    },
    {
     "name": "stderr",
     "output_type": "stream",
     "text": [
      "Splitting ddostrace.to-victim.20070804_145436.pcap: 3701261 packets [32:05, 3855.24 packets/s]"
     ]
    },
    {
     "name": "stdout",
     "output_type": "stream",
     "text": [
      "File 22 of 300 saved: cropped/ddostrace.to-victim.20070804_145436_21.pcap\n"
     ]
    },
    {
     "name": "stderr",
     "output_type": "stream",
     "text": [
      "Splitting ddostrace.to-victim.20070804_145436.pcap: 3871547 packets [33:25, 2825.88 packets/s]"
     ]
    },
    {
     "name": "stdout",
     "output_type": "stream",
     "text": [
      "File 23 of 300 saved: cropped/ddostrace.to-victim.20070804_145436_22.pcap\n"
     ]
    },
    {
     "name": "stderr",
     "output_type": "stream",
     "text": [
      "Splitting ddostrace.to-victim.20070804_145436.pcap: 4034937 packets [35:05, 3934.12 packets/s]"
     ]
    },
    {
     "name": "stdout",
     "output_type": "stream",
     "text": [
      "File 24 of 300 saved: cropped/ddostrace.to-victim.20070804_145436_23.pcap\n"
     ]
    },
    {
     "name": "stderr",
     "output_type": "stream",
     "text": [
      "Splitting ddostrace.to-victim.20070804_145436.pcap: 4198783 packets [36:25, 4047.92 packets/s]"
     ]
    },
    {
     "name": "stdout",
     "output_type": "stream",
     "text": [
      "File 25 of 300 saved: cropped/ddostrace.to-victim.20070804_145436_24.pcap\n"
     ]
    },
    {
     "name": "stderr",
     "output_type": "stream",
     "text": [
      "Splitting ddostrace.to-victim.20070804_145436.pcap: 4367517 packets [37:56, 3062.28 packets/s]"
     ]
    },
    {
     "name": "stdout",
     "output_type": "stream",
     "text": [
      "File 26 of 300 saved: cropped/ddostrace.to-victim.20070804_145436_25.pcap\n"
     ]
    },
    {
     "name": "stderr",
     "output_type": "stream",
     "text": [
      "Splitting ddostrace.to-victim.20070804_145436.pcap: 4536521 packets [39:16, 3584.47 packets/s]"
     ]
    },
    {
     "name": "stdout",
     "output_type": "stream",
     "text": [
      "File 27 of 300 saved: cropped/ddostrace.to-victim.20070804_145436_26.pcap\n"
     ]
    },
    {
     "name": "stderr",
     "output_type": "stream",
     "text": [
      "Splitting ddostrace.to-victim.20070804_145436.pcap: 4706557 packets [40:46, 3143.66 packets/s]"
     ]
    },
    {
     "name": "stdout",
     "output_type": "stream",
     "text": [
      "File 28 of 300 saved: cropped/ddostrace.to-victim.20070804_145436_27.pcap\n"
     ]
    },
    {
     "name": "stderr",
     "output_type": "stream",
     "text": [
      "Splitting ddostrace.to-victim.20070804_145436.pcap: 4871855 packets [42:27, 3958.69 packets/s]"
     ]
    },
    {
     "name": "stdout",
     "output_type": "stream",
     "text": [
      "File 29 of 300 saved: cropped/ddostrace.to-victim.20070804_145436_28.pcap\n"
     ]
    },
    {
     "name": "stderr",
     "output_type": "stream",
     "text": [
      "Splitting ddostrace.to-victim.20070804_145436.pcap: 5013015 packets [43:37, 3728.26 packets/s]"
     ]
    },
    {
     "name": "stdout",
     "output_type": "stream",
     "text": [
      "File 30 of 300 saved: cropped/ddostrace.to-victim.20070804_145436_29.pcap\n"
     ]
    },
    {
     "name": "stderr",
     "output_type": "stream",
     "text": [
      "Splitting ddostrace.to-victim.20070804_145436.pcap: 5183345 packets [44:58, 3922.95 packets/s]"
     ]
    },
    {
     "name": "stdout",
     "output_type": "stream",
     "text": [
      "File 31 of 300 saved: cropped/ddostrace.to-victim.20070804_145436_30.pcap\n"
     ]
    },
    {
     "name": "stderr",
     "output_type": "stream",
     "text": [
      "Splitting ddostrace.to-victim.20070804_145436.pcap: 5353062 packets [46:38, 3833.12 packets/s]"
     ]
    },
    {
     "name": "stdout",
     "output_type": "stream",
     "text": [
      "File 32 of 300 saved: cropped/ddostrace.to-victim.20070804_145436_31.pcap\n"
     ]
    },
    {
     "name": "stderr",
     "output_type": "stream",
     "text": [
      "Splitting ddostrace.to-victim.20070804_145436.pcap: 5523564 packets [48:08, 3427.31 packets/s]"
     ]
    },
    {
     "name": "stdout",
     "output_type": "stream",
     "text": [
      "File 33 of 300 saved: cropped/ddostrace.to-victim.20070804_145436_32.pcap\n"
     ]
    },
    {
     "name": "stderr",
     "output_type": "stream",
     "text": [
      "Splitting ddostrace.to-victim.20070804_145436.pcap: 5687899 packets [49:29, 3836.08 packets/s]"
     ]
    },
    {
     "name": "stdout",
     "output_type": "stream",
     "text": [
      "File 34 of 300 saved: cropped/ddostrace.to-victim.20070804_145436_33.pcap\n"
     ]
    },
    {
     "name": "stderr",
     "output_type": "stream",
     "text": [
      "Splitting ddostrace.to-victim.20070804_145436.pcap: 5857400 packets [51:00, 3906.27 packets/s]"
     ]
    },
    {
     "name": "stdout",
     "output_type": "stream",
     "text": [
      "File 35 of 300 saved: cropped/ddostrace.to-victim.20070804_145436_34.pcap\n"
     ]
    },
    {
     "name": "stderr",
     "output_type": "stream",
     "text": [
      "Splitting ddostrace.to-victim.20070804_145436.pcap: 6028237 packets [52:30, 4000.62 packets/s]"
     ]
    },
    {
     "name": "stdout",
     "output_type": "stream",
     "text": [
      "File 36 of 300 saved: cropped/ddostrace.to-victim.20070804_145436_35.pcap\n"
     ]
    },
    {
     "name": "stderr",
     "output_type": "stream",
     "text": [
      "Splitting ddostrace.to-victim.20070804_145436.pcap: 6198501 packets [54:01, 3100.91 packets/s]"
     ]
    },
    {
     "name": "stdout",
     "output_type": "stream",
     "text": [
      "File 37 of 300 saved: cropped/ddostrace.to-victim.20070804_145436_36.pcap\n"
     ]
    },
    {
     "name": "stderr",
     "output_type": "stream",
     "text": [
      "Splitting ddostrace.to-victim.20070804_145436.pcap: 6366262 packets [55:31, 4124.28 packets/s]"
     ]
    },
    {
     "name": "stdout",
     "output_type": "stream",
     "text": [
      "File 38 of 300 saved: cropped/ddostrace.to-victim.20070804_145436_37.pcap\n"
     ]
    },
    {
     "name": "stderr",
     "output_type": "stream",
     "text": [
      "Splitting ddostrace.to-victim.20070804_145436.pcap: 6530192 packets [57:02, 4053.18 packets/s]"
     ]
    },
    {
     "name": "stdout",
     "output_type": "stream",
     "text": [
      "File 39 of 300 saved: cropped/ddostrace.to-victim.20070804_145436_38.pcap\n"
     ]
    },
    {
     "name": "stderr",
     "output_type": "stream",
     "text": [
      "Splitting ddostrace.to-victim.20070804_145436.pcap: 6695975 packets [58:52, 3153.46 packets/s]"
     ]
    },
    {
     "name": "stdout",
     "output_type": "stream",
     "text": [
      "File 40 of 300 saved: cropped/ddostrace.to-victim.20070804_145436_39.pcap\n"
     ]
    },
    {
     "name": "stderr",
     "output_type": "stream",
     "text": [
      "Splitting ddostrace.to-victim.20070804_145436.pcap: 6864697 packets [1:00:13, 3807.26 packets/s]"
     ]
    },
    {
     "name": "stdout",
     "output_type": "stream",
     "text": [
      "File 41 of 300 saved: cropped/ddostrace.to-victim.20070804_145436_40.pcap\n"
     ]
    },
    {
     "name": "stderr",
     "output_type": "stream",
     "text": [
      "Splitting ddostrace.to-victim.20070804_145436.pcap: 7034810 packets [1:01:33, 2468.90 packets/s]"
     ]
    },
    {
     "name": "stdout",
     "output_type": "stream",
     "text": [
      "File 42 of 300 saved: cropped/ddostrace.to-victim.20070804_145436_41.pcap\n"
     ]
    },
    {
     "name": "stderr",
     "output_type": "stream",
     "text": [
      "Splitting ddostrace.to-victim.20070804_145436.pcap: 7205159 packets [1:02:54, 3216.28 packets/s]"
     ]
    },
    {
     "name": "stdout",
     "output_type": "stream",
     "text": [
      "File 43 of 300 saved: cropped/ddostrace.to-victim.20070804_145436_42.pcap\n"
     ]
    },
    {
     "name": "stderr",
     "output_type": "stream",
     "text": [
      "Splitting ddostrace.to-victim.20070804_145436.pcap: 7368544 packets [1:04:24, 3943.68 packets/s]"
     ]
    },
    {
     "name": "stdout",
     "output_type": "stream",
     "text": [
      "File 44 of 300 saved: cropped/ddostrace.to-victim.20070804_145436_43.pcap\n"
     ]
    },
    {
     "name": "stderr",
     "output_type": "stream",
     "text": [
      "Splitting ddostrace.to-victim.20070804_145436.pcap: 7533290 packets [1:05:54, 2534.97 packets/s]"
     ]
    },
    {
     "name": "stdout",
     "output_type": "stream",
     "text": [
      "File 45 of 300 saved: cropped/ddostrace.to-victim.20070804_145436_44.pcap\n"
     ]
    },
    {
     "name": "stderr",
     "output_type": "stream",
     "text": [
      "Splitting ddostrace.to-victim.20070804_145436.pcap: 7700674 packets [1:07:14, 3991.54 packets/s]"
     ]
    },
    {
     "name": "stdout",
     "output_type": "stream",
     "text": [
      "File 46 of 300 saved: cropped/ddostrace.to-victim.20070804_145436_45.pcap\n"
     ]
    },
    {
     "name": "stderr",
     "output_type": "stream",
     "text": [
      "Splitting ddostrace.to-victim.20070804_145436.pcap: 7868410 packets [1:08:45, 4024.94 packets/s]"
     ]
    },
    {
     "name": "stdout",
     "output_type": "stream",
     "text": [
      "File 47 of 300 saved: cropped/ddostrace.to-victim.20070804_145436_46.pcap\n"
     ]
    },
    {
     "name": "stderr",
     "output_type": "stream",
     "text": [
      "Splitting ddostrace.to-victim.20070804_145436.pcap: 8038563 packets [1:10:15, 3217.63 packets/s]"
     ]
    },
    {
     "name": "stdout",
     "output_type": "stream",
     "text": [
      "File 48 of 300 saved: cropped/ddostrace.to-victim.20070804_145436_47.pcap\n"
     ]
    },
    {
     "name": "stderr",
     "output_type": "stream",
     "text": [
      "Splitting ddostrace.to-victim.20070804_145436.pcap: 8202789 packets [1:11:45, 1836.16 packets/s]"
     ]
    },
    {
     "name": "stdout",
     "output_type": "stream",
     "text": [
      "File 49 of 300 saved: cropped/ddostrace.to-victim.20070804_145436_48.pcap\n"
     ]
    },
    {
     "name": "stderr",
     "output_type": "stream",
     "text": [
      "Splitting ddostrace.to-victim.20070804_145436.pcap: 8372665 packets [1:13:06, 3723.98 packets/s]"
     ]
    },
    {
     "name": "stdout",
     "output_type": "stream",
     "text": [
      "File 50 of 300 saved: cropped/ddostrace.to-victim.20070804_145436_49.pcap\n"
     ]
    },
    {
     "name": "stderr",
     "output_type": "stream",
     "text": [
      "Splitting ddostrace.to-victim.20070804_145436.pcap: 8543062 packets [1:14:46, 2672.20 packets/s]"
     ]
    },
    {
     "name": "stdout",
     "output_type": "stream",
     "text": [
      "File 51 of 300 saved: cropped/ddostrace.to-victim.20070804_145436_50.pcap\n"
     ]
    },
    {
     "name": "stderr",
     "output_type": "stream",
     "text": [
      "Splitting ddostrace.to-victim.20070804_145436.pcap: 8714320 packets [1:16:26, 3986.02 packets/s]"
     ]
    },
    {
     "name": "stdout",
     "output_type": "stream",
     "text": [
      "File 52 of 300 saved: cropped/ddostrace.to-victim.20070804_145436_51.pcap\n"
     ]
    },
    {
     "name": "stderr",
     "output_type": "stream",
     "text": [
      "Splitting ddostrace.to-victim.20070804_145436.pcap: 8885029 packets [1:17:57, 3064.11 packets/s]"
     ]
    },
    {
     "name": "stdout",
     "output_type": "stream",
     "text": [
      "File 53 of 300 saved: cropped/ddostrace.to-victim.20070804_145436_52.pcap\n"
     ]
    },
    {
     "name": "stderr",
     "output_type": "stream",
     "text": [
      "Splitting ddostrace.to-victim.20070804_145436.pcap: 9050218 packets [1:19:17, 4120.53 packets/s]"
     ]
    },
    {
     "name": "stdout",
     "output_type": "stream",
     "text": [
      "File 54 of 300 saved: cropped/ddostrace.to-victim.20070804_145436_53.pcap\n"
     ]
    },
    {
     "name": "stderr",
     "output_type": "stream",
     "text": [
      "Splitting ddostrace.to-victim.20070804_145436.pcap: 9161630 packets [1:20:19, 1901.08 packets/s]\n"
     ]
    },
    {
     "name": "stdout",
     "output_type": "stream",
     "text": [
      "Split ddostrace.to-victim.20070804_145436.pcap into 54 parts successfully.\n"
     ]
    }
   ],
   "source": [
    "from scapy.all import *\n",
    "import os\n",
    "from tqdm import tqdm\n",
    "\n",
    "def split_pcap(input_file):\n",
    "    # Create a directory to store the cropped pcap files if it doesn't exist\n",
    "    if not os.path.exists(\"cropped\"):\n",
    "        os.makedirs(\"cropped\")\n",
    "\n",
    "    # Get the base name of the input file\n",
    "    base_name = os.path.splitext(os.path.basename(input_file))[0]\n",
    "\n",
    "    # Define the time interval (1 second)\n",
    "    interval = 1\n",
    "\n",
    "    # Initialize variables for file index and packet count\n",
    "    file_index = 0\n",
    "    packet_count = 0\n",
    "\n",
    "    # Open the pcap file in read mode\n",
    "    with PcapReader(input_file) as pcap_reader:\n",
    "        # Initialize tqdm progress bar\n",
    "        progress_bar = tqdm(desc=f\"Splitting {input_file}\", unit=\" packets\")\n",
    "\n",
    "        # Initialize list to store packets for the current interval\n",
    "        interval_packets = []\n",
    "\n",
    "        # Loop through each packet in the pcap file\n",
    "        for packet in pcap_reader:\n",
    "            # Calculate the elapsed time since the start of the capture\n",
    "            elapsed_time = packet.time - interval_packets[0].time if interval_packets else 0\n",
    "\n",
    "            # Check if elapsed time exceeds the interval\n",
    "            if elapsed_time >= interval:\n",
    "                # Write the interval packets to a new pcap file\n",
    "                output_file = f\"cropped/{base_name}_{file_index}.pcap\"\n",
    "                wrpcap(output_file, interval_packets)\n",
    "                \n",
    "                # Print a message indicating the file is saved\n",
    "                print(f\"File {file_index + 1} of 300 saved: {output_file}\")\n",
    "\n",
    "                # Reset variables for the next interval\n",
    "                interval_packets = [packet]\n",
    "                file_index += 1\n",
    "            else:\n",
    "                # Add the packet to the current interval\n",
    "                interval_packets.append(packet)\n",
    "\n",
    "            # Increment packet count\n",
    "            packet_count += 1\n",
    "\n",
    "            # Update the progress bar\n",
    "            progress_bar.update(1)\n",
    "\n",
    "        # Close the progress bar\n",
    "        progress_bar.close()\n",
    "\n",
    "    print(f\"Split {input_file} into {file_index} parts successfully.\")\n",
    "\n",
    "# Get a list of all .pcap files in the current directory\n",
    "pcap_files = [f for f in os.listdir() if f.endswith('.pcap')]\n",
    "\n",
    "# Iterate over each .pcap file and split it\n",
    "for pcap_file in pcap_files:\n",
    "    split_pcap(pcap_file)\n"
   ]
  },
  {
   "cell_type": "code",
   "execution_count": null,
   "id": "6cd2ad48-b9a8-4a2c-8bab-4ef334c69410",
   "metadata": {},
   "outputs": [
    {
     "name": "stderr",
     "output_type": "stream",
     "text": [
      "Splitting ddostrace.to-victim.20070804_141936.pcap: 88858 packets [00:34, 4792.42 packets/s]"
     ]
    }
   ],
   "source": [
    "print(\"DONE\")"
   ]
  },
  {
   "cell_type": "code",
   "execution_count": null,
   "id": "73bbf03d-4878-467d-807f-cce1202a56fa",
   "metadata": {},
   "outputs": [],
   "source": []
  },
  {
   "cell_type": "code",
   "execution_count": null,
   "id": "59e57f4a-80a9-4af1-a0d0-7155c6d7f594",
   "metadata": {},
   "outputs": [],
   "source": []
  },
  {
   "cell_type": "code",
   "execution_count": null,
   "id": "81579cd6-031a-4405-92f7-f927f4722ee1",
   "metadata": {},
   "outputs": [],
   "source": []
  },
  {
   "cell_type": "code",
   "execution_count": null,
   "id": "b6e7efb2-7dfc-4d08-a3e7-a35c1e4eb8d6",
   "metadata": {},
   "outputs": [],
   "source": []
  },
  {
   "cell_type": "code",
   "execution_count": null,
   "id": "10816255-2693-4458-98d1-e3b4139df7a5",
   "metadata": {},
   "outputs": [],
   "source": []
  },
  {
   "cell_type": "code",
   "execution_count": null,
   "id": "1fa1fe48-52ed-4a39-b43f-c278f57e7a3e",
   "metadata": {},
   "outputs": [],
   "source": []
  },
  {
   "cell_type": "code",
   "execution_count": null,
   "id": "8992f860-500d-47c4-bd5c-bdab6ca2ad83",
   "metadata": {},
   "outputs": [],
   "source": []
  }
 ],
 "metadata": {
  "kernelspec": {
   "display_name": "Python 3 (ipykernel)",
   "language": "python",
   "name": "python3"
  },
  "language_info": {
   "codemirror_mode": {
    "name": "ipython",
    "version": 3
   },
   "file_extension": ".py",
   "mimetype": "text/x-python",
   "name": "python",
   "nbconvert_exporter": "python",
   "pygments_lexer": "ipython3",
   "version": "3.10.0"
  }
 },
 "nbformat": 4,
 "nbformat_minor": 5
}
