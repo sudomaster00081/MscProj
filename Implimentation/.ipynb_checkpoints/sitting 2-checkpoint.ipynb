{
 "cells": [
  {
   "cell_type": "code",
   "execution_count": null,
   "id": "22e0e422-b629-49aa-aab1-50c74f5bd225",
   "metadata": {},
   "outputs": [],
   "source": [
    "!pip install minisom"
   ]
  },
  {
   "cell_type": "code",
   "execution_count": null,
   "id": "85894d45-2129-4832-be04-f9220498a2ec",
   "metadata": {},
   "outputs": [],
   "source": [
    "import numpy as np\n",
    "import pandas as pd\n",
    "from minisom import MiniSom\n",
    "from sklearn.preprocessing import MinMaxScaler\n",
    "from sklearn.metrics import accuracy_score\n",
    "\n",
    "# Load the dataset\n",
    "data = pd.read_csv(\"labeled_ddostrace.to-victim.20070804.csv\")\n",
    "\n",
    "# Convert other columns to appropriate data types\n",
    "data['Source IP'] = data['Source IP'].astype(str)\n",
    "data['Destination IP'] = data['Destination IP'].astype(str)\n",
    "data['Protocol'] = pd.to_numeric(data['Protocol'], errors='coerce') # if it's numeric\n",
    "data['Frame Length'] = pd.to_numeric(data['Frame Length'], errors='coerce') # if it's numeric\n",
    "data['Port Used'] = pd.to_numeric(data['Port Used'], errors='coerce') # if it's numeric\n",
    "data['Interpacket Time'] = pd.to_numeric(data['Interpacket Time'], errors='coerce') # if it's numeric\n",
    "data['Entropy'] = pd.to_numeric(data['Entropy'], errors='coerce') # if it's numeric\n",
    "data['label'] = pd.to_numeric(data['label'], errors='coerce') # if it's numeric\n",
    "\n",
    "# Drop rows with missing values\n",
    "data.dropna(inplace=True)\n",
    "\n",
    "# Separate features and labels\n",
    "X = data.drop(['label', 'Timestamp', 'Source IP', 'Destination IP'], axis=1).values\n",
    "y = data['label'].values\n",
    "\n",
    "# Normalize features\n",
    "scaler = MinMaxScaler()\n",
    "X_scaled = scaler.fit_transform(X)\n",
    "\n",
    "# Define SOM parameters\n",
    "som_grid_rows = 10\n",
    "som_grid_columns = 10\n",
    "input_len = X_scaled.shape[1]\n",
    "\n",
    "# Train SOM\n",
    "som = MiniSom(som_grid_rows, som_grid_columns, input_len, sigma=1.0, learning_rate=0.5)\n",
    "som.random_weights_init(X_scaled)\n",
    "\n",
    "# Define number of iterations and print frequency\n",
    "num_iterations = 10000\n",
    "print_frequency = 1000\n",
    "\n",
    "# Training SOM with progress indicator\n",
    "for i in range(num_iterations):\n",
    "    percent_complete = (i + 1) / num_iterations * 100\n",
    "    if (i + 1) % print_frequency == 0:\n",
    "        print(f\"Training SOM: {percent_complete:.2f}% complete\")\n",
    "    som.train_random(X_scaled, 1)\n",
    "\n",
    "print(\"Training SOM: 100.00% complete\")\n",
    "\n",
    "# Find the winning neurons for each sample\n",
    "winning_neurons = np.array([som.winner(x) for x in X_scaled])\n",
    "\n",
    "# Assign labels to clusters based on the majority label of the samples in each cluster\n",
    "cluster_labels = []\n",
    "total_samples = len(winning_neurons)\n",
    "\n"
   ]
  },
  {
   "cell_type": "code",
   "execution_count": null,
   "id": "22199b4f-9db5-4a15-ab7c-312089292abc",
   "metadata": {},
   "outputs": [],
   "source": [
    "for i, neuron in enumerate(winning_neurons):\n",
    "    cluster_samples_indices = np.where((winning_neurons[:, 0] == neuron[0]) & (winning_neurons[:, 1] == neuron[1]))[0]\n",
    "    cluster_labels.append(y[cluster_samples_indices].mean())\n",
    "\n",
    "    # Print progress\n",
    "    if (i + 1) % print_frequency == 0 or i + 1 == total_samples:\n",
    "        percent_complete = (i + 1) / total_samples * 100\n",
    "        print(f\"Assigning cluster labels: {percent_complete:.2f}% complete\")\n",
    "\n"
   ]
  },
  {
   "cell_type": "code",
   "execution_count": null,
   "id": "d05e83b7-fdbb-4e78-8afd-fa92af1052f1",
   "metadata": {},
   "outputs": [],
   "source": [
    "# Convert labels to binary (assuming 0 for non-DDoS and 1 for DDoS)\n",
    "y_binary = np.where(y > 0, 1, 0)\n",
    "\n",
    "# Convert cluster labels to binary\n",
    "cluster_labels_binary = np.where(np.array(cluster_labels) > 0, 1, 0)\n",
    "\n",
    "# Evaluate accuracy\n",
    "accuracy = accuracy_score(y_binary, cluster_labels_binary)\n",
    "print(\"Accuracy:\", accuracy)"
   ]
  },
  {
   "cell_type": "code",
   "execution_count": null,
   "id": "bc46fa64-3a55-4aa9-91b0-ac2eedace404",
   "metadata": {},
   "outputs": [],
   "source": [
    "\n",
    "# # Evaluate accuracy\n",
    "# accuracy = accuracy_score(y, cluster_labels)\n",
    "# print(\"Accuracy:\", accuracy)"
   ]
  },
  {
   "cell_type": "code",
   "execution_count": null,
   "id": "6ea77891-dc2b-4ba1-94af-06d658a9321d",
   "metadata": {},
   "outputs": [],
   "source": []
  },
  {
   "cell_type": "raw",
   "id": "07c41928-f009-4e74-ae06-d6288d5ff4df",
   "metadata": {},
   "source": []
  }
 ],
 "metadata": {
  "kernelspec": {
   "display_name": "Python 3 (ipykernel)",
   "language": "python",
   "name": "python3"
  },
  "language_info": {
   "codemirror_mode": {
    "name": "ipython",
    "version": 3
   },
   "file_extension": ".py",
   "mimetype": "text/x-python",
   "name": "python",
   "nbconvert_exporter": "python",
   "pygments_lexer": "ipython3",
   "version": "3.10.0"
  }
 },
 "nbformat": 4,
 "nbformat_minor": 5
}
